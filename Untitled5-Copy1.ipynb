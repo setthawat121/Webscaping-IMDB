{
 "cells": [
  {
   "cell_type": "code",
   "execution_count": 1,
   "id": "5b1e99b3",
   "metadata": {},
   "outputs": [
    {
     "name": "stdout",
     "output_type": "stream",
     "text": [
      "Requirement already satisfied: webdriver-manager in d:\\anaconda3\\lib\\site-packages (4.0.1)\n",
      "Requirement already satisfied: requests in d:\\anaconda3\\lib\\site-packages (from webdriver-manager) (2.24.0)\n",
      "Requirement already satisfied: python-dotenv in d:\\anaconda3\\lib\\site-packages (from webdriver-manager) (1.0.0)\n",
      "Requirement already satisfied: packaging in d:\\anaconda3\\lib\\site-packages (from webdriver-manager) (20.4)Note: you may need to restart the kernel to use updated packages.\n"
     ]
    },
    {
     "name": "stderr",
     "output_type": "stream",
     "text": [
      "ERROR: After October 2020 you may experience errors when installing or updating packages. This is because pip will change the way that it resolves dependency conflicts.\n",
      "\n",
      "We recommend you use --use-feature=2020-resolver to test your packages with the new resolver before it becomes the default.\n",
      "\n",
      "selenium 4.10.0 requires urllib3[socks]<3,>=1.26, but you'll have urllib3 1.25.11 which is incompatible.\n"
     ]
    },
    {
     "name": "stdout",
     "output_type": "stream",
     "text": [
      "\n",
      "Collecting urllib3!=1.25.0,!=1.25.1,<1.26,>=1.21.1\n",
      "  Using cached urllib3-1.25.11-py2.py3-none-any.whl (127 kB)\n",
      "Requirement already satisfied: idna<3,>=2.5 in d:\\anaconda3\\lib\\site-packages (from requests->webdriver-manager) (2.10)\n",
      "Requirement already satisfied: chardet<4,>=3.0.2 in d:\\anaconda3\\lib\\site-packages (from requests->webdriver-manager) (3.0.4)\n",
      "Requirement already satisfied: certifi>=2017.4.17 in d:\\anaconda3\\lib\\site-packages (from requests->webdriver-manager) (2023.5.7)\n",
      "Requirement already satisfied: six in d:\\anaconda3\\lib\\site-packages (from packaging->webdriver-manager) (1.15.0)\n",
      "Requirement already satisfied: pyparsing>=2.0.2 in d:\\anaconda3\\lib\\site-packages (from packaging->webdriver-manager) (2.4.7)\n",
      "Installing collected packages: urllib3\n",
      "  Attempting uninstall: urllib3\n",
      "    Found existing installation: urllib3 2.0.7\n",
      "    Uninstalling urllib3-2.0.7:\n",
      "      Successfully uninstalled urllib3-2.0.7\n",
      "Successfully installed urllib3-1.25.11\n"
     ]
    }
   ],
   "source": [
    "pip install webdriver-manager"
   ]
  },
  {
   "cell_type": "code",
   "execution_count": 2,
   "id": "f94e28d7",
   "metadata": {},
   "outputs": [
    {
     "name": "stdout",
     "output_type": "stream",
     "text": [
      "Requirement already satisfied: selenium in d:\\anaconda3\\lib\\site-packages (4.10.0)"
     ]
    },
    {
     "name": "stderr",
     "output_type": "stream",
     "text": [
      "ERROR: After October 2020 you may experience errors when installing or updating packages. This is because pip will change the way that it resolves dependency conflicts.\n",
      "\n",
      "We recommend you use --use-feature=2020-resolver to test your packages with the new resolver before it becomes the default.\n",
      "\n",
      "requests 2.24.0 requires urllib3!=1.25.0,!=1.25.1,<1.26,>=1.21.1, but you'll have urllib3 2.1.0 which is incompatible.\n"
     ]
    },
    {
     "name": "stdout",
     "output_type": "stream",
     "text": [
      "\n",
      "Requirement already satisfied: trio~=0.17 in d:\\anaconda3\\lib\\site-packages (from selenium) (0.22.0)\n",
      "Collecting urllib3[socks]<3,>=1.26\n",
      "  Downloading urllib3-2.1.0-py3-none-any.whl (104 kB)\n",
      "Requirement already satisfied: trio-websocket~=0.9 in d:\\anaconda3\\lib\\site-packages (from selenium) (0.10.3)\n",
      "Requirement already satisfied: certifi>=2021.10.8 in d:\\anaconda3\\lib\\site-packages (from selenium) (2023.5.7)\n",
      "Requirement already satisfied: attrs>=19.2.0 in d:\\anaconda3\\lib\\site-packages (from trio~=0.17->selenium) (20.3.0)\n",
      "Requirement already satisfied: sortedcontainers in d:\\anaconda3\\lib\\site-packages (from trio~=0.17->selenium) (2.2.2)\n",
      "Requirement already satisfied: async-generator>=1.9 in d:\\anaconda3\\lib\\site-packages (from trio~=0.17->selenium) (1.10)\n",
      "Requirement already satisfied: outcome in d:\\anaconda3\\lib\\site-packages (from trio~=0.17->selenium) (1.2.0)\n",
      "Requirement already satisfied: exceptiongroup>=1.0.0rc9; python_version < \"3.11\" in d:\\anaconda3\\lib\\site-packages (from trio~=0.17->selenium) (1.1.1)\n",
      "Requirement already satisfied: cffi>=1.14; os_name == \"nt\" and implementation_name != \"pypy\" in d:\\anaconda3\\lib\\site-packages (from trio~=0.17->selenium) (1.14.3)\n",
      "Requirement already satisfied: sniffio in d:\\anaconda3\\lib\\site-packages (from trio~=0.17->selenium) (1.3.0)\n",
      "Requirement already satisfied: idna in d:\\anaconda3\\lib\\site-packages (from trio~=0.17->selenium) (2.10)\n",
      "Requirement already satisfied: pysocks!=1.5.7,<2.0,>=1.5.6; extra == \"socks\" in d:\\anaconda3\\lib\\site-packages (from urllib3[socks]<3,>=1.26->selenium) (1.7.1)\n",
      "Requirement already satisfied: wsproto>=0.14 in d:\\anaconda3\\lib\\site-packages (from trio-websocket~=0.9->selenium) (1.2.0)\n",
      "Requirement already satisfied: pycparser in d:\\anaconda3\\lib\\site-packages (from cffi>=1.14; os_name == \"nt\" and implementation_name != \"pypy\"->trio~=0.17->selenium) (2.20)\n",
      "Requirement already satisfied: h11<1,>=0.9.0 in d:\\anaconda3\\lib\\site-packages (from wsproto>=0.14->trio-websocket~=0.9->selenium) (0.14.0)\n",
      "Installing collected packages: urllib3\n",
      "  Attempting uninstall: urllib3\n",
      "    Found existing installation: urllib3 1.25.11\n",
      "    Uninstalling urllib3-1.25.11:\n",
      "      Successfully uninstalled urllib3-1.25.11\n",
      "Successfully installed urllib3-2.1.0\n",
      "Requirement already satisfied: bs4 in d:\\anaconda3\\lib\\site-packages (0.0.1)\n",
      "Requirement already satisfied: beautifulsoup4 in d:\\anaconda3\\lib\\site-packages (from bs4) (4.9.3)\n",
      "Requirement already satisfied: soupsieve>1.2; python_version >= \"3.0\" in d:\\anaconda3\\lib\\site-packages (from beautifulsoup4->bs4) (2.0.1)\n"
     ]
    }
   ],
   "source": [
    "!pip install selenium\n",
    "!pip install bs4"
   ]
  },
  {
   "cell_type": "code",
   "execution_count": 236,
   "id": "ced695b0",
   "metadata": {},
   "outputs": [],
   "source": [
    "from bs4 import BeautifulSoup\n",
    "from selenium import webdriver\n",
    "# from seleni um.webdriver.chrome.service import Service\n",
    "from selenium.webdriver.common.keys import Keys\n",
    "import pandas as pd"
   ]
  },
  {
   "cell_type": "code",
   "execution_count": 237,
   "id": "549f2a85",
   "metadata": {},
   "outputs": [],
   "source": [
    "from selenium import webdriver\n",
    "from selenium.webdriver.chrome.service import Service as ChromeService\n",
    "from webdriver_manager.chrome import ChromeDriverManager\n",
    "from selenium.webdriver.chrome.options import Options"
   ]
  },
  {
   "cell_type": "code",
   "execution_count": 3,
   "id": "66b2af3d",
   "metadata": {},
   "outputs": [],
   "source": [
    "service = ChromeService(executable_path=r'C:\\Users\\setthawat\\Downloads\\chromedriver-win64New\\chromedriver-win64\\chromedriver.exe')"
   ]
  },
  {
   "cell_type": "code",
   "execution_count": null,
   "id": "8ba72821",
   "metadata": {},
   "outputs": [],
   "source": [
    "f = driver.window_handles[0]\n",
    "driver.switch_to.window(f)"
   ]
  },
  {
   "cell_type": "code",
   "execution_count": 339,
   "id": "45ca1933",
   "metadata": {},
   "outputs": [],
   "source": [
    "for page in range(9) :\n",
    "    Next_page1 = driver.find_element('xpath','//*[@id=\"tablepress-3_previous\"]')\n",
    "    Next_page1.click()"
   ]
  },
  {
   "cell_type": "code",
   "execution_count": 323,
   "id": "e58012ae",
   "metadata": {},
   "outputs": [],
   "source": [
    "Next_page1 = driver.find_element('xpath','//*[@id=\"tablepress-3_next\"]')\n",
    "Next_page1.click()"
   ]
  },
  {
   "cell_type": "code",
   "execution_count": 361,
   "id": "080bab82",
   "metadata": {},
   "outputs": [],
   "source": [
    "driver.close()"
   ]
  },
  {
   "cell_type": "code",
   "execution_count": null,
   "id": "4b63fbfe",
   "metadata": {},
   "outputs": [],
   "source": [
    "------------------------"
   ]
  },
  {
   "cell_type": "code",
   "execution_count": null,
   "id": "2f8afbbe",
   "metadata": {},
   "outputs": [],
   "source": []
  },
  {
   "cell_type": "code",
   "execution_count": 362,
   "id": "147ace65",
   "metadata": {},
   "outputs": [],
   "source": [
    "chrome_options = Options()\n",
    "# chrome_options.add_argument('--headless')\n",
    "chrome_options.add_argument('--no-sandbox')\n",
    "chrome_options.add_argument('--disable-dev-shm-usage')\n",
    "# chrome_options.add_argument('window-size=1080x3000')\n",
    "driver = webdriver.Chrome(service=service,options=chrome_options)\n",
    "driver.get('https://thaifood.org/main/members-list/')"
   ]
  },
  {
   "cell_type": "code",
   "execution_count": 363,
   "id": "b89fdf90",
   "metadata": {},
   "outputs": [],
   "source": [
    "Company_Type_1 = []\n",
    "Company_Type_2 = []\n",
    "Company_Type_3 = []\n",
    "Company_Type_4 = []\n",
    "Company_Type_5 = []\n",
    "Company_Type_6 = []"
   ]
  },
  {
   "cell_type": "code",
   "execution_count": 364,
   "id": "05a62449",
   "metadata": {},
   "outputs": [],
   "source": [
    "Company_Type = []\n",
    "Company_Name = []\n",
    "Company_Name_EN = []\n",
    "Telephone = []\n",
    "Fax = []\n",
    "Address = []\n",
    "Company_Membership_StartDate = []\n",
    "Company_Website = []\n",
    "Company_MemberType = []"
   ]
  },
  {
   "cell_type": "code",
   "execution_count": 365,
   "id": "f1d17d9a",
   "metadata": {},
   "outputs": [
    {
     "name": "stdout",
     "output_type": "stream",
     "text": [
      "Successful!!\n"
     ]
    }
   ],
   "source": [
    "for page in range(9) :\n",
    "    data = driver.page_source\n",
    "    soup = BeautifulSoup(data) \n",
    "    Company_Type = soup.find_all('td',{'class':'column-1'})\n",
    "    Company_Name = soup.find_all('td',{'class':'column-2'})\n",
    "    Company_Name_EN = soup.find_all('td',{'class':'column-3'})\n",
    "    Telephone = soup.find_all('td',{'class':'column-4'})\n",
    "    Address = soup.find_all('td',{'class':'column-5'})\n",
    "    Company_Website = soup.find_all('td',{'class':'column-6'})\n",
    "    for i in Company_Type :\n",
    "        Company_Type_1.append(i.text)\n",
    "    for i in Company_Name :\n",
    "        Company_Type_2.append(i.text)\n",
    "    for i in Company_Name_EN :\n",
    "        Company_Type_3.append(i.text)\n",
    "    for i in Telephone :\n",
    "        Company_Type_4.append(i.text)\n",
    "    for i in Address :\n",
    "        Company_Type_5.append(i.text)\n",
    "    for i in Company_Website :\n",
    "        Company_Type_6.append(i.text)\n",
    "    if len(Company_Type) >=25 :\n",
    "        Next_page1 = driver.find_element('xpath','//*[@id=\"tablepress-3_next\"]')\n",
    "        Next_page1.click()\n",
    "    elif len(Company_Type) > 25 :\n",
    "        Next_page2 = driver.find_element('xpath','//*[@id=\"tablepress-3_next\"]')\n",
    "        Next_page2.click()\n",
    "    else :\n",
    "        print(\"Successful!!\")"
   ]
  },
  {
   "cell_type": "code",
   "execution_count": null,
   "id": "f858b8a4",
   "metadata": {},
   "outputs": [],
   "source": [
    "table = pd.DataFrame([Company_Type_1,Company_Type_2,Company_Type_3,Company_Type_4,Company_Type_5,Company_Type_6])\n",
    "table = table.transpose()\n",
    "table.columns = ['Type','Name','Name_EN','Telephone','Address','Website']\n",
    "table.set_index(['Type'])\n",
    "table.to_excel(r'C:\\Users\\setthawat\\Desktop\\FoodThai.xlsx')"
   ]
  },
  {
   "cell_type": "code",
   "execution_count": null,
   "id": "2abfd627",
   "metadata": {},
   "outputs": [],
   "source": []
  },
  {
   "cell_type": "code",
   "execution_count": null,
   "id": "af60b818",
   "metadata": {},
   "outputs": [],
   "source": [
    "------------------------"
   ]
  },
  {
   "cell_type": "code",
   "execution_count": 346,
   "id": "8d3f1647",
   "metadata": {},
   "outputs": [
    {
     "data": {
      "text/plain": [
       "0"
      ]
     },
     "execution_count": 346,
     "metadata": {},
     "output_type": "execute_result"
    }
   ],
   "source": [
    "len(Company_Type_2)"
   ]
  },
  {
   "cell_type": "code",
   "execution_count": 347,
   "id": "f85a3107",
   "metadata": {},
   "outputs": [
    {
     "data": {
      "text/plain": [
       "[]"
      ]
     },
     "execution_count": 347,
     "metadata": {},
     "output_type": "execute_result"
    }
   ],
   "source": [
    "Company_Type_2[0:25]"
   ]
  },
  {
   "cell_type": "code",
   "execution_count": null,
   "id": "0621a67b",
   "metadata": {},
   "outputs": [],
   "source": [
    "Company_Type_2[25:50]"
   ]
  },
  {
   "cell_type": "code",
   "execution_count": null,
   "id": "7b70b2e0",
   "metadata": {},
   "outputs": [],
   "source": [
    "Company_Type_2[50:75]"
   ]
  },
  {
   "cell_type": "code",
   "execution_count": null,
   "id": "803e0c3d",
   "metadata": {},
   "outputs": [],
   "source": [
    "Company_Type_2[75:100]"
   ]
  },
  {
   "cell_type": "code",
   "execution_count": 348,
   "id": "2f737b20",
   "metadata": {},
   "outputs": [
    {
     "data": {
      "text/plain": [
       "[]"
      ]
     },
     "execution_count": 348,
     "metadata": {},
     "output_type": "execute_result"
    }
   ],
   "source": [
    "Company_Type"
   ]
  },
  {
   "cell_type": "code",
   "execution_count": null,
   "id": "b3d43924",
   "metadata": {},
   "outputs": [],
   "source": []
  },
  {
   "cell_type": "code",
   "execution_count": 183,
   "id": "1af4a248",
   "metadata": {},
   "outputs": [],
   "source": [
    "chrome_options = Options()\n",
    "# chrome_options.add_argument('--headless')\n",
    "chrome_options.add_argument('--no-sandbox')\n",
    "chrome_options.add_argument('--disable-dev-shm-usage')\n",
    "# chrome_options.add_argument('window-size=1080x3000')\n",
    "driver = webdriver.Chrome(service=service,options=chrome_options)\n",
    "driver.get('https://thaifood.org/main/members-list/')"
   ]
  },
  {
   "cell_type": "code",
   "execution_count": 184,
   "id": "ce6a298d",
   "metadata": {},
   "outputs": [],
   "source": [
    "data = driver.page_source\n",
    "soup = BeautifulSoup(data)"
   ]
  },
  {
   "cell_type": "code",
   "execution_count": null,
   "id": "0c0bcf55",
   "metadata": {},
   "outputs": [],
   "source": [
    "Name_source = soup.find_all('tbody',{'class':'row-hover'})\n",
    "Name_source"
   ]
  },
  {
   "cell_type": "code",
   "execution_count": 138,
   "id": "d8a6c584",
   "metadata": {},
   "outputs": [],
   "source": [
    "Company_Type = soup.find_all('td',{'class':'column-1'})\n",
    "Company_Name = soup.find_all('td',{'class':'column-2'})\n",
    "Company_Name_EN = soup.find_all('td',{'class':'column-3'})\n",
    "Telephone = soup.find_all('td',{'class':'column-4'})\n",
    "Address = soup.find_all('td',{'class':'column-5'})\n",
    "Company_Website = soup.find_all('td',{'class':'column-6'})"
   ]
  },
  {
   "cell_type": "code",
   "execution_count": 197,
   "id": "9ec6bcae",
   "metadata": {},
   "outputs": [
    {
     "data": {
      "text/plain": [
       "[<td class=\"column-1\">สับปะรด</td>,\n",
       " <td class=\"column-1\">ผักและผลไม้,ทูน่าและอาหารทะเล</td>,\n",
       " <td class=\"column-1\">ผักและผลไม้,ทูน่าและอาหารทะเล</td>,\n",
       " <td class=\"column-1\">ผักและผลไม้,ข้าวโพดหวาน,เครื่องปรุงและอาหารพร้อมรับประทาน</td>,\n",
       " <td class=\"column-1\">สับปะรด</td>,\n",
       " <td class=\"column-1\">สับปะรด,เครื่องปรุงและอาหารพร้อมรับประทาน</td>,\n",
       " <td class=\"column-1\">ทูน่าและอาหารทะเล</td>,\n",
       " <td class=\"column-1\">ทูน่าและอาหารทะเล</td>,\n",
       " <td class=\"column-1\">ทูน่าและอาหารทะเล</td>,\n",
       " <td class=\"column-1\">ทูน่าและอาหารทะเล</td>,\n",
       " <td class=\"column-1\">ผู้ส่งออก</td>,\n",
       " <td class=\"column-1\">ข้าวโพดหวาน</td>,\n",
       " <td class=\"column-1\">ผู้ส่งออก</td>,\n",
       " <td class=\"column-1\">ผู้ส่งออก</td>,\n",
       " <td class=\"column-1\">ทูน่าและอาหารทะเล</td>,\n",
       " <td class=\"column-1\">สับปะรด,ผักและผลไม้</td>,\n",
       " <td class=\"column-1\">ผู้ส่งออก</td>,\n",
       " <td class=\"column-1\">ผู้ส่งออก</td>,\n",
       " <td class=\"column-1\">ผู้ส่งออก</td>,\n",
       " <td class=\"column-1\">ทูน่าและอาหารทะเล</td>,\n",
       " <td class=\"column-1\">ทูน่าและอาหารทะเล</td>,\n",
       " <td class=\"column-1\">ทูน่าและอาหารทะเล</td>,\n",
       " <td class=\"column-1\">ทูน่าและอาหารทะเล,เครื่องปรุงและอาหารพร้อมรับประทาน</td>,\n",
       " <td class=\"column-1\">ผู้ส่งออก</td>,\n",
       " <td class=\"column-1\">ผักและผลไม้</td>]"
      ]
     },
     "execution_count": 197,
     "metadata": {},
     "output_type": "execute_result"
    }
   ],
   "source": [
    "Company_Type"
   ]
  },
  {
   "cell_type": "code",
   "execution_count": null,
   "id": "fc2f62e8",
   "metadata": {},
   "outputs": [],
   "source": []
  },
  {
   "cell_type": "code",
   "execution_count": null,
   "id": "c8c2e46a",
   "metadata": {},
   "outputs": [],
   "source": []
  },
  {
   "cell_type": "code",
   "execution_count": null,
   "id": "86c669fe",
   "metadata": {},
   "outputs": [],
   "source": []
  },
  {
   "cell_type": "code",
   "execution_count": 177,
   "id": "de081ea2",
   "metadata": {},
   "outputs": [],
   "source": [
    "for i in Company_Type :\n",
    "    Company_Type_1.append(i.text)\n",
    "for i in Company_Name :\n",
    "    Company_Type_2.append(i.text)\n",
    "for i in Company_Name_EN :\n",
    "    Company_Type_3.append(i.text)\n",
    "for i in Address :\n",
    "    Company_Type_4.append(i.text)\n",
    "for i in Company_Website :\n",
    "    Company_Type_5.append(i.text)"
   ]
  },
  {
   "cell_type": "code",
   "execution_count": 178,
   "id": "8b65208b",
   "metadata": {},
   "outputs": [
    {
     "data": {
      "text/plain": [
       "['SIAM FOOD PRODUCTS PUBLIC CO.,LTD.',\n",
       " 'THE PEACE CANNING (1958) CO.,LTD.',\n",
       " 'CHIN HUAY PUBLIC CO.,LTD.',\n",
       " 'UNIVERSAL FOOD PUBLIC CO.,LTD.',\n",
       " 'DOLE THAILAND CO.,LTD.',\n",
       " 'SIAM AGRO-FOOD INDUSTRY PUBLIC CO.,LTD.',\n",
       " 'KIANG HUA CO.,LTD.',\n",
       " 'ROYAL FOODS CO.,LTD.',\n",
       " 'UNICORD PUBLIC CO.,LTD.',\n",
       " 'POONSIN THANG NGUAN HAH CO.,LTD.',\n",
       " 'CROWN FOOD PACKAGING (THAILAND) PUBLIC CO.,LTD.',\n",
       " 'C.P. INTERTRADE CO.,LTD.',\n",
       " 'CHAMPACA  CO.,LTD.',\n",
       " 'THAI BONANZA INTERNATIONNAL CO.,LTD.',\n",
       " 'S.K. FOODS (THAILAND) PUBLIC CO.,LTD.',\n",
       " 'MALEE GROUP PUBLIC CO.,LTD. ',\n",
       " 'TROPICO TRADING CO.,LTD.',\n",
       " 'THE COMMERCIAL COPANY OF SIAM LIMITED',\n",
       " 'ALS LABORATORY GROUP (THAILAND) CO.,LTD.',\n",
       " 'KUANG PEI SAN FOOD PRODUCTS PUBLIC CO.,LTD.',\n",
       " 'SIAM TIN FOOD PRODUCTS CO.,LTD.',\n",
       " 'HI Q FOOD PRODUCTS CO.,LTD.',\n",
       " 'SOUTHEAST ASIAN PACKAGING AND CANNING CO.,LTD.',\n",
       " 'SUPER  J. INTERNATIONAL CO.,LTD.',\n",
       " 'THAI AGRI FOODS PUBLIC CO.,LTD. ']"
      ]
     },
     "execution_count": 178,
     "metadata": {},
     "output_type": "execute_result"
    }
   ],
   "source": [
    "Company_Type_3"
   ]
  },
  {
   "cell_type": "code",
   "execution_count": null,
   "id": "b6779891",
   "metadata": {},
   "outputs": [],
   "source": []
  },
  {
   "cell_type": "code",
   "execution_count": null,
   "id": "dc17969a",
   "metadata": {},
   "outputs": [],
   "source": []
  },
  {
   "cell_type": "code",
   "execution_count": null,
   "id": "2543f24b",
   "metadata": {},
   "outputs": [],
   "source": []
  },
  {
   "cell_type": "code",
   "execution_count": 137,
   "id": "8c9b3dd5",
   "metadata": {},
   "outputs": [
    {
     "data": {
      "text/plain": [
       "'สับปะรด'"
      ]
     },
     "execution_count": 137,
     "metadata": {},
     "output_type": "execute_result"
    }
   ],
   "source": [
    "Company_Type.text"
   ]
  },
  {
   "cell_type": "code",
   "execution_count": null,
   "id": "08be5d01",
   "metadata": {},
   "outputs": [],
   "source": []
  },
  {
   "cell_type": "code",
   "execution_count": 120,
   "id": "48802b60",
   "metadata": {},
   "outputs": [],
   "source": [
    "for i in range(0, 25) :\n",
    "#     Company_Type.append(soup.find_all('td',{'class':'column-1'}))\n",
    "#     Company_Type = soup.find_all('td',{'class':'column-1'})\n",
    "#     Name_source = soup.find_all('tbody',{'class':'row-hover'})\n",
    "#     Name_source = soup.find_all('tbody',{'class':'row-hover'})\n",
    "#     Name_source = soup.find_all('tr',{'class':'row-%i even'%(i)})\n",
    "# for source in Name_source : \n",
    "#     Company_Type.append(source.find('td',{'class':'column-1'}).text)\n",
    "#     Company_Name.append(source.find('td',{'class':'column-2'}).text)\n",
    "#     Company_Name_EN.append(source.find('td',{'class':'column-3'}).text)\n",
    "#     Telephone.append(source.find('td',{'class':'column-4'}).text)\n",
    "#     Fax.append(source.find('td',{'class':'column-5'}).text)\n",
    "#     Address.append(source.find('td',{'class':'column-6'}).text)\n",
    "#     Company_Membership_StartDate.append(source.find('td',{'class':'column-7'}).text)\n",
    "#     Company_Website.append(source.find('td',{'class':'column-8'}).text)\n",
    "#     Company_MemberType.append(source.find('td',{'class':'column-9'}).text)"
   ]
  },
  {
   "cell_type": "code",
   "execution_count": 121,
   "id": "316c1aab",
   "metadata": {},
   "outputs": [
    {
     "ename": "AttributeError",
     "evalue": "ResultSet object has no attribute 'text'. You're probably treating a list of elements like a single element. Did you call find_all() when you meant to call find()?",
     "output_type": "error",
     "traceback": [
      "\u001b[1;31m---------------------------------------------------------------------------\u001b[0m",
      "\u001b[1;31mAttributeError\u001b[0m                            Traceback (most recent call last)",
      "\u001b[1;32m<ipython-input-121-e745c5d682de>\u001b[0m in \u001b[0;36m<module>\u001b[1;34m\u001b[0m\n\u001b[1;32m----> 1\u001b[1;33m \u001b[0mCompany_Type\u001b[0m\u001b[1;33m.\u001b[0m\u001b[0mtext\u001b[0m\u001b[1;33m\u001b[0m\u001b[1;33m\u001b[0m\u001b[0m\n\u001b[0m",
      "\u001b[1;32mD:\\anaconda3\\lib\\site-packages\\bs4\\element.py\u001b[0m in \u001b[0;36m__getattr__\u001b[1;34m(self, key)\u001b[0m\n\u001b[0;32m   2171\u001b[0m     \u001b[1;32mdef\u001b[0m \u001b[0m__getattr__\u001b[0m\u001b[1;33m(\u001b[0m\u001b[0mself\u001b[0m\u001b[1;33m,\u001b[0m \u001b[0mkey\u001b[0m\u001b[1;33m)\u001b[0m\u001b[1;33m:\u001b[0m\u001b[1;33m\u001b[0m\u001b[1;33m\u001b[0m\u001b[0m\n\u001b[0;32m   2172\u001b[0m         \u001b[1;34m\"\"\"Raise a helpful exception to explain a common code fix.\"\"\"\u001b[0m\u001b[1;33m\u001b[0m\u001b[1;33m\u001b[0m\u001b[0m\n\u001b[1;32m-> 2173\u001b[1;33m         raise AttributeError(\n\u001b[0m\u001b[0;32m   2174\u001b[0m             \u001b[1;34m\"ResultSet object has no attribute '%s'. You're probably treating a list of elements like a single element. Did you call find_all() when you meant to call find()?\"\u001b[0m \u001b[1;33m%\u001b[0m \u001b[0mkey\u001b[0m\u001b[1;33m\u001b[0m\u001b[1;33m\u001b[0m\u001b[0m\n\u001b[0;32m   2175\u001b[0m         )\n",
      "\u001b[1;31mAttributeError\u001b[0m: ResultSet object has no attribute 'text'. You're probably treating a list of elements like a single element. Did you call find_all() when you meant to call find()?"
     ]
    }
   ],
   "source": []
  },
  {
   "cell_type": "code",
   "execution_count": 85,
   "id": "e2c462dc",
   "metadata": {},
   "outputs": [
    {
     "data": {
      "text/plain": [
       "[]"
      ]
     },
     "execution_count": 85,
     "metadata": {},
     "output_type": "execute_result"
    }
   ],
   "source": [
    "Company_Type"
   ]
  },
  {
   "cell_type": "code",
   "execution_count": null,
   "id": "29a1a68b",
   "metadata": {},
   "outputs": [],
   "source": []
  },
  {
   "cell_type": "code",
   "execution_count": null,
   "id": "4d69ee6b",
   "metadata": {},
   "outputs": [],
   "source": []
  },
  {
   "cell_type": "code",
   "execution_count": null,
   "id": "b76ff415",
   "metadata": {},
   "outputs": [],
   "source": []
  },
  {
   "cell_type": "code",
   "execution_count": null,
   "id": "cb16164d",
   "metadata": {},
   "outputs": [],
   "source": []
  },
  {
   "cell_type": "code",
   "execution_count": null,
   "id": "a570a54f",
   "metadata": {},
   "outputs": [],
   "source": [
    "Web_source11 = soup.find_all('table',{'class':'tablepress tablepress-id-3 dataTable'})\n",
    "Web_source11"
   ]
  },
  {
   "cell_type": "code",
   "execution_count": 30,
   "id": "1599a189",
   "metadata": {},
   "outputs": [
    {
     "data": {
      "text/plain": [
       "[<tr class=\"row-2 even\">\n",
       " <td class=\"column-1\">สับปะรด</td><td class=\"column-2\">บริษัท อาหารสยาม จำกัด (มหาชน)</td><td class=\"column-3\">SIAM FOOD PRODUCTS PUBLIC CO.,LTD.</td><td class=\"column-4\">02-287-7000, 02-287-7036</td><td class=\"column-5\">1 Empire Tower, 43rd Fl., South Sathorn Road, Yannawa, Sathorn, Bangkok 10120, Thailand.</td><td class=\"column-6\">www.siamfood.co.th</td>\n",
       " </tr>]"
      ]
     },
     "execution_count": 30,
     "metadata": {},
     "output_type": "execute_result"
    }
   ],
   "source": [
    "Company_source = soup.find_all('tr',{'class':'row-2 even'})\n",
    "Company_source"
   ]
  },
  {
   "cell_type": "code",
   "execution_count": 33,
   "id": "63fa0d04",
   "metadata": {},
   "outputs": [],
   "source": [
    "for i in range(2) :\n",
    "    Company_source = soup.find_all('tr',{'class':'row-%i even'%(i)})"
   ]
  },
  {
   "cell_type": "code",
   "execution_count": 34,
   "id": "09b085ae",
   "metadata": {},
   "outputs": [
    {
     "data": {
      "text/plain": [
       "[]"
      ]
     },
     "execution_count": 34,
     "metadata": {},
     "output_type": "execute_result"
    }
   ],
   "source": [
    "Company_source"
   ]
  },
  {
   "cell_type": "code",
   "execution_count": null,
   "id": "3fa781cc",
   "metadata": {},
   "outputs": [],
   "source": []
  },
  {
   "cell_type": "code",
   "execution_count": null,
   "id": "693f134f",
   "metadata": {},
   "outputs": [],
   "source": []
  },
  {
   "cell_type": "code",
   "execution_count": null,
   "id": "e1cf40fb",
   "metadata": {},
   "outputs": [],
   "source": []
  },
  {
   "cell_type": "code",
   "execution_count": 31,
   "id": "75967b42",
   "metadata": {},
   "outputs": [],
   "source": [
    "for i in range(26,26,2) :\n",
    "    Company_source = soup.find_all('tr',{'class':'row-%i even'%(i)})\n",
    "    Company_source\n",
    "#     Name_source = soup.find_all('tbody',{'class':'row-hover'})\n",
    "# for source in Name_source : \n",
    "#     Company_Type.append(source.find('td',{'class':'column-1'}).text)\n",
    "#     Company_Name.append(source.find('td',{'class':'column-2'}).text)\n",
    "#     Company_Name_EN.append(source.find('td',{'class':'column-3'}).text)\n",
    "#     Telephone.append(source.find('td',{'class':'column-4'}).text)\n",
    "#     Fax.append(source.find('td',{'class':'column-5'}).text)\n",
    "#     Address.append(source.find('td',{'class':'column-6'}).text)\n",
    "#     Company_Membership_StartDate.append(source.find('td',{'class':'column-7'}).text)\n",
    "#     Company_Website.append(source.find('td',{'class':'column-8'}).text)\n",
    "#     Company_MemberType.append(source.find('td',{'class':'column-9'}).text)"
   ]
  },
  {
   "cell_type": "code",
   "execution_count": null,
   "id": "b47fdcbb",
   "metadata": {},
   "outputs": [],
   "source": []
  },
  {
   "cell_type": "code",
   "execution_count": null,
   "id": "5dca63b1",
   "metadata": {},
   "outputs": [],
   "source": []
  },
  {
   "cell_type": "code",
   "execution_count": null,
   "id": "40deb694",
   "metadata": {},
   "outputs": [],
   "source": []
  },
  {
   "cell_type": "code",
   "execution_count": null,
   "id": "75db2cc8",
   "metadata": {},
   "outputs": [],
   "source": []
  },
  {
   "cell_type": "code",
   "execution_count": null,
   "id": "1fde25a6",
   "metadata": {},
   "outputs": [],
   "source": []
  },
  {
   "cell_type": "code",
   "execution_count": null,
   "id": "5355880c",
   "metadata": {},
   "outputs": [],
   "source": []
  },
  {
   "cell_type": "code",
   "execution_count": 14,
   "id": "f166c54b",
   "metadata": {},
   "outputs": [],
   "source": [
    "Next_page2 = driver.find_element('xpath','//*[@id=\"pagesection\"]/div[3]/a')\n",
    "Next_page2.click()"
   ]
  },
  {
   "cell_type": "code",
   "execution_count": null,
   "id": "f79e9132",
   "metadata": {},
   "outputs": [],
   "source": [
    "data = driver.page_source\n",
    "soup = BeautifulSoup(data)\n",
    "for page in range(10000):\n",
    "    data = driver.page_source\n",
    "    soup = BeautifulSoup(data)\n",
    "    pageN_V = page + 1\n",
    "    Next_page2 = driver.find_element('xpath','//*[@id=\"pagesection\"]/div[7]/a')\n",
    "    Next_page2.click()\n",
    "    time.sleep(7)\n",
    "    print('Looping',pageN_V)"
   ]
  },
  {
   "cell_type": "code",
   "execution_count": 16,
   "id": "9b6d2430",
   "metadata": {},
   "outputs": [],
   "source": [
    "import time"
   ]
  },
  {
   "cell_type": "code",
   "execution_count": null,
   "id": "51af4ea6",
   "metadata": {},
   "outputs": [],
   "source": []
  },
  {
   "cell_type": "code",
   "execution_count": null,
   "id": "b2f007f7",
   "metadata": {},
   "outputs": [],
   "source": []
  },
  {
   "cell_type": "code",
   "execution_count": null,
   "id": "a2cb0642",
   "metadata": {},
   "outputs": [],
   "source": []
  },
  {
   "cell_type": "code",
   "execution_count": 12,
   "id": "a753bae3",
   "metadata": {},
   "outputs": [],
   "source": [
    "driver = webdriver.Chrome(service=ChromeService(ChromeDriverManager().install()))"
   ]
  },
  {
   "cell_type": "code",
   "execution_count": 119,
   "id": "51ca9155",
   "metadata": {},
   "outputs": [],
   "source": [
    "driver.get('https://thaifood.org/main/members-list/')"
   ]
  },
  {
   "cell_type": "code",
   "execution_count": 121,
   "id": "fbc6982c",
   "metadata": {},
   "outputs": [],
   "source": [
    "data = driver.page_source\n",
    "soup = BeautifulSoup(data)"
   ]
  },
  {
   "cell_type": "code",
   "execution_count": 122,
   "id": "9943dd33",
   "metadata": {},
   "outputs": [],
   "source": [
    "Name_source = soup.find_all('tbody',{'class':'row-hover'})"
   ]
  },
  {
   "cell_type": "code",
   "execution_count": 150,
   "id": "195177df",
   "metadata": {},
   "outputs": [
    {
     "data": {
      "text/plain": [
       "[<tr class=\"row-24 even\">\n",
       " <td class=\"column-1\">ทูน่าและอาหารทะเล,เครื่องปรุงและอาหารพร้อมรับประทาน</td><td class=\"column-2\">บริษัท เซ้าท์อีสต์เอเชี่ยนแพคเกจจิ่งแอนด์แคนนิ่ง จำกัด</td><td class=\"column-3\">SOUTHEAST ASIAN PACKAGING AND CANNING CO.,LTD.</td><td class=\"column-4\">034-419-888</td><td class=\"column-5\">034-419-890</td><td class=\"column-6\">1 Moo 4, Banplaiklongkru, Nadee, Maung, amutsakhon 74000, Thailand.</td><td class=\"column-7\">23 มีนาคม 2530</td><td class=\"column-8\">www.kingfisher.co.th</td><td class=\"column-9\">สามัญ</td>\n",
       " </tr>]"
      ]
     },
     "execution_count": 150,
     "metadata": {},
     "output_type": "execute_result"
    }
   ],
   "source": [
    "Name_source"
   ]
  },
  {
   "cell_type": "code",
   "execution_count": 147,
   "id": "add739cf",
   "metadata": {},
   "outputs": [
    {
     "data": {
      "text/plain": [
       "(['สับปะรด'],\n",
       " ['บริษัท อาหารสยาม จำกัด (มหาชน)'],\n",
       " ['SIAM FOOD PRODUCTS PUBLIC CO.,LTD.'])"
      ]
     },
     "execution_count": 147,
     "metadata": {},
     "output_type": "execute_result"
    }
   ],
   "source": [
    "Company_Type , Company_Name , Company_Name_EN"
   ]
  },
  {
   "cell_type": "code",
   "execution_count": 66,
   "id": "3b3736c4",
   "metadata": {},
   "outputs": [
    {
     "ename": "SyntaxError",
     "evalue": "unexpected EOF while parsing (<ipython-input-66-3c0e69fd5e50>, line 1)",
     "output_type": "error",
     "traceback": [
      "\u001b[1;36m  File \u001b[1;32m\"<ipython-input-66-3c0e69fd5e50>\"\u001b[1;36m, line \u001b[1;32m1\u001b[0m\n\u001b[1;33m    All_Name.append(Name_source.find_all('tr')\u001b[0m\n\u001b[1;37m                                              ^\u001b[0m\n\u001b[1;31mSyntaxError\u001b[0m\u001b[1;31m:\u001b[0m unexpected EOF while parsing\n"
     ]
    }
   ],
   "source": [
    "All_Name.append(Name_source.find_all('tr',{'class':'column-1'}))"
   ]
  },
  {
   "cell_type": "code",
   "execution_count": null,
   "id": "ac6f0522",
   "metadata": {},
   "outputs": [],
   "source": []
  },
  {
   "cell_type": "code",
   "execution_count": null,
   "id": "5db9b01c",
   "metadata": {},
   "outputs": [],
   "source": []
  },
  {
   "cell_type": "code",
   "execution_count": null,
   "id": "21b63e4a",
   "metadata": {},
   "outputs": [],
   "source": []
  },
  {
   "cell_type": "code",
   "execution_count": null,
   "id": "45e31bf5",
   "metadata": {},
   "outputs": [],
   "source": []
  }
 ],
 "metadata": {
  "kernelspec": {
   "display_name": "Python 3",
   "language": "python",
   "name": "python3"
  },
  "language_info": {
   "codemirror_mode": {
    "name": "ipython",
    "version": 3
   },
   "file_extension": ".py",
   "mimetype": "text/x-python",
   "name": "python",
   "nbconvert_exporter": "python",
   "pygments_lexer": "ipython3",
   "version": "3.8.5"
  }
 },
 "nbformat": 4,
 "nbformat_minor": 5
}
