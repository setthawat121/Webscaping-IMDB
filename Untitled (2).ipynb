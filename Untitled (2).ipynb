{
 "cells": [
  {
   "cell_type": "code",
   "execution_count": null,
   "id": "3b152f6c",
   "metadata": {},
   "outputs": [],
   "source": [
    "!pip install bs4\n",
    "!pip install selenium"
   ]
  },
  {
   "cell_type": "code",
   "execution_count": 1,
   "id": "1a8d53c5",
   "metadata": {},
   "outputs": [],
   "source": [
    "from bs4 import BeautifulSoup\n",
    "from selenium import webdriver\n",
    "from selenium.webdriver.chrome.service import Service\n",
    "from selenium.webdriver.common.keys import Keys\n",
    "import pandas as pd"
   ]
  },
  {
   "cell_type": "code",
   "execution_count": null,
   "id": "637fe1f1",
   "metadata": {},
   "outputs": [],
   "source": [
    "---------------------------------------------------------------"
   ]
  },
  {
   "cell_type": "code",
   "execution_count": 46,
   "id": "2c22bfcf",
   "metadata": {},
   "outputs": [],
   "source": [
    "driver.get('https://www.imdb.com/title/tt12324366/')"
   ]
  },
  {
   "cell_type": "code",
   "execution_count": 47,
   "id": "16094df5",
   "metadata": {},
   "outputs": [],
   "source": [
    "data = driver.page_source\n",
    "soup = BeautifulSoup(data)"
   ]
  },
  {
   "cell_type": "code",
   "execution_count": 48,
   "id": "4c0d316d",
   "metadata": {},
   "outputs": [],
   "source": [
    "All_Source = soup.find('div',{'class':'sc-dffc6c81-0 iwmAVw'})"
   ]
  },
  {
   "cell_type": "code",
   "execution_count": 54,
   "id": "d164770c",
   "metadata": {},
   "outputs": [],
   "source": [
    "All_Name = []"
   ]
  },
  {
   "cell_type": "code",
   "execution_count": 55,
   "id": "3093167b",
   "metadata": {},
   "outputs": [],
   "source": [
    "for source_loop in All_Source :\n",
    "    All_Name.append(source_loop.find('span'))"
   ]
  },
  {
   "cell_type": "code",
   "execution_count": 56,
   "id": "b17790f7",
   "metadata": {},
   "outputs": [
    {
     "data": {
      "text/plain": [
       "[<span class=\"sc-afe43def-1 fDTGTb\">Percy Jackson and the Olympians</span>,\n",
       " None]"
      ]
     },
     "execution_count": 56,
     "metadata": {},
     "output_type": "execute_result"
    }
   ],
   "source": [
    "All_Name"
   ]
  },
  {
   "cell_type": "code",
   "execution_count": null,
   "id": "09946e68",
   "metadata": {},
   "outputs": [],
   "source": []
  },
  {
   "cell_type": "code",
   "execution_count": null,
   "id": "b93be541",
   "metadata": {},
   "outputs": [],
   "source": [
    "---------------------------------------------------"
   ]
  },
  {
   "cell_type": "code",
   "execution_count": 2,
   "id": "9784507e",
   "metadata": {},
   "outputs": [],
   "source": [
    "service = Service(executable_path=r'C:\\Users\\setthawat\\Downloads\\chromedriver-win64\\chromedriver-win64\\chromedriver.exe')"
   ]
  },
  {
   "cell_type": "code",
   "execution_count": 3,
   "id": "56ee6c4d",
   "metadata": {},
   "outputs": [],
   "source": [
    "driver = webdriver.Chrome(service=service)"
   ]
  },
  {
   "cell_type": "code",
   "execution_count": 57,
   "id": "9e45d0d1",
   "metadata": {},
   "outputs": [],
   "source": [
    "driver.get('https://www.boi.go.th/index.php?page=form_promoted_companies')\n",
    "# driver_detail.get('https://www.boi.go.th/index.php?page=company_detail2&COM_ID=0905545002431&HP_ID=471071&language_search=Thai')"
   ]
  },
  {
   "cell_type": "code",
   "execution_count": 58,
   "id": "b5bd9179",
   "metadata": {},
   "outputs": [],
   "source": [
    "data = driver.page_source"
   ]
  },
  {
   "cell_type": "code",
   "execution_count": 59,
   "id": "95bbaa7f",
   "metadata": {},
   "outputs": [],
   "source": [
    "soup = BeautifulSoup(data)"
   ]
  },
  {
   "cell_type": "code",
   "execution_count": 60,
   "id": "1061edad",
   "metadata": {},
   "outputs": [],
   "source": [
    "Next = driver.find_element('xpath','//*[@id=\"formSearch\"]/center/div[1]/input[1]')\n",
    "Next.click()"
   ]
  },
  {
   "cell_type": "code",
   "execution_count": 137,
   "id": "6367882d",
   "metadata": {},
   "outputs": [],
   "source": [
    "Next = driver.find_element('xpath','//*[@id=\"search-z\"]/table/tbody/tr[2]/td[4]/a')\n",
    "Next.click()"
   ]
  },
  {
   "cell_type": "code",
   "execution_count": null,
   "id": "c5acd9c4",
   "metadata": {},
   "outputs": [],
   "source": [
    "data = driver.page_source"
   ]
  },
  {
   "cell_type": "code",
   "execution_count": null,
   "id": "8f607b0c",
   "metadata": {},
   "outputs": [],
   "source": [
    "soup = BeautifulSoup(data)"
   ]
  },
  {
   "cell_type": "code",
   "execution_count": 130,
   "id": "bcf35fe7",
   "metadata": {},
   "outputs": [],
   "source": [
    "f = driver.window_handles[0]\n",
    "c = driver.window_handles[1]"
   ]
  },
  {
   "cell_type": "code",
   "execution_count": 133,
   "id": "3e2c9aa9",
   "metadata": {},
   "outputs": [],
   "source": [
    "driver.switch_to.window(c)"
   ]
  },
  {
   "cell_type": "code",
   "execution_count": 65,
   "id": "c85e83e2",
   "metadata": {},
   "outputs": [],
   "source": [
    "data = driver.page_source"
   ]
  },
  {
   "cell_type": "code",
   "execution_count": 66,
   "id": "bade2a2d",
   "metadata": {},
   "outputs": [],
   "source": [
    "soup = BeautifulSoup(data)"
   ]
  },
  {
   "cell_type": "code",
   "execution_count": 124,
   "id": "c865ee29",
   "metadata": {},
   "outputs": [],
   "source": [
    "All_Source = soup.find_all('div',{'class':'company_detail'})"
   ]
  },
  {
   "cell_type": "code",
   "execution_count": 125,
   "id": "c6ba632a",
   "metadata": {},
   "outputs": [
    {
     "data": {
      "text/plain": [
       "[<div class=\"company_detail\">\n",
       " <div class=\"article\" ctl_type=\"htmlblock\" databind=\"true\" editable=\"yes\" id=\"detail\" module=\"custom\" style=\"margin-top: 10px; line-height: 1.5;\">\n",
       " <table class=\"tableframe table table-bordered\" width=\"75%\">\n",
       " <tbody face=\"\" size=\"\">\n",
       " <tr face=\"\" size=\"\"><th align=\"left\" colspan=\"2\" face=\"\" size=\"\">บริษัท 105 โซล่า เพาเวอร์ จำกัด</th></tr>\n",
       " <tr face=\"\" size=\"\"><td face=\"\" size=\"\">Products</td><td face=\"\" size=\"\">ไฟฟ้าจากพลังงานแสงอาทิตย์ที่ติดตั้งบนหลังคา</td>\n",
       " </tr><tr face=\"\" size=\"\"><th align=\"left\" colspan=\"2\" face=\"\" size=\"\">Company Office</th></tr>\n",
       " <tr face=\"\" size=\"\"><td face=\"\" size=\"\">Address</td><td face=\"\" size=\"\">เลขที่ 105/30 หมู่ 3</td>\n",
       " </tr><tr face=\"\" size=\"\"><td face=\"\" size=\"\">Tambon</td><td face=\"\" size=\"\">ต.ท่าข้าม</td>\n",
       " </tr><tr face=\"\" size=\"\"><td face=\"\" size=\"\">District</td><td face=\"\" size=\"\">อ.บางปะกง</td>\n",
       " </tr><tr face=\"\" size=\"\"><td face=\"\" size=\"\">Province (Office)</td><td face=\"\" size=\"\">ฉะเชิงเทรา</td>\n",
       " </tr><tr face=\"\" size=\"\"><td face=\"\" size=\"\">ZIP Code</td><td face=\"\" size=\"\">24130</td>\n",
       " </tr><tr face=\"\" size=\"\"><td face=\"\" size=\"\">Telephone</td><td face=\"\" size=\"\"></td>\n",
       " </tr><tr face=\"\" size=\"\"><td face=\"\" size=\"\">Fax</td><td face=\"\" size=\"\"></td>\n",
       " </tr></tbody>\n",
       " </table>\n",
       " </div>\n",
       " </div>]"
      ]
     },
     "execution_count": 125,
     "metadata": {},
     "output_type": "execute_result"
    }
   ],
   "source": [
    "All_Source"
   ]
  },
  {
   "cell_type": "code",
   "execution_count": 152,
   "id": "c649c22e",
   "metadata": {},
   "outputs": [],
   "source": [
    "All_Name = []"
   ]
  },
  {
   "cell_type": "code",
   "execution_count": 127,
   "id": "01f19c91",
   "metadata": {},
   "outputs": [],
   "source": [
    "for source_loop in All_Source :\n",
    "    All_Name.append(source_loop.find('table',{'class':'tableframe table table-bordered'}).find('tr').text)"
   ]
  },
  {
   "cell_type": "code",
   "execution_count": 128,
   "id": "5b567a98",
   "metadata": {},
   "outputs": [],
   "source": [
    "for source in All_Source :\n",
    "    All_Name.append(source.find('table',{'class':'tableframe table table-bordered'}).find('tr').text)"
   ]
  },
  {
   "cell_type": "code",
   "execution_count": 129,
   "id": "d996af4a",
   "metadata": {},
   "outputs": [
    {
     "data": {
      "text/plain": [
       "['บริษัท 105 โซล่า เพาเวอร์ จำกัด', 'บริษัท 105 โซล่า เพาเวอร์ จำกัด']"
      ]
     },
     "execution_count": 129,
     "metadata": {},
     "output_type": "execute_result"
    }
   ],
   "source": [
    "All_Name"
   ]
  },
  {
   "cell_type": "code",
   "execution_count": 134,
   "id": "431b817b",
   "metadata": {},
   "outputs": [],
   "source": [
    "driver.close()"
   ]
  },
  {
   "cell_type": "code",
   "execution_count": null,
   "id": "058abf3b",
   "metadata": {},
   "outputs": [],
   "source": [
    "f = driver.window_handles[0]\n",
    "driver.switch_to.window(f)"
   ]
  },
  {
   "cell_type": "code",
   "execution_count": null,
   "id": "2fb800a9",
   "metadata": {},
   "outputs": [],
   "source": [
    "Next = driver.find_element('xpath','//*[@id=\"search-z\"]/table/tbody/tr[3]/td[4]/a')\n",
    "Next.click()"
   ]
  },
  {
   "cell_type": "code",
   "execution_count": 176,
   "id": "30a7e84f",
   "metadata": {},
   "outputs": [
    {
     "ename": "IndexError",
     "evalue": "list index out of range",
     "output_type": "error",
     "traceback": [
      "\u001b[1;31m---------------------------------------------------------------------------\u001b[0m",
      "\u001b[1;31mIndexError\u001b[0m                                Traceback (most recent call last)",
      "\u001b[1;32m<ipython-input-176-cb414d7636b1>\u001b[0m in \u001b[0;36m<module>\u001b[1;34m\u001b[0m\n\u001b[1;32m----> 1\u001b[1;33m \u001b[0mf\u001b[0m \u001b[1;33m=\u001b[0m \u001b[0mdriver\u001b[0m\u001b[1;33m.\u001b[0m\u001b[0mwindow_handles\u001b[0m\u001b[1;33m[\u001b[0m\u001b[1;36m1\u001b[0m\u001b[1;33m]\u001b[0m\u001b[1;33m\u001b[0m\u001b[1;33m\u001b[0m\u001b[0m\n\u001b[0m\u001b[0;32m      2\u001b[0m \u001b[0mdriver\u001b[0m\u001b[1;33m.\u001b[0m\u001b[0mswitch_to\u001b[0m\u001b[1;33m.\u001b[0m\u001b[0mwindow\u001b[0m\u001b[1;33m(\u001b[0m\u001b[0mf\u001b[0m\u001b[1;33m)\u001b[0m\u001b[1;33m\u001b[0m\u001b[1;33m\u001b[0m\u001b[0m\n",
      "\u001b[1;31mIndexError\u001b[0m: list index out of range"
     ]
    }
   ],
   "source": [
    "f = driver.window_handles[1]\n",
    "driver.switch_to.window(f)"
   ]
  },
  {
   "cell_type": "code",
   "execution_count": null,
   "id": "72bd6589",
   "metadata": {},
   "outputs": [],
   "source": [
    "driver.close()"
   ]
  },
  {
   "cell_type": "code",
   "execution_count": null,
   "id": "7ad75d9b",
   "metadata": {},
   "outputs": [],
   "source": [
    "Next = driver.find_element('xpath','//*[@id=\"formSearch\"]/center/div[1]/input[1]')\n",
    "Next.click()"
   ]
  },
  {
   "cell_type": "code",
   "execution_count": null,
   "id": "9fb3300d",
   "metadata": {},
   "outputs": [],
   "source": [
    "Company_name = []\n",
    "Web_source = soup.find_all('div',{'class':'col-lg-9.col-md-9.col-sm-12.col-xs-12.-block'})"
   ]
  },
  {
   "cell_type": "code",
   "execution_count": null,
   "id": "6973c061",
   "metadata": {},
   "outputs": [],
   "source": [
    "driver.get('https://www.boi.go.th/index.php?page=company_detail2&COM_ID=0245558001796&HP_ID=E601260&language_search=Thai')\n",
    "data = driver.page_source\n",
    "soup = BeautifulSoup(data)"
   ]
  },
  {
   "cell_type": "code",
   "execution_count": 105,
   "id": "9848a32f",
   "metadata": {},
   "outputs": [],
   "source": [
    "Web_source = soup.find_all('div',{'id':'detail'})"
   ]
  },
  {
   "cell_type": "code",
   "execution_count": 106,
   "id": "49999ebc",
   "metadata": {},
   "outputs": [
    {
     "data": {
      "text/plain": [
       "[<div class=\"article\" ctl_type=\"htmlblock\" databind=\"true\" editable=\"yes\" id=\"detail\" module=\"custom\" style=\"margin-top: 10px; line-height: 1.5;\">\n",
       " <table class=\"tableframe table table-bordered\" width=\"75%\">\n",
       " <tbody face=\"\" size=\"\">\n",
       " <tr face=\"\" size=\"\"><th align=\"left\" colspan=\"2\" face=\"\" size=\"\">บริษัท 105 โซล่า เพาเวอร์ จำกัด</th></tr>\n",
       " <tr face=\"\" size=\"\"><td face=\"\" size=\"\">Products</td><td face=\"\" size=\"\">ไฟฟ้าจากพลังงานแสงอาทิตย์ที่ติดตั้งบนหลังคา</td>\n",
       " </tr><tr face=\"\" size=\"\"><th align=\"left\" colspan=\"2\" face=\"\" size=\"\">Company Office</th></tr>\n",
       " <tr face=\"\" size=\"\"><td face=\"\" size=\"\">Address</td><td face=\"\" size=\"\">เลขที่ 105/30 หมู่ 3</td>\n",
       " </tr><tr face=\"\" size=\"\"><td face=\"\" size=\"\">Tambon</td><td face=\"\" size=\"\">ต.ท่าข้าม</td>\n",
       " </tr><tr face=\"\" size=\"\"><td face=\"\" size=\"\">District</td><td face=\"\" size=\"\">อ.บางปะกง</td>\n",
       " </tr><tr face=\"\" size=\"\"><td face=\"\" size=\"\">Province (Office)</td><td face=\"\" size=\"\">ฉะเชิงเทรา</td>\n",
       " </tr><tr face=\"\" size=\"\"><td face=\"\" size=\"\">ZIP Code</td><td face=\"\" size=\"\">24130</td>\n",
       " </tr><tr face=\"\" size=\"\"><td face=\"\" size=\"\">Telephone</td><td face=\"\" size=\"\"></td>\n",
       " </tr><tr face=\"\" size=\"\"><td face=\"\" size=\"\">Fax</td><td face=\"\" size=\"\"></td>\n",
       " </tr></tbody>\n",
       " </table>\n",
       " </div>]"
      ]
     },
     "execution_count": 106,
     "metadata": {},
     "output_type": "execute_result"
    }
   ],
   "source": [
    "Web_source"
   ]
  },
  {
   "cell_type": "code",
   "execution_count": 313,
   "id": "d50fc2b3",
   "metadata": {},
   "outputs": [],
   "source": [
    "driver.switch_to.window(f)"
   ]
  },
  {
   "cell_type": "code",
   "execution_count": 109,
   "id": "8856cbb6",
   "metadata": {},
   "outputs": [],
   "source": [
    "Web_source11 = soup.find('table',{'class':'tableframe table table-bordered'})"
   ]
  },
  {
   "cell_type": "code",
   "execution_count": null,
   "id": "9dea333f",
   "metadata": {},
   "outputs": [],
   "source": [
    "Next = driver.find_element('xpath','//*[@id=\"search-z\"]/table/tbody/tr[%i]/td[4]/a'%(i))\n",
    "Next.click()"
   ]
  },
  {
   "cell_type": "code",
   "execution_count": null,
   "id": "6743f5ab",
   "metadata": {},
   "outputs": [],
   "source": [
    "--------------------------------------------------------------------------"
   ]
  },
  {
   "cell_type": "code",
   "execution_count": 183,
   "id": "38c49498",
   "metadata": {},
   "outputs": [
    {
     "data": {
      "text/plain": [
       "[]"
      ]
     },
     "execution_count": 183,
     "metadata": {},
     "output_type": "execute_result"
    }
   ],
   "source": [
    "All_Source"
   ]
  },
  {
   "cell_type": "code",
   "execution_count": 310,
   "id": "df74c1d6",
   "metadata": {},
   "outputs": [],
   "source": [
    "Company_name = []"
   ]
  },
  {
   "cell_type": "code",
   "execution_count": 316,
   "id": "2142ca5f",
   "metadata": {},
   "outputs": [
    {
     "ename": "TypeError",
     "evalue": "object of type 'NoneType' has no len()",
     "output_type": "error",
     "traceback": [
      "\u001b[1;31m---------------------------------------------------------------------------\u001b[0m",
      "\u001b[1;31mTypeError\u001b[0m                                 Traceback (most recent call last)",
      "\u001b[1;32m<ipython-input-316-08056357a6b0>\u001b[0m in \u001b[0;36m<module>\u001b[1;34m\u001b[0m\n\u001b[0;32m      7\u001b[0m     \u001b[0mdriver\u001b[0m\u001b[1;33m.\u001b[0m\u001b[0mswitch_to\u001b[0m\u001b[1;33m.\u001b[0m\u001b[0mwindow\u001b[0m\u001b[1;33m(\u001b[0m\u001b[0mc\u001b[0m\u001b[1;33m)\u001b[0m\u001b[1;33m\u001b[0m\u001b[1;33m\u001b[0m\u001b[0m\n\u001b[0;32m      8\u001b[0m     \u001b[0mdata\u001b[0m \u001b[1;33m=\u001b[0m \u001b[0mdriver\u001b[0m\u001b[1;33m.\u001b[0m\u001b[0mpage_source\u001b[0m\u001b[1;33m\u001b[0m\u001b[1;33m\u001b[0m\u001b[0m\n\u001b[1;32m----> 9\u001b[1;33m     \u001b[0msoup\u001b[0m \u001b[1;33m=\u001b[0m \u001b[0mBeautifulSoup\u001b[0m\u001b[1;33m(\u001b[0m\u001b[0mdata\u001b[0m\u001b[1;33m)\u001b[0m\u001b[1;33m\u001b[0m\u001b[1;33m\u001b[0m\u001b[0m\n\u001b[0m\u001b[0;32m     10\u001b[0m     \u001b[0mAll_Source\u001b[0m \u001b[1;33m=\u001b[0m \u001b[0msoup\u001b[0m\u001b[1;33m.\u001b[0m\u001b[0mfind_all\u001b[0m\u001b[1;33m(\u001b[0m\u001b[1;34m'div'\u001b[0m\u001b[1;33m,\u001b[0m\u001b[1;33m{\u001b[0m\u001b[1;34m'class'\u001b[0m\u001b[1;33m:\u001b[0m\u001b[1;34m'company_detail'\u001b[0m\u001b[1;33m}\u001b[0m\u001b[1;33m)\u001b[0m\u001b[1;33m\u001b[0m\u001b[1;33m\u001b[0m\u001b[0m\n\u001b[0;32m     11\u001b[0m     \u001b[1;32mfor\u001b[0m \u001b[0msource\u001b[0m \u001b[1;32min\u001b[0m \u001b[0mAll_Source\u001b[0m \u001b[1;33m:\u001b[0m\u001b[1;33m\u001b[0m\u001b[1;33m\u001b[0m\u001b[0m\n",
      "\u001b[1;32mD:\\anaconda3\\lib\\site-packages\\bs4\\__init__.py\u001b[0m in \u001b[0;36m__init__\u001b[1;34m(self, markup, features, builder, parse_only, from_encoding, exclude_encodings, element_classes, **kwargs)\u001b[0m\n\u001b[0;32m    308\u001b[0m         \u001b[1;32mif\u001b[0m \u001b[0mhasattr\u001b[0m\u001b[1;33m(\u001b[0m\u001b[0mmarkup\u001b[0m\u001b[1;33m,\u001b[0m \u001b[1;34m'read'\u001b[0m\u001b[1;33m)\u001b[0m\u001b[1;33m:\u001b[0m        \u001b[1;31m# It's a file-type object.\u001b[0m\u001b[1;33m\u001b[0m\u001b[1;33m\u001b[0m\u001b[0m\n\u001b[0;32m    309\u001b[0m             \u001b[0mmarkup\u001b[0m \u001b[1;33m=\u001b[0m \u001b[0mmarkup\u001b[0m\u001b[1;33m.\u001b[0m\u001b[0mread\u001b[0m\u001b[1;33m(\u001b[0m\u001b[1;33m)\u001b[0m\u001b[1;33m\u001b[0m\u001b[1;33m\u001b[0m\u001b[0m\n\u001b[1;32m--> 310\u001b[1;33m         elif len(markup) <= 256 and (\n\u001b[0m\u001b[0;32m    311\u001b[0m                 \u001b[1;33m(\u001b[0m\u001b[0misinstance\u001b[0m\u001b[1;33m(\u001b[0m\u001b[0mmarkup\u001b[0m\u001b[1;33m,\u001b[0m \u001b[0mbytes\u001b[0m\u001b[1;33m)\u001b[0m \u001b[1;32mand\u001b[0m \u001b[1;32mnot\u001b[0m \u001b[1;34mb'<'\u001b[0m \u001b[1;32min\u001b[0m \u001b[0mmarkup\u001b[0m\u001b[1;33m)\u001b[0m\u001b[1;33m\u001b[0m\u001b[1;33m\u001b[0m\u001b[0m\n\u001b[0;32m    312\u001b[0m                 \u001b[1;32mor\u001b[0m \u001b[1;33m(\u001b[0m\u001b[0misinstance\u001b[0m\u001b[1;33m(\u001b[0m\u001b[0mmarkup\u001b[0m\u001b[1;33m,\u001b[0m \u001b[0mstr\u001b[0m\u001b[1;33m)\u001b[0m \u001b[1;32mand\u001b[0m \u001b[1;32mnot\u001b[0m \u001b[1;34m'<'\u001b[0m \u001b[1;32min\u001b[0m \u001b[0mmarkup\u001b[0m\u001b[1;33m)\u001b[0m\u001b[1;33m\u001b[0m\u001b[1;33m\u001b[0m\u001b[0m\n",
      "\u001b[1;31mTypeError\u001b[0m: object of type 'NoneType' has no len()"
     ]
    }
   ],
   "source": [
    "data = driver.page_source\n",
    "soup = BeautifulSoup(data)\n",
    "for i in range(5,52) :\n",
    "    Next = driver.find_element('xpath','//*[@id=\"search-z\"]/table/tbody/tr[%i]/td[4]/a'%(i))\n",
    "    Next.click()\n",
    "    c = driver.window_handles[1]\n",
    "    driver.switch_to.window(c)\n",
    "    data = driver.page_source\n",
    "    soup = BeautifulSoup(data)\n",
    "    All_Source = soup.find_all('div',{'class':'company_detail'})\n",
    "    for source in All_Source :\n",
    "        Company_name.append(source.find('table',{'class':'tableframe table table-bordered'}).find('tr').text)\n",
    "    driver.close()\n",
    "    f = driver.window_handles[0]\n",
    "    driver.switch_to.window(f)"
   ]
  },
  {
   "cell_type": "code",
   "execution_count": 308,
   "id": "6ca672aa",
   "metadata": {},
   "outputs": [
    {
     "data": {
      "text/plain": [
       "[]"
      ]
     },
     "execution_count": 308,
     "metadata": {},
     "output_type": "execute_result"
    }
   ],
   "source": [
    "Company_name"
   ]
  },
  {
   "cell_type": "code",
   "execution_count": 149,
   "id": "2342a243",
   "metadata": {},
   "outputs": [],
   "source": [
    "for i in range(2,10) :\n",
    "    Next = driver.find_element('xpath','//*[@id=\"search-z\"]/table/tbody/tr[%i]/td[4]/a'%(i))\n",
    "    Next.click()"
   ]
  },
  {
   "cell_type": "code",
   "execution_count": null,
   "id": "0fd47109",
   "metadata": {},
   "outputs": [],
   "source": []
  },
  {
   "cell_type": "code",
   "execution_count": null,
   "id": "d96f995e",
   "metadata": {},
   "outputs": [],
   "source": []
  },
  {
   "cell_type": "code",
   "execution_count": null,
   "id": "66237ec5",
   "metadata": {},
   "outputs": [],
   "source": [
    "--------------------------------------------------------------------------"
   ]
  }
 ],
 "metadata": {
  "kernelspec": {
   "display_name": "Python 3",
   "language": "python",
   "name": "python3"
  },
  "language_info": {
   "codemirror_mode": {
    "name": "ipython",
    "version": 3
   },
   "file_extension": ".py",
   "mimetype": "text/x-python",
   "name": "python",
   "nbconvert_exporter": "python",
   "pygments_lexer": "ipython3",
   "version": "3.8.5"
  }
 },
 "nbformat": 4,
 "nbformat_minor": 5
}
