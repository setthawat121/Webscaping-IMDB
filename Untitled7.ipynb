{
 "cells": [
  {
   "cell_type": "code",
   "execution_count": 1,
   "id": "1a9409c1",
   "metadata": {},
   "outputs": [
    {
     "name": "stderr",
     "output_type": "stream",
     "text": [
      "D:\\anaconda3\\lib\\site-packages\\requests\\__init__.py:89: RequestsDependencyWarning: urllib3 (2.1.0) or chardet (3.0.4) doesn't match a supported version!\n",
      "  warnings.warn(\"urllib3 ({}) or chardet ({}) doesn't match a supported \"\n"
     ]
    }
   ],
   "source": [
    "from bs4 import BeautifulSoup\n",
    "from selenium import webdriver\n",
    "# from seleni um.webdriver.chrome.service import Service\n",
    "from selenium.webdriver.common.keys import Keys\n",
    "import pandas as pd\n",
    "from selenium import webdriver\n",
    "from selenium.webdriver.chrome.service import Service as ChromeService\n",
    "from webdriver_manager.chrome import ChromeDriverManager\n",
    "from selenium.webdriver.chrome.options import Options\n",
    "from selenium.common.exceptions import NoSuchElementException\n",
    "from selenium.common.exceptions import ElementClickInterceptedException\n",
    "from selenium.webdriver.common.action_chains import ActionChains\n",
    "import time"
   ]
  },
  {
   "cell_type": "code",
   "execution_count": 3,
   "id": "9d4654a2",
   "metadata": {},
   "outputs": [],
   "source": [
    "from selenium.webdriver import ActionChains"
   ]
  },
  {
   "cell_type": "code",
   "execution_count": 4,
   "id": "0b095be5",
   "metadata": {},
   "outputs": [],
   "source": [
    "service = ChromeService(executable_path=r'C:\\Users\\setthawat\\Downloads\\chromedriver-win64New\\chromedriver-win64\\chromedriver.exe')"
   ]
  },
  {
   "cell_type": "code",
   "execution_count": 282,
   "id": "91877416",
   "metadata": {},
   "outputs": [],
   "source": [
    "chrome_options = Options()\n",
    "# chrome_options.add_argument('--headless')\n",
    "chrome_options.add_argument('--no-sandbox')\n",
    "chrome_options.add_argument('--disable-dev-shm-usage')\n",
    "chrome_options.add_argument('--window-size=2560,1440')\n",
    "driver = webdriver.Chrome(service=service,options=chrome_options)\n",
    "driver.get('https://www.thaitradefair.com/exhibitor-list-directory/')"
   ]
  },
  {
   "cell_type": "code",
   "execution_count": null,
   "id": "95f7425c",
   "metadata": {},
   "outputs": [],
   "source": []
  },
  {
   "cell_type": "code",
   "execution_count": 6,
   "id": "a011dad0",
   "metadata": {},
   "outputs": [],
   "source": [
    "driver.execute_script(\"window.open('');\")"
   ]
  },
  {
   "cell_type": "code",
   "execution_count": 10,
   "id": "dbb6ae79",
   "metadata": {},
   "outputs": [],
   "source": [
    "driver.switch_to.window(driver.window_handles[0])"
   ]
  },
  {
   "cell_type": "code",
   "execution_count": 20,
   "id": "76c6f7aa",
   "metadata": {},
   "outputs": [
    {
     "ename": "AttributeError",
     "evalue": "'WebDriver' object has no attribute 'browser'",
     "output_type": "error",
     "traceback": [
      "\u001b[1;31m---------------------------------------------------------------------------\u001b[0m",
      "\u001b[1;31mAttributeError\u001b[0m                            Traceback (most recent call last)",
      "\u001b[1;32m<ipython-input-20-27325ede6bfb>\u001b[0m in \u001b[0;36m<module>\u001b[1;34m\u001b[0m\n\u001b[1;32m----> 1\u001b[1;33m \u001b[0mcontent\u001b[0m \u001b[1;33m=\u001b[0m \u001b[0mdriver\u001b[0m\u001b[1;33m.\u001b[0m\u001b[0mbrowser\u001b[0m\u001b[1;33m.\u001b[0m\u001b[0mfind_element_by_class_name\u001b[0m\u001b[1;33m(\u001b[0m\u001b[1;34m'xpath'\u001b[0m\u001b[1;33m,\u001b[0m\u001b[1;34m'//*[@id=\"company-tab-pane\"]/div[2]/ul/li[1]/div[2]/div/a'\u001b[0m\u001b[1;33m)\u001b[0m\u001b[1;33m\u001b[0m\u001b[1;33m\u001b[0m\u001b[0m\n\u001b[0m\u001b[0;32m      2\u001b[0m \u001b[1;31m#         action = ActionChains(self.browser)\u001b[0m\u001b[1;33m\u001b[0m\u001b[1;33m\u001b[0m\u001b[1;33m\u001b[0m\u001b[0m\n\u001b[0;32m      3\u001b[0m \u001b[0maction\u001b[0m\u001b[1;33m.\u001b[0m\u001b[0mmove_to_element\u001b[0m\u001b[1;33m(\u001b[0m\u001b[0mcontent\u001b[0m\u001b[1;33m)\u001b[0m\u001b[1;33m.\u001b[0m\u001b[0mperform\u001b[0m\u001b[1;33m(\u001b[0m\u001b[1;33m)\u001b[0m\u001b[1;33m;\u001b[0m\u001b[1;33m\u001b[0m\u001b[1;33m\u001b[0m\u001b[0m\n\u001b[0;32m      4\u001b[0m \u001b[0maction\u001b[0m\u001b[1;33m.\u001b[0m\u001b[0mcontext_click\u001b[0m\u001b[1;33m(\u001b[0m\u001b[1;33m)\u001b[0m\u001b[1;33m.\u001b[0m\u001b[0mperform\u001b[0m\u001b[1;33m(\u001b[0m\u001b[1;33m)\u001b[0m\u001b[1;33m\u001b[0m\u001b[1;33m\u001b[0m\u001b[0m\n\u001b[0;32m      5\u001b[0m \u001b[0maction\u001b[0m\u001b[1;33m.\u001b[0m\u001b[0msend_keys\u001b[0m\u001b[1;33m(\u001b[0m\u001b[0mKeys\u001b[0m\u001b[1;33m.\u001b[0m\u001b[0mDOWN\u001b[0m\u001b[1;33m)\u001b[0m\u001b[1;33m.\u001b[0m\u001b[0mperform\u001b[0m\u001b[1;33m(\u001b[0m\u001b[1;33m)\u001b[0m\u001b[1;33m\u001b[0m\u001b[1;33m\u001b[0m\u001b[0m\n",
      "\u001b[1;31mAttributeError\u001b[0m: 'WebDriver' object has no attribute 'browser'"
     ]
    }
   ],
   "source": [
    "\n",
    "content = driver.browser.find_element_by_class_name('xpath','//*[@id=\"company-tab-pane\"]/div[2]/ul/li[1]/div[2]/div/a')\n",
    "#         action = ActionChains(self.browser)\n",
    "action.move_to_element(content).perform();\n",
    "action.context_click().perform()\n",
    "action.send_keys(Keys.DOWN).perform()\n",
    "action.send_keys(Keys.ENTER).perform()"
   ]
  },
  {
   "cell_type": "code",
   "execution_count": 18,
   "id": "1e575937",
   "metadata": {},
   "outputs": [
    {
     "ename": "AttributeError",
     "evalue": "'WebDriver' object has no attribute 'browser'",
     "output_type": "error",
     "traceback": [
      "\u001b[1;31m---------------------------------------------------------------------------\u001b[0m",
      "\u001b[1;31mAttributeError\u001b[0m                            Traceback (most recent call last)",
      "\u001b[1;32m<ipython-input-18-71eda8b2d3c4>\u001b[0m in \u001b[0;36m<module>\u001b[1;34m\u001b[0m\n\u001b[1;32m----> 1\u001b[1;33m \u001b[0mOpenInNewTab\u001b[0m\u001b[1;33m(\u001b[0m\u001b[0mdriver\u001b[0m\u001b[1;33m)\u001b[0m\u001b[1;33m\u001b[0m\u001b[1;33m\u001b[0m\u001b[0m\n\u001b[0m",
      "\u001b[1;32m<ipython-input-17-3466a524d4ee>\u001b[0m in \u001b[0;36mOpenInNewTab\u001b[1;34m(self)\u001b[0m\n\u001b[0;32m      1\u001b[0m \u001b[1;32mdef\u001b[0m \u001b[0mOpenInNewTab\u001b[0m\u001b[1;33m(\u001b[0m\u001b[0mself\u001b[0m\u001b[1;33m)\u001b[0m\u001b[1;33m:\u001b[0m\u001b[1;33m\u001b[0m\u001b[1;33m\u001b[0m\u001b[0m\n\u001b[1;32m----> 2\u001b[1;33m         \u001b[0mcontent\u001b[0m \u001b[1;33m=\u001b[0m \u001b[0mself\u001b[0m\u001b[1;33m.\u001b[0m\u001b[0mbrowser\u001b[0m\u001b[1;33m.\u001b[0m\u001b[0mfind_element_by_class_name\u001b[0m\u001b[1;33m(\u001b[0m\u001b[1;34m'xpath'\u001b[0m\u001b[1;33m,\u001b[0m\u001b[1;34m'//*[@id=\"company-tab-pane\"]/div[2]/ul/li[1]/div[2]/div/a'\u001b[0m\u001b[1;33m)\u001b[0m\u001b[1;33m\u001b[0m\u001b[1;33m\u001b[0m\u001b[0m\n\u001b[0m\u001b[0;32m      3\u001b[0m \u001b[1;31m#         action = ActionChains(self.browser)\u001b[0m\u001b[1;33m\u001b[0m\u001b[1;33m\u001b[0m\u001b[1;33m\u001b[0m\u001b[0m\n\u001b[0;32m      4\u001b[0m         \u001b[0maction\u001b[0m\u001b[1;33m.\u001b[0m\u001b[0mmove_to_element\u001b[0m\u001b[1;33m(\u001b[0m\u001b[0mcontent\u001b[0m\u001b[1;33m)\u001b[0m\u001b[1;33m.\u001b[0m\u001b[0mperform\u001b[0m\u001b[1;33m(\u001b[0m\u001b[1;33m)\u001b[0m\u001b[1;33m;\u001b[0m\u001b[1;33m\u001b[0m\u001b[1;33m\u001b[0m\u001b[0m\n\u001b[0;32m      5\u001b[0m         \u001b[0maction\u001b[0m\u001b[1;33m.\u001b[0m\u001b[0mcontext_click\u001b[0m\u001b[1;33m(\u001b[0m\u001b[1;33m)\u001b[0m\u001b[1;33m.\u001b[0m\u001b[0mperform\u001b[0m\u001b[1;33m(\u001b[0m\u001b[1;33m)\u001b[0m\u001b[1;33m\u001b[0m\u001b[1;33m\u001b[0m\u001b[0m\n",
      "\u001b[1;31mAttributeError\u001b[0m: 'WebDriver' object has no attribute 'browser'"
     ]
    }
   ],
   "source": [
    "OpenInNewTab(driver)"
   ]
  },
  {
   "cell_type": "code",
   "execution_count": 11,
   "id": "086d9b6d",
   "metadata": {},
   "outputs": [],
   "source": [
    "search = driver.find_element('xpath','//*[@id=\"company-tab-pane\"]/div[2]/ul/li[1]/div[2]/div/a')\n",
    "search.click()"
   ]
  },
  {
   "cell_type": "code",
   "execution_count": null,
   "id": "e5c7a61c",
   "metadata": {},
   "outputs": [],
   "source": []
  },
  {
   "cell_type": "code",
   "execution_count": 4,
   "id": "03f071e8",
   "metadata": {},
   "outputs": [],
   "source": [
    "f = driver.window_handles[0]\n",
    "driver.switch_to.window(f)"
   ]
  },
  {
   "cell_type": "code",
   "execution_count": 5,
   "id": "0515b2f3",
   "metadata": {},
   "outputs": [],
   "source": [
    "search = driver.find_element('xpath','//*[@id=\"full-scrn_edit\"]/div/div/div/div/a/img')\n",
    "search.click()"
   ]
  },
  {
   "cell_type": "code",
   "execution_count": 16,
   "id": "fcdde243",
   "metadata": {},
   "outputs": [],
   "source": [
    "search = driver.find_element('xpath','//*[@id=\"search\"]/div[2]')\n",
    "search.click()"
   ]
  },
  {
   "cell_type": "code",
   "execution_count": null,
   "id": "040ea643",
   "metadata": {},
   "outputs": [],
   "source": [
    "search = driver.find_element('xpath','//*[@id=\"search\"]/div[2]/ul/li[2]/a')\n",
    "search.click()"
   ]
  },
  {
   "cell_type": "code",
   "execution_count": 8,
   "id": "bf844a00",
   "metadata": {},
   "outputs": [
    {
     "ename": "SyntaxError",
     "evalue": "invalid syntax (<ipython-input-8-531fad47106e>, line 1)",
     "output_type": "error",
     "traceback": [
      "\u001b[1;36m  File \u001b[1;32m\"<ipython-input-8-531fad47106e>\"\u001b[1;36m, line \u001b[1;32m1\u001b[0m\n\u001b[1;33m    //*[@id=\"search\"]/div[2]/ul/li[2]/a\u001b[0m\n\u001b[1;37m    ^\u001b[0m\n\u001b[1;31mSyntaxError\u001b[0m\u001b[1;31m:\u001b[0m invalid syntax\n"
     ]
    }
   ],
   "source": [
    "//*[@id=\"search\"]/div[2]/ul/li[2]/a\n",
    "//*[@id=\"search\"]/div[2]/ul/li[3]/a\n",
    "//*[@id=\"search\"]/div[2]/ul/li[4]/a\n",
    "//*[@id=\"search\"]/div[2]/ul/li[5]/a\n",
    "//*[@id=\"search\"]/div[2]/ul/li[6]/a\n",
    "//*[@id=\"search\"]/div[2]/ul/li[7]/a"
   ]
  },
  {
   "cell_type": "code",
   "execution_count": 9,
   "id": "0adafc80",
   "metadata": {},
   "outputs": [],
   "source": [
    "search = driver.find_element('xpath','//*[@id=\"search\"]/button')\n",
    "search.click()"
   ]
  },
  {
   "cell_type": "code",
   "execution_count": 89,
   "id": "d14c7fd7",
   "metadata": {},
   "outputs": [],
   "source": [
    "search = driver.find_element('xpath','//*[@id=\"company-tab-pane\"]/div[1]/div[2]/a/i')\n",
    "search.click()"
   ]
  },
  {
   "cell_type": "code",
   "execution_count": null,
   "id": "bc534d62",
   "metadata": {},
   "outputs": [],
   "source": [
    "search = driver.find_element('xpath','//*[@id=\"company-tab-pane\"]/div[1]/div[2]/a[2]')\n",
    "search.click()"
   ]
  },
  {
   "cell_type": "code",
   "execution_count": null,
   "id": "5ef5bf7a",
   "metadata": {},
   "outputs": [],
   "source": [
    "for i in range(50) :\n",
    "    try :\n",
    "        search = driver.find_element('xpath','//*[@id=\"company-tab-pane\"]/div[1]/div[2]/a')\n",
    "        search.click()\n",
    "    except : \n",
    "        search = driver.find_element('xpath','//*[@id=\"company-tab-pane\"]/div[1]/div[2]/a[2]')\n",
    "        search.click()"
   ]
  },
  {
   "cell_type": "code",
   "execution_count": null,
   "id": "cf5bbdd5",
   "metadata": {},
   "outputs": [],
   "source": [
    "//*[@id=\"company-tab-pane\"]/div[1]/div[2]/a[2]\n",
    "//*[@id=\"company-tab-pane\"]/div[1]/div[2]/a[2]\n",
    "//*[@id=\"company-tab-pane\"]/div[1]/div[2]/a[2]\n",
    "#"
   ]
  },
  {
   "cell_type": "code",
   "execution_count": 11,
   "id": "efca5a5b",
   "metadata": {},
   "outputs": [],
   "source": [
    "search = driver.find_element('xpath','//*[@id=\"company-tab-pane\"]/div[1]/div[2]/a[2]')\n",
    "search.click()"
   ]
  },
  {
   "cell_type": "code",
   "execution_count": 12,
   "id": "c5177d5c",
   "metadata": {},
   "outputs": [],
   "source": [
    "search = driver.find_element('xpath','//*[@id=\"company-tab-pane\"]/div[2]/ul/li[1]/div[2]/div/a')\n",
    "search.click()"
   ]
  },
  {
   "cell_type": "code",
   "execution_count": null,
   "id": "829b1ae0",
   "metadata": {},
   "outputs": [],
   "source": [
    "//*[@id=\"company-tab-pane\"]/div[2]/ul/li[1]/div[2]/div/a\n",
    "//*[@id=\"company-tab-pane\"]/div[2]/ul/li[2]/div[2]/div/a\n",
    "//*[@id=\"company-tab-pane\"]/div[2]/ul/li[3]/div[2]/div/a\n",
    "//*[@id=\"company-tab-pane\"]/div[2]/ul/li[4]/div[2]/div/a\n",
    "//*[@id=\"company-tab-pane\"]/div[2]/ul/li[10]/div[2]/div/a\n",
    "//*[@id=\"company-tab-pane\"]/div[2]/ul/li[20]/div[2]/div/a\n",
    "//*[@id=\"company-tab-pane\"]/div[2]/ul/li[91]/div[2]/div/a\n",
    "//*[@id=\"company-tab-pane\"]/div[2]/ul/li[100]/div[2]/div/a"
   ]
  },
  {
   "cell_type": "code",
   "execution_count": 123,
   "id": "ee173260",
   "metadata": {},
   "outputs": [],
   "source": [
    "n = 0"
   ]
  },
  {
   "cell_type": "code",
   "execution_count": 29,
   "id": "6beabe13",
   "metadata": {},
   "outputs": [],
   "source": [
    "search = driver.find_element('xpath','//*[@id=\"company-tab-pane\"]/div[2]/ul/li[10]/div[2]/div/a')\n",
    "search.click()"
   ]
  },
  {
   "cell_type": "code",
   "execution_count": 199,
   "id": "b7766877",
   "metadata": {},
   "outputs": [],
   "source": [
    "driver.back()"
   ]
  },
  {
   "cell_type": "code",
   "execution_count": null,
   "id": "6b1bab19",
   "metadata": {},
   "outputs": [],
   "source": [
    "driver.execute_script(\"window.scrollTo(0, Y)\")"
   ]
  },
  {
   "cell_type": "code",
   "execution_count": 25,
   "id": "3fb813fb",
   "metadata": {},
   "outputs": [],
   "source": [
    "driver.execute_script(\"window.scrollTo(0, 1000);\")"
   ]
  },
  {
   "cell_type": "code",
   "execution_count": 205,
   "id": "10bfd085",
   "metadata": {},
   "outputs": [],
   "source": [
    "driver.execute_script(\"window.scrollTo(0, window.scrollY + 9000)\")"
   ]
  },
  {
   "cell_type": "code",
   "execution_count": 104,
   "id": "0b932f36",
   "metadata": {},
   "outputs": [],
   "source": [
    "search = driver.find_element('xpath','//*[@id=\"company-tab-pane\"]/div[1]/div[2]/a')\n",
    "search.click()"
   ]
  },
  {
   "cell_type": "code",
   "execution_count": 162,
   "id": "ebd08798",
   "metadata": {},
   "outputs": [],
   "source": [
    "n = 10"
   ]
  },
  {
   "cell_type": "code",
   "execution_count": 168,
   "id": "c5db6496",
   "metadata": {},
   "outputs": [
    {
     "data": {
      "text/plain": [
       "20"
      ]
     },
     "execution_count": 168,
     "metadata": {},
     "output_type": "execute_result"
    }
   ],
   "source": [
    "n"
   ]
  },
  {
   "cell_type": "code",
   "execution_count": null,
   "id": "3da213f5",
   "metadata": {},
   "outputs": [],
   "source": []
  },
  {
   "cell_type": "code",
   "execution_count": 195,
   "id": "50a5b10e",
   "metadata": {},
   "outputs": [
    {
     "name": "stdout",
     "output_type": "stream",
     "text": [
      "10\n"
     ]
    }
   ],
   "source": [
    "print(n)"
   ]
  },
  {
   "cell_type": "code",
   "execution_count": 231,
   "id": "b6e2b92d",
   "metadata": {},
   "outputs": [
    {
     "ename": "AttributeError",
     "evalue": "'NoneType' object has no attribute 'get'",
     "output_type": "error",
     "traceback": [
      "\u001b[1;31m---------------------------------------------------------------------------\u001b[0m",
      "\u001b[1;31mAttributeError\u001b[0m                            Traceback (most recent call last)",
      "\u001b[1;32m<ipython-input-231-2bcee71c23a7>\u001b[0m in \u001b[0;36m<module>\u001b[1;34m\u001b[0m\n\u001b[0;32m      1\u001b[0m \u001b[0msearch\u001b[0m \u001b[1;33m=\u001b[0m \u001b[0mdriver\u001b[0m\u001b[1;33m.\u001b[0m\u001b[0mfind_element\u001b[0m\u001b[1;33m(\u001b[0m\u001b[1;34m'xpath'\u001b[0m\u001b[1;33m,\u001b[0m\u001b[1;34m'//*[@id=\"company-tab-pane\"]/div[2]/ul/li[1]/div[2]/div/a'\u001b[0m\u001b[1;33m)\u001b[0m\u001b[1;33m.\u001b[0m\u001b[0msend_keys\u001b[0m\u001b[1;33m(\u001b[0m\u001b[0mKeys\u001b[0m\u001b[1;33m.\u001b[0m\u001b[0mCOMMAND\u001b[0m \u001b[1;33m+\u001b[0m \u001b[1;34m't'\u001b[0m\u001b[1;33m)\u001b[0m\u001b[1;33m\u001b[0m\u001b[1;33m\u001b[0m\u001b[0m\n\u001b[1;32m----> 2\u001b[1;33m \u001b[0msearch\u001b[0m\u001b[1;33m.\u001b[0m\u001b[0mget\u001b[0m\u001b[1;33m(\u001b[0m\u001b[1;33m)\u001b[0m\u001b[1;33m\u001b[0m\u001b[1;33m\u001b[0m\u001b[0m\n\u001b[0m",
      "\u001b[1;31mAttributeError\u001b[0m: 'NoneType' object has no attribute 'get'"
     ]
    }
   ],
   "source": [
    "search = driver.find_element('xpath','//*[@id=\"company-tab-pane\"]/div[2]/ul/li[1]/div[2]/div/a').send_keys(Keys.COMMAND + 't')\n",
    "search.get()"
   ]
  },
  {
   "cell_type": "code",
   "execution_count": 257,
   "id": "5e7d6941",
   "metadata": {},
   "outputs": [],
   "source": [
    "actions = ActionChains(driver)"
   ]
  },
  {
   "cell_type": "code",
   "execution_count": 258,
   "id": "0d893bd4",
   "metadata": {},
   "outputs": [],
   "source": [
    "action.context_click().perform()"
   ]
  },
  {
   "cell_type": "code",
   "execution_count": 268,
   "id": "ffdd63d4",
   "metadata": {},
   "outputs": [
    {
     "data": {
      "text/plain": [
       "<selenium.webdriver.common.action_chains.ActionChains at 0x2746ccdd160>"
      ]
     },
     "execution_count": 268,
     "metadata": {},
     "output_type": "execute_result"
    }
   ],
   "source": [
    "actions.send_keys(Keys.DOWN)"
   ]
  },
  {
   "cell_type": "code",
   "execution_count": null,
   "id": "82c9fc3a",
   "metadata": {},
   "outputs": [],
   "source": []
  },
  {
   "cell_type": "code",
   "execution_count": 22,
   "id": "470965dd",
   "metadata": {},
   "outputs": [],
   "source": [
    "search = driver.find_element('xpath','//*[@id=\"company-tab-pane\"]/div[2]/ul/li[1]/div[2]/div/a')\n",
    "search.send_keys(Keys.CONTROL + Keys.ENTER)"
   ]
  },
  {
   "cell_type": "code",
   "execution_count": 23,
   "id": "a13cae4e",
   "metadata": {},
   "outputs": [],
   "source": [
    "for i in range(99,101) :\n",
    "    try :\n",
    "        driver.execute_script(\"window.scrollTo(0, window.scrollY + 9000)\")\n",
    "        time.sleep(1.5)\n",
    "        search = driver.find_element('xpath','//*[@id=\"company-tab-pane\"]/div[2]/ul/li[%i]/div[2]/div/a'%(i))\n",
    "        search.send_keys(Keys.CONTROL + Keys.ENTER)\n",
    "        driver.switch_to.window(driver.window_handles[1])\n",
    "        data = driver.page_source\n",
    "        soup = BeautifulSoup(data)\n",
    "        \".......\"\n",
    "        time.sleep(1.5)\n",
    "        driver.close()\n",
    "        driver.switch_to.window(driver.window_handles[0])\n",
    "    except :\n",
    "        i += 1"
   ]
  },
  {
   "cell_type": "code",
   "execution_count": null,
   "id": "f15df38a",
   "metadata": {},
   "outputs": [],
   "source": [
    "driver.switch_to.window(driver.window_handles[1])"
   ]
  },
  {
   "cell_type": "code",
   "execution_count": null,
   "id": "9a708c9c",
   "metadata": {},
   "outputs": [],
   "source": []
  },
  {
   "cell_type": "code",
   "execution_count": 275,
   "id": "3040041b",
   "metadata": {},
   "outputs": [
    {
     "data": {
      "text/plain": [
       "<selenium.webdriver.common.action_chains.ActionChains at 0x2746cd4fee0>"
      ]
     },
     "execution_count": 275,
     "metadata": {},
     "output_type": "execute_result"
    }
   ],
   "source": [
    "action = ActionChains(driver)\n",
    "action.move_to_element(driver.find_element('xpath','//*[@id=\"company-tab-pane\"]/div[2]/ul/li[2]/div[2]/div/a')).perform();\n",
    "action.context_click().perform()\n",
    "action.send_keys(Keys.DOWN)"
   ]
  },
  {
   "cell_type": "code",
   "execution_count": null,
   "id": "64c813c3",
   "metadata": {},
   "outputs": [],
   "source": [
    "search = driver.find_element('xpath','//*[@id=\"search\"]/div[2]')\n",
    "search.click()"
   ]
  },
  {
   "cell_type": "code",
   "execution_count": null,
   "id": "78e10e50",
   "metadata": {},
   "outputs": [],
   "source": [
    "driver.switch_to.window(driver.window_handles[0])"
   ]
  },
  {
   "cell_type": "code",
   "execution_count": 261,
   "id": "c4dc52f1",
   "metadata": {},
   "outputs": [],
   "source": [
    "data = driver.page_source\n",
    "soup = BeautifulSoup(data)"
   ]
  },
  {
   "cell_type": "code",
   "execution_count": null,
   "id": "c17e6f47",
   "metadata": {},
   "outputs": [],
   "source": [
    "All_Source"
   ]
  },
  {
   "cell_type": "code",
   "execution_count": null,
   "id": "66edbd6f",
   "metadata": {},
   "outputs": [],
   "source": [
    "Company_Contact"
   ]
  },
  {
   "cell_type": "code",
   "execution_count": 262,
   "id": "107ee510",
   "metadata": {},
   "outputs": [],
   "source": [
    "Company_name = []\n",
    "Product = []\n",
    "Brand = []\n",
    "Category = []\n",
    "Booth = []\n",
    "Address = []\n",
    "Contact_Person = []\n",
    "Number = []\n",
    "Fax = []\n",
    "Mail = []"
   ]
  },
  {
   "cell_type": "code",
   "execution_count": 257,
   "id": "be0dec74",
   "metadata": {},
   "outputs": [
    {
     "data": {
      "text/plain": [
       "[]"
      ]
     },
     "execution_count": 257,
     "metadata": {},
     "output_type": "execute_result"
    }
   ],
   "source": [
    "Product1"
   ]
  },
  {
   "cell_type": "code",
   "execution_count": 263,
   "id": "4559d8c0",
   "metadata": {},
   "outputs": [],
   "source": [
    "All_Source = soup.find_all('div',{'class':'row mt-4 px-4 _faircontentblog'})\n",
    "for source in All_Source :\n",
    "    Company_name.append(source.find('div',{'class':'d-grid company-name text-start mb-2'}).text.replace('\\n                                        ','').replace('                                    ',''))\n",
    "    Company_info = soup.find_all('div',{'class':'col-12 col-sm-8 txt-detail mb-2'})\n",
    "    Product.append(Company_info[0].text.replace('\\n                                            ','').replace('                                        ',''))\n",
    "    Brand.append(Company_info[1].text.replace('\\n                                            ','').replace('                                        ',''))\n",
    "    Category.append(Company_info[2].text.replace('\\n                                            ','').replace('                                        ',''))\n",
    "    Booth.append(Company_info[3].text.replace('\\n                                            ','').replace('                                                            \\n','').replace('                                                                     ',''))\n",
    "    Address.append(Company_info[4].text.replace('\\n                                            ','').replace('                                        ',''))\n",
    "    Contact_Person.append(source.find('div',{'class':'col-12 col-sm-8 txt-detail mb-4'}).text.replace('\\n                                        ','').replace('                                    ',''))\n",
    "    Company_Contact = soup.find_all('div',{'class':'col-10'})\n",
    "    Number.append(Company_Contact[0].text.replace('\\n                                              ','').replace('                                            ',''))\n",
    "    Fax.append(Company_Contact[1].text.replace('\\n                                              ','').replace('                                            ',''))\n",
    "    Mail.append(Company_Contact[2].text.replace('\\n                                              ','').replace('                                            ',''))"
   ]
  },
  {
   "cell_type": "code",
   "execution_count": 264,
   "id": "76ffb667",
   "metadata": {},
   "outputs": [
    {
     "data": {
      "text/plain": [
       "['OTHER']"
      ]
     },
     "execution_count": 264,
     "metadata": {},
     "output_type": "execute_result"
    }
   ],
   "source": [
    "Product"
   ]
  },
  {
   "cell_type": "code",
   "execution_count": 265,
   "id": "6b383e53",
   "metadata": {},
   "outputs": [
    {
     "data": {
      "text/plain": [
       "['    Onelink Technology    \\n']"
      ]
     },
     "execution_count": 265,
     "metadata": {},
     "output_type": "execute_result"
    }
   ],
   "source": [
    "Brand"
   ]
  },
  {
   "cell_type": "code",
   "execution_count": 266,
   "id": "55aab6b9",
   "metadata": {},
   "outputs": [
    {
     "data": {
      "text/plain": [
       "['LOGISTICS IT & E-LOGISTICS']"
      ]
     },
     "execution_count": 266,
     "metadata": {},
     "output_type": "execute_result"
    }
   ],
   "source": [
    "Category"
   ]
  },
  {
   "cell_type": "code",
   "execution_count": 267,
   "id": "031dbe6a",
   "metadata": {},
   "outputs": [
    {
     "data": {
      "text/plain": [
       "['\\n']"
      ]
     },
     "execution_count": 267,
     "metadata": {},
     "output_type": "execute_result"
    }
   ],
   "source": [
    "Booth"
   ]
  },
  {
   "cell_type": "code",
   "execution_count": 268,
   "id": "a0708af0",
   "metadata": {},
   "outputs": [
    {
     "data": {
      "text/plain": [
       "['02-106-5300']"
      ]
     },
     "execution_count": 268,
     "metadata": {},
     "output_type": "execute_result"
    }
   ],
   "source": [
    "Number"
   ]
  },
  {
   "cell_type": "code",
   "execution_count": 269,
   "id": "6ad76e94",
   "metadata": {},
   "outputs": [
    {
     "data": {
      "text/plain": [
       "['-']"
      ]
     },
     "execution_count": 269,
     "metadata": {},
     "output_type": "execute_result"
    }
   ],
   "source": [
    "Fax"
   ]
  },
  {
   "cell_type": "code",
   "execution_count": 270,
   "id": "7f57d8e9",
   "metadata": {},
   "outputs": [
    {
     "data": {
      "text/plain": [
       "['cs@onelink.co.th']"
      ]
     },
     "execution_count": 270,
     "metadata": {},
     "output_type": "execute_result"
    }
   ],
   "source": [
    "Mail"
   ]
  },
  {
   "cell_type": "code",
   "execution_count": 271,
   "id": "c3e88b01",
   "metadata": {},
   "outputs": [
    {
     "data": {
      "text/plain": [
       "['    MR. SUTHAT SAENGSAI - MARKETING     ']"
      ]
     },
     "execution_count": 271,
     "metadata": {},
     "output_type": "execute_result"
    }
   ],
   "source": [
    "Contact_Person"
   ]
  },
  {
   "cell_type": "code",
   "execution_count": null,
   "id": "6eff560f",
   "metadata": {},
   "outputs": [],
   "source": []
  },
  {
   "cell_type": "code",
   "execution_count": 81,
   "id": "e694bb87",
   "metadata": {},
   "outputs": [
    {
     "data": {
      "text/plain": [
       "[<div class=\"col-12 col-sm-8 txt-detail mb-2\">\n",
       "                                             BRAKES/CLUTCHES/SUSPENSIONS/SHOCK ABSORBERS/CABLES/TRANSMISSION                                        </div>,\n",
       " <div class=\"col-12 col-sm-8 txt-detail mb-2\">\n",
       "                                                                                                                                 We specialize in the vehicle sensors plug connectors, automobile ECU plugins / connectors, EFI fuel pump connectors, wiring harness processing, EFI fuel pump wiring harness, lights, wiring harness, oxygen sensors. We provide OEM processing, mold design and manufacturing.                                                                                  </div>,\n",
       " <div class=\"col-12 col-sm-8 txt-detail mb-2\">\n",
       "                                             AUTO PARTS &amp; COMPONENTS (OEM/REM)                                        </div>,\n",
       " <div class=\"col-12 col-sm-8 txt-detail mb-2\">\n",
       "                                                                                         EH 104 : S -\n",
       "                                                                                                                                                 18                                                                                                                                            <br/>\n",
       " </div>,\n",
       " <div class=\"col-12 col-sm-8 txt-detail mb-2\">\n",
       "                                             GAOZHONG INDUSTRIAL PARK, NORTH BAIXIANG TOWN, YUEQING, WENZHOU, ZHEJIANG, CHINA     CHINA                                        </div>]"
      ]
     },
     "execution_count": 81,
     "metadata": {},
     "output_type": "execute_result"
    }
   ],
   "source": [
    "Company_info"
   ]
  },
  {
   "cell_type": "code",
   "execution_count": 217,
   "id": "b026c9b2",
   "metadata": {},
   "outputs": [],
   "source": [
    "x = 0"
   ]
  },
  {
   "cell_type": "code",
   "execution_count": 276,
   "id": "ee2c3f0c",
   "metadata": {},
   "outputs": [],
   "source": [
    "driver.switch_to.window(driver.window_handles[0])"
   ]
  },
  {
   "cell_type": "code",
   "execution_count": null,
   "id": "06a3e202",
   "metadata": {},
   "outputs": [],
   "source": [
    "----------------------------------"
   ]
  },
  {
   "cell_type": "code",
   "execution_count": 216,
   "id": "6a9b55bc",
   "metadata": {},
   "outputs": [],
   "source": [
    "n = 10"
   ]
  },
  {
   "cell_type": "code",
   "execution_count": 280,
   "id": "5070449b",
   "metadata": {},
   "outputs": [],
   "source": [
    "Company_name = []\n",
    "Product = []\n",
    "Brand = []\n",
    "Category = []\n",
    "Booth = []\n",
    "Address = []\n",
    "Contact_Person = []\n",
    "Number = []\n",
    "Fax = []\n",
    "Mail = []"
   ]
  },
  {
   "cell_type": "code",
   "execution_count": 281,
   "id": "29c439b6",
   "metadata": {},
   "outputs": [
    {
     "name": "stdout",
     "output_type": "stream",
     "text": [
      "10\n",
      "20\n",
      "20\n",
      "20\n",
      "20\n",
      "20\n",
      "20\n"
     ]
    },
    {
     "ename": "WebDriverException",
     "evalue": "Message: disconnected: not connected to DevTools\n  (failed to check if window was closed: disconnected: not connected to DevTools)\n  (Session info: chrome=120.0.6099.225)\nStacktrace:\n\tGetHandleVerifier [0x00007FF7BD5782B2+55298]\n\t(No symbol) [0x00007FF7BD4E5E02]\n\t(No symbol) [0x00007FF7BD3A05AB]\n\t(No symbol) [0x00007FF7BD38D1AA]\n\t(No symbol) [0x00007FF7BD38D9CE]\n\t(No symbol) [0x00007FF7BD3A0AF8]\n\t(No symbol) [0x00007FF7BD37FB90]\n\t(No symbol) [0x00007FF7BD40D197]\n\t(No symbol) [0x00007FF7BD402070]\n\t(No symbol) [0x00007FF7BD3D670A]\n\t(No symbol) [0x00007FF7BD3D7964]\n\tGetHandleVerifier [0x00007FF7BD8F0AAB+3694587]\n\tGetHandleVerifier [0x00007FF7BD94728E+4048862]\n\tGetHandleVerifier [0x00007FF7BD93F173+4015811]\n\tGetHandleVerifier [0x00007FF7BD6147D6+695590]\n\t(No symbol) [0x00007FF7BD4F0CE8]\n\t(No symbol) [0x00007FF7BD4ECF34]\n\t(No symbol) [0x00007FF7BD4ED062]\n\t(No symbol) [0x00007FF7BD4DD3A3]\n\tBaseThreadInitThunk [0x00007FFEC500257D+29]\n\tRtlUserThreadStart [0x00007FFEC6C4AA58+40]\n",
     "output_type": "error",
     "traceback": [
      "\u001b[1;31m---------------------------------------------------------------------------\u001b[0m",
      "\u001b[1;31mNoSuchWindowException\u001b[0m                     Traceback (most recent call last)",
      "\u001b[1;32m<ipython-input-281-22b72042f8d7>\u001b[0m in \u001b[0;36m<module>\u001b[1;34m\u001b[0m\n\u001b[0;32m     22\u001b[0m                 \u001b[0mtime\u001b[0m\u001b[1;33m.\u001b[0m\u001b[0msleep\u001b[0m\u001b[1;33m(\u001b[0m\u001b[1;36m1.5\u001b[0m\u001b[1;33m)\u001b[0m\u001b[1;33m\u001b[0m\u001b[1;33m\u001b[0m\u001b[0m\n\u001b[1;32m---> 23\u001b[1;33m                 \u001b[0msearch\u001b[0m \u001b[1;33m=\u001b[0m \u001b[0mdriver\u001b[0m\u001b[1;33m.\u001b[0m\u001b[0mfind_element\u001b[0m\u001b[1;33m(\u001b[0m\u001b[1;34m'xpath'\u001b[0m\u001b[1;33m,\u001b[0m\u001b[1;34m'//*[@id=\"company-tab-pane\"]/div[2]/ul/li[%i]/div[2]/div/a'\u001b[0m\u001b[1;33m%\u001b[0m\u001b[1;33m(\u001b[0m\u001b[0mi\u001b[0m\u001b[1;33m)\u001b[0m\u001b[1;33m)\u001b[0m\u001b[1;33m\u001b[0m\u001b[1;33m\u001b[0m\u001b[0m\n\u001b[0m\u001b[0;32m     24\u001b[0m                 \u001b[0msearch\u001b[0m\u001b[1;33m.\u001b[0m\u001b[0msend_keys\u001b[0m\u001b[1;33m(\u001b[0m\u001b[0mKeys\u001b[0m\u001b[1;33m.\u001b[0m\u001b[0mCONTROL\u001b[0m \u001b[1;33m+\u001b[0m \u001b[0mKeys\u001b[0m\u001b[1;33m.\u001b[0m\u001b[0mENTER\u001b[0m\u001b[1;33m)\u001b[0m\u001b[1;33m\u001b[0m\u001b[1;33m\u001b[0m\u001b[0m\n",
      "\u001b[1;32mD:\\anaconda3\\lib\\site-packages\\selenium\\webdriver\\remote\\webdriver.py\u001b[0m in \u001b[0;36mfind_element\u001b[1;34m(self, by, value)\u001b[0m\n\u001b[0;32m    739\u001b[0m \u001b[1;33m\u001b[0m\u001b[0m\n\u001b[1;32m--> 740\u001b[1;33m         \u001b[1;32mreturn\u001b[0m \u001b[0mself\u001b[0m\u001b[1;33m.\u001b[0m\u001b[0mexecute\u001b[0m\u001b[1;33m(\u001b[0m\u001b[0mCommand\u001b[0m\u001b[1;33m.\u001b[0m\u001b[0mFIND_ELEMENT\u001b[0m\u001b[1;33m,\u001b[0m \u001b[1;33m{\u001b[0m\u001b[1;34m\"using\"\u001b[0m\u001b[1;33m:\u001b[0m \u001b[0mby\u001b[0m\u001b[1;33m,\u001b[0m \u001b[1;34m\"value\"\u001b[0m\u001b[1;33m:\u001b[0m \u001b[0mvalue\u001b[0m\u001b[1;33m}\u001b[0m\u001b[1;33m)\u001b[0m\u001b[1;33m[\u001b[0m\u001b[1;34m\"value\"\u001b[0m\u001b[1;33m]\u001b[0m\u001b[1;33m\u001b[0m\u001b[1;33m\u001b[0m\u001b[0m\n\u001b[0m\u001b[0;32m    741\u001b[0m \u001b[1;33m\u001b[0m\u001b[0m\n",
      "\u001b[1;32mD:\\anaconda3\\lib\\site-packages\\selenium\\webdriver\\remote\\webdriver.py\u001b[0m in \u001b[0;36mexecute\u001b[1;34m(self, driver_command, params)\u001b[0m\n\u001b[0;32m    345\u001b[0m         \u001b[1;32mif\u001b[0m \u001b[0mresponse\u001b[0m\u001b[1;33m:\u001b[0m\u001b[1;33m\u001b[0m\u001b[1;33m\u001b[0m\u001b[0m\n\u001b[1;32m--> 346\u001b[1;33m             \u001b[0mself\u001b[0m\u001b[1;33m.\u001b[0m\u001b[0merror_handler\u001b[0m\u001b[1;33m.\u001b[0m\u001b[0mcheck_response\u001b[0m\u001b[1;33m(\u001b[0m\u001b[0mresponse\u001b[0m\u001b[1;33m)\u001b[0m\u001b[1;33m\u001b[0m\u001b[1;33m\u001b[0m\u001b[0m\n\u001b[0m\u001b[0;32m    347\u001b[0m             \u001b[0mresponse\u001b[0m\u001b[1;33m[\u001b[0m\u001b[1;34m\"value\"\u001b[0m\u001b[1;33m]\u001b[0m \u001b[1;33m=\u001b[0m \u001b[0mself\u001b[0m\u001b[1;33m.\u001b[0m\u001b[0m_unwrap_value\u001b[0m\u001b[1;33m(\u001b[0m\u001b[0mresponse\u001b[0m\u001b[1;33m.\u001b[0m\u001b[0mget\u001b[0m\u001b[1;33m(\u001b[0m\u001b[1;34m\"value\"\u001b[0m\u001b[1;33m,\u001b[0m \u001b[1;32mNone\u001b[0m\u001b[1;33m)\u001b[0m\u001b[1;33m)\u001b[0m\u001b[1;33m\u001b[0m\u001b[1;33m\u001b[0m\u001b[0m\n",
      "\u001b[1;32mD:\\anaconda3\\lib\\site-packages\\selenium\\webdriver\\remote\\errorhandler.py\u001b[0m in \u001b[0;36mcheck_response\u001b[1;34m(self, response)\u001b[0m\n\u001b[0;32m    244\u001b[0m             \u001b[1;32mraise\u001b[0m \u001b[0mexception_class\u001b[0m\u001b[1;33m(\u001b[0m\u001b[0mmessage\u001b[0m\u001b[1;33m,\u001b[0m \u001b[0mscreen\u001b[0m\u001b[1;33m,\u001b[0m \u001b[0mstacktrace\u001b[0m\u001b[1;33m,\u001b[0m \u001b[0malert_text\u001b[0m\u001b[1;33m)\u001b[0m  \u001b[1;31m# type: ignore[call-arg]  # mypy is not smart enough here\u001b[0m\u001b[1;33m\u001b[0m\u001b[1;33m\u001b[0m\u001b[0m\n\u001b[1;32m--> 245\u001b[1;33m         \u001b[1;32mraise\u001b[0m \u001b[0mexception_class\u001b[0m\u001b[1;33m(\u001b[0m\u001b[0mmessage\u001b[0m\u001b[1;33m,\u001b[0m \u001b[0mscreen\u001b[0m\u001b[1;33m,\u001b[0m \u001b[0mstacktrace\u001b[0m\u001b[1;33m)\u001b[0m\u001b[1;33m\u001b[0m\u001b[1;33m\u001b[0m\u001b[0m\n\u001b[0m",
      "\u001b[1;31mNoSuchWindowException\u001b[0m: Message: no such window: target window already closed\nfrom unknown error: web view not found\n  (Session info: chrome=120.0.6099.225)\nStacktrace:\n\tGetHandleVerifier [0x00007FF7BD5782B2+55298]\n\t(No symbol) [0x00007FF7BD4E5E02]\n\t(No symbol) [0x00007FF7BD3A05AB]\n\t(No symbol) [0x00007FF7BD380038]\n\t(No symbol) [0x00007FF7BD406BC7]\n\t(No symbol) [0x00007FF7BD41A15F]\n\t(No symbol) [0x00007FF7BD401E83]\n\t(No symbol) [0x00007FF7BD3D670A]\n\t(No symbol) [0x00007FF7BD3D7964]\n\tGetHandleVerifier [0x00007FF7BD8F0AAB+3694587]\n\tGetHandleVerifier [0x00007FF7BD94728E+4048862]\n\tGetHandleVerifier [0x00007FF7BD93F173+4015811]\n\tGetHandleVerifier [0x00007FF7BD6147D6+695590]\n\t(No symbol) [0x00007FF7BD4F0CE8]\n\t(No symbol) [0x00007FF7BD4ECF34]\n\t(No symbol) [0x00007FF7BD4ED062]\n\t(No symbol) [0x00007FF7BD4DD3A3]\n\tBaseThreadInitThunk [0x00007FFEC500257D+29]\n\tRtlUserThreadStart [0x00007FFEC6C4AA58+40]\n",
      "\nDuring handling of the above exception, another exception occurred:\n",
      "\u001b[1;31mWebDriverException\u001b[0m                        Traceback (most recent call last)",
      "\u001b[1;32m<ipython-input-281-22b72042f8d7>\u001b[0m in \u001b[0;36m<module>\u001b[1;34m\u001b[0m\n\u001b[0;32m     47\u001b[0m                 \u001b[0mdriver\u001b[0m\u001b[1;33m.\u001b[0m\u001b[0mswitch_to\u001b[0m\u001b[1;33m.\u001b[0m\u001b[0mwindow\u001b[0m\u001b[1;33m(\u001b[0m\u001b[0mdriver\u001b[0m\u001b[1;33m.\u001b[0m\u001b[0mwindow_handles\u001b[0m\u001b[1;33m[\u001b[0m\u001b[1;36m0\u001b[0m\u001b[1;33m]\u001b[0m\u001b[1;33m)\u001b[0m\u001b[1;33m\u001b[0m\u001b[1;33m\u001b[0m\u001b[0m\n\u001b[0;32m     48\u001b[0m             \u001b[1;32mexcept\u001b[0m \u001b[1;33m:\u001b[0m\u001b[1;33m\u001b[0m\u001b[1;33m\u001b[0m\u001b[0m\n\u001b[1;32m---> 49\u001b[1;33m                 \u001b[0mdriver\u001b[0m\u001b[1;33m.\u001b[0m\u001b[0mswitch_to\u001b[0m\u001b[1;33m.\u001b[0m\u001b[0mwindow\u001b[0m\u001b[1;33m(\u001b[0m\u001b[0mdriver\u001b[0m\u001b[1;33m.\u001b[0m\u001b[0mwindow_handles\u001b[0m\u001b[1;33m[\u001b[0m\u001b[1;36m0\u001b[0m\u001b[1;33m]\u001b[0m\u001b[1;33m)\u001b[0m\u001b[1;33m\u001b[0m\u001b[1;33m\u001b[0m\u001b[0m\n\u001b[0m\u001b[0;32m     50\u001b[0m                 \u001b[0mi\u001b[0m \u001b[1;33m+=\u001b[0m \u001b[1;36m1\u001b[0m\u001b[1;33m\u001b[0m\u001b[1;33m\u001b[0m\u001b[0m\n\u001b[0;32m     51\u001b[0m         \u001b[1;32mtry\u001b[0m \u001b[1;33m:\u001b[0m\u001b[1;33m\u001b[0m\u001b[1;33m\u001b[0m\u001b[0m\n",
      "\u001b[1;32mD:\\anaconda3\\lib\\site-packages\\selenium\\webdriver\\remote\\webdriver.py\u001b[0m in \u001b[0;36mwindow_handles\u001b[1;34m(self)\u001b[0m\n\u001b[0;32m    491\u001b[0m                 \u001b[0mdriver\u001b[0m\u001b[1;33m.\u001b[0m\u001b[0mwindow_handles\u001b[0m\u001b[1;33m\u001b[0m\u001b[1;33m\u001b[0m\u001b[0m\n\u001b[0;32m    492\u001b[0m         \"\"\"\n\u001b[1;32m--> 493\u001b[1;33m         \u001b[1;32mreturn\u001b[0m \u001b[0mself\u001b[0m\u001b[1;33m.\u001b[0m\u001b[0mexecute\u001b[0m\u001b[1;33m(\u001b[0m\u001b[0mCommand\u001b[0m\u001b[1;33m.\u001b[0m\u001b[0mW3C_GET_WINDOW_HANDLES\u001b[0m\u001b[1;33m)\u001b[0m\u001b[1;33m[\u001b[0m\u001b[1;34m\"value\"\u001b[0m\u001b[1;33m]\u001b[0m\u001b[1;33m\u001b[0m\u001b[1;33m\u001b[0m\u001b[0m\n\u001b[0m\u001b[0;32m    494\u001b[0m \u001b[1;33m\u001b[0m\u001b[0m\n\u001b[0;32m    495\u001b[0m     \u001b[1;32mdef\u001b[0m \u001b[0mmaximize_window\u001b[0m\u001b[1;33m(\u001b[0m\u001b[0mself\u001b[0m\u001b[1;33m)\u001b[0m \u001b[1;33m->\u001b[0m \u001b[1;32mNone\u001b[0m\u001b[1;33m:\u001b[0m\u001b[1;33m\u001b[0m\u001b[1;33m\u001b[0m\u001b[0m\n",
      "\u001b[1;32mD:\\anaconda3\\lib\\site-packages\\selenium\\webdriver\\remote\\webdriver.py\u001b[0m in \u001b[0;36mexecute\u001b[1;34m(self, driver_command, params)\u001b[0m\n\u001b[0;32m    344\u001b[0m         \u001b[0mresponse\u001b[0m \u001b[1;33m=\u001b[0m \u001b[0mself\u001b[0m\u001b[1;33m.\u001b[0m\u001b[0mcommand_executor\u001b[0m\u001b[1;33m.\u001b[0m\u001b[0mexecute\u001b[0m\u001b[1;33m(\u001b[0m\u001b[0mdriver_command\u001b[0m\u001b[1;33m,\u001b[0m \u001b[0mparams\u001b[0m\u001b[1;33m)\u001b[0m\u001b[1;33m\u001b[0m\u001b[1;33m\u001b[0m\u001b[0m\n\u001b[0;32m    345\u001b[0m         \u001b[1;32mif\u001b[0m \u001b[0mresponse\u001b[0m\u001b[1;33m:\u001b[0m\u001b[1;33m\u001b[0m\u001b[1;33m\u001b[0m\u001b[0m\n\u001b[1;32m--> 346\u001b[1;33m             \u001b[0mself\u001b[0m\u001b[1;33m.\u001b[0m\u001b[0merror_handler\u001b[0m\u001b[1;33m.\u001b[0m\u001b[0mcheck_response\u001b[0m\u001b[1;33m(\u001b[0m\u001b[0mresponse\u001b[0m\u001b[1;33m)\u001b[0m\u001b[1;33m\u001b[0m\u001b[1;33m\u001b[0m\u001b[0m\n\u001b[0m\u001b[0;32m    347\u001b[0m             \u001b[0mresponse\u001b[0m\u001b[1;33m[\u001b[0m\u001b[1;34m\"value\"\u001b[0m\u001b[1;33m]\u001b[0m \u001b[1;33m=\u001b[0m \u001b[0mself\u001b[0m\u001b[1;33m.\u001b[0m\u001b[0m_unwrap_value\u001b[0m\u001b[1;33m(\u001b[0m\u001b[0mresponse\u001b[0m\u001b[1;33m.\u001b[0m\u001b[0mget\u001b[0m\u001b[1;33m(\u001b[0m\u001b[1;34m\"value\"\u001b[0m\u001b[1;33m,\u001b[0m \u001b[1;32mNone\u001b[0m\u001b[1;33m)\u001b[0m\u001b[1;33m)\u001b[0m\u001b[1;33m\u001b[0m\u001b[1;33m\u001b[0m\u001b[0m\n\u001b[0;32m    348\u001b[0m             \u001b[1;32mreturn\u001b[0m \u001b[0mresponse\u001b[0m\u001b[1;33m\u001b[0m\u001b[1;33m\u001b[0m\u001b[0m\n",
      "\u001b[1;32mD:\\anaconda3\\lib\\site-packages\\selenium\\webdriver\\remote\\errorhandler.py\u001b[0m in \u001b[0;36mcheck_response\u001b[1;34m(self, response)\u001b[0m\n\u001b[0;32m    243\u001b[0m                 \u001b[0malert_text\u001b[0m \u001b[1;33m=\u001b[0m \u001b[0mvalue\u001b[0m\u001b[1;33m[\u001b[0m\u001b[1;34m\"alert\"\u001b[0m\u001b[1;33m]\u001b[0m\u001b[1;33m.\u001b[0m\u001b[0mget\u001b[0m\u001b[1;33m(\u001b[0m\u001b[1;34m\"text\"\u001b[0m\u001b[1;33m)\u001b[0m\u001b[1;33m\u001b[0m\u001b[1;33m\u001b[0m\u001b[0m\n\u001b[0;32m    244\u001b[0m             \u001b[1;32mraise\u001b[0m \u001b[0mexception_class\u001b[0m\u001b[1;33m(\u001b[0m\u001b[0mmessage\u001b[0m\u001b[1;33m,\u001b[0m \u001b[0mscreen\u001b[0m\u001b[1;33m,\u001b[0m \u001b[0mstacktrace\u001b[0m\u001b[1;33m,\u001b[0m \u001b[0malert_text\u001b[0m\u001b[1;33m)\u001b[0m  \u001b[1;31m# type: ignore[call-arg]  # mypy is not smart enough here\u001b[0m\u001b[1;33m\u001b[0m\u001b[1;33m\u001b[0m\u001b[0m\n\u001b[1;32m--> 245\u001b[1;33m         \u001b[1;32mraise\u001b[0m \u001b[0mexception_class\u001b[0m\u001b[1;33m(\u001b[0m\u001b[0mmessage\u001b[0m\u001b[1;33m,\u001b[0m \u001b[0mscreen\u001b[0m\u001b[1;33m,\u001b[0m \u001b[0mstacktrace\u001b[0m\u001b[1;33m)\u001b[0m\u001b[1;33m\u001b[0m\u001b[1;33m\u001b[0m\u001b[0m\n\u001b[0m",
      "\u001b[1;31mWebDriverException\u001b[0m: Message: disconnected: not connected to DevTools\n  (failed to check if window was closed: disconnected: not connected to DevTools)\n  (Session info: chrome=120.0.6099.225)\nStacktrace:\n\tGetHandleVerifier [0x00007FF7BD5782B2+55298]\n\t(No symbol) [0x00007FF7BD4E5E02]\n\t(No symbol) [0x00007FF7BD3A05AB]\n\t(No symbol) [0x00007FF7BD38D1AA]\n\t(No symbol) [0x00007FF7BD38D9CE]\n\t(No symbol) [0x00007FF7BD3A0AF8]\n\t(No symbol) [0x00007FF7BD37FB90]\n\t(No symbol) [0x00007FF7BD40D197]\n\t(No symbol) [0x00007FF7BD402070]\n\t(No symbol) [0x00007FF7BD3D670A]\n\t(No symbol) [0x00007FF7BD3D7964]\n\tGetHandleVerifier [0x00007FF7BD8F0AAB+3694587]\n\tGetHandleVerifier [0x00007FF7BD94728E+4048862]\n\tGetHandleVerifier [0x00007FF7BD93F173+4015811]\n\tGetHandleVerifier [0x00007FF7BD6147D6+695590]\n\t(No symbol) [0x00007FF7BD4F0CE8]\n\t(No symbol) [0x00007FF7BD4ECF34]\n\t(No symbol) [0x00007FF7BD4ED062]\n\t(No symbol) [0x00007FF7BD4DD3A3]\n\tBaseThreadInitThunk [0x00007FFEC500257D+29]\n\tRtlUserThreadStart [0x00007FFEC6C4AA58+40]\n"
     ]
    }
   ],
   "source": [
    "for i in range(2,8) :\n",
    "    try :\n",
    "        search = driver.find_element('xpath','//*[@id=\"full-scrn_edit\"]/div/div/div/div/a/img')\n",
    "        search.click()\n",
    "    except :\n",
    "        pass\n",
    "    n = 10\n",
    "    x = 0\n",
    "    driver.execute_script(\"window.scrollTo(0, -100);\")\n",
    "    time.sleep(1.5)\n",
    "    search = driver.find_element('xpath','//*[@id=\"search\"]/div[2]')\n",
    "    search.click()\n",
    "    search = driver.find_element('xpath','//*[@id=\"search\"]/div[2]/ul/li[%i]/a'%(i))\n",
    "    search.click()\n",
    "    search = driver.find_element('xpath','//*[@id=\"search\"]/button')\n",
    "    search.click()\n",
    "    time.sleep(0.5)\n",
    "    for i in range(20) :\n",
    "        for i in range(1,101) :\n",
    "            try :\n",
    "                driver.execute_script(\"window.scrollTo(0, window.scrollY + 55)\")\n",
    "                time.sleep(1.5)\n",
    "                search = driver.find_element('xpath','//*[@id=\"company-tab-pane\"]/div[2]/ul/li[%i]/div[2]/div/a'%(i))\n",
    "                search.send_keys(Keys.CONTROL + Keys.ENTER)\n",
    "                driver.switch_to.window(driver.window_handles[1])\n",
    "                data = driver.page_source\n",
    "                soup = BeautifulSoup(data)\n",
    "                \".......\"\n",
    "                All_Source = soup.find_all('div',{'class':'row mt-4 px-4 _faircontentblog'})\n",
    "                for source in All_Source :\n",
    "                    Company_name.append(source.find('div',{'class':'d-grid company-name text-start mb-2'}).text.replace('\\n                                        ','').replace('                                    ',''))\n",
    "                    Company_info = soup.find_all('div',{'class':'col-12 col-sm-8 txt-detail mb-2'})\n",
    "                    Product.append(Company_info[0].text.replace('\\n                                            ','').replace('                                        ',''))\n",
    "                    Brand.append(Company_info[1].text.replace('\\n                                            ','').replace('                                        ',''))\n",
    "                    Category.append(Company_info[2].text.replace('\\n                                            ','').replace('                                        ',''))\n",
    "                    Booth.append(Company_info[3].text.replace('\\n                                            ','').replace('                                                            \\n','').replace('                                                                     ',''))\n",
    "                    Address.append(Company_info[4].text.replace('\\n                                            ','').replace('                                        ',''))\n",
    "                    Contact_Person.append(source.find('div',{'class':'col-12 col-sm-8 txt-detail mb-4'}).text.replace('\\n                                        ','').replace('                                    ',''))\n",
    "                    Company_Contact = soup.find_all('div',{'class':'col-10'})\n",
    "                    Number.append(Company_Contact[0].text.replace('\\n                                              ','').replace('                                            ',''))\n",
    "                    Fax.append(Company_Contact[1].text.replace('\\n                                              ','').replace('                                            ',''))\n",
    "                    Mail.append(Company_Contact[2].text.replace('\\n                                              ','').replace('                                            ',''))\n",
    "                \".......\"\n",
    "                time.sleep(1.5)\n",
    "                driver.close()\n",
    "                time.sleep(0.5)\n",
    "                driver.switch_to.window(driver.window_handles[0])\n",
    "            except :\n",
    "                driver.switch_to.window(driver.window_handles[0])\n",
    "                i += 1\n",
    "        try :\n",
    "            if n == 10 :\n",
    "                driver.execute_script(\"window.scrollTo(0, -100);\")\n",
    "                time.sleep(1.5)\n",
    "                search = driver.find_element('xpath','//*[@id=\"company-tab-pane\"]/div[1]/div[2]/a')\n",
    "                search.click()\n",
    "                n += 10\n",
    "                x += 1\n",
    "            else :\n",
    "                driver.execute_script(\"window.scrollTo(0, -100);\")\n",
    "                time.sleep(1.5)\n",
    "                search = driver.find_element('xpath','//*[@id=\"company-tab-pane\"]/div[1]/div[2]/a[2]')\n",
    "                search.click()\n",
    "                x += 1\n",
    "        except :\n",
    "            pass"
   ]
  },
  {
   "cell_type": "code",
   "execution_count": 283,
   "id": "ece1abf6",
   "metadata": {},
   "outputs": [
    {
     "data": {
      "text/plain": [
       "['YINGDE AOKLY POWER CO.,LTD',\n",
       " ' SHANDONG BEITAIHE POTTERY CO.,LTD.',\n",
       " '-',\n",
       " '103PAPERONI CO., LTD.',\n",
       " '110 PRECIOUS CO.,LTD.',\n",
       " '3 J JEWELRY CO., LTD.',\n",
       " '348 DECOR  COMPANY LIMITED',\n",
       " '3D BEST CONNECT CO., LTD.',\n",
       " 'A AND D PACKAGE CARD  COMPANY LIMITED',\n",
       " 'A B IMPEX COMPANY LIMITED',\n",
       " 'A GIFT FROM NATURE CO.,LTD.',\n",
       " 'A M A DESIGN INTERNATIONAL  COMPANY LIMITED',\n",
       " 'A.K. GEMS CENTER CO., LTD.',\n",
       " 'A.M. EXPORTS COMPANY LIMITED',\n",
       " 'A.M.O INTERGROUP CO., LTD.',\n",
       " 'A.R.A.S. CREATION CO.,LTD.',\n",
       " 'A.S. GEMS & JEWELRY (THAILAND) CO., LTD.',\n",
       " 'A.S.GEMS (1996) CO.,LTD',\n",
       " 'A.V.S EXPORTS CO., LTD.',\n",
       " 'A2Z COLOUR GEMS LIMITED PARTNERSHIP',\n",
       " 'AAFREEN GEMS COMPANY LIMITED',\n",
       " 'AAHANA GEMS COMPANY LIMITED',\n",
       " 'AAMAN GEMS & JEWELRY CO., LTD.',\n",
       " 'AARIB GEMS CO., LTD',\n",
       " 'AB DESIGN CO., LTD. ',\n",
       " 'ABC STONE COMPANY LIMITED',\n",
       " 'ABLE INTERIOR WORKSHOP  COMPANY LIMITED',\n",
       " 'ACE DIAM CO LTD',\n",
       " 'ACME 1975 COMPANY LIMITED',\n",
       " 'ACZET (THAILAND) COMPANY LIMITED',\n",
       " 'AD-PROTECH CO.,LTD',\n",
       " 'ADHAM GEMS COMPANY LIMITED',\n",
       " 'ADITYA GEMS (THAI)  CO., LTD.',\n",
       " 'ADITYA INTERNATIONAL CO., LTD.',\n",
       " 'ADJ(THAI) COMPANY LIMITED',\n",
       " 'ADVANCE MANUFACTURER CO., LTD.',\n",
       " 'AFRAGEMS CO.,LTD',\n",
       " 'AG. STAR CO.,LTD',\n",
       " 'AGA LABORATORY CO., LTD.',\n",
       " 'AIBELLE',\n",
       " 'AJMAL GEMS IMPEX CO.,LTD',\n",
       " 'AKAR GEMS (THAI) CO.,LTD.',\n",
       " 'AKM GEMS (THAI) CO., LTD',\n",
       " 'AKNAS GENUINE WATCH BANDSAND TRADING CO.,LTD.',\n",
       " 'AKNTAL COMPANY LIMITED',\n",
       " 'AL BAITUL MAMUR COMPANY LIMITED',\n",
       " 'AL HARAM GEMS CO.,LTD.',\n",
       " 'AL-HABIB GEMS CO.,LTD.',\n",
       " 'ALAHMAR COMPANY LIMITED',\n",
       " 'ALEX GONCHAROFF CO.,LTD',\n",
       " 'ALI AHMED GEMS CO.,LTD',\n",
       " 'ALI GEM HOUSE CO., LTD.',\n",
       " 'ALL EXCLUSIVE CO.,LTD',\n",
       " 'ALL GEMS JEWELRY COMPANY LIMITED',\n",
       " 'ALMOND (THAILAND) LTD.',\n",
       " 'ALMORA GEMS & JEWELRY CO LTD',\n",
       " 'AMAN GEMS CO.,LTD',\n",
       " 'AMARA GEMS & JEWELRY CO.,LTD',\n",
       " 'AMAZING COLOUR STONES CO.,LTD.',\n",
       " 'AMBITION COLOURS GEMS COMPANY LIMITED',\n",
       " 'AMG CO.,LTD',\n",
       " 'AMORN GEMS INTERNATIONAL COMPANY LIMITED',\n",
       " 'AMS JEWELS CO.,LTD.',\n",
       " 'ANAMIKA (THAI) GEMS CO., LTD.',\n",
       " 'ANAN ANJAMANI CO., LTD.',\n",
       " 'ANBU GEMS CO., LTD.',\n",
       " 'ANGLO EAST SURETY  (THAILAND) CO., LTD.',\n",
       " 'ANILA GEM INTERNATIONAL CO.,LTD.',\n",
       " 'ANJU DIAM CO LTD.',\n",
       " 'ANJU ENTERPRISE CO., LTD',\n",
       " 'ANO GEMS COMPANY LIMITED',\n",
       " 'ANSABRO GEM CO., LTD.',\n",
       " 'ANSARI GEM STONE CO., LTD',\n",
       " 'ANSHI SILVER JEWELRY CO., LTD.',\n",
       " 'ANTALAHA AND SYLLA GEMS',\n",
       " 'ANTIKA CO.,LTD',\n",
       " 'ANUDESYA GEMS CO.LTD',\n",
       " 'AQUAMARINE TRADERS CO,.LTD.',\n",
       " 'ARHAM(THAI) CO.,LTD',\n",
       " 'ARIHANT INTERNATIONAL CO.;LTD',\n",
       " 'ARJAV EXPORT CO.,LTD.',\n",
       " 'ART OF POSSIBILITY CO., LTD.',\n",
       " 'ARTYFACT COMPANY LIMITED',\n",
       " 'ARYA CREATION CO.,LTD.',\n",
       " 'ASEERA TRADING CO.,LTD.',\n",
       " 'ASHA CREATIONS COMPANY LIMITED',\n",
       " 'ASIA COLLECTION COMPANY LIMITED',\n",
       " 'ASIA PACKAGING GROUP CO., LTD.',\n",
       " 'ASIA PRECIOUS GEMS CO., LTD.',\n",
       " 'ASIAN DESIGN HOUSE COMPANY LIMITED',\n",
       " 'ASRA GEM COMPANY LIMITED',\n",
       " 'ASTER GEMS COMPANY LIMITED',\n",
       " 'ATELIER PICHITA',\n",
       " 'ATIYA GEMS CO.,LTD.',\n",
       " 'ATLANTIS GEMS CO., LTD.',\n",
       " 'ATR2005',\n",
       " 'AUE GEMS CO.,LTD.',\n",
       " 'AURA CREATION',\n",
       " 'AUSIRIS CO.,LTD',\n",
       " 'AVNWS (THAILAND) CO.,LTD.',\n",
       " 'AWARD GEMS CO., LTD.',\n",
       " 'AXIS SOLUTION  CO., LTD.',\n",
       " 'AYODAYATRADE (93) COMPANY LIMITED',\n",
       " 'AYUB BROTHER CO.,LTD.',\n",
       " 'AZAD GEMS CO.,LTD',\n",
       " 'AZIZ AHMED GEMS (THAI) COMPANY LIMITED',\n",
       " 'AZZA GEMS CO., LTD.',\n",
       " 'B V STAR CO.,LTD',\n",
       " 'B.C.INTERHOLDING COMPANY LIMITED',\n",
       " 'B.G.I. THAI GEMS CO., LTD',\n",
       " 'B.H.C. DIAMONDS (THAI) CO.,LTD.',\n",
       " 'B.H.GROUP GEMS COMPANY LIMITED',\n",
       " 'B.M.G. CORPORATION CO., LTD.',\n",
       " 'B.M.GEMS CO.,LTD',\n",
       " 'B.V.DIAMONDS INTER CO.LTD',\n",
       " 'B.V.N. SILVER CHAIN CO., LTD.',\n",
       " 'BAAN ANYAMANEE CO., LTD.',\n",
       " 'BAAN PLOY DIFFUSION SAPPHIRE COMPANY LIMITED',\n",
       " 'BALAJI GEMS CO. LTD.',\n",
       " 'BALAJI GEMS INTERNATIONAL  COMPANY LIMITED',\n",
       " 'BANGKOK CHAREONMIT (1972) CO., LTD.',\n",
       " 'BANGKOK MELAMINE MARKETING & HOLDING CO., LTD.',\n",
       " 'BANGKOK MODERN GLASS WARE CO., LTD.',\n",
       " 'BANGKOK PLOI THAI CO.,LTD.',\n",
       " 'BANGKOK SUANPHLU CO.,LTD.',\n",
       " 'BANNA JEWELRY SUPPLY CO., LTD.',\n",
       " 'BATHROOM DESIGN I-SPA COMPANY LIMITED',\n",
       " 'BAZHOU XINJU FURNITURE CO., LTD.',\n",
       " 'BB GEMS CO., LTD.',\n",
       " 'BCL 2002 COMPANY LIMITED',\n",
       " 'BEAUTIFUL COLOR STONE CO.,LTD',\n",
       " 'BEAUTY GEMS FACTORY CO., LTD. (HEAD OFFICE)',\n",
       " 'BEE BIJOUX (1983) COMPANY LIMITED',\n",
       " 'BELLE BAGUE CO.,LTD.',\n",
       " 'BEN LUCKY DIAMONDS CO., LTD',\n",
       " 'BENSON JEWELRY CO.,LTD.',\n",
       " 'BERMARK DESIGN LTD.',\n",
       " 'BERNICE JEWELRY COMPANY LIMITED',\n",
       " 'BEST&BLUE GEMS CO.,LTD',\n",
       " 'BETTER ARTS  GROUP  COMPANY LIMITED',\n",
       " 'BHUWAL DIAMOND CO.,LTD',\n",
       " 'BIG SILVER MANUFACTURING CO., LTD.',\n",
       " 'BLUE CUTS CO.,LTD.',\n",
       " 'BLUE GEMS CO.,LTD.',\n",
       " 'BLUE LIGHT INDUSTRIAL CO., LTD.',\n",
       " 'BLUE STAR GEMS (THAILAND) COMPANY LIMITED',\n",
       " 'BLUERIVER 1977 COMPANY LIMITED',\n",
       " 'BLUERIVERGARMENT LIMITED PARTNERSHIP ',\n",
       " 'BM LAB JEWELLERY',\n",
       " 'BNG CORPORATION CO.,LTD.',\n",
       " 'BOON CHU CHAROENKIT LTD.,PART.',\n",
       " 'BOWINS SILVER CO,.LTD.',\n",
       " 'BRIC JEWELS  COMPANY LIMITED',\n",
       " 'BRIGHT EMRUSA CO.,LTD',\n",
       " 'BRIGHT FUTURE GEMS CO.,LTD.',\n",
       " 'BRIGHT GREEN STONES CO., LTD.',\n",
       " 'BRIGHT STAR DIAMOND CO., LTD.',\n",
       " \"BRINK'S SECURITY (THAILAND) CO., LTD.\",\n",
       " 'BROWN DIAM  COMPANY LIMITED',\n",
       " 'BSP INDUSTRIAL CO.,LTD.',\n",
       " 'BUAKAW GALLERY CO., LTD.',\n",
       " 'BVK GEMS & JEWELRY COMPANY LIMITED',\n",
       " 'C.A.CREATION CO.,LTD.',\n",
       " 'C.C. & S.S. GEMS LTD., PART.',\n",
       " 'C.C.S.FACTORY COMPANY LIMITED',\n",
       " 'C.I.ENTERPRISE (THAILAND) COMPANY LIMITED',\n",
       " 'C.N.G. INTERNATIONAL CO.,LTD',\n",
       " 'C.N.GOLD & JEWELRY CO.,LTD.',\n",
       " 'C.P.L.GROUP PUBLIC COMPANY LIMITED',\n",
       " 'CAD CAST CO.,LTD. ',\n",
       " 'CALICO MA STUDIO CO., LTD.',\n",
       " 'CAMP ADAPTIVE CO.LTD.',\n",
       " 'CANDIDUS SILVER COMPANY LIMITED.',\n",
       " 'CARAT UNIVERSE',\n",
       " 'CARATS & GRAMS CO.,LTD.',\n",
       " 'CARLO VOLPI JEWEL CO., LTD.',\n",
       " 'CASO LIMITED PARTNERSHIP ',\n",
       " 'CEYLON GEMS COMPANY LIMITED',\n",
       " 'CHAITALI GEMS CO.,LTD',\n",
       " 'CHAIWAT GEMS CO.,LTD.',\n",
       " 'CHAIYAPHUM OTOP INTERTRADER COMPANY LIMITED',\n",
       " 'CHAKSARN DESIGN COMPANY LIMITED',\n",
       " 'CHALERMPHOL COMPANY LIMITED',\n",
       " 'CHALERMPHOL QUALITY TRADING COMPANY LIMITED',\n",
       " 'CHANGEMS COMPANY LIMITED',\n",
       " 'CHANTHABURI GEM AND JEWELRY TRADERS ASSOCIATION',\n",
       " 'CHANTHAMANEE JEWELRY CO.,LTD',\n",
       " 'CHAPORN',\n",
       " 'CHARISMA GEMS COMPANY LIMITED',\n",
       " 'CHARM GEMS LIMITED PARTNERSHIP',\n",
       " 'CHARMING PEARL COMPANY LIMITED',\n",
       " 'CHAROENSANG COMPANY LIMITED',\n",
       " 'CHATREE GEMS COMPANY LIMITED',\n",
       " 'CHERINADDED',\n",
       " 'CHEWA JEWELRY CO.,LTD.',\n",
       " 'CHIANGMAI CHOCOLATE CO., LTD.',\n",
       " 'CHINA LUSTER COMPANY LIMITED',\n",
       " 'CHINA STONE CO., LTD.',\n",
       " 'CHINA SURGICAL DRESSINGS CENTER CO., LTD.',\n",
       " 'CHOFA STUDIO LIMITED PARTNERSHIP',\n",
       " 'CHOICE GEMS CO.,LTD',\n",
       " 'CHONGQING JINXING GLASS CO.,LTD',\n",
       " 'CHUAN YU ENTERPRISE CO., LTD.',\n",
       " 'CIEN CO.,LTD.',\n",
       " 'CITIPAN COLLECTION COMPANY LIMITED',\n",
       " 'CK GEMS CO., LTD.',\n",
       " 'CKD POLYMER CO.,LTD.',\n",
       " 'CLARITY DIAM CO., LTD',\n",
       " 'CLASSIC  CEYLON COMPANY LIMITED',\n",
       " 'CMD DIAMONDS & GEMS CO., LTD.',\n",
       " 'COCO SUI',\n",
       " 'COLOMBIN STONE CO.,LTD.',\n",
       " 'COLOR MASTERS CO.,LTD.',\n",
       " 'COLORED STONE LABORATORY CO., LTD.',\n",
       " 'COLORGEMS (BANGKOK) COMPANY LIMITED',\n",
       " 'COLOUR SPECTRUM CO.,LTD.',\n",
       " 'COLOUR STONE IMPEX COMPANY LIMITED',\n",
       " 'CORNER 43 DECOR COMPANY LIMITED',\n",
       " 'COSMOS AND HARMONY COMPANY LIMITED',\n",
       " 'CRAFT ART CO.,LTD. (สำนักงานใหญ่)',\n",
       " 'CRAFT STUDIO',\n",
       " 'CREST GEM CO.,LTD',\n",
       " 'CRIMSON GEMS CO.,LTD.',\n",
       " 'CROSLEY F & B GROUP CO., LTD.',\n",
       " 'CSW GEMS GROUP COMPANY LIMITED',\n",
       " 'CUZTOMO GIFT CO., LTD.',\n",
       " 'CYGNUS GEMS CO., LTD.',\n",
       " 'D. RATANA CO., LTD.',\n",
       " 'D.D.GEMS THAI COMPANY LIMITED',\n",
       " 'D.HIMANSHU CO.,LTD.',\n",
       " 'D.MANEE CO.,LTD.',\n",
       " 'DAENG FASHION ACCESSORIES CO.,LTD',\n",
       " 'DAICO CO., LTD.',\n",
       " 'DAKOTA CREATION COMPANY LIMITED',\n",
       " 'DALAY JADE CO., LTD.',\n",
       " 'DAZZLE GEMS  COMPANY LIMITED',\n",
       " 'DE SHERVIN COMPANY LIMITED',\n",
       " 'DECENT COLORSTONE (THAI) LTD',\n",
       " 'DECENT DIAM CO., LTD.',\n",
       " 'DEEP IMPEX CO.,LTD.',\n",
       " 'DELLAROBBIA ASIA CO.,LTD',\n",
       " 'DEMIDOFF COMPANY LIMITED',\n",
       " 'DEPTHSECTION CO.,LTD.',\n",
       " 'DER MOND ANANDARA CO., LTD.',\n",
       " 'DERS INTERNATIONAL CO., LTD.',\n",
       " 'DEXTER INDUSTRY CO.,LTD.',\n",
       " 'DHANANI GEMS CO.,LTD',\n",
       " 'DHANU ART AND DESIGN CO., LTD.',\n",
       " 'DHEVAN DARA CO.,LTD',\n",
       " 'DHRUV STAR CO., LTD.',\n",
       " 'DIA JEWEL CO.,LTD.',\n",
       " 'DIACRAFT (THAILAND) CO.,LTD.',\n",
       " 'DIAM INTER (THAI) CO.,LTD',\n",
       " 'DIAMOND CREATION TRADING HOUSE CO.,LTD.',\n",
       " 'DIAMONDS NARESH CO.,LTD',\n",
       " 'DIAMRUSA LTD.',\n",
       " 'DIGITOPOLIS',\n",
       " 'DILAVIE INTERNATIONAL CO.,LTD.',\n",
       " 'DIORA DIAMONDS CO.,LTD',\n",
       " 'DIVINE GEMS CO., LTD.',\n",
       " 'DIVINE GEMS CREATION CO. , LTD.',\n",
       " 'DIVYA CREATES CO.,LTD.',\n",
       " 'DIYA CREATION CO., LTD.',\n",
       " 'DK BRONZE MANUFACTORY COMPANY LIMITED',\n",
       " 'DKW COMPANY LIMITED',\n",
       " 'DONGGUAN CITY XINYUAN NONWOVEN CO., LTD.',\n",
       " 'DONGGUAN LINGDIAN SYNTHETIC LEATHER CO. LTD.',\n",
       " 'DONNAGEMMA JEWELLERY CO.,LTD',\n",
       " 'DRAGON SKY (555) COMPANY LIMITED',\n",
       " 'DRAGONFLY BEADS ART CO., LTD.',\n",
       " 'DRYTECH CORPORATION LTD.',\n",
       " 'DS DIAM CO LTD',\n",
       " 'DSD THAI GEMS CO., LTD',\n",
       " 'DUANGKAEW JEWELRY MANUFACTUREE CO., LTD.',\n",
       " 'DYNAMIC GEM HOUSE CO., LTD.',\n",
       " 'E.L.F.  COMPANY LIMITED',\n",
       " 'E.T.S.GROUP IT CO.,LTD',\n",
       " 'EAMMANO (THAILAND) CO., LTD.',\n",
       " 'ELITE GEMS COMPANY LIMITED',\n",
       " 'ELLSONS DIAMOND (THAI) CO.,LTD',\n",
       " 'EMBASSY OF THE REPUBLIC OF INDONESIA',\n",
       " 'EMERALD CABS COLLECTION CO., LTD.',\n",
       " 'EMERALD GEMS CO., LTD',\n",
       " 'EMERALD MINES CO., LTD.',\n",
       " 'EMPEROR JEWEL DE BANGKOK CO., LTD.',\n",
       " 'EQUATOR PURE NATURE COMPANY LIMITED',\n",
       " 'ESSEL INTERNATIONAL COMPANY LIMITED',\n",
       " 'EURASIA MANUFACTURING CO., LTD.',\n",
       " 'EUROTECNICHE (THAILAND) CO.,LTD.',\n",
       " 'F.I.J. GEMS & JEWELRY COMPANY LIMITED',\n",
       " 'F.R.P.INDUSTRY  COMPANY LIMITED',\n",
       " 'FACET GEMS COMPANY LIMITED',\n",
       " 'FAMOUS PEARLS COMPANY LIMITED',\n",
       " 'FANCY COLLECTION COMPANY LIMITED',\n",
       " 'FANCY COLOURS DIAMONDS CO.,LTD',\n",
       " 'FANCY FACTORY CO.,LTD',\n",
       " 'FANCY INTERNATIONAL CO., LTD.',\n",
       " 'FAREAST GEM CENTER CO.,LTD.',\n",
       " 'FAROUK BROTHERS CO.,LTD',\n",
       " 'FAZE FIVE COMPANY LIMITED',\n",
       " 'FEMININE JEWELRY CO.,LTD.',\n",
       " 'FERRARI LOGISTICS ASIA (THAILAND) COMPANY LIMITED',\n",
       " 'FINE CO., LTD.',\n",
       " 'FINE GEMS & MINERALS CO., LTD.',\n",
       " 'FINE GEMS COLLECTION CO., LTD',\n",
       " 'FINE GREEN GEMS CO.,LTD.',\n",
       " 'FINE SILVER (THAI) CO.,LTD.',\n",
       " 'FINKEL JEWELRY COMPANY LIMITED',\n",
       " 'FIRST VICTOR COMPANY LIMITED']"
      ]
     },
     "execution_count": 283,
     "metadata": {},
     "output_type": "execute_result"
    }
   ],
   "source": [
    "Company_name"
   ]
  },
  {
   "cell_type": "code",
   "execution_count": 284,
   "id": "93436b1a",
   "metadata": {},
   "outputs": [
    {
     "data": {
      "text/plain": [
       "['BATTERIES',\n",
       " 'Kitchenware / Tableware / Flatware',\n",
       " '\\n',\n",
       " 'HOME DECORATIVE ITEMS',\n",
       " 'SILVER JEWELRY',\n",
       " 'SILVER JEWELRY',\n",
       " 'HOME DECORATIVE ITEMS',\n",
       " 'EQUIPMENT & TOOLS',\n",
       " 'GIFTS,GIFTS,GIFTS',\n",
       " 'PRECIOUS STONES',\n",
       " 'ARTIFICIAL FLOWERS/ PLANTS/ FRUITS/VEGETABLE',\n",
       " 'SILVER JEWELRY',\n",
       " 'SEMI-PRECIOUS STONES',\n",
       " 'DIAMONDS',\n",
       " 'INDOOR FURNITURE - WOOD',\n",
       " 'PRECIOUS STONES',\n",
       " 'GOLD JEWELRY',\n",
       " 'PRECIOUS STONES',\n",
       " 'DIAMONDS',\n",
       " 'PRECIOUS STONES',\n",
       " 'PRECIOUS STONES',\n",
       " 'PRECIOUS STONES',\n",
       " 'FINE JEWELRY',\n",
       " 'SEMI-PRECIOUS STONES',\n",
       " 'HOME DECORATIVE ITEMS',\n",
       " 'SEMI-PRECIOUS STONES',\n",
       " 'INDOOR FURNITURE - WOOD',\n",
       " 'DIAMONDS',\n",
       " 'INDOOR FURNITURE - WOOD',\n",
       " 'EQUIPMENT & TOOLS',\n",
       " 'EQUIPMENT & TOOLS',\n",
       " 'SEMI-PRECIOUS STONES',\n",
       " 'SILVER JEWELRY',\n",
       " 'SILVER JEWELRY',\n",
       " 'GOLD JEWELRY',\n",
       " 'SILVER JEWELRY',\n",
       " 'SEMI-PRECIOUS STONES',\n",
       " 'PRECIOUS STONES',\n",
       " 'OTHERS',\n",
       " '\\n',\n",
       " 'SEMI-PRECIOUS STONES',\n",
       " 'PRECIOUS STONES',\n",
       " 'PRECIOUS STONES',\n",
       " 'COSTUME & FASHION JEWELRY',\n",
       " 'SYNTHETIC STONES',\n",
       " 'SEMI-PRECIOUS STONES',\n",
       " 'PRECIOUS STONES',\n",
       " 'SEMI-PRECIOUS STONES',\n",
       " 'FINE JEWELRY',\n",
       " 'SEMI-PRECIOUS STONES',\n",
       " 'SEMI-PRECIOUS STONES',\n",
       " 'SEMI-PRECIOUS STONES',\n",
       " 'SILVER JEWELRY',\n",
       " 'FINE JEWELRY',\n",
       " 'SILVER JEWELRY',\n",
       " 'PRECIOUS STONES',\n",
       " 'PRECIOUS STONES',\n",
       " 'FINE JEWELRY',\n",
       " 'FINE JEWELRY',\n",
       " 'PRECIOUS STONES',\n",
       " 'FINE JEWELRY',\n",
       " 'PRECIOUS STONES',\n",
       " 'PRECIOUS STONES',\n",
       " 'PRECIOUS STONES',\n",
       " 'FINE JEWELRY',\n",
       " 'SEMI-PRECIOUS STONES',\n",
       " 'EQUIPMENT & TOOLS',\n",
       " 'FINE JEWELRY',\n",
       " 'FINE JEWELRY',\n",
       " 'DIAMONDS',\n",
       " 'PRECIOUS STONES',\n",
       " 'PRECIOUS STONES',\n",
       " 'SEMI-PRECIOUS STONES',\n",
       " 'SILVER JEWELRY',\n",
       " 'PRECIOUS STONES',\n",
       " 'GOLD JEWELRY',\n",
       " 'PRECIOUS STONES',\n",
       " 'SEMI-PRECIOUS STONES',\n",
       " 'SEMI-PRECIOUS STONES',\n",
       " 'PRECIOUS STONES',\n",
       " 'DIAMONDS',\n",
       " '\\n',\n",
       " '\\n',\n",
       " 'DIAMONDS',\n",
       " 'SEMI-PRECIOUS STONES',\n",
       " 'DIAMONDS',\n",
       " 'INDOOR FURNITURE - METAL',\n",
       " 'DISPLAY & PACKAGING',\n",
       " 'PRECIOUS STONES',\n",
       " 'LIGHTING',\n",
       " 'SEMI-PRECIOUS STONES',\n",
       " 'PRECIOUS STONES',\n",
       " '\\n',\n",
       " 'SEMI-PRECIOUS STONES',\n",
       " 'DIAMONDS',\n",
       " 'FINE JEWELRY',\n",
       " 'PRECIOUS STONES',\n",
       " 'PRECIOUS STONES',\n",
       " 'GOLD JEWELRY',\n",
       " '\\n',\n",
       " 'PRECIOUS STONES',\n",
       " 'GIFTS,GIFTS,GIFTS',\n",
       " 'OUTDOOR FURNITURE - PLASTIC',\n",
       " 'SEMI-PRECIOUS STONES',\n",
       " 'PRECIOUS STONES',\n",
       " 'PRECIOUS STONES',\n",
       " 'PRECIOUS STONES',\n",
       " 'DIAMONDS',\n",
       " 'SPECIALTY / OCCASIONALWEAR',\n",
       " 'SEMI-PRECIOUS STONES',\n",
       " 'DIAMONDS',\n",
       " 'PRECIOUS STONES',\n",
       " 'SEMI-PRECIOUS STONES',\n",
       " 'SEMI-PRECIOUS STONES',\n",
       " 'DIAMONDS',\n",
       " 'SILVER JEWELRY',\n",
       " 'DIAMONDS',\n",
       " 'PRECIOUS STONES',\n",
       " 'SEMI-PRECIOUS STONES',\n",
       " 'PRECIOUS STONES',\n",
       " 'INDOOR FURNITURE - WOOD',\n",
       " 'Kitchenware / Tableware / Flatware',\n",
       " 'Kitchenware / Tableware / Flatware',\n",
       " 'PRECIOUS STONES',\n",
       " 'FINE JEWELRY',\n",
       " 'EQUIPMENT & TOOLS',\n",
       " 'BATHROOM FURNISHING',\n",
       " 'INDOOR FURNITURE - PLASTIC',\n",
       " 'PRECIOUS STONES',\n",
       " 'SPORTSWEAR',\n",
       " 'PRECIOUS STONES',\n",
       " 'GOLD JEWELRY',\n",
       " 'COSTUME JEWELRY',\n",
       " 'FINE JEWELRY',\n",
       " 'FINE JEWELRY',\n",
       " 'SILVER JEWELRY',\n",
       " 'EQUIPMENT & TOOLS',\n",
       " 'MACHINERY',\n",
       " 'PRECIOUS STONES',\n",
       " 'HOME DECORATIVE ITEMS',\n",
       " 'DIAMONDS',\n",
       " 'SILVER JEWELRY',\n",
       " 'PRECIOUS STONES',\n",
       " 'PRECIOUS STONES',\n",
       " 'LUGGAGE - LEATHER',\n",
       " 'PRECIOUS STONES',\n",
       " 'FINE JEWELRY',\n",
       " \"WOMEN'S WEAR\",\n",
       " 'LAB-GROWN DIAMOND',\n",
       " 'LUGGAGE - FABRICS',\n",
       " 'INDOOR FURNITURE - OTHERS',\n",
       " 'SILVER JEWELRY',\n",
       " 'PRECIOUS STONES',\n",
       " 'SEMI-PRECIOUS STONES',\n",
       " 'SEMI-PRECIOUS STONES',\n",
       " 'PRECIOUS STONES',\n",
       " 'DIAMONDS',\n",
       " 'FREIGHT FORWARDER',\n",
       " 'DIAMONDS',\n",
       " 'Kitchenware / Tableware / Flatware',\n",
       " 'SPORTSWEAR',\n",
       " 'SEMI-PRECIOUS STONES',\n",
       " 'SEMI-PRECIOUS STONES',\n",
       " 'PRECIOUS STONES',\n",
       " 'HANDBAGS & PURSES - LEATHER',\n",
       " 'MACHINERY',\n",
       " 'GOLD JEWELRY',\n",
       " 'GOLD JEWELRY',\n",
       " 'EVENING BAGS - LEATHER',\n",
       " 'MACHINERY',\n",
       " '\\n',\n",
       " '\\n',\n",
       " 'SILVER JEWELRY',\n",
       " 'SILVER JEWELRY',\n",
       " 'PRECIOUS STONES',\n",
       " 'FINE JEWELRY',\n",
       " 'COSTUME JEWELRY',\n",
       " 'ROUGH STONES',\n",
       " 'DIAMONDS',\n",
       " 'PRECIOUS STONES',\n",
       " '\\n',\n",
       " 'HANDBAGS & PURSES - LEATHER',\n",
       " 'PRECIOUS STONES',\n",
       " 'PRECIOUS STONES',\n",
       " 'OTHER',\n",
       " 'PRECIOUS STONES',\n",
       " 'PRECIOUS STONES',\n",
       " '\\n',\n",
       " 'FINE JEWELRY',\n",
       " 'GOLD JEWELRY',\n",
       " 'SILVER JEWELRY',\n",
       " 'Kitchenware / Tableware / Flatware',\n",
       " 'PRECIOUS STONES',\n",
       " '\\n',\n",
       " 'GOLD JEWELRY',\n",
       " 'Kitchenware / Tableware / Flatware',\n",
       " 'LAB-GROWN DIAMOND',\n",
       " 'OTHER',\n",
       " 'GIFTS,GIFTS,GIFTS',\n",
       " '\\n',\n",
       " 'PRECIOUS STONES',\n",
       " 'Glassware',\n",
       " 'Kitchenware / Tableware / Flatware',\n",
       " 'PRECIOUS STONES',\n",
       " 'SILVER JEWELRY',\n",
       " 'PRECIOUS STONES',\n",
       " 'CHILDREN ITEMS',\n",
       " 'DIAMONDS',\n",
       " 'PRECIOUS STONES',\n",
       " 'DIAMONDS',\n",
       " '\\n',\n",
       " 'PRECIOUS STONES',\n",
       " 'PRECIOUS STONES',\n",
       " 'OTHERS',\n",
       " 'PRECIOUS STONES',\n",
       " 'PRECIOUS STONES',\n",
       " 'PRECIOUS STONES',\n",
       " 'INDOOR FURNITURE - WOOD',\n",
       " 'PERFUMERY / TOILETERIES (SOAP & HAIR PRODUCTS)',\n",
       " 'SILVER JEWELRY',\n",
       " '\\n',\n",
       " 'PRECIOUS STONES',\n",
       " 'PRECIOUS STONES',\n",
       " 'FINE JEWELRY',\n",
       " 'PRECIOUS STONES',\n",
       " 'Kitchenware / Tableware / Flatware',\n",
       " 'SEMI-PRECIOUS STONES',\n",
       " 'DIAMONDS',\n",
       " 'SEMI-PRECIOUS STONES',\n",
       " 'DIAMONDS',\n",
       " 'PRECIOUS STONES',\n",
       " 'SILVER JEWELRY',\n",
       " 'EQUIPMENT & TOOLS',\n",
       " 'SILVER JEWELRY',\n",
       " 'PRECIOUS STONES',\n",
       " 'PRECIOUS STONES',\n",
       " 'FINE JEWELRY',\n",
       " 'SYNTHETIC STONES',\n",
       " 'DIAMONDS',\n",
       " 'DIAMONDS',\n",
       " 'INDOOR FURNITURE - METAL',\n",
       " 'SEMI-PRECIOUS STONES',\n",
       " '\\n',\n",
       " 'FINE JEWELRY',\n",
       " 'PRECIOUS STONES',\n",
       " 'OUTDOOR FURNITURE - WOOD',\n",
       " 'FINE JEWELRY',\n",
       " 'COSTUME JEWELRY',\n",
       " 'SILVER JEWELRY',\n",
       " 'DIAMONDS',\n",
       " 'DIAMONDS',\n",
       " 'PRECIOUS STONES',\n",
       " 'DIAMONDS',\n",
       " 'DIAMONDS',\n",
       " 'DIAMONDS',\n",
       " 'FINE JEWELRY',\n",
       " '\\n',\n",
       " 'FINE JEWELRY',\n",
       " 'FINE JEWELRY',\n",
       " 'PRECIOUS STONES',\n",
       " 'PRECIOUS STONES',\n",
       " 'DIAMONDS',\n",
       " 'SEMI-PRECIOUS STONES',\n",
       " 'OUTDOOR FURNITURE - OTHERS',\n",
       " 'Kitchenware / Tableware / Flatware',\n",
       " 'COSMETIC & TOILETRY BAGS - FABRICS',\n",
       " 'HOME FURNISHING TEXTILES/ FABRIC',\n",
       " 'SILVER JEWELRY',\n",
       " 'HERB PRODUCTS',\n",
       " 'PREMIUM / PROMOTIONAL ITEMS',\n",
       " 'BATHROOM ACCESSORIES AND CLEANING EQUIPMENT',\n",
       " 'DIAMONDS',\n",
       " 'PRECIOUS STONES',\n",
       " 'GOLD JEWELRY',\n",
       " 'SEMI-PRECIOUS STONES',\n",
       " 'SILVER JEWELRY',\n",
       " 'MACHINERY',\n",
       " 'SILVER JEWELRY',\n",
       " 'SEMI-PRECIOUS STONES',\n",
       " 'DIAMONDS',\n",
       " 'ETHNIC FABRICS (BATIK/ HAND WOVEN COTTON & HEMP/ SILK/ MORHOM/ ETC)',\n",
       " 'PRECIOUS STONES',\n",
       " 'PRECIOUS STONES',\n",
       " 'PRECIOUS STONES',\n",
       " 'FINE JEWELRY',\n",
       " 'BATHROOM ACCESSORIES AND CLEANING EQUIPMENT',\n",
       " 'SILVER JEWELRY',\n",
       " 'SILVER JEWELRY',\n",
       " 'MACHINERY',\n",
       " 'SILVER JEWELRY',\n",
       " 'INDOOR FURNITURE - OTHERS',\n",
       " 'PRECIOUS STONES',\n",
       " 'PEARLS',\n",
       " 'DIAMONDS',\n",
       " 'FINE JEWELRY',\n",
       " 'PRECIOUS STONES',\n",
       " 'SEMI-PRECIOUS STONES',\n",
       " 'PRECIOUS STONES',\n",
       " 'SEMI-PRECIOUS STONES',\n",
       " 'SILVER JEWELRY',\n",
       " 'SILVER JEWELRY',\n",
       " 'FREIGHT FORWARDER',\n",
       " '\\n',\n",
       " 'PRECIOUS STONES',\n",
       " 'PRECIOUS STONES',\n",
       " 'PRECIOUS STONES',\n",
       " 'SILVER JEWELRY',\n",
       " 'SILVER JEWELRY',\n",
       " 'SILVER JEWELRY']"
      ]
     },
     "execution_count": 284,
     "metadata": {},
     "output_type": "execute_result"
    }
   ],
   "source": [
    "Product"
   ]
  },
  {
   "cell_type": "code",
   "execution_count": 279,
   "id": "89003a6b",
   "metadata": {},
   "outputs": [
    {
     "data": {
      "text/plain": [
       "['    Onelink Technology    \\n',\n",
       " '    Ausiris    Ausiris  ',\n",
       " \"    marionsiam    Marionsiam was established in the year 2019. Due to the passion for Thai arts and crafts, all our\\nproducts are handmade and created out of the artist's love of art. Each piece is unique known as “A truly\\nwearable work of art”\\nTechniques that are often put forward in brands are “Batik in the style of Marionsiam”. Batik is a\\ntechnique that Creating works with a history is more than 2000 years old. It is a creative technique by\\nwriting candles through talent and the unique experience of the craftsman, therefore, each work has its\\nown uniqueness and charm. It is similar to a painting.  \",\n",
       " '    CSD    Colored face masks  ',\n",
       " '    Chofa Studio    Collection : Patek  ',\n",
       " '    PRECIOUS AND SEMI PRECIOUS STONES    RUBY,PADPARACHA SAPHIRE,PARAIBA TOURMALINE,SPINEL,COLOUR CHANGE GARNET,RHODOLITE GARNET,SPESSARTITE GARNET,TSAVORITE,TANZANITE,ETC  ',\n",
       " '\\n\\n',\n",
       " '    Sapphire and Ruby and semi precious    Natural Gemstone   ',\n",
       " '\\n',\n",
       " '    KT    \\n',\n",
       " '\\n',\n",
       " '\\n',\n",
       " '    Mujil    Leather handcrafted bags with Thai fabric.  ',\n",
       " '    PALM CREATION    FANCY SHAPE DIAMONDS  ',\n",
       " '    n/a    All natural Rubies, Sapphires, Pink Sapphire and Yellow Sapphires (No treatment)   ',\n",
       " '    Real    Burma Ruby, Kashmir, Burma and Ceylon Sapphire, Colombian Emerald.    ',\n",
       " '    Emerald    Nice and good quality of every size and cut in EMERALD  ',\n",
       " '    Lunare , Mellow    We are a factory that produces various quality candles. Our products can be used to decorate the home.                                      ',\n",
       " \"    ROYAL ORCHID COLLECTION    Fashion Accessories:Costume Jewelry\\nPresenting Gilded Nature's Bounty Collection for Autumn Winter 2023.\\nNecklaces,cuff bracelets,earrings...made from fruit peels,orchids,\\nfallen teak leaves, rubber tree seeds partly plated or fully plated in 1 or 2\\ntone mexed finishes and crafted into unique creations.  \",\n",
       " '    TET    Distributor of : Tet Cast Investment Powder, Wax, Rubber Mold, Silicone, Crucible, Alloys, Ballou Findings and Any Casting Equipments.  ',\n",
       " '    PASAYA    -  ',\n",
       " '    wjt,carton,Mettler,Ohaus    Equipment tools for diamond , gems stone and jewelry golds,silver\\n\\n\\n\\n\\n\\n\\n\\n\\n\\n\\n\\n\\n\\n\\n\\n\\n\\n\\n\\n\\n\\n\\n\\n\\n\\n\\n\\n\\n\\n\\n\\n\\n\\n\\n\\n\\n\\n\\n\\n\\n\\n\\n\\n\\n\\n\\n\\n\\n\\n\\n\\n\\n\\n\\n\\n\\n\\n\\n\\n\\n\\n\\n\\n\\n\\n\\n\\n\\n\\n\\n\\n\\n\\n\\n\\n\\n\\n                                      ',\n",
       " '\\n',\n",
       " '    sivaree    \\n',\n",
       " '    Gemstones    Gemstones for sell  ',\n",
       " '    B LAB    Lab Grown Diamond And Jewelry  ',\n",
       " '    NITDA    \\n',\n",
       " '    Galavela Deisii bag \"2 styles in 1\" made of genuine leather. Spacious and robust This bag has a leather shoulder strap that can be removed and adjusted in length. It can be used as a handbag or shoulder bag as needed  ',\n",
       " '    CRAFT ART    925 STERLING SILVER JEWELRY  ',\n",
       " '    Exotic pieces     Precious gemstones   ',\n",
       " '    F.B.AUTO ACCESSORIES CO.,LTD    REAR STEP SILLS,CAR SUTRVISOR,TAROOT,GRILL  ',\n",
       " '    Glorious Diamonds    -GIA Certificate Diamonds 0.18 CTS - 20 CTS\\n-Loose Diamonds 0.5 PTS - 25 PTS  ',\n",
       " '\\n',\n",
       " '    HOSEKI    Our product are south sea pearls and Akoya cultured pearls in loose pearl, strands and pearl jewelry.  ',\n",
       " '    Wooden Handicraft  ',\n",
       " '    OEM    ELECTRIC SUCTION DOOR ELECTRIC TAILGATE                                      ',\n",
       " '    FUYIDA    COMPETITIVE PRICE. SPRING BRAKE CHAMBER,BRAKE VALVE,SLACK ADJUSTER,BRAKE HOSE,AIR DRYER  ',\n",
       " '    LA SIAM GEMS INTER CO. LTD,    RUBY AND SAPPHIRES  ',\n",
       " '    Labrador Co.,Ltd.\\nproduce quality bag type products  ',\n",
       " '\\n',\n",
       " '    gems stone    semi precious  ',\n",
       " '    SPECIALIST IN RUBY  ',\n",
       " '\\n',\n",
       " '    sivaree    \\n',\n",
       " '    Gemstones    Gemstones for sell  ',\n",
       " '    B LAB    Lab Grown Diamond And Jewelry  ',\n",
       " '    NITDA    \\n',\n",
       " '    Galavela Deisii bag \"2 styles in 1\" made of genuine leather. Spacious and robust This bag has a leather shoulder strap that can be removed and adjusted in length. It can be used as a handbag or shoulder bag as needed  ',\n",
       " '    CRAFT ART    925 STERLING SILVER JEWELRY  ',\n",
       " '    Exotic pieces     Precious gemstones   ',\n",
       " '    F.B.AUTO ACCESSORIES CO.,LTD    REAR STEP SILLS,CAR SUTRVISOR,TAROOT,GRILL  ',\n",
       " '    Glorious Diamonds    -GIA Certificate Diamonds 0.18 CTS - 20 CTS\\n-Loose Diamonds 0.5 PTS - 25 PTS  ',\n",
       " '\\n',\n",
       " '    HOSEKI    Our product are south sea pearls and Akoya cultured pearls in loose pearl, strands and pearl jewelry.  ',\n",
       " '    Wooden Handicraft  ',\n",
       " '    OEM    ELECTRIC SUCTION DOOR ELECTRIC TAILGATE                                      ',\n",
       " '    FUYIDA    COMPETITIVE PRICE. SPRING BRAKE CHAMBER,BRAKE VALVE,SLACK ADJUSTER,BRAKE HOSE,AIR DRYER  ',\n",
       " '    LA SIAM GEMS INTER CO. LTD,    RUBY AND SAPPHIRES  ',\n",
       " '    Labrador Co.,Ltd.\\nproduce quality bag type products  ',\n",
       " '\\n',\n",
       " '    gems stone    semi precious  ',\n",
       " '    SPECIALIST IN RUBY  ',\n",
       " '\\n',\n",
       " '\\n',\n",
       " '    BEZ    We take pride in sourcing top-quality products from Thailand factories, all under the trusted \"BEZ\" brand. Our commitment to quality means that you can expect nothing but the best from us, all at reasonable prices.  ',\n",
       " '    OSIAS    \"Fuel Pump Carbon brush and Carbon Commutator made,E85 Compatible.\"                                      ',\n",
       " '    RUISHEN    \"100% TESTED BEFORE SHIPMENT\\nReliable manufacturer since 1998, produce full range of starter motor and its parts, Low MOQ, Short Lead-time, Best price and quality\"  ',\n",
       " '    COLOUR STONES    PRECIOUS STONES ,SPECIALIST IN TREATED RUBIES  ',\n",
       " '\\n',\n",
       " '    Red Star     Our aim is to produce high-quality products at a reasonable price and provide exceptional services to our customers, including on-time delivery.  ',\n",
       " '    Products which are developed in beyond plastic projects, bring used plastic materials (waste runner) within factory to recycle and re-design new products. Using existing items, original drawer to create another items call \"Tower drawer and Holder set\" \\nTower drawer : The drawer which is suitable for narrow area or space limitation on desktop\\nHolder set : Desktop organizer to keep stationery, accessories as well as being plant pot to build a green zone in working area.  ',\n",
       " '    DT    Our company was founded in 1984.We are professional manufacturer with more than 30 years’ experience in this field with own piston work shop and rubber factory. Guarantee that we can provide durable and valuable brake products.                           ',\n",
       " '    Ruby sapphire emerald     Precious and semi precious stones   ',\n",
       " '    AiMiKY    \"Differential ,Steering rack, Wheel hub,\\nDrive Shaft,Steering Pump,Crown wheel pinion,Head Cylinder,Propeller shaft\"\\t\\nONE-STOP Automotive Sapre Parts Supplier                                      ',\n",
       " '    SHENWEI    We produce alternator and alternators more than 30years,we have good quality and good price.  ',\n",
       " '    LF TIYU    Product/Service Description: (1)25 years proficional manufacturer. (2) All the parts have been produced by ourselves. (3) Guarantee for 2 years or 100,000km  ',\n",
       " '    MRLUN     Strut Bearing/ Strut Mount licensing manufacturer for many international well-known brands  ',\n",
       " '    Ayub Brother Co., Ltd.    \\n',\n",
       " '\\n',\n",
       " '    Precious Le Gem    Fine quality Ruby and Spinel  ',\n",
       " '\\n',\n",
       " '    NO BRAND    We are an exclusive distributor of  Russian Demantoid and the owner of the deposit in Ural region of Russia, where the most valuable Demantoid garnet comes from. \\nIn our assortment you can find wide range of calibrated Demantoids from 1mm and up, exclusive collection of big size Demantoids 3ct up, wide range of colors from dark emerald green to yellowish green. All our stones are faceted and polished in Russia.                                      ',\n",
       " '    DEPARTMENT OF FISHERIES    SEABASS  ',\n",
       " '    -    250cc coconut water\\n Shredded coconut 350cc\\n Coconut jam 100cc\\n Young coconut plum 100cc\\n coconut glass 90cc\\n Green stranded coconut 1kg-1.3kg\\n White stranded coconut 900-1200kg  ',\n",
       " '    -    Fresh Monthong Durian pasteurized, Frozen Monthong Durian,  Freeze Dried Durian Monthong  ',\n",
       " '    MARUCHO    PEANUT SNACK  ',\n",
       " '    -    -  ',\n",
       " '\\n',\n",
       " '    K.L. HEATER    K.L Heater is the manufacturer for premium-quality heaters. Our machines and technology are imported from Sweden, Our customers are committed to gain the values of individual designed, delivery cost and time in reasonable prices.  ',\n",
       " '    OCEAN CRYZTAL    CANNED FISH  ',\n",
       " '    RINNAI    AT RINNAI ,A WIDE RANGY OF PRODUCT IS OFFERED TO B  ',\n",
       " '    -    -  ',\n",
       " '    -    -  ',\n",
       " '    -    -  ',\n",
       " '\\n',\n",
       " '    -    Product of grass jelly  ',\n",
       " \"    Gem Collection    Tourmaline,Bi colourTourmaline,Rubellite,Aquamarine,Green Granet,sapphire,Ruby,emerald,Cat's eye and all stones\\nFollow Facebook:Rahamath colour stone.  \",\n",
       " '    SAR GEMS    \\n',\n",
       " '    SADA BRAND    SUGAR, CASTER SUGAR, NATURAL CANE SUGAR  ',\n",
       " '\\n',\n",
       " '    SPHERE    18K Handmade Jewelry with Natural Stone and Diamond.  ',\n",
       " '    TRIPLE PEARLS    TAPIOCA PEARL  ',\n",
       " '    LEAF    COCONUT CHIPS  ',\n",
       " '    UBON SUNFLOWER    ORGANIC CASSAVA FLOUR  ',\n",
       " '    UDOMKIJ    DRIED VEGETABLES  ',\n",
       " '    BOYUNG    The EC motor is a brushless DC maintenance-free motor with built-in intelligent control module. It is equiped with 10VDC input interface for control power supply voltage, 0-10V sensor output interface, speed feedback signal output interface, alarm device output interface and master/slave signal output interface.  ',\n",
       " '    HAILIANG    Zhejiang Headquarters covers an area of 550,100 square meters, construction area of 412,700 square meters, under the establishment of 3 industrial parks, of which, a park for the copper pipe division (copper pipe department), the main production of copper pipe, alloy copper pipe, insulation pipe, plastic copper pipe.   ',\n",
       " '\\n',\n",
       " '\\n',\n",
       " '\\n',\n",
       " '\\n',\n",
       " '    KANABAR , GRIT ABRASIVES     Polishing wheels\\nPolishing compounds\\nOther equipment for jewelry metals polishing.  ',\n",
       " '\\n',\n",
       " '\\n',\n",
       " '    Ruby sapphire     Ruby sapphire   ',\n",
       " '\\n',\n",
       " '\\n',\n",
       " '    YCP    Gold Jewelry 18K , 14K , 10K , 9K , and Silver with diamond and color stones.                                      ',\n",
       " '\\n',\n",
       " '\\n',\n",
       " '    -    DRC IS THE COMPANY THAT PROVIDED ALL DENTIST CARE PRODUCT WHICH HAD  ABOUT 7 KINDS OF DIFFERENT PRODUCTS.  ',\n",
       " \"    HARAKIES'S    man,s leather brand Herakles's  \",\n",
       " '    KAFBO    HOME is a whole new range of cat scratchers and the series to design for cat furniture and the owner of cat. The owner can design the home for cat by connecting each piece. Also, Home series is designed to have the center gap to play and sleep following the character of cats. Also, Home have a cardboard small piece to lock between each piece by piece. KAFBO is eco-friendly product made from cardboard with high quality . Like the motto \"Happy cat,Happy home\"  ',\n",
       " '    O.K.WOOD    LAP Collection inspired by the principle how the master designer, Gerrit Rietvield. created his wooden chairs between 1920-1940 which the pieces of wood were simply overlapped connect.   ',\n",
       " '    DISNEY, RILAKKMA, SNOOPY    -  ',\n",
       " '\\n',\n",
       " '    ROYAL ORCHID COLLECTION, ROC    Necklaces and Bracelets of handcrafted paper beads made from Elephant Poo Paper and Elephants,\\nElephant heads of paper fibers, preserved in Fine Silver.\\n\"Elcphant\" Dangling earrings of Elephant poo paper fbers preserved in Fine Silver.  ',\n",
       " '\\n',\n",
       " '    Tyme boutique    Tyme Holding is the best supplier box for Jewelry and watch, box for nutomatic watch, and home decorative  ',\n",
       " '    ES, ESB    \\n',\n",
       " '    BLACK LINERS    CARMAT, PVC CARMAT , PVC FLOOP MAT, PVC ROLL MAT, PVC DOORMAT  ',\n",
       " '\\n',\n",
       " '    IMPERIAL & KIKI    WE ARE A WELL-ESTABLISHED FIRM AND ISO/TS 16949 CERTIFIED IN THAILAND SPECIALIZING IN THE MANUFACTURE OF CONTROL CABLES ASSEMBLIES FOR ALL TYPE OF AUTOMOBILE.OUR EXTENSIVE PRODUCT RANGE OFFERS SOLUTIONS FOR THE MOST VARIED OF APPLICATIONS SUCH AS HAND BRAKE TRANSMISSION CABLES . ACCELERATOR CABLE,FUEL LID CABLES ETC.  ',\n",
       " '    We are speeialige in premium Car care Products  ',\n",
       " '    Piak    Manufacturing 4WD protection products to provide safe offroading driving protection. These products are designed to provide the \"tough Truck\" look, Built tough to absorb collisions, high strength steel construction With durable powder coat finish-Provides ultimate protection for 4WD offroading  ',\n",
       " '    Our company is a product research and development, manufacturing, sales, technical advice and services in one of the professional manufacture of automotive air-conditioning compressor joint-stock enterprises.                                      ',\n",
       " \"    System Component (thailand) Co.,Ltd    Specialized in manufacturing and processing a wide rangee of precision rubber and other assembly components for industries including automotive , electronic,and office automation.\\nWith more than 50 years of experience form our Japanese technical expert, we fully understand our customer's need and expectation in product  quality, reasonable price, and on time delivery.  \",\n",
       " '    Yih Feng    Yih Feng Industrial Co., Ltd is a professional company specializing in aluminum forging. die-casting.  ']"
      ]
     },
     "execution_count": 279,
     "metadata": {},
     "output_type": "execute_result"
    }
   ],
   "source": [
    "Brand"
   ]
  },
  {
   "cell_type": "code",
   "execution_count": null,
   "id": "b37efd7b",
   "metadata": {},
   "outputs": [],
   "source": [
    "Category"
   ]
  },
  {
   "cell_type": "code",
   "execution_count": null,
   "id": "e1e01786",
   "metadata": {},
   "outputs": [],
   "source": [
    "Booth"
   ]
  },
  {
   "cell_type": "code",
   "execution_count": null,
   "id": "8c6ae865",
   "metadata": {},
   "outputs": [],
   "source": [
    "Address"
   ]
  },
  {
   "cell_type": "code",
   "execution_count": null,
   "id": "3670bc60",
   "metadata": {},
   "outputs": [],
   "source": [
    "Contact_Person"
   ]
  },
  {
   "cell_type": "code",
   "execution_count": null,
   "id": "16b664d3",
   "metadata": {},
   "outputs": [],
   "source": [
    "Number"
   ]
  },
  {
   "cell_type": "code",
   "execution_count": null,
   "id": "75ae11d7",
   "metadata": {},
   "outputs": [],
   "source": [
    "Fax"
   ]
  },
  {
   "cell_type": "code",
   "execution_count": null,
   "id": "6ddcd4b0",
   "metadata": {},
   "outputs": [],
   "source": [
    "Mail"
   ]
  },
  {
   "cell_type": "code",
   "execution_count": 166,
   "id": "85580487",
   "metadata": {},
   "outputs": [
    {
     "data": {
      "text/plain": [
       "0"
      ]
     },
     "execution_count": 166,
     "metadata": {},
     "output_type": "execute_result"
    }
   ],
   "source": [
    "------------------------------------------------------------------------------"
   ]
  },
  {
   "cell_type": "code",
   "execution_count": 132,
   "id": "7aff5340",
   "metadata": {},
   "outputs": [],
   "source": [
    "search = driver.find_element('xpath','//*[@id=\"company-tab-pane\"]/div[1]/div[2]/a')\n",
    "search.click()"
   ]
  },
  {
   "cell_type": "code",
   "execution_count": 126,
   "id": "3fd29a72",
   "metadata": {},
   "outputs": [
    {
     "name": "stdout",
     "output_type": "stream",
     "text": [
      "//*[@id=\"company-tab-pane\"]/div[2]/ul/li[96]/div[2]/div/a\n",
      "//*[@id=\"company-tab-pane\"]/div[2]/ul/li[97]/div[2]/div/a\n",
      "//*[@id=\"company-tab-pane\"]/div[2]/ul/li[98]/div[2]/div/a\n",
      "//*[@id=\"company-tab-pane\"]/div[2]/ul/li[99]/div[2]/div/a\n",
      "//*[@id=\"company-tab-pane\"]/div[2]/ul/li[100]/div[2]/div/a\n",
      "//*[@id=\"company-tab-pane\"]/div[2]/ul/li[101]/div[2]/div/a\n",
      "//*[@id=\"company-tab-pane\"]/div[2]/ul/li[96]/div[2]/div/a\n",
      "//*[@id=\"company-tab-pane\"]/div[2]/ul/li[97]/div[2]/div/a\n",
      "//*[@id=\"company-tab-pane\"]/div[2]/ul/li[98]/div[2]/div/a\n",
      "//*[@id=\"company-tab-pane\"]/div[2]/ul/li[99]/div[2]/div/a\n",
      "//*[@id=\"company-tab-pane\"]/div[2]/ul/li[100]/div[2]/div/a\n",
      "//*[@id=\"company-tab-pane\"]/div[2]/ul/li[101]/div[2]/div/a\n",
      "//*[@id=\"company-tab-pane\"]/div[2]/ul/li[96]/div[2]/div/a\n",
      "//*[@id=\"company-tab-pane\"]/div[2]/ul/li[97]/div[2]/div/a\n",
      "//*[@id=\"company-tab-pane\"]/div[2]/ul/li[98]/div[2]/div/a\n",
      "//*[@id=\"company-tab-pane\"]/div[2]/ul/li[99]/div[2]/div/a\n",
      "//*[@id=\"company-tab-pane\"]/div[2]/ul/li[100]/div[2]/div/a\n",
      "//*[@id=\"company-tab-pane\"]/div[2]/ul/li[101]/div[2]/div/a\n",
      "//*[@id=\"company-tab-pane\"]/div[2]/ul/li[96]/div[2]/div/a\n",
      "//*[@id=\"company-tab-pane\"]/div[2]/ul/li[97]/div[2]/div/a\n",
      "//*[@id=\"company-tab-pane\"]/div[2]/ul/li[98]/div[2]/div/a\n",
      "//*[@id=\"company-tab-pane\"]/div[2]/ul/li[99]/div[2]/div/a\n",
      "//*[@id=\"company-tab-pane\"]/div[2]/ul/li[100]/div[2]/div/a\n",
      "//*[@id=\"company-tab-pane\"]/div[2]/ul/li[101]/div[2]/div/a\n",
      "//*[@id=\"company-tab-pane\"]/div[2]/ul/li[96]/div[2]/div/a\n",
      "//*[@id=\"company-tab-pane\"]/div[2]/ul/li[97]/div[2]/div/a\n",
      "//*[@id=\"company-tab-pane\"]/div[2]/ul/li[98]/div[2]/div/a\n",
      "//*[@id=\"company-tab-pane\"]/div[2]/ul/li[99]/div[2]/div/a\n",
      "//*[@id=\"company-tab-pane\"]/div[2]/ul/li[100]/div[2]/div/a\n",
      "//*[@id=\"company-tab-pane\"]/div[2]/ul/li[101]/div[2]/div/a\n",
      "//*[@id=\"company-tab-pane\"]/div[2]/ul/li[96]/div[2]/div/a\n",
      "//*[@id=\"company-tab-pane\"]/div[2]/ul/li[97]/div[2]/div/a\n",
      "//*[@id=\"company-tab-pane\"]/div[2]/ul/li[98]/div[2]/div/a\n",
      "//*[@id=\"company-tab-pane\"]/div[2]/ul/li[99]/div[2]/div/a\n",
      "//*[@id=\"company-tab-pane\"]/div[2]/ul/li[100]/div[2]/div/a\n",
      "//*[@id=\"company-tab-pane\"]/div[2]/ul/li[101]/div[2]/div/a\n"
     ]
    },
    {
     "ename": "NoSuchElementException",
     "evalue": "Message: no such element: Unable to locate element: {\"method\":\"xpath\",\"selector\":\"//*[@id=\"company-tab-pane\"]/div[1]/div[2]/a[2]\"}\n  (Session info: chrome=120.0.6099.225); For documentation on this error, please visit: https://www.selenium.dev/documentation/webdriver/troubleshooting/errors#no-such-element-exception\nStacktrace:\n\tGetHandleVerifier [0x00007FF631C782B2+55298]\n\t(No symbol) [0x00007FF631BE5E02]\n\t(No symbol) [0x00007FF631AA05AB]\n\t(No symbol) [0x00007FF631AE175C]\n\t(No symbol) [0x00007FF631AE18DC]\n\t(No symbol) [0x00007FF631B1CBC7]\n\t(No symbol) [0x00007FF631B020EF]\n\t(No symbol) [0x00007FF631B1AAA4]\n\t(No symbol) [0x00007FF631B01E83]\n\t(No symbol) [0x00007FF631AD670A]\n\t(No symbol) [0x00007FF631AD7964]\n\tGetHandleVerifier [0x00007FF631FF0AAB+3694587]\n\tGetHandleVerifier [0x00007FF63204728E+4048862]\n\tGetHandleVerifier [0x00007FF63203F173+4015811]\n\tGetHandleVerifier [0x00007FF631D147D6+695590]\n\t(No symbol) [0x00007FF631BF0CE8]\n\t(No symbol) [0x00007FF631BECF34]\n\t(No symbol) [0x00007FF631BED062]\n\t(No symbol) [0x00007FF631BDD3A3]\n\tBaseThreadInitThunk [0x00007FFEC500257D+29]\n\tRtlUserThreadStart [0x00007FFEC6C4AA58+40]\n",
     "output_type": "error",
     "traceback": [
      "\u001b[1;31m---------------------------------------------------------------------------\u001b[0m",
      "\u001b[1;31mNoSuchElementException\u001b[0m                    Traceback (most recent call last)",
      "\u001b[1;32m<ipython-input-126-6c05518c8b45>\u001b[0m in \u001b[0;36m<module>\u001b[1;34m\u001b[0m\n\u001b[0;32m     34\u001b[0m     \u001b[0mdriver\u001b[0m\u001b[1;33m.\u001b[0m\u001b[0mexecute_script\u001b[0m\u001b[1;33m(\u001b[0m\u001b[1;34m\"window.scrollTo(0, -100);\"\u001b[0m\u001b[1;33m)\u001b[0m\u001b[1;33m\u001b[0m\u001b[1;33m\u001b[0m\u001b[0m\n\u001b[0;32m     35\u001b[0m     \u001b[0mtime\u001b[0m\u001b[1;33m.\u001b[0m\u001b[0msleep\u001b[0m\u001b[1;33m(\u001b[0m\u001b[1;36m1.5\u001b[0m\u001b[1;33m)\u001b[0m\u001b[1;33m\u001b[0m\u001b[1;33m\u001b[0m\u001b[0m\n\u001b[1;32m---> 36\u001b[1;33m     \u001b[0msearch\u001b[0m \u001b[1;33m=\u001b[0m \u001b[0mdriver\u001b[0m\u001b[1;33m.\u001b[0m\u001b[0mfind_element\u001b[0m\u001b[1;33m(\u001b[0m\u001b[1;34m'xpath'\u001b[0m\u001b[1;33m,\u001b[0m\u001b[1;34m'//*[@id=\"company-tab-pane\"]/div[1]/div[2]/a[2]'\u001b[0m\u001b[1;33m)\u001b[0m\u001b[1;33m\u001b[0m\u001b[1;33m\u001b[0m\u001b[0m\n\u001b[0m\u001b[0;32m     37\u001b[0m     \u001b[0msearch\u001b[0m\u001b[1;33m.\u001b[0m\u001b[0mclick\u001b[0m\u001b[1;33m(\u001b[0m\u001b[1;33m)\u001b[0m\u001b[1;33m\u001b[0m\u001b[1;33m\u001b[0m\u001b[0m\n",
      "\u001b[1;32mD:\\anaconda3\\lib\\site-packages\\selenium\\webdriver\\remote\\webdriver.py\u001b[0m in \u001b[0;36mfind_element\u001b[1;34m(self, by, value)\u001b[0m\n\u001b[0;32m    738\u001b[0m             \u001b[0mvalue\u001b[0m \u001b[1;33m=\u001b[0m \u001b[1;34mf'[name=\"{value}\"]'\u001b[0m\u001b[1;33m\u001b[0m\u001b[1;33m\u001b[0m\u001b[0m\n\u001b[0;32m    739\u001b[0m \u001b[1;33m\u001b[0m\u001b[0m\n\u001b[1;32m--> 740\u001b[1;33m         \u001b[1;32mreturn\u001b[0m \u001b[0mself\u001b[0m\u001b[1;33m.\u001b[0m\u001b[0mexecute\u001b[0m\u001b[1;33m(\u001b[0m\u001b[0mCommand\u001b[0m\u001b[1;33m.\u001b[0m\u001b[0mFIND_ELEMENT\u001b[0m\u001b[1;33m,\u001b[0m \u001b[1;33m{\u001b[0m\u001b[1;34m\"using\"\u001b[0m\u001b[1;33m:\u001b[0m \u001b[0mby\u001b[0m\u001b[1;33m,\u001b[0m \u001b[1;34m\"value\"\u001b[0m\u001b[1;33m:\u001b[0m \u001b[0mvalue\u001b[0m\u001b[1;33m}\u001b[0m\u001b[1;33m)\u001b[0m\u001b[1;33m[\u001b[0m\u001b[1;34m\"value\"\u001b[0m\u001b[1;33m]\u001b[0m\u001b[1;33m\u001b[0m\u001b[1;33m\u001b[0m\u001b[0m\n\u001b[0m\u001b[0;32m    741\u001b[0m \u001b[1;33m\u001b[0m\u001b[0m\n\u001b[0;32m    742\u001b[0m     \u001b[1;32mdef\u001b[0m \u001b[0mfind_elements\u001b[0m\u001b[1;33m(\u001b[0m\u001b[0mself\u001b[0m\u001b[1;33m,\u001b[0m \u001b[0mby\u001b[0m\u001b[1;33m=\u001b[0m\u001b[0mBy\u001b[0m\u001b[1;33m.\u001b[0m\u001b[0mID\u001b[0m\u001b[1;33m,\u001b[0m \u001b[0mvalue\u001b[0m\u001b[1;33m:\u001b[0m \u001b[0mOptional\u001b[0m\u001b[1;33m[\u001b[0m\u001b[0mstr\u001b[0m\u001b[1;33m]\u001b[0m \u001b[1;33m=\u001b[0m \u001b[1;32mNone\u001b[0m\u001b[1;33m)\u001b[0m \u001b[1;33m->\u001b[0m \u001b[0mList\u001b[0m\u001b[1;33m[\u001b[0m\u001b[0mWebElement\u001b[0m\u001b[1;33m]\u001b[0m\u001b[1;33m:\u001b[0m\u001b[1;33m\u001b[0m\u001b[1;33m\u001b[0m\u001b[0m\n",
      "\u001b[1;32mD:\\anaconda3\\lib\\site-packages\\selenium\\webdriver\\remote\\webdriver.py\u001b[0m in \u001b[0;36mexecute\u001b[1;34m(self, driver_command, params)\u001b[0m\n\u001b[0;32m    344\u001b[0m         \u001b[0mresponse\u001b[0m \u001b[1;33m=\u001b[0m \u001b[0mself\u001b[0m\u001b[1;33m.\u001b[0m\u001b[0mcommand_executor\u001b[0m\u001b[1;33m.\u001b[0m\u001b[0mexecute\u001b[0m\u001b[1;33m(\u001b[0m\u001b[0mdriver_command\u001b[0m\u001b[1;33m,\u001b[0m \u001b[0mparams\u001b[0m\u001b[1;33m)\u001b[0m\u001b[1;33m\u001b[0m\u001b[1;33m\u001b[0m\u001b[0m\n\u001b[0;32m    345\u001b[0m         \u001b[1;32mif\u001b[0m \u001b[0mresponse\u001b[0m\u001b[1;33m:\u001b[0m\u001b[1;33m\u001b[0m\u001b[1;33m\u001b[0m\u001b[0m\n\u001b[1;32m--> 346\u001b[1;33m             \u001b[0mself\u001b[0m\u001b[1;33m.\u001b[0m\u001b[0merror_handler\u001b[0m\u001b[1;33m.\u001b[0m\u001b[0mcheck_response\u001b[0m\u001b[1;33m(\u001b[0m\u001b[0mresponse\u001b[0m\u001b[1;33m)\u001b[0m\u001b[1;33m\u001b[0m\u001b[1;33m\u001b[0m\u001b[0m\n\u001b[0m\u001b[0;32m    347\u001b[0m             \u001b[0mresponse\u001b[0m\u001b[1;33m[\u001b[0m\u001b[1;34m\"value\"\u001b[0m\u001b[1;33m]\u001b[0m \u001b[1;33m=\u001b[0m \u001b[0mself\u001b[0m\u001b[1;33m.\u001b[0m\u001b[0m_unwrap_value\u001b[0m\u001b[1;33m(\u001b[0m\u001b[0mresponse\u001b[0m\u001b[1;33m.\u001b[0m\u001b[0mget\u001b[0m\u001b[1;33m(\u001b[0m\u001b[1;34m\"value\"\u001b[0m\u001b[1;33m,\u001b[0m \u001b[1;32mNone\u001b[0m\u001b[1;33m)\u001b[0m\u001b[1;33m)\u001b[0m\u001b[1;33m\u001b[0m\u001b[1;33m\u001b[0m\u001b[0m\n\u001b[0;32m    348\u001b[0m             \u001b[1;32mreturn\u001b[0m \u001b[0mresponse\u001b[0m\u001b[1;33m\u001b[0m\u001b[1;33m\u001b[0m\u001b[0m\n",
      "\u001b[1;32mD:\\anaconda3\\lib\\site-packages\\selenium\\webdriver\\remote\\errorhandler.py\u001b[0m in \u001b[0;36mcheck_response\u001b[1;34m(self, response)\u001b[0m\n\u001b[0;32m    243\u001b[0m                 \u001b[0malert_text\u001b[0m \u001b[1;33m=\u001b[0m \u001b[0mvalue\u001b[0m\u001b[1;33m[\u001b[0m\u001b[1;34m\"alert\"\u001b[0m\u001b[1;33m]\u001b[0m\u001b[1;33m.\u001b[0m\u001b[0mget\u001b[0m\u001b[1;33m(\u001b[0m\u001b[1;34m\"text\"\u001b[0m\u001b[1;33m)\u001b[0m\u001b[1;33m\u001b[0m\u001b[1;33m\u001b[0m\u001b[0m\n\u001b[0;32m    244\u001b[0m             \u001b[1;32mraise\u001b[0m \u001b[0mexception_class\u001b[0m\u001b[1;33m(\u001b[0m\u001b[0mmessage\u001b[0m\u001b[1;33m,\u001b[0m \u001b[0mscreen\u001b[0m\u001b[1;33m,\u001b[0m \u001b[0mstacktrace\u001b[0m\u001b[1;33m,\u001b[0m \u001b[0malert_text\u001b[0m\u001b[1;33m)\u001b[0m  \u001b[1;31m# type: ignore[call-arg]  # mypy is not smart enough here\u001b[0m\u001b[1;33m\u001b[0m\u001b[1;33m\u001b[0m\u001b[0m\n\u001b[1;32m--> 245\u001b[1;33m         \u001b[1;32mraise\u001b[0m \u001b[0mexception_class\u001b[0m\u001b[1;33m(\u001b[0m\u001b[0mmessage\u001b[0m\u001b[1;33m,\u001b[0m \u001b[0mscreen\u001b[0m\u001b[1;33m,\u001b[0m \u001b[0mstacktrace\u001b[0m\u001b[1;33m)\u001b[0m\u001b[1;33m\u001b[0m\u001b[1;33m\u001b[0m\u001b[0m\n\u001b[0m",
      "\u001b[1;31mNoSuchElementException\u001b[0m: Message: no such element: Unable to locate element: {\"method\":\"xpath\",\"selector\":\"//*[@id=\"company-tab-pane\"]/div[1]/div[2]/a[2]\"}\n  (Session info: chrome=120.0.6099.225); For documentation on this error, please visit: https://www.selenium.dev/documentation/webdriver/troubleshooting/errors#no-such-element-exception\nStacktrace:\n\tGetHandleVerifier [0x00007FF631C782B2+55298]\n\t(No symbol) [0x00007FF631BE5E02]\n\t(No symbol) [0x00007FF631AA05AB]\n\t(No symbol) [0x00007FF631AE175C]\n\t(No symbol) [0x00007FF631AE18DC]\n\t(No symbol) [0x00007FF631B1CBC7]\n\t(No symbol) [0x00007FF631B020EF]\n\t(No symbol) [0x00007FF631B1AAA4]\n\t(No symbol) [0x00007FF631B01E83]\n\t(No symbol) [0x00007FF631AD670A]\n\t(No symbol) [0x00007FF631AD7964]\n\tGetHandleVerifier [0x00007FF631FF0AAB+3694587]\n\tGetHandleVerifier [0x00007FF63204728E+4048862]\n\tGetHandleVerifier [0x00007FF63203F173+4015811]\n\tGetHandleVerifier [0x00007FF631D147D6+695590]\n\t(No symbol) [0x00007FF631BF0CE8]\n\t(No symbol) [0x00007FF631BECF34]\n\t(No symbol) [0x00007FF631BED062]\n\t(No symbol) [0x00007FF631BDD3A3]\n\tBaseThreadInitThunk [0x00007FFEC500257D+29]\n\tRtlUserThreadStart [0x00007FFEC6C4AA58+40]\n"
     ]
    }
   ],
   "source": [
    "for i in range(2,8) :\n",
    "    try :\n",
    "        search = driver.find_element('xpath','//*[@id=\"full-scrn_edit\"]/div/div/div/div/a/img')\n",
    "        search.click()\n",
    "    except :\n",
    "        pass\n",
    "    driver.execute_script(\"window.scrollTo(0, -100);\")\n",
    "    time.sleep(1.5)\n",
    "    search = driver.find_element('xpath','//*[@id=\"search\"]/div[2]')\n",
    "    search.click()\n",
    "    search = driver.find_element('xpath','//*[@id=\"search\"]/div[2]/ul/li[%i]/a'%(i))\n",
    "    search.click()\n",
    "    search = driver.find_element('xpath','//*[@id=\"search\"]/button')\n",
    "    search.click()\n",
    "    time.sleep(0.5)\n",
    "    for i in range(1,101) :\n",
    "        try :\n",
    "            search = driver.find_element('xpath','//*[@id=\"company-tab-pane\"]/div[2]/ul/li[%i]/div[2]/div/a'%(i))\n",
    "            search.click()\n",
    "            time.sleep(0.5)\n",
    "            driver.back()\n",
    "            driver.execute_script(\"window.scrollTo(0, window.scrollY + 55)\")\n",
    "            time.sleep(1.5)\n",
    "        except :\n",
    "            i += 1\n",
    "        print('//*[@id=\"company-tab-pane\"]/div[2]/ul/li[%i]/div[2]/div/a'%(i))"
   ]
  },
  {
   "cell_type": "code",
   "execution_count": null,
   "id": "1e0b572f",
   "metadata": {},
   "outputs": [],
   "source": [
    "for i in range(1,101) :\n",
    "    try :\n",
    "        search = driver.find_element('xpath','//*[@id=\"company-tab-pane\"]/div[2]/ul/li[%i]/div[2]/div/a'%(i))\n",
    "        search.click()\n",
    "        time.sleep(1.5)\n",
    "        driver.back()\n",
    "    except :\n",
    "        i += 1"
   ]
  },
  {
   "cell_type": "code",
   "execution_count": null,
   "id": "47c018d4",
   "metadata": {},
   "outputs": [],
   "source": [
    "i = 0"
   ]
  },
  {
   "cell_type": "code",
   "execution_count": 44,
   "id": "28061b18",
   "metadata": {},
   "outputs": [],
   "source": [
    "x += 1000"
   ]
  },
  {
   "cell_type": "code",
   "execution_count": 75,
   "id": "4ca100ee",
   "metadata": {},
   "outputs": [],
   "source": [
    "# driver.execute_script(\"window.scrollTo(0, x);\")\n",
    "driver.execute_script(\"window.scrollTo(0, 0);\")"
   ]
  },
  {
   "cell_type": "code",
   "execution_count": 45,
   "id": "44a65e5d",
   "metadata": {},
   "outputs": [
    {
     "data": {
      "text/plain": [
       "1000"
      ]
     },
     "execution_count": 45,
     "metadata": {},
     "output_type": "execute_result"
    }
   ],
   "source": [
    "x"
   ]
  },
  {
   "cell_type": "code",
   "execution_count": 73,
   "id": "62854f89",
   "metadata": {},
   "outputs": [],
   "source": [
    "driver.execute_script(\"window.scrollTo(0, window.scrollY + 100)\")"
   ]
  },
  {
   "cell_type": "code",
   "execution_count": null,
   "id": "3a720191",
   "metadata": {},
   "outputs": [],
   "source": []
  },
  {
   "cell_type": "code",
   "execution_count": null,
   "id": "a1b3cbdc",
   "metadata": {},
   "outputs": [],
   "source": []
  }
 ],
 "metadata": {
  "kernelspec": {
   "display_name": "Python 3",
   "language": "python",
   "name": "python3"
  },
  "language_info": {
   "codemirror_mode": {
    "name": "ipython",
    "version": 3
   },
   "file_extension": ".py",
   "mimetype": "text/x-python",
   "name": "python",
   "nbconvert_exporter": "python",
   "pygments_lexer": "ipython3",
   "version": "3.8.5"
  }
 },
 "nbformat": 4,
 "nbformat_minor": 5
}
