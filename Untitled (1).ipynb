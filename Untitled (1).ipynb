{
 "cells": [
  {
   "cell_type": "code",
   "execution_count": null,
   "id": "fa522aa2",
   "metadata": {},
   "outputs": [],
   "source": [
    "!pip install bs4\n",
    "!pip install selenium"
   ]
  },
  {
   "cell_type": "code",
   "execution_count": null,
   "id": "ac1d6afa",
   "metadata": {},
   "outputs": [],
   "source": [
    "from bs4 import BeautifulSoup\n",
    "from selenium import webdriver\n",
    "from selenium.webdriver.chrome.service import Service\n",
    "from selenium.webdriver.common.keys import Keys\n",
    "import pandas as pd"
   ]
  },
  {
   "cell_type": "code",
   "execution_count": null,
   "id": "6a2a2b3f",
   "metadata": {},
   "outputs": [],
   "source": [
    "service = Service(executable_path=r'C:\\Users\\setthawat\\Downloads\\chromedriver-win64\\chromedriver-win64\\chromedriver.exe')"
   ]
  },
  {
   "cell_type": "code",
   "execution_count": null,
   "id": "900dc891",
   "metadata": {},
   "outputs": [],
   "source": [
    "driver = webdriver.Chrome(service=service)"
   ]
  },
  {
   "cell_type": "code",
   "execution_count": null,
   "id": "ba6f3779",
   "metadata": {},
   "outputs": [],
   "source": [
    "driver.get('https://www.boi.go.th/index.php?page=form_promoted_companies')\n",
    "# driver_detail.get('https://www.boi.go.th/index.php?page=company_detail2&COM_ID=0905545002431&HP_ID=471071&language_search=Thai')"
   ]
  },
  {
   "cell_type": "code",
   "execution_count": null,
   "id": "28fb9ec1",
   "metadata": {},
   "outputs": [],
   "source": [
    "data = driver.page_source"
   ]
  },
  {
   "cell_type": "code",
   "execution_count": null,
   "id": "595c4e5a",
   "metadata": {},
   "outputs": [],
   "source": [
    "soup = BeautifulSoup(data)"
   ]
  },
  {
   "cell_type": "code",
   "execution_count": null,
   "id": "f2640354",
   "metadata": {},
   "outputs": [],
   "source": [
    "Next = driver.find_element('xpath','//*[@id=\"formSearch\"]/center/div[1]/input[1]')\n",
    "Next.click()"
   ]
  },
  {
   "cell_type": "code",
   "execution_count": null,
   "id": "36156328",
   "metadata": {},
   "outputs": [],
   "source": [
    "Next = driver.find_element('xpath','//*[@id=\"search-z\"]/table/tbody/tr[2]/td[4]/a')\n",
    "Next.click()"
   ]
  },
  {
   "cell_type": "code",
   "execution_count": null,
   "id": "17ed659b",
   "metadata": {},
   "outputs": [],
   "source": [
    "c = driver.window_handles[1]"
   ]
  },
  {
   "cell_type": "code",
   "execution_count": null,
   "id": "51340177",
   "metadata": {},
   "outputs": [],
   "source": [
    "driver.switch_to.window(c)"
   ]
  },
  {
   "cell_type": "code",
   "execution_count": null,
   "id": "85e7c035",
   "metadata": {},
   "outputs": [],
   "source": [
    "driver.close()"
   ]
  },
  {
   "cell_type": "code",
   "execution_count": null,
   "id": "d8038958",
   "metadata": {},
   "outputs": [],
   "source": [
    "f = driver.window_handles[0]\n",
    "driver.switch_to.window(f)"
   ]
  },
  {
   "cell_type": "code",
   "execution_count": null,
   "id": "3b38dc29",
   "metadata": {},
   "outputs": [],
   "source": [
    "Next = driver.find_element('xpath','//*[@id=\"search-z\"]/table/tbody/tr[3]/td[4]/a')\n",
    "Next.click()"
   ]
  },
  {
   "cell_type": "code",
   "execution_count": null,
   "id": "62067dd2",
   "metadata": {},
   "outputs": [],
   "source": [
    "f = driver.window_handles[1]\n",
    "driver.switch_to.window(f)"
   ]
  },
  {
   "cell_type": "code",
   "execution_count": null,
   "id": "96e68d91",
   "metadata": {},
   "outputs": [],
   "source": [
    "driver.close()"
   ]
  },
  {
   "cell_type": "code",
   "execution_count": null,
   "id": "a6e3739e",
   "metadata": {},
   "outputs": [],
   "source": [
    "Next = driver.find_element('xpath','//*[@id=\"formSearch\"]/center/div[1]/input[1]')\n",
    "Next.click()"
   ]
  },
  {
   "cell_type": "code",
   "execution_count": null,
   "id": "bafca960",
   "metadata": {},
   "outputs": [],
   "source": [
    "Company_name = []\n",
    "Web_source = soup.find_all('div',{'class':'col-lg-9.col-md-9.col-sm-12.col-xs-12.-block'})"
   ]
  },
  {
   "cell_type": "code",
   "execution_count": null,
   "id": "1386bf7a",
   "metadata": {},
   "outputs": [],
   "source": [
    "driver.get('https://www.boi.go.th/index.php?page=company_detail2&COM_ID=0245558001796&HP_ID=E601260&language_search=Thai')\n",
    "data = driver.page_source\n",
    "soup = BeautifulSoup(data)"
   ]
  },
  {
   "cell_type": "code",
   "execution_count": 105,
   "id": "c61c237e",
   "metadata": {},
   "outputs": [],
   "source": [
    "Web_source = soup.find_all('div',{'id':'detail'})"
   ]
  },
  {
   "cell_type": "code",
   "execution_count": 106,
   "id": "2b78625b",
   "metadata": {},
   "outputs": [
    {
     "data": {
      "text/plain": [
       "[<div class=\"article\" ctl_type=\"htmlblock\" databind=\"true\" editable=\"yes\" id=\"detail\" module=\"custom\" style=\"margin-top: 10px; line-height: 1.5;\">\n",
       " <table class=\"tableframe table table-bordered\" width=\"75%\">\n",
       " <tbody face=\"\" size=\"\">\n",
       " <tr face=\"\" size=\"\"><th align=\"left\" colspan=\"2\" face=\"\" size=\"\">บริษัท 105 โซล่า เพาเวอร์ จำกัด</th></tr>\n",
       " <tr face=\"\" size=\"\"><td face=\"\" size=\"\">Products</td><td face=\"\" size=\"\">ไฟฟ้าจากพลังงานแสงอาทิตย์ที่ติดตั้งบนหลังคา</td>\n",
       " </tr><tr face=\"\" size=\"\"><th align=\"left\" colspan=\"2\" face=\"\" size=\"\">Company Office</th></tr>\n",
       " <tr face=\"\" size=\"\"><td face=\"\" size=\"\">Address</td><td face=\"\" size=\"\">เลขที่ 105/30 หมู่ 3</td>\n",
       " </tr><tr face=\"\" size=\"\"><td face=\"\" size=\"\">Tambon</td><td face=\"\" size=\"\">ต.ท่าข้าม</td>\n",
       " </tr><tr face=\"\" size=\"\"><td face=\"\" size=\"\">District</td><td face=\"\" size=\"\">อ.บางปะกง</td>\n",
       " </tr><tr face=\"\" size=\"\"><td face=\"\" size=\"\">Province (Office)</td><td face=\"\" size=\"\">ฉะเชิงเทรา</td>\n",
       " </tr><tr face=\"\" size=\"\"><td face=\"\" size=\"\">ZIP Code</td><td face=\"\" size=\"\">24130</td>\n",
       " </tr><tr face=\"\" size=\"\"><td face=\"\" size=\"\">Telephone</td><td face=\"\" size=\"\"></td>\n",
       " </tr><tr face=\"\" size=\"\"><td face=\"\" size=\"\">Fax</td><td face=\"\" size=\"\"></td>\n",
       " </tr></tbody>\n",
       " </table>\n",
       " </div>]"
      ]
     },
     "execution_count": 106,
     "metadata": {},
     "output_type": "execute_result"
    }
   ],
   "source": [
    "Web_source"
   ]
  },
  {
   "cell_type": "code",
   "execution_count": 109,
   "id": "03666090",
   "metadata": {},
   "outputs": [],
   "source": [
    "Web_source11 = soup.find('table',{'class':'tableframe table table-bordered'})"
   ]
  },
  {
   "cell_type": "code",
   "execution_count": null,
   "id": "a3824d6c",
   "metadata": {},
   "outputs": [],
   "source": []
  },
  {
   "cell_type": "code",
   "execution_count": null,
   "id": "422ce40c",
   "metadata": {},
   "outputs": [],
   "source": [
    "Company_name = []\n",
    "for i in range(50):\n",
    "    data = driver.page_source\n",
    "    soup = BeautifulSoup(data)\n",
    "    Web_source = soup.find_all('div',{'class':'col-lg-9.col-md-9.col-sm-12.col-xs-12.-block'})\n",
    "    for source in Web_source :\n",
    "        All_name.append(source.find('tab',{'':''}))\n",
    "    "
   ]
  }
 ],
 "metadata": {
  "kernelspec": {
   "display_name": "Python 3",
   "language": "python",
   "name": "python3"
  },
  "language_info": {
   "codemirror_mode": {
    "name": "ipython",
    "version": 3
   },
   "file_extension": ".py",
   "mimetype": "text/x-python",
   "name": "python",
   "nbconvert_exporter": "python",
   "pygments_lexer": "ipython3",
   "version": "3.8.5"
  }
 },
 "nbformat": 4,
 "nbformat_minor": 5
}
