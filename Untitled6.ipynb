{
 "cells": [
  {
   "cell_type": "code",
   "execution_count": 1,
   "id": "624b07e0",
   "metadata": {},
   "outputs": [
    {
     "name": "stderr",
     "output_type": "stream",
     "text": [
      "D:\\anaconda3\\lib\\site-packages\\requests\\__init__.py:89: RequestsDependencyWarning: urllib3 (2.1.0) or chardet (3.0.4) doesn't match a supported version!\n",
      "  warnings.warn(\"urllib3 ({}) or chardet ({}) doesn't match a supported \"\n"
     ]
    }
   ],
   "source": [
    "from bs4 import BeautifulSoup\n",
    "from selenium import webdriver\n",
    "# from seleni um.webdriver.chrome.service import Service\n",
    "from selenium.webdriver.common.keys import Keys\n",
    "import pandas as pd\n",
    "from selenium import webdriver\n",
    "from selenium.webdriver.chrome.service import Service as ChromeService\n",
    "from webdriver_manager.chrome import ChromeDriverManager\n",
    "from selenium.webdriver.chrome.options import Options"
   ]
  },
  {
   "cell_type": "code",
   "execution_count": 2,
   "id": "48452ae7",
   "metadata": {},
   "outputs": [],
   "source": [
    "import time"
   ]
  },
  {
   "cell_type": "code",
   "execution_count": 3,
   "id": "235e3ccc",
   "metadata": {},
   "outputs": [],
   "source": [
    "service = ChromeService(executable_path=r'C:\\Users\\setthawat\\Downloads\\chromedriver-win64New\\chromedriver-win64\\chromedriver.exe')"
   ]
  },
  {
   "cell_type": "code",
   "execution_count": 15,
   "id": "56630a77",
   "metadata": {},
   "outputs": [],
   "source": [
    "chrome_options = Options()\n",
    "# chrome_options.add_argument('--headless')\n",
    "chrome_options.add_argument('--no-sandbox')\n",
    "chrome_options.add_argument('--disable-dev-shm-usage')\n",
    "# chrome_options.add_argument('window-size=1080x3000')\n",
    "driver = webdriver.Chrome(service=service,options=chrome_options)\n",
    "driver.get('https://www.yellowpages.co.th/ypsearch?q=')"
   ]
  },
  {
   "cell_type": "code",
   "execution_count": 10,
   "id": "96d7aede",
   "metadata": {},
   "outputs": [],
   "source": [
    "data = driver.page_source\n",
    "soup = BeautifulSoup(data)"
   ]
  },
  {
   "cell_type": "code",
   "execution_count": 39,
   "id": "1a48224a",
   "metadata": {},
   "outputs": [],
   "source": [
    "search = driver.find_element('xpath','/html/body/div[1]/div[1]/nav/div/div[3]/div[2]/button')\n",
    "search.click()"
   ]
  },
  {
   "cell_type": "code",
   "execution_count": 5,
   "id": "c3c2672a",
   "metadata": {},
   "outputs": [],
   "source": [
    "search = driver.find_element('xpath','/html/body/div[1]/div[1]/nav/div/div[4]/ul/li[4]/div[2]')\n",
    "search.click()"
   ]
  },
  {
   "cell_type": "code",
   "execution_count": 6,
   "id": "eab32604",
   "metadata": {},
   "outputs": [],
   "source": [
    "search1 = driver.find_element('xpath','//*[@id=\"sidebar\"]/div[2]/div/div[1]/div[1]')\n",
    "search1.click()"
   ]
  },
  {
   "cell_type": "code",
   "execution_count": 7,
   "id": "1f162b43",
   "metadata": {},
   "outputs": [],
   "source": [
    "search2 = driver.find_element('xpath','//*[@id=\"sidebar\"]/div[2]/div/div[1]/div[2]/div/div/ul/li[1]')\n",
    "search2.click()"
   ]
  },
  {
   "cell_type": "code",
   "execution_count": 18,
   "id": "0138d031",
   "metadata": {},
   "outputs": [],
   "source": [
    "# search2 = driver.find_element('xpath','//*[@id=\"sidebar\"]/div[2]/div/div[1]/div[2]/div/div/ul/li[2]')\n",
    "# search2.click()"
   ]
  },
  {
   "cell_type": "code",
   "execution_count": 55,
   "id": "54ccf5a8",
   "metadata": {},
   "outputs": [
    {
     "ename": "AttributeError",
     "evalue": "'WebDriver' object has no attribute 'find_element_by_class_name'",
     "output_type": "error",
     "traceback": [
      "\u001b[1;31m---------------------------------------------------------------------------\u001b[0m",
      "\u001b[1;31mAttributeError\u001b[0m                            Traceback (most recent call last)",
      "\u001b[1;32m<ipython-input-55-ea9d2358e79f>\u001b[0m in \u001b[0;36m<module>\u001b[1;34m\u001b[0m\n\u001b[1;32m----> 1\u001b[1;33m \u001b[0melement\u001b[0m \u001b[1;33m=\u001b[0m \u001b[0mdriver\u001b[0m\u001b[1;33m.\u001b[0m\u001b[0mfind_element_by_class_name\u001b[0m\u001b[1;33m(\u001b[0m\u001b[1;34m'xpath'\u001b[0m\u001b[1;33m,\u001b[0m\u001b[1;34m'/html/body/div[1]/div[1]/nav/div/div[3]/div[2]/button'\u001b[0m\u001b[1;33m)\u001b[0m\u001b[1;33m\u001b[0m\u001b[1;33m\u001b[0m\u001b[0m\n\u001b[0m\u001b[0;32m      2\u001b[0m \u001b[0mdriver\u001b[0m\u001b[1;33m.\u001b[0m\u001b[0mexecute_script\u001b[0m\u001b[1;33m(\u001b[0m\u001b[1;34m\"arguments[0].click();\"\u001b[0m\u001b[1;33m,\u001b[0m \u001b[0melement\u001b[0m\u001b[1;33m)\u001b[0m\u001b[1;33m\u001b[0m\u001b[1;33m\u001b[0m\u001b[0m\n",
      "\u001b[1;31mAttributeError\u001b[0m: 'WebDriver' object has no attribute 'find_element_by_class_name'"
     ]
    }
   ],
   "source": [
    "element = driver.find_element_by_class_name('xpath','/html/body/div[1]/div[1]/nav/div/div[3]/div[2]/button')\n",
    "driver.execute_script(\"arguments[0].click();\", element)"
   ]
  },
  {
   "cell_type": "code",
   "execution_count": 8,
   "id": "ced1cc8f",
   "metadata": {},
   "outputs": [],
   "source": [
    "driver.back()"
   ]
  },
  {
   "cell_type": "code",
   "execution_count": 13,
   "id": "d00e0f10",
   "metadata": {},
   "outputs": [],
   "source": [
    "time.sleep(1.5)"
   ]
  },
  {
   "cell_type": "code",
   "execution_count": 14,
   "id": "6d735e2d",
   "metadata": {},
   "outputs": [],
   "source": [
    "for i in range(1,18) :\n",
    "    search = driver.find_element('xpath','/html/body/div[1]/div[1]/nav/div/div[4]/ul/li[4]/div[2]')\n",
    "    search.click()\n",
    "    time.sleep(1.5)\n",
    "    search1 = driver.find_element('xpath','//*[@id=\"sidebar\"]/div[2]/div/div[1]/div[1]')\n",
    "    search1.click()\n",
    "    time.sleep(1.5)\n",
    "    search2 = driver.find_element('xpath','//*[@id=\"sidebar\"]/div[2]/div/div[1]/div[2]/div/div/ul/li[%i]'%(i))\n",
    "    search2.click()\n",
    "    driver.back()"
   ]
  },
  {
   "cell_type": "code",
   "execution_count": null,
   "id": "cd14dcd9",
   "metadata": {},
   "outputs": [],
   "source": [
    "//*[@id=\"bootstrap-panel--content\"]/ul/li[1]\n",
    "//*[@id=\"bootstrap-panel--content\"]/ul/li[2]\n",
    "//*[@id=\"bootstrap-panel--2--content\"]/ul/li[1]\n",
    "//*[@id=\"bootstrap-panel--3--content\"]/ul/li[1]"
   ]
  },
  {
   "cell_type": "code",
   "execution_count": null,
   "id": "c28e8353",
   "metadata": {},
   "outputs": [],
   "source": [
    "/html/body/div[1]/div[2]/div/div[2]/div/div/div[3]/div[1]/div[2]/div/div\n",
    "/html/body/div[1]/div[2]/div/div[2]/div/div/div[4]/div[1]/div/div/div/h3/a\n",
    "/html/body/div[1]/div[2]/div/div[2]/div/div/div[6]/div[1]/div/div/div/h3/a"
   ]
  },
  {
   "cell_type": "code",
   "execution_count": null,
   "id": "3dbafbf8",
   "metadata": {},
   "outputs": [],
   "source": []
  },
  {
   "cell_type": "code",
   "execution_count": null,
   "id": "29744b91",
   "metadata": {},
   "outputs": [],
   "source": []
  }
 ],
 "metadata": {
  "kernelspec": {
   "display_name": "Python 3",
   "language": "python",
   "name": "python3"
  },
  "language_info": {
   "codemirror_mode": {
    "name": "ipython",
    "version": 3
   },
   "file_extension": ".py",
   "mimetype": "text/x-python",
   "name": "python",
   "nbconvert_exporter": "python",
   "pygments_lexer": "ipython3",
   "version": "3.8.5"
  }
 },
 "nbformat": 4,
 "nbformat_minor": 5
}
