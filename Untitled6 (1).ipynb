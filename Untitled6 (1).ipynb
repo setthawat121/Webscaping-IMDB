{
 "cells": [
  {
   "cell_type": "code",
   "execution_count": 1,
   "id": "7d391f8a",
   "metadata": {},
   "outputs": [
    {
     "name": "stderr",
     "output_type": "stream",
     "text": [
      "D:\\anaconda3\\lib\\site-packages\\requests\\__init__.py:89: RequestsDependencyWarning: urllib3 (2.1.0) or chardet (3.0.4) doesn't match a supported version!\n",
      "  warnings.warn(\"urllib3 ({}) or chardet ({}) doesn't match a supported \"\n"
     ]
    }
   ],
   "source": [
    "from bs4 import BeautifulSoup\n",
    "from selenium import webdriver\n",
    "# from seleni um.webdriver.chrome.service import Service\n",
    "from selenium.webdriver.common.keys import Keys\n",
    "import pandas as pd\n",
    "from selenium import webdriver\n",
    "from selenium.webdriver.chrome.service import Service as ChromeService\n",
    "from webdriver_manager.chrome import ChromeDriverManager\n",
    "from selenium.webdriver.chrome.options import Options\n",
    "from selenium.common.exceptions import NoSuchElementException\n",
    "from selenium.common.exceptions import ElementClickInterceptedException\n",
    "from selenium.webdriver.common.action_chains import ActionChains\n",
    "import time"
   ]
  },
  {
   "cell_type": "code",
   "execution_count": 2,
   "id": "8e58adf8",
   "metadata": {},
   "outputs": [],
   "source": [
    "service = ChromeService(executable_path=r'C:\\Users\\setthawat\\Downloads\\chromedriver-win64New\\chromedriver-win64\\chromedriver.exe')"
   ]
  },
  {
   "cell_type": "code",
   "execution_count": 3,
   "id": "eafa21f4",
   "metadata": {},
   "outputs": [],
   "source": [
    "chrome_options = Options()\n",
    "# chrome_options.add_argument('--headless')\n",
    "chrome_options.add_argument('--no-sandbox')\n",
    "chrome_options.add_argument('--disable-dev-shm-usage')\n",
    "chrome_options.add_argument('--window-size=2560,1440')\n",
    "driver = webdriver.Chrome(service=service,options=chrome_options)\n",
    "driver.get('https://www.yellowpages.co.th/ypsearch?q=')"
   ]
  },
  {
   "cell_type": "code",
   "execution_count": 8,
   "id": "448f565f",
   "metadata": {},
   "outputs": [],
   "source": [
    "f = driver.window_handles[0]\n",
    "driver.switch_to.window(f)"
   ]
  },
  {
   "cell_type": "code",
   "execution_count": 9,
   "id": "ee505fa2",
   "metadata": {},
   "outputs": [],
   "source": [
    "data = driver.page_source\n",
    "soup = BeautifulSoup(data)"
   ]
  },
  {
   "cell_type": "code",
   "execution_count": null,
   "id": "9bacd7ae",
   "metadata": {},
   "outputs": [],
   "source": [
    "# search = driver.find_element('xpath','/html/body/div[1]/div[1]/nav/div/div[3]/div[2]/button')\n",
    "# search.click()"
   ]
  },
  {
   "cell_type": "code",
   "execution_count": null,
   "id": "926a2b96",
   "metadata": {},
   "outputs": [],
   "source": [
    "search = driver.find_element('xpath','/html/body/div[1]/div[1]/nav/div/div[4]/ul/li[4]/div[2]')\n",
    "search.click()"
   ]
  },
  {
   "cell_type": "code",
   "execution_count": null,
   "id": "8dab7adf",
   "metadata": {},
   "outputs": [],
   "source": [
    "search1 = driver.find_element('xpath','//*[@id=\"sidebar\"]/div[2]/div/div[1]/div[1]')\n",
    "search1.click()"
   ]
  },
  {
   "cell_type": "code",
   "execution_count": null,
   "id": "ea77c14c",
   "metadata": {},
   "outputs": [],
   "source": [
    "search2 = driver.find_element('xpath','//*[@id=\"sidebar\"]/div[2]/div/div[1]/div[2]/div/div/ul/li[1]')\n",
    "search2.click()"
   ]
  },
  {
   "cell_type": "code",
   "execution_count": null,
   "id": "bbffacb6",
   "metadata": {},
   "outputs": [],
   "source": []
  },
  {
   "cell_type": "code",
   "execution_count": 18,
   "id": "3f3ad047",
   "metadata": {},
   "outputs": [],
   "source": [
    "# search2 = driver.find_element('xpath','//*[@id=\"sidebar\"]/div[2]/div/div[1]/div[2]/div/div/ul/li[2]')\n",
    "# search2.click()"
   ]
  },
  {
   "cell_type": "code",
   "execution_count": null,
   "id": "cf3c3a7c",
   "metadata": {},
   "outputs": [],
   "source": [
    "# element = driver.find_element_by_class_name('xpath','/html/body/div[1]/div[1]/nav/div/div[3]/div[2]/button')\n",
    "# driver.execute_script(\"arguments[0].click();\", element)"
   ]
  },
  {
   "cell_type": "code",
   "execution_count": null,
   "id": "9d39ba0b",
   "metadata": {},
   "outputs": [],
   "source": [
    "for i in range(1,60) :\n",
    "    search = driver.find_element('xpath','//*[@id=\"bootstrap-panel--content\"]/ul/li[%i]/a'%(i))\n",
    "    search.click()\n",
    "    time.sleep(1.5)\n",
    "    driver.back()"
   ]
  },
  {
   "cell_type": "code",
   "execution_count": 15,
   "id": "940d1f24",
   "metadata": {},
   "outputs": [],
   "source": [
    "search = driver.find_element('xpath','//*[@id=\"bootstrap-panel--3--content\"]/ul/li[3]/a')\n",
    "search.click()\n",
    "# time.sleep(0.5)\n",
    "# search = driver.find_element('xpath','//*[@id=\"km-popup-close-button\"]')\n",
    "# search.click()"
   ]
  },
  {
   "cell_type": "code",
   "execution_count": null,
   "id": "7dbd7d77",
   "metadata": {},
   "outputs": [],
   "source": [
    "search = driver.find_element('xpath','//*[@id=\"yp-cookie-wrapper\"]/div/div[3]/a[2]')\n",
    "search.click()"
   ]
  },
  {
   "cell_type": "code",
   "execution_count": 162,
   "id": "fb7bd5e5",
   "metadata": {},
   "outputs": [],
   "source": [
    "search = driver.find_element('xpath','/html/body/div[1]/div[1]/nav/div/div[3]/div[2]/button')\n",
    "search.click()"
   ]
  },
  {
   "cell_type": "code",
   "execution_count": 123,
   "id": "5146d400",
   "metadata": {},
   "outputs": [],
   "source": [
    "search = driver.find_element('xpath','//*[@id=\"yp-cookie-wrapper\"]/div/div[3]/a[2]')\n",
    "search.click()"
   ]
  },
  {
   "cell_type": "code",
   "execution_count": null,
   "id": "1bf4a2bd",
   "metadata": {},
   "outputs": [],
   "source": [
    "# # //เข้า\n",
    "# for i in range(3,14):\n",
    "#     try :\n",
    "#         search = driver.find_element('xpath','/html/body/div[1]/div[2]/div/div[2]/div/div/div[%i]/div[1]/div/div/div/h3/a'%(i))\n",
    "#         search.click()\n",
    "#         c = driver.window_handles[1]\n",
    "#         driver.switch_to.window(c)\n",
    "#         data = driver.page_source\n",
    "#         soup = BeautifulSoup(data)\n",
    "#         driver.close()\n",
    "#         f = driver.window_handles[0]\n",
    "#         driver.switch_to.window(f)\n",
    "#     except NoSuchElementException:\n",
    "#         try :\n",
    "#             i += 1\n",
    "#         except ElementClickInterceptedException:\n",
    "#             search = driver.find_element('xpath','//*[@id=\"yp-cookie-wrapper\"]/div/div[3]/a[2]')\n",
    "#             search.click()"
   ]
  },
  {
   "cell_type": "code",
   "execution_count": null,
   "id": "cad7749f",
   "metadata": {},
   "outputs": [],
   "source": [
    "# for i in range(3,14):\n",
    "#     try :\n",
    "#         search = driver.find_element('xpath','//*[@id=\"yp-cookie-wrapper\"]/div/div[3]/a[2]')\n",
    "#         search.click()\n",
    "#     except :\n",
    "#         pass\n",
    "#     try :\n",
    "#         search = driver.find_element('xpath','/html/body/div[1]/div[2]/div/div[2]/div/div/div[%i]/div[1]/div/div/div/h3/a'%(i))\n",
    "#         search.click()\n",
    "#         time.sleep(1.5)\n",
    "#         c = driver.window_handles[1]\n",
    "#         driver.switch_to.window(c)\n",
    "#         data = driver.page_source\n",
    "#         soup = BeautifulSoup(data)\n",
    "# #         try :\n",
    "#         All_Source = soup.find_all('div',{'class':'region region-content'})\n",
    "# #         except NoSuchElementException:\n",
    "# #             return\n",
    "#         for source in All_Source :\n",
    "#             Company_name.append(source.find('div',{'class':'breadcrumbs'}).text.replace('\\nหน้าแรก\\t> ','').replace('\\n                            ',''))\n",
    "#             Type.append(source.find('div',{'class':'col-md-12 col-sm-12 col-xs-12 no-gutter profile-content profile-category'}).find('a').text)\n",
    "#             try :\n",
    "#                 Address.append(source.find('div',{'class':'col-md-10 col-sm-10 col-xs-12 no-gutter'}).text)\n",
    "#             except :\n",
    "#                 Address.append('Blank')\n",
    "#             try :\n",
    "#                 Number.append(source.find('div',{'class':'col-md-10 col-sm-10 col-xs-12 no-gutter contact-details'}).text.replace('\\n',''))\n",
    "#             except :\n",
    "#                 Number.append('Blank')\n",
    "#             try :\n",
    "#                 Work_Time.append(source.find_all('div',{'class':'col-md-10 col-sm-10 col-xs-12 no-gutter'})[1].text.replace('\\n                        ','').replace('\\n                    ',''))\n",
    "#             except :\n",
    "#                 Work_Time.append('Blank')    \n",
    "#             try :\n",
    "#                 GPS.append(source.find_all('div',{'class':'col-md-10 col-sm-10 col-xs-12 no-gutter'})[2].text.replace('\\n                        ','').replace('\\n                    ',''))\n",
    "#             except :\n",
    "#                 GPS.append('Blank')\n",
    "#             try :\n",
    "#                 info.append(source.find('div',{'class':'col-md-12 col-sm-12 col-xs-12 no-gutter profile-content profile-information'}).find('div').text)\n",
    "#             except :\n",
    "#                 info.append('Blank')\n",
    "#             try :\n",
    "#                 Product.append(source.find('div',{'class':'col-md-12 col-sm-12 col-xs-12 no-gutter profile-content profile-product-description'}).find('div').text)\n",
    "#             except :\n",
    "#                 Product.append('Blank')\n",
    "#         driver.close()\n",
    "#         time.sleep(1.5)\n",
    "#         f = driver.window_handles[0]\n",
    "#         driver.switch_to.window(f)\n",
    "#     except NoSuchElementException:\n",
    "#             i += 1"
   ]
  },
  {
   "cell_type": "code",
   "execution_count": null,
   "id": "d7206c20",
   "metadata": {},
   "outputs": [],
   "source": [
    "# for i in range(3,14):\n",
    "#     try :\n",
    "#         search = driver.find_element('xpath','//*[@id=\"yp-cookie-wrapper\"]/div/div[3]/a[2]')\n",
    "#         search.click()\n",
    "#     except :\n",
    "#         pass\n",
    "#     try :\n",
    "#         search = driver.find_element('xpath','/html/body/div[1]/div[2]/div/div[2]/div/div/div[%i]/div[1]/div/div/div/h3/a'%(i))\n",
    "#         search.click()\n",
    "#         time.sleep(1.5)\n",
    "#         c = driver.window_handles[1]\n",
    "#         driver.switch_to.window(c)\n",
    "#         data = driver.page_source\n",
    "#         soup = BeautifulSoup(data)\n",
    "#         All_Source = soup.find_all('div',{'class':'region region-content'})\n",
    "#         for source in All_Source :\n",
    "#             Company_name.append(source.find('div',{'class':'breadcrumbs'}).text.replace('\\nหน้าแรก\\t> ','').replace('\\n                            ',''))\n",
    "#             Type.append(source.find('div',{'class':'col-md-12 col-sm-12 col-xs-12 no-gutter profile-content profile-category'}).find('a').text)\n",
    "#             try :\n",
    "#                 Address.append(source.find('div',{'class':'col-md-10 col-sm-10 col-xs-12 no-gutter'}).text)\n",
    "#             except :\n",
    "#                 Address.append('Blank')\n",
    "#             try :\n",
    "#                 Number.append(source.find('div',{'class':'col-md-10 col-sm-10 col-xs-12 no-gutter contact-details'}).text.replace('\\n',''))\n",
    "#             except :\n",
    "#                 Number.append('Blank')\n",
    "#             try :\n",
    "#                 Work_Time.append(source.find_all('div',{'class':'col-md-10 col-sm-10 col-xs-12 no-gutter'})[1].text.replace('\\n                        ','').replace('\\n                    ',''))\n",
    "#             except :\n",
    "#                 Work_Time.append('Blank')    \n",
    "#             try :\n",
    "#                 GPS.append(source.find_all('div',{'class':'col-md-10 col-sm-10 col-xs-12 no-gutter'})[2].text.replace('\\n                        ','').replace('\\n                    ',''))\n",
    "#             except :\n",
    "#                 GPS.append('Blank')\n",
    "#             try :\n",
    "#                 info.append(source.find('div',{'class':'col-md-12 col-sm-12 col-xs-12 no-gutter profile-content profile-information'}).find('div').text)\n",
    "#             except :\n",
    "#                 info.append('Blank')\n",
    "#             try :\n",
    "#                 Product.append(source.find('div',{'class':'col-md-12 col-sm-12 col-xs-12 no-gutter profile-content profile-product-description'}).find('div').text)\n",
    "#             except :\n",
    "#                 Product.append('Blank')\n",
    "#         driver.close()\n",
    "#         time.sleep(1.5)\n",
    "#         f = driver.window_handles[0]\n",
    "#         driver.switch_to.window(f)\n",
    "#     except NoSuchElementException:\n",
    "#             i += 1\n",
    "#     n += 1"
   ]
  },
  {
   "cell_type": "code",
   "execution_count": null,
   "id": "8e5e7ca8",
   "metadata": {},
   "outputs": [],
   "source": [
    "# try :\n",
    "#     for i in range(15):\n",
    "#         if n == 10 :\n",
    "#             search = driver.find_element('xpath','/html/body/div[1]/div[2]/div/div[2]/div/div/nav/ul/li[2]/a')\n",
    "#             search.click()\n",
    "#             time.sleep(0.5)\n",
    "#             n += 10\n",
    "#         elif n == 20 :\n",
    "#             search = driver.find_element('xpath','/html/body/div[1]/div[2]/div/div[2]/div/div/nav/ul/li[5]/a')\n",
    "#             search.click()\n",
    "#             n += 10\n",
    "#         elif n == 30 :\n",
    "#             search = driver.find_element('xpath','/html/body/div[1]/div[2]/div/div[2]/div/div/nav/ul/li[6]/a')\n",
    "#             search.click()\n",
    "#             n += 10\n",
    "#         elif n == 40 :\n",
    "#             search = driver.find_element('xpath','/html/body/div[1]/div[2]/div/div[2]/div/div/nav/ul/li[7]/a')\n",
    "#             search.click()\n",
    "#             n += 10\n",
    "#         elif n == 50 :\n",
    "#             search = driver.find_element('xpath','/html/body/div[1]/div[2]/div/div[2]/div/div/nav/ul/li[8]/a')\n",
    "#             search.click()\n",
    "#             n += 10\n",
    "#         elif n == 60 :\n",
    "#             search = driver.find_element('xpath','/html/body/div[1]/div[2]/div/div[2]/div/div/nav/ul/li[8]/a')\n",
    "#             search.click()\n",
    "#             n += 10\n",
    "#         elif n == 70 :\n",
    "#             search = driver.find_element('xpath','/html/body/div[1]/div[2]/div/div[2]/div/div/nav/ul/li[8]/a')\n",
    "#             search.click()\n",
    "#             n += 10\n",
    "#         elif n == 80 :\n",
    "#             search = driver.find_element('xpath','/html/body/div[1]/div[2]/div/div[2]/div/div/nav/ul/li[8]/a')\n",
    "#             search.click()\n",
    "#             n += 10\n",
    "#         elif n == 90 :\n",
    "#             search = driver.find_element('xpath','/html/body/div[1]/div[2]/div/div[2]/div/div/nav/ul/li[8]/a')\n",
    "#             search.click()\n",
    "#             n += 10\n",
    "#         elif n >= 91 :\n",
    "#             search = driver.find_element('xpath','/html/body/div[1]/div[2]/div/div[2]/div/div/nav/ul/li[12]/a')\n",
    "#             search.click()\n",
    "#             n += 10\n",
    "# except NoSuchElementException:\n",
    "#     driver.back()"
   ]
  },
  {
   "cell_type": "code",
   "execution_count": 196,
   "id": "269cc8bb",
   "metadata": {},
   "outputs": [],
   "source": [
    "i = 0"
   ]
  },
  {
   "cell_type": "code",
   "execution_count": null,
   "id": "88584589",
   "metadata": {},
   "outputs": [],
   "source": []
  },
  {
   "cell_type": "code",
   "execution_count": null,
   "id": "0c62175b",
   "metadata": {},
   "outputs": [],
   "source": [
    "//loop ----------------------------------------------------------------------------------"
   ]
  },
  {
   "cell_type": "code",
   "execution_count": 125,
   "id": "6bb35010",
   "metadata": {},
   "outputs": [],
   "source": [
    "for i in range(1,18) :\n",
    "    search = driver.find_element('xpath','/html/body/div[1]/div[1]/nav/div/div[3]/div[2]/button')\n",
    "    search.click()\n",
    "    time.sleep(1.5)\n",
    "    search = driver.find_element('xpath','//*[@id=\"sidebar\"]/div[2]/div/div[1]/div[1]')\n",
    "    search.click()\n",
    "    time.sleep(1.5)\n",
    "    search = driver.find_element('xpath','//*[@id=\"sidebar\"]/div[2]/div/div[1]/div[2]/div/div/ul/li[%i]/div'%(i))\n",
    "    search.click()"
   ]
  },
  {
   "cell_type": "code",
   "execution_count": 170,
   "id": "16f8dce3",
   "metadata": {},
   "outputs": [
    {
     "name": "stdout",
     "output_type": "stream",
     "text": [
      "Done\n"
     ]
    }
   ],
   "source": [
    "    try :\n",
    "        for i in range(1,100) :\n",
    "            search = driver.find_element('xpath','//*[@id=\"bootstrap-panel--content\"]/ul/li[%i]/a'%(i))\n",
    "            search.click()\n",
    "            time.sleep(1.5)\n",
    "            driver.back()\n",
    "    except NoSuchElementException:\n",
    "        try :\n",
    "            for i in range(1,100) :\n",
    "                search = driver.find_element('xpath','//*[@id=\"bootstrap-panel--2--content\"]/ul/li[%i]/a'%(i))\n",
    "                search.click()\n",
    "                time.sleep(1.5)\n",
    "                driver.back()\n",
    "        except NoSuchElementException:\n",
    "            try :\n",
    "                for i in range(1,100) :\n",
    "                    search = driver.find_element('xpath','//*[@id=\"bootstrap-panel--3--content\"]/ul/li[%i]/a'%(i))\n",
    "                    search.click()\n",
    "                    time.sleep(1.5)\n",
    "                    driver.back()\n",
    "            except NoSuchElementException:\n",
    "                try :\n",
    "                    for i in range(1,100) :\n",
    "                        search = driver.find_element('xpath','//*[@id=\"bootstrap-panel--4--content\"]/ul/li[%i]/a'%(i))\n",
    "                        search.click()\n",
    "                        time.sleep(1.5)\n",
    "                        driver.back()\n",
    "                except NoSuchElementException:\n",
    "                    try :\n",
    "                        for i in range(1,100) :\n",
    "                            search = driver.find_element('xpath','//*[@id=\"bootstrap-panel--5--content\"]/ul/li[%i]/a'%(i))\n",
    "                            search.click()\n",
    "                            time.sleep(1.5)\n",
    "                            driver.back()\n",
    "                    except NoSuchElementException:\n",
    "                        try :\n",
    "                            for i in range(1,100) :\n",
    "                                search = driver.find_element('xpath','//*[@id=\"bootstrap-panel--6--content\"]/ul/li[%i]/a'%(i))\n",
    "                                search.click()\n",
    "                                time.sleep(1.5)\n",
    "                                driver.back()\n",
    "                        except NoSuchElementException:\n",
    "                            try :\n",
    "                                for i in range(1,100) :\n",
    "                                    search = driver.find_element('xpath','//*[@id=\"bootstrap-panel--7--content\"]/ul/li[%i]/a'%(i))\n",
    "                                    search.click()\n",
    "                                    time.sleep(1.5)\n",
    "                                    driver.back()\n",
    "                            except NoSuchElementException:\n",
    "                                try :\n",
    "                                    for i in range(1,100) :\n",
    "                                        search = driver.find_element('xpath','//*[@id=\"bootstrap-panel--8--content\"]/ul/li[%i]/a'%(i))\n",
    "                                        search.click()\n",
    "                                        time.sleep(1.5)\n",
    "                                        driver.back()\n",
    "                                except NoSuchElementException:\n",
    "                                    try :\n",
    "                                        for i in range(1,100) :\n",
    "                                            search = driver.find_element('xpath','//*[@id=\"bootstrap-panel--9--content\"]/ul/li[%i]/a'%(i))\n",
    "                                            search.click()\n",
    "                                            time.sleep(1.5)\n",
    "                                            driver.back()\n",
    "                                    except NoSuchElementException:\n",
    "                                        try :\n",
    "                                            for i in range(1,100) :\n",
    "                                                search = driver.find_element('xpath','//*[@id=\"bootstrap-panel--10--content\"]/ul/li[%i]/a'%(i))\n",
    "                                                search.click()\n",
    "                                                time.sleep(1.5)\n",
    "                                                driver.back()\n",
    "                                        except NoSuchElementException:\n",
    "                                            try :\n",
    "                                                for i in range(1,100) :\n",
    "                                                    search = driver.find_element('xpath','//*[@id=\"bootstrap-panel--11--content\"]/ul/li[%i]/a'%(i))\n",
    "                                                    search.click()\n",
    "                                                    time.sleep(1.5)\n",
    "                                                    driver.back()\n",
    "                                            except NoSuchElementException:\n",
    "                                                try :\n",
    "                                                    for i in range(1,100) :\n",
    "                                                        search = driver.find_element('xpath','//*[@id=\"bootstrap-panel--12--content\"]/ul/li[%i]/a'%(i))\n",
    "                                                        search.click()\n",
    "                                                        time.sleep(1.5)\n",
    "                                                        driver.back()\n",
    "                                                except NoSuchElementException :\n",
    "                                                    try :\n",
    "                                                        search = driver.find_element('xpath','//*[@id=\"launcher-svg-container\"]/img')\n",
    "                                                        search.click()\n",
    "                                                        time.sleep(0.5)\n",
    "                                                        search = driver.find_element('xpath','//*[@id=\"km-popup-close-button\"]')\n",
    "                                                        search.click()\n",
    "                                                    except NoSuchElementException :\n",
    "                                                        try :\n",
    "                                                            search = driver.find_element('xpath','//*[@id=\"yp-cookie-wrapper\"]/div/div[3]/a[2]')\n",
    "                                                            search.click()\n",
    "                                                        except NoSuchElementException :\n",
    "                                                            print('Done')"
   ]
  },
  {
   "cell_type": "code",
   "execution_count": 218,
   "id": "24087803",
   "metadata": {},
   "outputs": [],
   "source": [
    "# //เข้า\n",
    "for i in range(3,14):\n",
    "    try :\n",
    "        search = driver.find_element('xpath','/html/body/div[1]/div[2]/div/div[2]/div/div/div[%i]/div[1]/div/div/div/h3/a'%(i))\n",
    "        search.click()\n",
    "        c = driver.window_handles[1]\n",
    "        driver.switch_to.window(c)\n",
    "        data = driver.page_source\n",
    "        soup = BeautifulSoup(data)\n",
    "        driver.close()\n",
    "        f = driver.window_handles[0]\n",
    "        driver.switch_to.window(f)\n",
    "    except NoSuchElementException:\n",
    "        i += 1\n",
    "        search = driver.find_element('xpath','//*[@id=\"yp-cookie-wrapper\"]/div/div[3]/a[2]')\n",
    "        search.click()"
   ]
  },
  {
   "cell_type": "code",
   "execution_count": 148,
   "id": "8abd226a",
   "metadata": {},
   "outputs": [],
   "source": [
    "for source in All_Source :\n",
    "    Company_name.append(source.find('div',{'class':'breadcrumbs'}).text.replace('\\nหน้าแรก\\t> ','').replace('\\n                            ',''))\n",
    "    Type.append(source.find('div',{'class':'col-md-12 col-sm-12 col-xs-12 no-gutter profile-content profile-category'}).find('a').text)\n",
    "    Address.append(source.find('div',{'class':'col-md-10 col-sm-10 col-xs-12 no-gutter'}).text)\n",
    "    Number.append(source.find('div',{'class':'col-md-10 col-sm-10 col-xs-12 no-gutter contact-details'}).text.replace('\\n',''))\n",
    "    Work_Time.append(source.find_all('div',{'class':'col-md-10 col-sm-10 col-xs-12 no-gutter'})[1].text.replace('\\n                        ','').replace('\\n                    ',''))\n",
    "    try :\n",
    "        GPS.append(source.find_all('div',{'class':'col-md-10 col-sm-10 col-xs-12 no-gutter'})[2].text.replace('\\n                        ','').replace('\\n                    ',''))\n",
    "    except :\n",
    "        GPS.append('Blank')\n",
    "    try :\n",
    "        info.append(source.find('div',{'class':'col-md-12 col-sm-12 col-xs-12 no-gutter profile-content profile-information'}).find('div').text)\n",
    "    except :\n",
    "        info.append('Blank')\n",
    "    try :\n",
    "        Product.append(source.find('div',{'class':'col-md-12 col-sm-12 col-xs-12 no-gutter profile-content profile-product-description'}).find('div').text)\n",
    "    except :\n",
    "        Product.append('Blank')"
   ]
  },
  {
   "cell_type": "code",
   "execution_count": 99,
   "id": "caaa0027",
   "metadata": {},
   "outputs": [],
   "source": [
    "n = 10"
   ]
  },
  {
   "cell_type": "code",
   "execution_count": 87,
   "id": "09e8e9f1",
   "metadata": {},
   "outputs": [
    {
     "data": {
      "text/plain": [
       "10"
      ]
     },
     "execution_count": 87,
     "metadata": {},
     "output_type": "execute_result"
    }
   ],
   "source": [
    "n"
   ]
  },
  {
   "cell_type": "code",
   "execution_count": 100,
   "id": "9c1fe2fd",
   "metadata": {},
   "outputs": [],
   "source": [
    "try :\n",
    "    for i in range(50):\n",
    "        if n == 10 :\n",
    "            search = driver.find_element('xpath','/html/body/div[1]/div[2]/div/div[2]/div/div/nav/ul/li[2]/a')\n",
    "            search.click()\n",
    "            time.sleep(0.5)\n",
    "            n += 10\n",
    "        elif n == 20 :\n",
    "            search = driver.find_element('xpath','/html/body/div[1]/div[2]/div/div[2]/div/div/nav/ul/li[5]/a')\n",
    "            search.click()\n",
    "            n += 10\n",
    "        elif n == 30 :\n",
    "            search = driver.find_element('xpath','/html/body/div[1]/div[2]/div/div[2]/div/div/nav/ul/li[6]/a')\n",
    "            search.click()\n",
    "            n += 10\n",
    "        elif n == 40 :\n",
    "            search = driver.find_element('xpath','/html/body/div[1]/div[2]/div/div[2]/div/div/nav/ul/li[7]/a')\n",
    "            search.click()\n",
    "            n += 10\n",
    "        elif n == 50 :\n",
    "            search = driver.find_element('xpath','/html/body/div[1]/div[2]/div/div[2]/div/div/nav/ul/li[8]/a')\n",
    "            search.click()\n",
    "            n += 10\n",
    "        elif n == 60 :\n",
    "            search = driver.find_element('xpath','/html/body/div[1]/div[2]/div/div[2]/div/div/nav/ul/li[8]/a')\n",
    "            search.click()\n",
    "            n += 10\n",
    "        elif n == 70 :\n",
    "            search = driver.find_element('xpath','/html/body/div[1]/div[2]/div/div[2]/div/div/nav/ul/li[8]/a')\n",
    "            search.click()\n",
    "            n += 10\n",
    "        elif n == 80 :\n",
    "            search = driver.find_element('xpath','/html/body/div[1]/div[2]/div/div[2]/div/div/nav/ul/li[8]/a')\n",
    "            search.click()\n",
    "            n += 10\n",
    "        elif n == 90 :\n",
    "            search = driver.find_element('xpath','/html/body/div[1]/div[2]/div/div[2]/div/div/nav/ul/li[8]/a')\n",
    "            search.click()\n",
    "            n += 10\n",
    "        elif n >= 91 :\n",
    "            search = driver.find_element('xpath','/html/body/div[1]/div[2]/div/div[2]/div/div/nav/ul/li[12]/a')\n",
    "            search.click()\n",
    "            n += 10\n",
    "except NoSuchElementException:\n",
    "    driver.back()"
   ]
  },
  {
   "cell_type": "code",
   "execution_count": null,
   "id": "1e333aca",
   "metadata": {},
   "outputs": [],
   "source": []
  },
  {
   "cell_type": "code",
   "execution_count": null,
   "id": "014b8cb8",
   "metadata": {},
   "outputs": [],
   "source": [
    "---------------------------------------------------------------------------------------------------------------------------------------------------"
   ]
  },
  {
   "cell_type": "code",
   "execution_count": null,
   "id": "cc135956",
   "metadata": {},
   "outputs": [],
   "source": []
  },
  {
   "cell_type": "code",
   "execution_count": 17,
   "id": "b928bff5",
   "metadata": {},
   "outputs": [],
   "source": [
    "c = driver.window_handles[0]\n",
    "driver.switch_to.window(c)"
   ]
  },
  {
   "cell_type": "code",
   "execution_count": null,
   "id": "1fca4e2a",
   "metadata": {},
   "outputs": [],
   "source": []
  },
  {
   "cell_type": "code",
   "execution_count": 57,
   "id": "192cca45",
   "metadata": {},
   "outputs": [],
   "source": [
    "i = 0"
   ]
  },
  {
   "cell_type": "code",
   "execution_count": 23,
   "id": "c103683e",
   "metadata": {},
   "outputs": [
    {
     "data": {
      "text/plain": [
       "0"
      ]
     },
     "execution_count": 23,
     "metadata": {},
     "output_type": "execute_result"
    }
   ],
   "source": [
    "i"
   ]
  },
  {
   "cell_type": "code",
   "execution_count": 83,
   "id": "46a0720f",
   "metadata": {},
   "outputs": [],
   "source": [
    "n = 10"
   ]
  },
  {
   "cell_type": "code",
   "execution_count": 55,
   "id": "bc41204d",
   "metadata": {},
   "outputs": [
    {
     "data": {
      "text/plain": [
       "40"
      ]
     },
     "execution_count": 55,
     "metadata": {},
     "output_type": "execute_result"
    }
   ],
   "source": [
    "n"
   ]
  },
  {
   "cell_type": "code",
   "execution_count": null,
   "id": "172d091b",
   "metadata": {},
   "outputs": [],
   "source": []
  },
  {
   "cell_type": "code",
   "execution_count": null,
   "id": "a29cccee",
   "metadata": {},
   "outputs": [],
   "source": [
    "-----------------------------------------------------------------------------------------------------------------------------------------------------"
   ]
  },
  {
   "cell_type": "code",
   "execution_count": 6,
   "id": "d039cce0",
   "metadata": {},
   "outputs": [],
   "source": [
    "n = 10"
   ]
  },
  {
   "cell_type": "code",
   "execution_count": null,
   "id": "227ea7da",
   "metadata": {},
   "outputs": [],
   "source": []
  },
  {
   "cell_type": "code",
   "execution_count": null,
   "id": "5659f547",
   "metadata": {},
   "outputs": [],
   "source": [
    "try :\n",
    "    for i in range(1,100) :\n",
    "        search = driver.find_element('xpath','//*[@id=\"bootstrap-panel--content\"]/ul/li[%i]/a'%(i))\n",
    "        search.click()\n",
    "        time.sleep(1.5)\n",
    "        driver.back()\n",
    "except NoSuchElementException:\n",
    "    try :\n",
    "        for i in range(1,100) :\n",
    "            search = driver.find_element('xpath','//*[@id=\"bootstrap-panel--2--content\"]/ul/li[%i]/a'%(i))\n",
    "            search.click()\n",
    "            time.sleep(1.5)\n",
    "            driver.back()\n",
    "    except NoSuchElementException:\n",
    "        try :\n",
    "            for i in range(1,100) :\n",
    "                search = driver.find_element('xpath','//*[@id=\"bootstrap-panel--3--content\"]/ul/li[%i]/a'%(i))\n",
    "                search.click()\n",
    "                time.sleep(1.5)\n",
    "                driver.back()\n",
    "        except NoSuchElementException:\n",
    "            for i in range(1,100) :\n",
    "                search = driver.find_element('xpath','//*[@id=\"bootstrap-panel--4--content\"]/ul/li[%i]/a'%(i))\n",
    "                search.click()\n",
    "                time.sleep(1.5)\n",
    "                driver.back()"
   ]
  },
  {
   "cell_type": "code",
   "execution_count": 88,
   "id": "1cfabc0e",
   "metadata": {},
   "outputs": [],
   "source": []
  },
  {
   "cell_type": "code",
   "execution_count": 14,
   "id": "1cbe085c",
   "metadata": {},
   "outputs": [
    {
     "data": {
      "text/plain": [
       "10"
      ]
     },
     "execution_count": 14,
     "metadata": {},
     "output_type": "execute_result"
    }
   ],
   "source": [
    "n"
   ]
  },
  {
   "cell_type": "code",
   "execution_count": 13,
   "id": "60010fb3",
   "metadata": {},
   "outputs": [
    {
     "name": "stderr",
     "output_type": "stream",
     "text": [
      "ERROR:root:Internal Python error in the inspect module.\n",
      "Below is the traceback from this internal error.\n",
      "\n"
     ]
    },
    {
     "name": "stdout",
     "output_type": "stream",
     "text": [
      "Traceback (most recent call last):\n",
      "  File \"D:\\anaconda3\\lib\\site-packages\\IPython\\core\\interactiveshell.py\", line 3418, in run_code\n",
      "    exec(code_obj, self.user_global_ns, self.user_ns)\n",
      "  File \"<ipython-input-13-0adcb9dc119d>\", line 12, in <module>\n",
      "    search.click()\n",
      "  File \"D:\\anaconda3\\lib\\site-packages\\selenium\\webdriver\\remote\\webelement.py\", line 94, in click\n",
      "    self._execute(Command.CLICK_ELEMENT)\n",
      "  File \"D:\\anaconda3\\lib\\site-packages\\selenium\\webdriver\\remote\\webelement.py\", line 395, in _execute\n",
      "    return self._parent.execute(command, params)\n",
      "  File \"D:\\anaconda3\\lib\\site-packages\\selenium\\webdriver\\remote\\webdriver.py\", line 344, in execute\n",
      "    response = self.command_executor.execute(driver_command, params)\n",
      "  File \"D:\\anaconda3\\lib\\site-packages\\selenium\\webdriver\\remote\\remote_connection.py\", line 290, in execute\n",
      "    return self._request(command_info[0], url, body=data)\n",
      "  File \"D:\\anaconda3\\lib\\site-packages\\selenium\\webdriver\\remote\\remote_connection.py\", line 311, in _request\n",
      "    response = self._conn.request(method, url, body=body, headers=headers)\n",
      "  File \"D:\\anaconda3\\lib\\site-packages\\urllib3\\_request_methods.py\", line 118, in request\n",
      "    return self.request_encode_body(\n",
      "  File \"D:\\anaconda3\\lib\\site-packages\\urllib3\\_request_methods.py\", line 217, in request_encode_body\n",
      "    return self.urlopen(method, url, **extra_kw)\n",
      "  File \"D:\\anaconda3\\lib\\site-packages\\urllib3\\poolmanager.py\", line 444, in urlopen\n",
      "    response = conn.urlopen(method, u.request_uri, **kw)\n",
      "  File \"D:\\anaconda3\\lib\\site-packages\\urllib3\\connectionpool.py\", line 790, in urlopen\n",
      "    response = self._make_request(\n",
      "  File \"D:\\anaconda3\\lib\\site-packages\\urllib3\\connectionpool.py\", line 536, in _make_request\n",
      "    response = conn.getresponse()\n",
      "  File \"D:\\anaconda3\\lib\\site-packages\\urllib3\\connection.py\", line 461, in getresponse\n",
      "    httplib_response = super().getresponse()\n",
      "  File \"D:\\anaconda3\\lib\\http\\client.py\", line 1347, in getresponse\n",
      "    response.begin()\n",
      "  File \"D:\\anaconda3\\lib\\http\\client.py\", line 307, in begin\n",
      "    version, status, reason = self._read_status()\n",
      "  File \"D:\\anaconda3\\lib\\http\\client.py\", line 268, in _read_status\n",
      "    line = str(self.fp.readline(_MAXLINE + 1), \"iso-8859-1\")\n",
      "  File \"D:\\anaconda3\\lib\\socket.py\", line 669, in readinto\n",
      "    return self._sock.recv_into(b)\n",
      "KeyboardInterrupt\n",
      "\n",
      "During handling of the above exception, another exception occurred:\n",
      "\n",
      "Traceback (most recent call last):\n",
      "  File \"D:\\anaconda3\\lib\\site-packages\\IPython\\core\\interactiveshell.py\", line 2045, in showtraceback\n",
      "    stb = value._render_traceback_()\n",
      "AttributeError: 'KeyboardInterrupt' object has no attribute '_render_traceback_'\n",
      "\n",
      "During handling of the above exception, another exception occurred:\n",
      "\n",
      "Traceback (most recent call last):\n",
      "  File \"D:\\anaconda3\\lib\\site-packages\\IPython\\core\\ultratb.py\", line 1170, in get_records\n",
      "    return _fixed_getinnerframes(etb, number_of_lines_of_context, tb_offset)\n",
      "  File \"D:\\anaconda3\\lib\\site-packages\\IPython\\core\\ultratb.py\", line 316, in wrapped\n",
      "    return f(*args, **kwargs)\n",
      "  File \"D:\\anaconda3\\lib\\site-packages\\IPython\\core\\ultratb.py\", line 350, in _fixed_getinnerframes\n",
      "    records = fix_frame_records_filenames(inspect.getinnerframes(etb, context))\n",
      "  File \"D:\\anaconda3\\lib\\inspect.py\", line 1503, in getinnerframes\n",
      "    frameinfo = (tb.tb_frame,) + getframeinfo(tb, context)\n",
      "  File \"D:\\anaconda3\\lib\\inspect.py\", line 1465, in getframeinfo\n",
      "    lines, lnum = findsource(frame)\n",
      "  File \"D:\\anaconda3\\lib\\site-packages\\IPython\\core\\ultratb.py\", line 182, in findsource\n",
      "    lines = linecache.getlines(file, globals_dict)\n",
      "  File \"D:\\anaconda3\\lib\\linecache.py\", line 47, in getlines\n",
      "    return updatecache(filename, module_globals)\n",
      "  File \"D:\\anaconda3\\lib\\linecache.py\", line 136, in updatecache\n",
      "    with tokenize.open(fullname) as fp:\n",
      "  File \"D:\\anaconda3\\lib\\tokenize.py\", line 392, in open\n",
      "    buffer = _builtin_open(filename, 'rb')\n",
      "KeyboardInterrupt\n"
     ]
    },
    {
     "ename": "TypeError",
     "evalue": "object of type 'NoneType' has no len()",
     "output_type": "error",
     "traceback": [
      "\u001b[1;31m---------------------------------------------------------------------------\u001b[0m",
      "\u001b[1;31mKeyboardInterrupt\u001b[0m                         Traceback (most recent call last)",
      "    \u001b[1;31m[... skipping hidden 1 frame]\u001b[0m\n",
      "\u001b[1;32m<ipython-input-13-0adcb9dc119d>\u001b[0m in \u001b[0;36m<module>\u001b[1;34m\u001b[0m\n\u001b[0;32m     11\u001b[0m         \u001b[0msearch\u001b[0m \u001b[1;33m=\u001b[0m \u001b[0mdriver\u001b[0m\u001b[1;33m.\u001b[0m\u001b[0mfind_element\u001b[0m\u001b[1;33m(\u001b[0m\u001b[1;34m'xpath'\u001b[0m\u001b[1;33m,\u001b[0m\u001b[1;34m'//*[@id=\"bootstrap-panel--content\"]/ul/li[%x]/a'\u001b[0m\u001b[1;33m%\u001b[0m\u001b[1;33m(\u001b[0m\u001b[0mx\u001b[0m\u001b[1;33m)\u001b[0m\u001b[1;33m)\u001b[0m\u001b[1;33m\u001b[0m\u001b[1;33m\u001b[0m\u001b[0m\n\u001b[1;32m---> 12\u001b[1;33m         \u001b[0msearch\u001b[0m\u001b[1;33m.\u001b[0m\u001b[0mclick\u001b[0m\u001b[1;33m(\u001b[0m\u001b[1;33m)\u001b[0m\u001b[1;33m\u001b[0m\u001b[1;33m\u001b[0m\u001b[0m\n\u001b[0m\u001b[0;32m     13\u001b[0m         \u001b[0mtime\u001b[0m\u001b[1;33m.\u001b[0m\u001b[0msleep\u001b[0m\u001b[1;33m(\u001b[0m\u001b[1;36m1.5\u001b[0m\u001b[1;33m)\u001b[0m\u001b[1;33m\u001b[0m\u001b[1;33m\u001b[0m\u001b[0m\n",
      "\u001b[1;32mD:\\anaconda3\\lib\\site-packages\\selenium\\webdriver\\remote\\webelement.py\u001b[0m in \u001b[0;36mclick\u001b[1;34m(self)\u001b[0m\n\u001b[0;32m     93\u001b[0m         \u001b[1;34m\"\"\"Clicks the element.\"\"\"\u001b[0m\u001b[1;33m\u001b[0m\u001b[1;33m\u001b[0m\u001b[0m\n\u001b[1;32m---> 94\u001b[1;33m         \u001b[0mself\u001b[0m\u001b[1;33m.\u001b[0m\u001b[0m_execute\u001b[0m\u001b[1;33m(\u001b[0m\u001b[0mCommand\u001b[0m\u001b[1;33m.\u001b[0m\u001b[0mCLICK_ELEMENT\u001b[0m\u001b[1;33m)\u001b[0m\u001b[1;33m\u001b[0m\u001b[1;33m\u001b[0m\u001b[0m\n\u001b[0m\u001b[0;32m     95\u001b[0m \u001b[1;33m\u001b[0m\u001b[0m\n",
      "\u001b[1;32mD:\\anaconda3\\lib\\site-packages\\selenium\\webdriver\\remote\\webelement.py\u001b[0m in \u001b[0;36m_execute\u001b[1;34m(self, command, params)\u001b[0m\n\u001b[0;32m    394\u001b[0m         \u001b[0mparams\u001b[0m\u001b[1;33m[\u001b[0m\u001b[1;34m\"id\"\u001b[0m\u001b[1;33m]\u001b[0m \u001b[1;33m=\u001b[0m \u001b[0mself\u001b[0m\u001b[1;33m.\u001b[0m\u001b[0m_id\u001b[0m\u001b[1;33m\u001b[0m\u001b[1;33m\u001b[0m\u001b[0m\n\u001b[1;32m--> 395\u001b[1;33m         \u001b[1;32mreturn\u001b[0m \u001b[0mself\u001b[0m\u001b[1;33m.\u001b[0m\u001b[0m_parent\u001b[0m\u001b[1;33m.\u001b[0m\u001b[0mexecute\u001b[0m\u001b[1;33m(\u001b[0m\u001b[0mcommand\u001b[0m\u001b[1;33m,\u001b[0m \u001b[0mparams\u001b[0m\u001b[1;33m)\u001b[0m\u001b[1;33m\u001b[0m\u001b[1;33m\u001b[0m\u001b[0m\n\u001b[0m\u001b[0;32m    396\u001b[0m \u001b[1;33m\u001b[0m\u001b[0m\n",
      "\u001b[1;32mD:\\anaconda3\\lib\\site-packages\\selenium\\webdriver\\remote\\webdriver.py\u001b[0m in \u001b[0;36mexecute\u001b[1;34m(self, driver_command, params)\u001b[0m\n\u001b[0;32m    343\u001b[0m \u001b[1;33m\u001b[0m\u001b[0m\n\u001b[1;32m--> 344\u001b[1;33m         \u001b[0mresponse\u001b[0m \u001b[1;33m=\u001b[0m \u001b[0mself\u001b[0m\u001b[1;33m.\u001b[0m\u001b[0mcommand_executor\u001b[0m\u001b[1;33m.\u001b[0m\u001b[0mexecute\u001b[0m\u001b[1;33m(\u001b[0m\u001b[0mdriver_command\u001b[0m\u001b[1;33m,\u001b[0m \u001b[0mparams\u001b[0m\u001b[1;33m)\u001b[0m\u001b[1;33m\u001b[0m\u001b[1;33m\u001b[0m\u001b[0m\n\u001b[0m\u001b[0;32m    345\u001b[0m         \u001b[1;32mif\u001b[0m \u001b[0mresponse\u001b[0m\u001b[1;33m:\u001b[0m\u001b[1;33m\u001b[0m\u001b[1;33m\u001b[0m\u001b[0m\n",
      "\u001b[1;32mD:\\anaconda3\\lib\\site-packages\\selenium\\webdriver\\remote\\remote_connection.py\u001b[0m in \u001b[0;36mexecute\u001b[1;34m(self, command, params)\u001b[0m\n\u001b[0;32m    289\u001b[0m         \u001b[0murl\u001b[0m \u001b[1;33m=\u001b[0m \u001b[1;34mf\"{self._url}{path}\"\u001b[0m\u001b[1;33m\u001b[0m\u001b[1;33m\u001b[0m\u001b[0m\n\u001b[1;32m--> 290\u001b[1;33m         \u001b[1;32mreturn\u001b[0m \u001b[0mself\u001b[0m\u001b[1;33m.\u001b[0m\u001b[0m_request\u001b[0m\u001b[1;33m(\u001b[0m\u001b[0mcommand_info\u001b[0m\u001b[1;33m[\u001b[0m\u001b[1;36m0\u001b[0m\u001b[1;33m]\u001b[0m\u001b[1;33m,\u001b[0m \u001b[0murl\u001b[0m\u001b[1;33m,\u001b[0m \u001b[0mbody\u001b[0m\u001b[1;33m=\u001b[0m\u001b[0mdata\u001b[0m\u001b[1;33m)\u001b[0m\u001b[1;33m\u001b[0m\u001b[1;33m\u001b[0m\u001b[0m\n\u001b[0m\u001b[0;32m    291\u001b[0m \u001b[1;33m\u001b[0m\u001b[0m\n",
      "\u001b[1;32mD:\\anaconda3\\lib\\site-packages\\selenium\\webdriver\\remote\\remote_connection.py\u001b[0m in \u001b[0;36m_request\u001b[1;34m(self, method, url, body)\u001b[0m\n\u001b[0;32m    310\u001b[0m         \u001b[1;32mif\u001b[0m \u001b[0mself\u001b[0m\u001b[1;33m.\u001b[0m\u001b[0mkeep_alive\u001b[0m\u001b[1;33m:\u001b[0m\u001b[1;33m\u001b[0m\u001b[1;33m\u001b[0m\u001b[0m\n\u001b[1;32m--> 311\u001b[1;33m             \u001b[0mresponse\u001b[0m \u001b[1;33m=\u001b[0m \u001b[0mself\u001b[0m\u001b[1;33m.\u001b[0m\u001b[0m_conn\u001b[0m\u001b[1;33m.\u001b[0m\u001b[0mrequest\u001b[0m\u001b[1;33m(\u001b[0m\u001b[0mmethod\u001b[0m\u001b[1;33m,\u001b[0m \u001b[0murl\u001b[0m\u001b[1;33m,\u001b[0m \u001b[0mbody\u001b[0m\u001b[1;33m=\u001b[0m\u001b[0mbody\u001b[0m\u001b[1;33m,\u001b[0m \u001b[0mheaders\u001b[0m\u001b[1;33m=\u001b[0m\u001b[0mheaders\u001b[0m\u001b[1;33m)\u001b[0m\u001b[1;33m\u001b[0m\u001b[1;33m\u001b[0m\u001b[0m\n\u001b[0m\u001b[0;32m    312\u001b[0m             \u001b[0mstatuscode\u001b[0m \u001b[1;33m=\u001b[0m \u001b[0mresponse\u001b[0m\u001b[1;33m.\u001b[0m\u001b[0mstatus\u001b[0m\u001b[1;33m\u001b[0m\u001b[1;33m\u001b[0m\u001b[0m\n",
      "\u001b[1;32mD:\\anaconda3\\lib\\site-packages\\urllib3\\_request_methods.py\u001b[0m in \u001b[0;36mrequest\u001b[1;34m(self, method, url, body, fields, headers, json, **urlopen_kw)\u001b[0m\n\u001b[0;32m    117\u001b[0m         \u001b[1;32melse\u001b[0m\u001b[1;33m:\u001b[0m\u001b[1;33m\u001b[0m\u001b[1;33m\u001b[0m\u001b[0m\n\u001b[1;32m--> 118\u001b[1;33m             return self.request_encode_body(\n\u001b[0m\u001b[0;32m    119\u001b[0m                 \u001b[0mmethod\u001b[0m\u001b[1;33m,\u001b[0m \u001b[0murl\u001b[0m\u001b[1;33m,\u001b[0m \u001b[0mfields\u001b[0m\u001b[1;33m=\u001b[0m\u001b[0mfields\u001b[0m\u001b[1;33m,\u001b[0m \u001b[0mheaders\u001b[0m\u001b[1;33m=\u001b[0m\u001b[0mheaders\u001b[0m\u001b[1;33m,\u001b[0m \u001b[1;33m**\u001b[0m\u001b[0murlopen_kw\u001b[0m\u001b[1;33m\u001b[0m\u001b[1;33m\u001b[0m\u001b[0m\n",
      "\u001b[1;32mD:\\anaconda3\\lib\\site-packages\\urllib3\\_request_methods.py\u001b[0m in \u001b[0;36mrequest_encode_body\u001b[1;34m(self, method, url, fields, headers, encode_multipart, multipart_boundary, **urlopen_kw)\u001b[0m\n\u001b[0;32m    216\u001b[0m \u001b[1;33m\u001b[0m\u001b[0m\n\u001b[1;32m--> 217\u001b[1;33m         \u001b[1;32mreturn\u001b[0m \u001b[0mself\u001b[0m\u001b[1;33m.\u001b[0m\u001b[0murlopen\u001b[0m\u001b[1;33m(\u001b[0m\u001b[0mmethod\u001b[0m\u001b[1;33m,\u001b[0m \u001b[0murl\u001b[0m\u001b[1;33m,\u001b[0m \u001b[1;33m**\u001b[0m\u001b[0mextra_kw\u001b[0m\u001b[1;33m)\u001b[0m\u001b[1;33m\u001b[0m\u001b[1;33m\u001b[0m\u001b[0m\n\u001b[0m",
      "\u001b[1;32mD:\\anaconda3\\lib\\site-packages\\urllib3\\poolmanager.py\u001b[0m in \u001b[0;36murlopen\u001b[1;34m(self, method, url, redirect, **kw)\u001b[0m\n\u001b[0;32m    443\u001b[0m         \u001b[1;32melse\u001b[0m\u001b[1;33m:\u001b[0m\u001b[1;33m\u001b[0m\u001b[1;33m\u001b[0m\u001b[0m\n\u001b[1;32m--> 444\u001b[1;33m             \u001b[0mresponse\u001b[0m \u001b[1;33m=\u001b[0m \u001b[0mconn\u001b[0m\u001b[1;33m.\u001b[0m\u001b[0murlopen\u001b[0m\u001b[1;33m(\u001b[0m\u001b[0mmethod\u001b[0m\u001b[1;33m,\u001b[0m \u001b[0mu\u001b[0m\u001b[1;33m.\u001b[0m\u001b[0mrequest_uri\u001b[0m\u001b[1;33m,\u001b[0m \u001b[1;33m**\u001b[0m\u001b[0mkw\u001b[0m\u001b[1;33m)\u001b[0m\u001b[1;33m\u001b[0m\u001b[1;33m\u001b[0m\u001b[0m\n\u001b[0m\u001b[0;32m    445\u001b[0m \u001b[1;33m\u001b[0m\u001b[0m\n",
      "\u001b[1;32mD:\\anaconda3\\lib\\site-packages\\urllib3\\connectionpool.py\u001b[0m in \u001b[0;36murlopen\u001b[1;34m(self, method, url, body, headers, retries, redirect, assert_same_host, timeout, pool_timeout, release_conn, chunked, body_pos, preload_content, decode_content, **response_kw)\u001b[0m\n\u001b[0;32m    789\u001b[0m             \u001b[1;31m# Make the request on the HTTPConnection object\u001b[0m\u001b[1;33m\u001b[0m\u001b[1;33m\u001b[0m\u001b[1;33m\u001b[0m\u001b[0m\n\u001b[1;32m--> 790\u001b[1;33m             response = self._make_request(\n\u001b[0m\u001b[0;32m    791\u001b[0m                 \u001b[0mconn\u001b[0m\u001b[1;33m,\u001b[0m\u001b[1;33m\u001b[0m\u001b[1;33m\u001b[0m\u001b[0m\n",
      "\u001b[1;32mD:\\anaconda3\\lib\\site-packages\\urllib3\\connectionpool.py\u001b[0m in \u001b[0;36m_make_request\u001b[1;34m(self, conn, method, url, body, headers, retries, timeout, chunked, response_conn, preload_content, decode_content, enforce_content_length)\u001b[0m\n\u001b[0;32m    535\u001b[0m         \u001b[1;32mtry\u001b[0m\u001b[1;33m:\u001b[0m\u001b[1;33m\u001b[0m\u001b[1;33m\u001b[0m\u001b[0m\n\u001b[1;32m--> 536\u001b[1;33m             \u001b[0mresponse\u001b[0m \u001b[1;33m=\u001b[0m \u001b[0mconn\u001b[0m\u001b[1;33m.\u001b[0m\u001b[0mgetresponse\u001b[0m\u001b[1;33m(\u001b[0m\u001b[1;33m)\u001b[0m\u001b[1;33m\u001b[0m\u001b[1;33m\u001b[0m\u001b[0m\n\u001b[0m\u001b[0;32m    537\u001b[0m         \u001b[1;32mexcept\u001b[0m \u001b[1;33m(\u001b[0m\u001b[0mBaseSSLError\u001b[0m\u001b[1;33m,\u001b[0m \u001b[0mOSError\u001b[0m\u001b[1;33m)\u001b[0m \u001b[1;32mas\u001b[0m \u001b[0me\u001b[0m\u001b[1;33m:\u001b[0m\u001b[1;33m\u001b[0m\u001b[1;33m\u001b[0m\u001b[0m\n",
      "\u001b[1;32mD:\\anaconda3\\lib\\site-packages\\urllib3\\connection.py\u001b[0m in \u001b[0;36mgetresponse\u001b[1;34m(self)\u001b[0m\n\u001b[0;32m    460\u001b[0m         \u001b[1;31m# Get the response from http.client.HTTPConnection\u001b[0m\u001b[1;33m\u001b[0m\u001b[1;33m\u001b[0m\u001b[1;33m\u001b[0m\u001b[0m\n\u001b[1;32m--> 461\u001b[1;33m         \u001b[0mhttplib_response\u001b[0m \u001b[1;33m=\u001b[0m \u001b[0msuper\u001b[0m\u001b[1;33m(\u001b[0m\u001b[1;33m)\u001b[0m\u001b[1;33m.\u001b[0m\u001b[0mgetresponse\u001b[0m\u001b[1;33m(\u001b[0m\u001b[1;33m)\u001b[0m\u001b[1;33m\u001b[0m\u001b[1;33m\u001b[0m\u001b[0m\n\u001b[0m\u001b[0;32m    462\u001b[0m \u001b[1;33m\u001b[0m\u001b[0m\n",
      "\u001b[1;32mD:\\anaconda3\\lib\\http\\client.py\u001b[0m in \u001b[0;36mgetresponse\u001b[1;34m(self)\u001b[0m\n\u001b[0;32m   1346\u001b[0m             \u001b[1;32mtry\u001b[0m\u001b[1;33m:\u001b[0m\u001b[1;33m\u001b[0m\u001b[1;33m\u001b[0m\u001b[0m\n\u001b[1;32m-> 1347\u001b[1;33m                 \u001b[0mresponse\u001b[0m\u001b[1;33m.\u001b[0m\u001b[0mbegin\u001b[0m\u001b[1;33m(\u001b[0m\u001b[1;33m)\u001b[0m\u001b[1;33m\u001b[0m\u001b[1;33m\u001b[0m\u001b[0m\n\u001b[0m\u001b[0;32m   1348\u001b[0m             \u001b[1;32mexcept\u001b[0m \u001b[0mConnectionError\u001b[0m\u001b[1;33m:\u001b[0m\u001b[1;33m\u001b[0m\u001b[1;33m\u001b[0m\u001b[0m\n",
      "\u001b[1;32mD:\\anaconda3\\lib\\http\\client.py\u001b[0m in \u001b[0;36mbegin\u001b[1;34m(self)\u001b[0m\n\u001b[0;32m    306\u001b[0m         \u001b[1;32mwhile\u001b[0m \u001b[1;32mTrue\u001b[0m\u001b[1;33m:\u001b[0m\u001b[1;33m\u001b[0m\u001b[1;33m\u001b[0m\u001b[0m\n\u001b[1;32m--> 307\u001b[1;33m             \u001b[0mversion\u001b[0m\u001b[1;33m,\u001b[0m \u001b[0mstatus\u001b[0m\u001b[1;33m,\u001b[0m \u001b[0mreason\u001b[0m \u001b[1;33m=\u001b[0m \u001b[0mself\u001b[0m\u001b[1;33m.\u001b[0m\u001b[0m_read_status\u001b[0m\u001b[1;33m(\u001b[0m\u001b[1;33m)\u001b[0m\u001b[1;33m\u001b[0m\u001b[1;33m\u001b[0m\u001b[0m\n\u001b[0m\u001b[0;32m    308\u001b[0m             \u001b[1;32mif\u001b[0m \u001b[0mstatus\u001b[0m \u001b[1;33m!=\u001b[0m \u001b[0mCONTINUE\u001b[0m\u001b[1;33m:\u001b[0m\u001b[1;33m\u001b[0m\u001b[1;33m\u001b[0m\u001b[0m\n",
      "\u001b[1;32mD:\\anaconda3\\lib\\http\\client.py\u001b[0m in \u001b[0;36m_read_status\u001b[1;34m(self)\u001b[0m\n\u001b[0;32m    267\u001b[0m     \u001b[1;32mdef\u001b[0m \u001b[0m_read_status\u001b[0m\u001b[1;33m(\u001b[0m\u001b[0mself\u001b[0m\u001b[1;33m)\u001b[0m\u001b[1;33m:\u001b[0m\u001b[1;33m\u001b[0m\u001b[1;33m\u001b[0m\u001b[0m\n\u001b[1;32m--> 268\u001b[1;33m         \u001b[0mline\u001b[0m \u001b[1;33m=\u001b[0m \u001b[0mstr\u001b[0m\u001b[1;33m(\u001b[0m\u001b[0mself\u001b[0m\u001b[1;33m.\u001b[0m\u001b[0mfp\u001b[0m\u001b[1;33m.\u001b[0m\u001b[0mreadline\u001b[0m\u001b[1;33m(\u001b[0m\u001b[0m_MAXLINE\u001b[0m \u001b[1;33m+\u001b[0m \u001b[1;36m1\u001b[0m\u001b[1;33m)\u001b[0m\u001b[1;33m,\u001b[0m \u001b[1;34m\"iso-8859-1\"\u001b[0m\u001b[1;33m)\u001b[0m\u001b[1;33m\u001b[0m\u001b[1;33m\u001b[0m\u001b[0m\n\u001b[0m\u001b[0;32m    269\u001b[0m         \u001b[1;32mif\u001b[0m \u001b[0mlen\u001b[0m\u001b[1;33m(\u001b[0m\u001b[0mline\u001b[0m\u001b[1;33m)\u001b[0m \u001b[1;33m>\u001b[0m \u001b[0m_MAXLINE\u001b[0m\u001b[1;33m:\u001b[0m\u001b[1;33m\u001b[0m\u001b[1;33m\u001b[0m\u001b[0m\n",
      "\u001b[1;32mD:\\anaconda3\\lib\\socket.py\u001b[0m in \u001b[0;36mreadinto\u001b[1;34m(self, b)\u001b[0m\n\u001b[0;32m    668\u001b[0m             \u001b[1;32mtry\u001b[0m\u001b[1;33m:\u001b[0m\u001b[1;33m\u001b[0m\u001b[1;33m\u001b[0m\u001b[0m\n\u001b[1;32m--> 669\u001b[1;33m                 \u001b[1;32mreturn\u001b[0m \u001b[0mself\u001b[0m\u001b[1;33m.\u001b[0m\u001b[0m_sock\u001b[0m\u001b[1;33m.\u001b[0m\u001b[0mrecv_into\u001b[0m\u001b[1;33m(\u001b[0m\u001b[0mb\u001b[0m\u001b[1;33m)\u001b[0m\u001b[1;33m\u001b[0m\u001b[1;33m\u001b[0m\u001b[0m\n\u001b[0m\u001b[0;32m    670\u001b[0m             \u001b[1;32mexcept\u001b[0m \u001b[0mtimeout\u001b[0m\u001b[1;33m:\u001b[0m\u001b[1;33m\u001b[0m\u001b[1;33m\u001b[0m\u001b[0m\n",
      "\u001b[1;31mKeyboardInterrupt\u001b[0m: ",
      "\nDuring handling of the above exception, another exception occurred:\n",
      "\u001b[1;31mAttributeError\u001b[0m                            Traceback (most recent call last)",
      "\u001b[1;32mD:\\anaconda3\\lib\\site-packages\\IPython\\core\\interactiveshell.py\u001b[0m in \u001b[0;36mshowtraceback\u001b[1;34m(self, exc_tuple, filename, tb_offset, exception_only, running_compiled_code)\u001b[0m\n\u001b[0;32m   2044\u001b[0m                         \u001b[1;31m# in the engines. This should return a list of strings.\u001b[0m\u001b[1;33m\u001b[0m\u001b[1;33m\u001b[0m\u001b[1;33m\u001b[0m\u001b[0m\n\u001b[1;32m-> 2045\u001b[1;33m                         \u001b[0mstb\u001b[0m \u001b[1;33m=\u001b[0m \u001b[0mvalue\u001b[0m\u001b[1;33m.\u001b[0m\u001b[0m_render_traceback_\u001b[0m\u001b[1;33m(\u001b[0m\u001b[1;33m)\u001b[0m\u001b[1;33m\u001b[0m\u001b[1;33m\u001b[0m\u001b[0m\n\u001b[0m\u001b[0;32m   2046\u001b[0m                     \u001b[1;32mexcept\u001b[0m \u001b[0mException\u001b[0m\u001b[1;33m:\u001b[0m\u001b[1;33m\u001b[0m\u001b[1;33m\u001b[0m\u001b[0m\n",
      "\u001b[1;31mAttributeError\u001b[0m: 'KeyboardInterrupt' object has no attribute '_render_traceback_'",
      "\nDuring handling of the above exception, another exception occurred:\n",
      "\u001b[1;31mTypeError\u001b[0m                                 Traceback (most recent call last)",
      "    \u001b[1;31m[... skipping hidden 1 frame]\u001b[0m\n",
      "\u001b[1;32mD:\\anaconda3\\lib\\site-packages\\IPython\\core\\interactiveshell.py\u001b[0m in \u001b[0;36mshowtraceback\u001b[1;34m(self, exc_tuple, filename, tb_offset, exception_only, running_compiled_code)\u001b[0m\n\u001b[0;32m   2045\u001b[0m                         \u001b[0mstb\u001b[0m \u001b[1;33m=\u001b[0m \u001b[0mvalue\u001b[0m\u001b[1;33m.\u001b[0m\u001b[0m_render_traceback_\u001b[0m\u001b[1;33m(\u001b[0m\u001b[1;33m)\u001b[0m\u001b[1;33m\u001b[0m\u001b[1;33m\u001b[0m\u001b[0m\n\u001b[0;32m   2046\u001b[0m                     \u001b[1;32mexcept\u001b[0m \u001b[0mException\u001b[0m\u001b[1;33m:\u001b[0m\u001b[1;33m\u001b[0m\u001b[1;33m\u001b[0m\u001b[0m\n\u001b[1;32m-> 2047\u001b[1;33m                         stb = self.InteractiveTB.structured_traceback(etype,\n\u001b[0m\u001b[0;32m   2048\u001b[0m                                             value, tb, tb_offset=tb_offset)\n\u001b[0;32m   2049\u001b[0m \u001b[1;33m\u001b[0m\u001b[0m\n",
      "\u001b[1;32mD:\\anaconda3\\lib\\site-packages\\IPython\\core\\ultratb.py\u001b[0m in \u001b[0;36mstructured_traceback\u001b[1;34m(self, etype, value, tb, tb_offset, number_of_lines_of_context)\u001b[0m\n\u001b[0;32m   1434\u001b[0m         \u001b[1;32melse\u001b[0m\u001b[1;33m:\u001b[0m\u001b[1;33m\u001b[0m\u001b[1;33m\u001b[0m\u001b[0m\n\u001b[0;32m   1435\u001b[0m             \u001b[0mself\u001b[0m\u001b[1;33m.\u001b[0m\u001b[0mtb\u001b[0m \u001b[1;33m=\u001b[0m \u001b[0mtb\u001b[0m\u001b[1;33m\u001b[0m\u001b[1;33m\u001b[0m\u001b[0m\n\u001b[1;32m-> 1436\u001b[1;33m         return FormattedTB.structured_traceback(\n\u001b[0m\u001b[0;32m   1437\u001b[0m             self, etype, value, tb, tb_offset, number_of_lines_of_context)\n\u001b[0;32m   1438\u001b[0m \u001b[1;33m\u001b[0m\u001b[0m\n",
      "\u001b[1;32mD:\\anaconda3\\lib\\site-packages\\IPython\\core\\ultratb.py\u001b[0m in \u001b[0;36mstructured_traceback\u001b[1;34m(self, etype, value, tb, tb_offset, number_of_lines_of_context)\u001b[0m\n\u001b[0;32m   1334\u001b[0m         \u001b[1;32mif\u001b[0m \u001b[0mmode\u001b[0m \u001b[1;32min\u001b[0m \u001b[0mself\u001b[0m\u001b[1;33m.\u001b[0m\u001b[0mverbose_modes\u001b[0m\u001b[1;33m:\u001b[0m\u001b[1;33m\u001b[0m\u001b[1;33m\u001b[0m\u001b[0m\n\u001b[0;32m   1335\u001b[0m             \u001b[1;31m# Verbose modes need a full traceback\u001b[0m\u001b[1;33m\u001b[0m\u001b[1;33m\u001b[0m\u001b[1;33m\u001b[0m\u001b[0m\n\u001b[1;32m-> 1336\u001b[1;33m             return VerboseTB.structured_traceback(\n\u001b[0m\u001b[0;32m   1337\u001b[0m                 \u001b[0mself\u001b[0m\u001b[1;33m,\u001b[0m \u001b[0metype\u001b[0m\u001b[1;33m,\u001b[0m \u001b[0mvalue\u001b[0m\u001b[1;33m,\u001b[0m \u001b[0mtb\u001b[0m\u001b[1;33m,\u001b[0m \u001b[0mtb_offset\u001b[0m\u001b[1;33m,\u001b[0m \u001b[0mnumber_of_lines_of_context\u001b[0m\u001b[1;33m\u001b[0m\u001b[1;33m\u001b[0m\u001b[0m\n\u001b[0;32m   1338\u001b[0m             )\n",
      "\u001b[1;32mD:\\anaconda3\\lib\\site-packages\\IPython\\core\\ultratb.py\u001b[0m in \u001b[0;36mstructured_traceback\u001b[1;34m(self, etype, evalue, etb, tb_offset, number_of_lines_of_context)\u001b[0m\n\u001b[0;32m   1191\u001b[0m         \u001b[1;34m\"\"\"Return a nice text document describing the traceback.\"\"\"\u001b[0m\u001b[1;33m\u001b[0m\u001b[1;33m\u001b[0m\u001b[0m\n\u001b[0;32m   1192\u001b[0m \u001b[1;33m\u001b[0m\u001b[0m\n\u001b[1;32m-> 1193\u001b[1;33m         formatted_exception = self.format_exception_as_a_whole(etype, evalue, etb, number_of_lines_of_context,\n\u001b[0m\u001b[0;32m   1194\u001b[0m                                                                tb_offset)\n\u001b[0;32m   1195\u001b[0m \u001b[1;33m\u001b[0m\u001b[0m\n",
      "\u001b[1;32mD:\\anaconda3\\lib\\site-packages\\IPython\\core\\ultratb.py\u001b[0m in \u001b[0;36mformat_exception_as_a_whole\u001b[1;34m(self, etype, evalue, etb, number_of_lines_of_context, tb_offset)\u001b[0m\n\u001b[0;32m   1149\u001b[0m \u001b[1;33m\u001b[0m\u001b[0m\n\u001b[0;32m   1150\u001b[0m \u001b[1;33m\u001b[0m\u001b[0m\n\u001b[1;32m-> 1151\u001b[1;33m         \u001b[0mlast_unique\u001b[0m\u001b[1;33m,\u001b[0m \u001b[0mrecursion_repeat\u001b[0m \u001b[1;33m=\u001b[0m \u001b[0mfind_recursion\u001b[0m\u001b[1;33m(\u001b[0m\u001b[0morig_etype\u001b[0m\u001b[1;33m,\u001b[0m \u001b[0mevalue\u001b[0m\u001b[1;33m,\u001b[0m \u001b[0mrecords\u001b[0m\u001b[1;33m)\u001b[0m\u001b[1;33m\u001b[0m\u001b[1;33m\u001b[0m\u001b[0m\n\u001b[0m\u001b[0;32m   1152\u001b[0m \u001b[1;33m\u001b[0m\u001b[0m\n\u001b[0;32m   1153\u001b[0m         \u001b[0mframes\u001b[0m \u001b[1;33m=\u001b[0m \u001b[0mself\u001b[0m\u001b[1;33m.\u001b[0m\u001b[0mformat_records\u001b[0m\u001b[1;33m(\u001b[0m\u001b[0mrecords\u001b[0m\u001b[1;33m,\u001b[0m \u001b[0mlast_unique\u001b[0m\u001b[1;33m,\u001b[0m \u001b[0mrecursion_repeat\u001b[0m\u001b[1;33m)\u001b[0m\u001b[1;33m\u001b[0m\u001b[1;33m\u001b[0m\u001b[0m\n",
      "\u001b[1;32mD:\\anaconda3\\lib\\site-packages\\IPython\\core\\ultratb.py\u001b[0m in \u001b[0;36mfind_recursion\u001b[1;34m(etype, value, records)\u001b[0m\n\u001b[0;32m    449\u001b[0m     \u001b[1;31m# first frame (from in to out) that looks different.\u001b[0m\u001b[1;33m\u001b[0m\u001b[1;33m\u001b[0m\u001b[1;33m\u001b[0m\u001b[0m\n\u001b[0;32m    450\u001b[0m     \u001b[1;32mif\u001b[0m \u001b[1;32mnot\u001b[0m \u001b[0mis_recursion_error\u001b[0m\u001b[1;33m(\u001b[0m\u001b[0metype\u001b[0m\u001b[1;33m,\u001b[0m \u001b[0mvalue\u001b[0m\u001b[1;33m,\u001b[0m \u001b[0mrecords\u001b[0m\u001b[1;33m)\u001b[0m\u001b[1;33m:\u001b[0m\u001b[1;33m\u001b[0m\u001b[1;33m\u001b[0m\u001b[0m\n\u001b[1;32m--> 451\u001b[1;33m         \u001b[1;32mreturn\u001b[0m \u001b[0mlen\u001b[0m\u001b[1;33m(\u001b[0m\u001b[0mrecords\u001b[0m\u001b[1;33m)\u001b[0m\u001b[1;33m,\u001b[0m \u001b[1;36m0\u001b[0m\u001b[1;33m\u001b[0m\u001b[1;33m\u001b[0m\u001b[0m\n\u001b[0m\u001b[0;32m    452\u001b[0m \u001b[1;33m\u001b[0m\u001b[0m\n\u001b[0;32m    453\u001b[0m     \u001b[1;31m# Select filename, lineno, func_name to track frames with\u001b[0m\u001b[1;33m\u001b[0m\u001b[1;33m\u001b[0m\u001b[1;33m\u001b[0m\u001b[0m\n",
      "\u001b[1;31mTypeError\u001b[0m: object of type 'NoneType' has no len()"
     ]
    }
   ],
   "source": [
    "try :\n",
    "    for x in range(1,100) :\n",
    "        search = driver.find_element('xpath','/html/body/div[1]/div[1]/nav/div/div[3]/div[2]/button')\n",
    "        search.click()\n",
    "        time.sleep(1.5)\n",
    "        search = driver.find_element('xpath','//*[@id=\"sidebar\"]/div[2]/div/div[1]/div[1]')\n",
    "        search.click()\n",
    "        time.sleep(1.5)\n",
    "        search = driver.find_element('xpath','//*[@id=\"sidebar\"]/div[2]/div/div[1]/div[2]/div/div/ul/li[17]/div')\n",
    "        search.click()\n",
    "        search = driver.find_element('xpath','//*[@id=\"bootstrap-panel--content\"]/ul/li[%x]/a'%(x))\n",
    "        search.click()\n",
    "        time.sleep(1.5)\n",
    "        try :\n",
    "            for i in range(50):\n",
    "                for i in range(3,14):\n",
    "                    try :\n",
    "                        search = driver.find_element('xpath','//*[@id=\"yp-cookie-wrapper\"]/div/div[3]/a[2]')\n",
    "                        search.click()\n",
    "                    except :\n",
    "                        pass\n",
    "                    try :\n",
    "                        search = driver.find_element('xpath','/html/body/div[1]/div[2]/div/div[2]/div/div/div[%i]/div[1]/div/div/div/h3/a'%(i))\n",
    "                        search.click()\n",
    "                        time.sleep(0.5)\n",
    "                        c = driver.window_handles[1]\n",
    "                        driver.switch_to.window(c)\n",
    "                        data = driver.page_source\n",
    "                        soup = BeautifulSoup(data)\n",
    "                        All_Source = soup.find_all('div',{'class':'region region-content'})\n",
    "                        for source in All_Source :\n",
    "                            Company_name.append(source.find('div',{'class':'breadcrumbs'}).text.replace('\\nหน้าแรก\\t> ','').replace('\\n                            ',''))\n",
    "                            Type.append(source.find('div',{'class':'col-md-12 col-sm-12 col-xs-12 no-gutter profile-content profile-category'}).find('a').text)\n",
    "                            try :\n",
    "                                Address.append(source.find('div',{'class':'col-md-10 col-sm-10 col-xs-12 no-gutter'}).text)\n",
    "                            except :\n",
    "                                Address.append('Blank')\n",
    "                            try :\n",
    "                                Number.append(source.find('div',{'class':'col-md-10 col-sm-10 col-xs-12 no-gutter contact-details'}).text.replace('\\n',''))\n",
    "                            except :\n",
    "                                Number.append('Blank')\n",
    "                            try :\n",
    "                                Work_Time.append(source.find_all('div',{'class':'col-md-10 col-sm-10 col-xs-12 no-gutter'})[1].text.replace('\\n                        ','').replace('\\n                    ',''))\n",
    "                            except :\n",
    "                                Work_Time.append('Blank')    \n",
    "                            try :\n",
    "                                GPS.append(source.find_all('div',{'class':'col-md-10 col-sm-10 col-xs-12 no-gutter'})[2].text.replace('\\n                        ','').replace('\\n                    ',''))\n",
    "                            except :\n",
    "                                GPS.append('Blank')\n",
    "                            try :\n",
    "                                info.append(source.find('div',{'class':'col-md-12 col-sm-12 col-xs-12 no-gutter profile-content profile-information'}).find('div').text)\n",
    "                            except :\n",
    "                                info.append('Blank')\n",
    "                            try :\n",
    "                                Product.append(source.find('div',{'class':'col-md-12 col-sm-12 col-xs-12 no-gutter profile-content profile-product-description'}).find('div').text)\n",
    "                            except :\n",
    "                                Product.append('Blank')\n",
    "                        driver.close()\n",
    "                        time.sleep(1.5)\n",
    "                        f = driver.window_handles[0]\n",
    "                        driver.switch_to.window(f)\n",
    "                    except NoSuchElementException:\n",
    "                            i += 1\n",
    "                if n == 10 :\n",
    "                    search = driver.find_element('xpath','/html/body/div[1]/div[2]/div/div[2]/div/div/nav/ul/li[2]/a')\n",
    "                    search.click()\n",
    "                    time.sleep(0.5)\n",
    "                    n += 10\n",
    "                elif n == 20 :\n",
    "                    search = driver.find_element('xpath','/html/body/div[1]/div[2]/div/div[2]/div/div/nav/ul/li[5]/a')\n",
    "                    search.click()\n",
    "                    n += 10\n",
    "                elif n == 30 :\n",
    "                    search = driver.find_element('xpath','/html/body/div[1]/div[2]/div/div[2]/div/div/nav/ul/li[6]/a')\n",
    "                    search.click()\n",
    "                    n += 10\n",
    "                elif n == 40 :\n",
    "                    search = driver.find_element('xpath','/html/body/div[1]/div[2]/div/div[2]/div/div/nav/ul/li[7]/a')\n",
    "                    search.click()\n",
    "                    n += 10\n",
    "                elif n == 50 :\n",
    "                    search = driver.find_element('xpath','/html/body/div[1]/div[2]/div/div[2]/div/div/nav/ul/li[8]/a')\n",
    "                    search.click()\n",
    "                    n += 10\n",
    "                elif n == 60 :\n",
    "                    search = driver.find_element('xpath','/html/body/div[1]/div[2]/div/div[2]/div/div/nav/ul/li[8]/a')\n",
    "                    search.click()\n",
    "                    n += 10\n",
    "                elif n == 70 :\n",
    "                    search = driver.find_element('xpath','/html/body/div[1]/div[2]/div/div[2]/div/div/nav/ul/li[8]/a')\n",
    "                    search.click()\n",
    "                    n += 10\n",
    "                elif n == 80 :\n",
    "                    search = driver.find_element('xpath','/html/body/div[1]/div[2]/div/div[2]/div/div/nav/ul/li[8]/a')\n",
    "                    search.click()\n",
    "                    n += 10\n",
    "                elif n == 90 :\n",
    "                    search = driver.find_element('xpath','/html/body/div[1]/div[2]/div/div[2]/div/div/nav/ul/li[8]/a')\n",
    "                    search.click()\n",
    "                    n += 10\n",
    "                elif n >= 91 :\n",
    "                    search = driver.find_element('xpath','/html/body/div[1]/div[2]/div/div[2]/div/div/nav/ul/li[12]/a')\n",
    "                    search.click()\n",
    "                    n += 10\n",
    "        except : \n",
    "            n = 10\n",
    "except NoSuchElementException:\n",
    "    n = 10\n",
    "    try :\n",
    "        for i in range(1,100) :\n",
    "            search = driver.find_element('xpath','/html/body/div[1]/div[1]/nav/div/div[3]/div[2]/button')\n",
    "            search.click()\n",
    "            time.sleep(1.5)\n",
    "            search = driver.find_element('xpath','//*[@id=\"sidebar\"]/div[2]/div/div[1]/div[1]')\n",
    "            search.click()\n",
    "            time.sleep(1.5)\n",
    "            search = driver.find_element('xpath','//*[@id=\"sidebar\"]/div[2]/div/div[1]/div[2]/div/div/ul/li[17]/div')\n",
    "            search.click()\n",
    "            search = driver.find_element('xpath','//*[@id=\"bootstrap-panel--2--content\"]/ul/li[%i]/a'%(i))\n",
    "            search.click()\n",
    "            time.sleep(1.5)\n",
    "            try :\n",
    "                for i in range(50):\n",
    "                    for i in range(3,14):\n",
    "                        try :\n",
    "                            search = driver.find_element('xpath','//*[@id=\"yp-cookie-wrapper\"]/div/div[3]/a[2]')\n",
    "                            search.click()\n",
    "                        except :\n",
    "                            pass\n",
    "                        try :\n",
    "                            search = driver.find_element('xpath','/html/body/div[1]/div[2]/div/div[2]/div/div/div[%i]/div[1]/div/div/div/h3/a'%(i))\n",
    "                            search.click()\n",
    "                            time.sleep(1.5)\n",
    "                            c = driver.window_handles[1]\n",
    "                            driver.switch_to.window(c)\n",
    "                            data = driver.page_source\n",
    "                            soup = BeautifulSoup(data)\n",
    "                            All_Source = soup.find_all('div',{'class':'region region-content'})\n",
    "                            for source in All_Source :\n",
    "                                Company_name.append(source.find('div',{'class':'breadcrumbs'}).text.replace('\\nหน้าแรก\\t> ','').replace('\\n                            ',''))\n",
    "                                Type.append(source.find('div',{'class':'col-md-12 col-sm-12 col-xs-12 no-gutter profile-content profile-category'}).find('a').text)\n",
    "                                try :\n",
    "                                    Address.append(source.find('div',{'class':'col-md-10 col-sm-10 col-xs-12 no-gutter'}).text)\n",
    "                                except :\n",
    "                                    Address.append('Blank')\n",
    "                                try :\n",
    "                                    Number.append(source.find('div',{'class':'col-md-10 col-sm-10 col-xs-12 no-gutter contact-details'}).text.replace('\\n',''))\n",
    "                                except :\n",
    "                                    Number.append('Blank')\n",
    "                                try :\n",
    "                                    Work_Time.append(source.find_all('div',{'class':'col-md-10 col-sm-10 col-xs-12 no-gutter'})[1].text.replace('\\n                        ','').replace('\\n                    ',''))\n",
    "                                except :\n",
    "                                    Work_Time.append('Blank')    \n",
    "                                try :\n",
    "                                    GPS.append(source.find_all('div',{'class':'col-md-10 col-sm-10 col-xs-12 no-gutter'})[2].text.replace('\\n                        ','').replace('\\n                    ',''))\n",
    "                                except :\n",
    "                                    GPS.append('Blank')\n",
    "                                try :\n",
    "                                    info.append(source.find('div',{'class':'col-md-12 col-sm-12 col-xs-12 no-gutter profile-content profile-information'}).find('div').text)\n",
    "                                except :\n",
    "                                    info.append('Blank')\n",
    "                                try :\n",
    "                                    Product.append(source.find('div',{'class':'col-md-12 col-sm-12 col-xs-12 no-gutter profile-content profile-product-description'}).find('div').text)\n",
    "                                except :\n",
    "                                    Product.append('Blank')\n",
    "                            driver.close()\n",
    "                            time.sleep(1.5)\n",
    "                            f = driver.window_handles[0]\n",
    "                            driver.switch_to.window(f)\n",
    "                        except NoSuchElementException:\n",
    "                                i += 1\n",
    "                    if n == 10 :\n",
    "                        search = driver.find_element('xpath','/html/body/div[1]/div[2]/div/div[2]/div/div/nav/ul/li[2]/a')\n",
    "                        search.click()\n",
    "                        time.sleep(0.5)\n",
    "                        n += 10\n",
    "                    elif n == 20 :\n",
    "                        search = driver.find_element('xpath','/html/body/div[1]/div[2]/div/div[2]/div/div/nav/ul/li[5]/a')\n",
    "                        search.click()\n",
    "                        n += 10\n",
    "                    elif n == 30 :\n",
    "                        search = driver.find_element('xpath','/html/body/div[1]/div[2]/div/div[2]/div/div/nav/ul/li[6]/a')\n",
    "                        search.click()\n",
    "                        n += 10\n",
    "                    elif n == 40 :\n",
    "                        search = driver.find_element('xpath','/html/body/div[1]/div[2]/div/div[2]/div/div/nav/ul/li[7]/a')\n",
    "                        search.click()\n",
    "                        n += 10\n",
    "                    elif n == 50 :\n",
    "                        search = driver.find_element('xpath','/html/body/div[1]/div[2]/div/div[2]/div/div/nav/ul/li[8]/a')\n",
    "                        search.click()\n",
    "                        n += 10\n",
    "                    elif n == 60 :\n",
    "                        search = driver.find_element('xpath','/html/body/div[1]/div[2]/div/div[2]/div/div/nav/ul/li[8]/a')\n",
    "                        search.click()\n",
    "                        n += 10\n",
    "                    elif n == 70 :\n",
    "                        search = driver.find_element('xpath','/html/body/div[1]/div[2]/div/div[2]/div/div/nav/ul/li[8]/a')\n",
    "                        search.click()\n",
    "                        n += 10\n",
    "                    elif n == 80 :\n",
    "                        search = driver.find_element('xpath','/html/body/div[1]/div[2]/div/div[2]/div/div/nav/ul/li[8]/a')\n",
    "                        search.click()\n",
    "                        n += 10\n",
    "                    elif n == 90 :\n",
    "                        search = driver.find_element('xpath','/html/body/div[1]/div[2]/div/div[2]/div/div/nav/ul/li[8]/a')\n",
    "                        search.click()\n",
    "                        n += 10\n",
    "                    elif n >= 91 :\n",
    "                        search = driver.find_element('xpath','/html/body/div[1]/div[2]/div/div[2]/div/div/nav/ul/li[12]/a')\n",
    "                        search.click()\n",
    "                        n += 10\n",
    "            except :\n",
    "                n = 10\n",
    "    except NoSuchElementException:\n",
    "        pass\n",
    "#     #         try :\n",
    "#     #             for i in range(1,100) :\n",
    "#     #                 search = driver.find_element('xpath','//*[@id=\"bootstrap-panel--3--content\"]/ul/li[%i]/a'%(i))\n",
    "#     #                 search.click()\n",
    "#     #                 time.sleep(1.5)\n",
    "#     #                 driver.back()\n",
    "#     #         except NoSuchElementException:\n",
    "#     #             for i in range(1,100) :\n",
    "#     #                 search = driver.find_element('xpath','//*[@id=\"bootstrap-panel--4--content\"]/ul/li[%i]/a'%(i))\n",
    "#     #                 search.click()\n",
    "#     #                 time.sleep(1.5)\n",
    "#     #                 driver.back()"
   ]
  },
  {
   "cell_type": "code",
   "execution_count": null,
   "id": "7ee20155",
   "metadata": {
    "jupyter": {
     "source_hidden": true
    }
   },
   "outputs": [],
   "source": [
    "# for i in range(1,18) :\n",
    "#     search = driver.find_element('xpath','/html/body/div[1]/div[1]/nav/div/div[3]/div[2]/button')\n",
    "#     search.click()\n",
    "#     time.sleep(1.5)\n",
    "#     search = driver.find_element('xpath','//*[@id=\"sidebar\"]/div[2]/div/div[1]/div[1]')\n",
    "#     search.click()\n",
    "#     time.sleep(1.5)\n",
    "#     search = driver.find_element('xpath','//*[@id=\"sidebar\"]/div[2]/div/div[1]/div[2]/div/div/ul/li[%i]/div'%(i))\n",
    "#     search.click()\n",
    "# try :\n",
    "for i in range(3,100) :\n",
    "    search = driver.find_element('xpath','//*[@id=\"bootstrap-panel--content\"]/ul/li[%i]/a'%(i))\n",
    "    search.click()\n",
    "    time.sleep(1.5)\n",
    "    for i in range(50):\n",
    "        for i in range(3,14):\n",
    "            try :\n",
    "                search = driver.find_element('xpath','//*[@id=\"yp-cookie-wrapper\"]/div/div[3]/a[2]')\n",
    "                search.click()\n",
    "            except :\n",
    "                pass\n",
    "            try :\n",
    "                search = driver.find_element('xpath','/html/body/div[1]/div[2]/div/div[2]/div/div/div[%i]/div[1]/div/div/div/h3/a'%(i))\n",
    "                search.click()\n",
    "                time.sleep(1.5)\n",
    "                c = driver.window_handles[1]\n",
    "                driver.switch_to.window(c)\n",
    "                data = driver.page_source\n",
    "                soup = BeautifulSoup(data)\n",
    "                All_Source = soup.find_all('div',{'class':'region region-content'})\n",
    "                for source in All_Source :\n",
    "                    Company_name.append(source.find('div',{'class':'breadcrumbs'}).text.replace('\\nหน้าแรก\\t> ','').replace('\\n                            ',''))\n",
    "                    Type.append(source.find('div',{'class':'col-md-12 col-sm-12 col-xs-12 no-gutter profile-content profile-category'}).find('a').text)\n",
    "                    try :\n",
    "                        Address.append(source.find('div',{'class':'col-md-10 col-sm-10 col-xs-12 no-gutter'}).text)\n",
    "                    except :\n",
    "                        Address.append('Blank')\n",
    "                    try :\n",
    "                        Number.append(source.find('div',{'class':'col-md-10 col-sm-10 col-xs-12 no-gutter contact-details'}).text.replace('\\n',''))\n",
    "                    except :\n",
    "                        Number.append('Blank')\n",
    "                    try :\n",
    "                        Work_Time.append(source.find_all('div',{'class':'col-md-10 col-sm-10 col-xs-12 no-gutter'})[1].text.replace('\\n                        ','').replace('\\n                    ',''))\n",
    "                    except :\n",
    "                        Work_Time.append('Blank')    \n",
    "                    try :\n",
    "                        GPS.append(source.find_all('div',{'class':'col-md-10 col-sm-10 col-xs-12 no-gutter'})[2].text.replace('\\n                        ','').replace('\\n                    ',''))\n",
    "                    except :\n",
    "                        GPS.append('Blank')\n",
    "                    try :\n",
    "                        info.append(source.find('div',{'class':'col-md-12 col-sm-12 col-xs-12 no-gutter profile-content profile-information'}).find('div').text)\n",
    "                    except :\n",
    "                        info.append('Blank')\n",
    "                    try :\n",
    "                        Product.append(source.find('div',{'class':'col-md-12 col-sm-12 col-xs-12 no-gutter profile-content profile-product-description'}).find('div').text)\n",
    "                    except :\n",
    "                        Product.append('Blank')\n",
    "                driver.close()\n",
    "                time.sleep(1.5)\n",
    "                f = driver.window_handles[0]\n",
    "                driver.switch_to.window(f)\n",
    "            except NoSuchElementException:\n",
    "                    i += 1\n",
    "        if n == 10 :\n",
    "            search = driver.find_element('xpath','/html/body/div[1]/div[2]/div/div[2]/div/div/nav/ul/li[2]/a')\n",
    "            search.click()\n",
    "            time.sleep(0.5)\n",
    "            n += 10\n",
    "        elif n == 20 :\n",
    "            search = driver.find_element('xpath','/html/body/div[1]/div[2]/div/div[2]/div/div/nav/ul/li[5]/a')\n",
    "            search.click()\n",
    "            n += 10\n",
    "        elif n == 30 :\n",
    "            search = driver.find_element('xpath','/html/body/div[1]/div[2]/div/div[2]/div/div/nav/ul/li[6]/a')\n",
    "            search.click()\n",
    "            n += 10\n",
    "        elif n == 40 :\n",
    "            search = driver.find_element('xpath','/html/body/div[1]/div[2]/div/div[2]/div/div/nav/ul/li[7]/a')\n",
    "            search.click()\n",
    "            n += 10\n",
    "        elif n == 50 :\n",
    "            search = driver.find_element('xpath','/html/body/div[1]/div[2]/div/div[2]/div/div/nav/ul/li[8]/a')\n",
    "            search.click()\n",
    "            n += 10\n",
    "        elif n == 60 :\n",
    "            search = driver.find_element('xpath','/html/body/div[1]/div[2]/div/div[2]/div/div/nav/ul/li[8]/a')\n",
    "            search.click()\n",
    "            n += 10\n",
    "        elif n == 70 :\n",
    "            search = driver.find_element('xpath','/html/body/div[1]/div[2]/div/div[2]/div/div/nav/ul/li[8]/a')\n",
    "            search.click()\n",
    "            n += 10\n",
    "        elif n == 80 :\n",
    "            search = driver.find_element('xpath','/html/body/div[1]/div[2]/div/div[2]/div/div/nav/ul/li[8]/a')\n",
    "            search.click()\n",
    "            n += 10\n",
    "        elif n == 90 :\n",
    "            search = driver.find_element('xpath','/html/body/div[1]/div[2]/div/div[2]/div/div/nav/ul/li[8]/a')\n",
    "            search.click()\n",
    "            n += 10\n",
    "        elif n >= 91 :\n",
    "            search = driver.find_element('xpath','/html/body/div[1]/div[2]/div/div[2]/div/div/nav/ul/li[12]/a')\n",
    "            search.click()\n",
    "            n += 10\n",
    "# except NoSuchElementException:\n",
    "#     driver.back()\n",
    "#         try :\n",
    "#             for i in range(1,100) :\n",
    "#                 search = driver.find_element('xpath','//*[@id=\"bootstrap-panel--2--content\"]/ul/li[%i]/a'%(i))\n",
    "#                 search.click()\n",
    "#                 time.sleep(1.5)\n",
    "#                 driver.back()\n",
    "#         except NoSuchElementException:\n",
    "#             try :\n",
    "#                 for i in range(1,100) :\n",
    "#                     search = driver.find_element('xpath','//*[@id=\"bootstrap-panel--3--content\"]/ul/li[%i]/a'%(i))\n",
    "#                     search.click()\n",
    "#                     time.sleep(1.5)\n",
    "#                     driver.back()\n",
    "#             except NoSuchElementException:\n",
    "#                 try :\n",
    "#                     for i in range(1,100) :\n",
    "#                         search = driver.find_element('xpath','//*[@id=\"bootstrap-panel--4--content\"]/ul/li[%i]/a'%(i))\n",
    "#                         search.click()\n",
    "#                         time.sleep(1.5)\n",
    "#                         driver.back()\n",
    "#                 except NoSuchElementException:\n",
    "#                     try :\n",
    "#                         for i in range(1,100) :\n",
    "#                             search = driver.find_element('xpath','//*[@id=\"bootstrap-panel--5--content\"]/ul/li[%i]/a'%(i))\n",
    "#                             search.click()\n",
    "#                             time.sleep(1.5)\n",
    "#                             driver.back()\n",
    "#                     except NoSuchElementException:\n",
    "#                         try :\n",
    "#                             for i in range(1,100) :\n",
    "#                                 search = driver.find_element('xpath','//*[@id=\"bootstrap-panel--6--content\"]/ul/li[%i]/a'%(i))\n",
    "#                                 search.click()\n",
    "#                                 time.sleep(1.5)\n",
    "#                                 driver.back()\n",
    "#                         except NoSuchElementException:\n",
    "#                             try :\n",
    "#                                 for i in range(1,100) :\n",
    "#                                     search = driver.find_element('xpath','//*[@id=\"bootstrap-panel--7--content\"]/ul/li[%i]/a'%(i))\n",
    "#                                     search.click()\n",
    "#                                     time.sleep(1.5)\n",
    "#                                     driver.back()\n",
    "#                             except NoSuchElementException:\n",
    "#                                 try :\n",
    "#                                     for i in range(1,100) :\n",
    "#                                         search = driver.find_element('xpath','//*[@id=\"bootstrap-panel--8--content\"]/ul/li[%i]/a'%(i))\n",
    "#                                         search.click()\n",
    "#                                         time.sleep(1.5)\n",
    "#                                         driver.back()\n",
    "#                                 except NoSuchElementException:\n",
    "#                                     try :\n",
    "#                                         for i in range(1,100) :\n",
    "#                                             search = driver.find_element('xpath','//*[@id=\"bootstrap-panel--9--content\"]/ul/li[%i]/a'%(i))\n",
    "#                                             search.click()\n",
    "#                                             time.sleep(1.5)\n",
    "#                                             driver.back()\n",
    "#                                     except NoSuchElementException:\n",
    "#                                         try :\n",
    "#                                             for i in range(1,100) :\n",
    "#                                                 search = driver.find_element('xpath','//*[@id=\"bootstrap-panel--10--content\"]/ul/li[%i]/a'%(i))\n",
    "#                                                 search.click()\n",
    "#                                                 time.sleep(1.5)\n",
    "#                                                 driver.back()\n",
    "#                                         except NoSuchElementException:\n",
    "#                                             try :\n",
    "#                                                 for i in range(1,100) :\n",
    "#                                                     search = driver.find_element('xpath','//*[@id=\"bootstrap-panel--11--content\"]/ul/li[%i]/a'%(i))\n",
    "#                                                     search.click()\n",
    "#                                                     time.sleep(1.5)\n",
    "#                                                     driver.back()\n",
    "#                                             except NoSuchElementException:\n",
    "#                                                 try :\n",
    "#                                                     for i in range(1,100) :\n",
    "#                                                         search = driver.find_element('xpath','//*[@id=\"bootstrap-panel--12--content\"]/ul/li[%i]/a'%(i))\n",
    "#                                                         search.click()\n",
    "#                                                         time.sleep(1.5)\n",
    "#                                                         driver.back()\n",
    "#                                                 except NoSuchElementException :\n",
    "#                                                     try :\n",
    "#                                                         search = driver.find_element('xpath','//*[@id=\"launcher-svg-container\"]/img')\n",
    "#                                                         search.click()\n",
    "#                                                         time.sleep(0.5)\n",
    "#                                                         search = driver.find_element('xpath','//*[@id=\"km-popup-close-button\"]')\n",
    "#                                                         search.click()\n",
    "#                                                     except NoSuchElementException :\n",
    "#                                                         try :\n",
    "#                                                             search = driver.find_element('xpath','//*[@id=\"yp-cookie-wrapper\"]/div/div[3]/a[2]')\n",
    "#                                                             search.click()\n",
    "#                                                         except NoSuchElementException :\n",
    "#                                                             print('Done')"
   ]
  },
  {
   "cell_type": "code",
   "execution_count": 11,
   "id": "8f84117c",
   "metadata": {
    "jupyter": {
     "source_hidden": true
    }
   },
   "outputs": [],
   "source": [
    "# # try :\n",
    "# for a in range(100) :\n",
    "try :\n",
    "    for x in range(1,100) :\n",
    "        search = driver.find_element('xpath','/html/body/div[1]/div[1]/nav/div/div[3]/div[2]/button')\n",
    "        search.click()\n",
    "        time.sleep(1.5)\n",
    "        search = driver.find_element('xpath','//*[@id=\"sidebar\"]/div[2]/div/div[1]/div[1]')\n",
    "        search.click()\n",
    "        time.sleep(1.5)\n",
    "        search = driver.find_element('xpath','//*[@id=\"sidebar\"]/div[2]/div/div[1]/div[2]/div/div/ul/li[1]/div')\n",
    "        search.click()\n",
    "        search = driver.find_element('xpath','//*[@id=\"bootstrap-panel--content\"]/ul/li[%x]/a'%(x))\n",
    "        search.click()\n",
    "        time.sleep(1.5)\n",
    "        try :\n",
    "            for i in range(50):\n",
    "                for i in range(3,14):\n",
    "                    try :\n",
    "                        search = driver.find_element('xpath','//*[@id=\"yp-cookie-wrapper\"]/div/div[3]/a[2]')\n",
    "                        search.click()\n",
    "                    except :\n",
    "                        pass\n",
    "                    try :\n",
    "                        search = driver.find_element('xpath','/html/body/div[1]/div[2]/div/div[2]/div/div/div[%i]/div[1]/div/div/div/h3/a'%(i))\n",
    "                        search.click()\n",
    "                        time.sleep(1.5)\n",
    "                        c = driver.window_handles[1]\n",
    "                        driver.switch_to.window(c)\n",
    "                        data = driver.page_source\n",
    "                        soup = BeautifulSoup(data)\n",
    "                        All_Source = soup.find_all('div',{'class':'region region-content'})\n",
    "                        for source in All_Source :\n",
    "                            Company_name.append(source.find('div',{'class':'breadcrumbs'}).text.replace('\\nหน้าแรก\\t> ','').replace('\\n                            ',''))\n",
    "                            Type.append(source.find('div',{'class':'col-md-12 col-sm-12 col-xs-12 no-gutter profile-content profile-category'}).find('a').text)\n",
    "                            try :\n",
    "                                Address.append(source.find('div',{'class':'col-md-10 col-sm-10 col-xs-12 no-gutter'}).text)\n",
    "                            except :\n",
    "                                Address.append('Blank')\n",
    "                            try :\n",
    "                                Number.append(source.find('div',{'class':'col-md-10 col-sm-10 col-xs-12 no-gutter contact-details'}).text.replace('\\n',''))\n",
    "                            except :\n",
    "                                Number.append('Blank')\n",
    "                            try :\n",
    "                                Work_Time.append(source.find_all('div',{'class':'col-md-10 col-sm-10 col-xs-12 no-gutter'})[1].text.replace('\\n                        ','').replace('\\n                    ',''))\n",
    "                            except :\n",
    "                                Work_Time.append('Blank')    \n",
    "                            try :\n",
    "                                GPS.append(source.find_all('div',{'class':'col-md-10 col-sm-10 col-xs-12 no-gutter'})[2].text.replace('\\n                        ','').replace('\\n                    ',''))\n",
    "                            except :\n",
    "                                GPS.append('Blank')\n",
    "                            try :\n",
    "                                info.append(source.find('div',{'class':'col-md-12 col-sm-12 col-xs-12 no-gutter profile-content profile-information'}).find('div').text)\n",
    "                            except :\n",
    "                                info.append('Blank')\n",
    "                            try :\n",
    "                                Product.append(source.find('div',{'class':'col-md-12 col-sm-12 col-xs-12 no-gutter profile-content profile-product-description'}).find('div').text)\n",
    "                            except :\n",
    "                                Product.append('Blank')\n",
    "                        driver.close()\n",
    "                        time.sleep(1.5)\n",
    "                        f = driver.window_handles[0]\n",
    "                        driver.switch_to.window(f)\n",
    "                    except NoSuchElementException:\n",
    "                            i += 1\n",
    "            #         n += 1\n",
    "                if n == 10 :\n",
    "                    search = driver.find_element('xpath','/html/body/div[1]/div[2]/div/div[2]/div/div/nav/ul/li[2]/a')\n",
    "                    search.click()\n",
    "                    time.sleep(0.5)\n",
    "                    n += 10\n",
    "                elif n == 20 :\n",
    "                    search = driver.find_element('xpath','/html/body/div[1]/div[2]/div/div[2]/div/div/nav/ul/li[5]/a')\n",
    "                    search.click()\n",
    "                    n += 10\n",
    "                elif n == 30 :\n",
    "                    search = driver.find_element('xpath','/html/body/div[1]/div[2]/div/div[2]/div/div/nav/ul/li[6]/a')\n",
    "                    search.click()\n",
    "                    n += 10\n",
    "                elif n == 40 :\n",
    "                    search = driver.find_element('xpath','/html/body/div[1]/div[2]/div/div[2]/div/div/nav/ul/li[7]/a')\n",
    "                    search.click()\n",
    "                    n += 10\n",
    "                elif n == 50 :\n",
    "                    search = driver.find_element('xpath','/html/body/div[1]/div[2]/div/div[2]/div/div/nav/ul/li[8]/a')\n",
    "                    search.click()\n",
    "                    n += 10\n",
    "                elif n == 60 :\n",
    "                    search = driver.find_element('xpath','/html/body/div[1]/div[2]/div/div[2]/div/div/nav/ul/li[8]/a')\n",
    "                    search.click()\n",
    "                    n += 10\n",
    "                elif n == 70 :\n",
    "                    search = driver.find_element('xpath','/html/body/div[1]/div[2]/div/div[2]/div/div/nav/ul/li[8]/a')\n",
    "                    search.click()\n",
    "                    n += 10\n",
    "                elif n == 80 :\n",
    "                    search = driver.find_element('xpath','/html/body/div[1]/div[2]/div/div[2]/div/div/nav/ul/li[8]/a')\n",
    "                    search.click()\n",
    "                    n += 10\n",
    "                elif n == 90 :\n",
    "                    search = driver.find_element('xpath','/html/body/div[1]/div[2]/div/div[2]/div/div/nav/ul/li[8]/a')\n",
    "                    search.click()\n",
    "                    n += 10\n",
    "                elif n >= 91 :\n",
    "                    search = driver.find_element('xpath','/html/body/div[1]/div[2]/div/div[2]/div/div/nav/ul/li[12]/a')\n",
    "                    search.click()\n",
    "                    n += 10\n",
    "        except :\n",
    "            pass\n",
    "except :\n",
    "    pass\n",
    "# except :\n",
    "#     i -= a"
   ]
  },
  {
   "cell_type": "code",
   "execution_count": 37,
   "id": "feb500b1",
   "metadata": {},
   "outputs": [
    {
     "data": {
      "text/plain": [
       "10"
      ]
     },
     "execution_count": 37,
     "metadata": {},
     "output_type": "execute_result"
    }
   ],
   "source": [
    "n"
   ]
  },
  {
   "cell_type": "code",
   "execution_count": null,
   "id": "39f0f934",
   "metadata": {},
   "outputs": [],
   "source": []
  },
  {
   "cell_type": "code",
   "execution_count": null,
   "id": "1c03e899",
   "metadata": {},
   "outputs": [],
   "source": []
  },
  {
   "cell_type": "code",
   "execution_count": null,
   "id": "a8cd0052",
   "metadata": {},
   "outputs": [],
   "source": []
  },
  {
   "cell_type": "code",
   "execution_count": 6,
   "id": "81c2fe69",
   "metadata": {},
   "outputs": [],
   "source": [
    "Company_name = []\n",
    "Type = []\n",
    "Address = []\n",
    "Number = []\n",
    "Work_Time = []\n",
    "GPS =[]\n",
    "info = []\n",
    "Product = []"
   ]
  },
  {
   "cell_type": "code",
   "execution_count": 111,
   "id": "d16e4945",
   "metadata": {},
   "outputs": [],
   "source": [
    "n = 10"
   ]
  },
  {
   "cell_type": "code",
   "execution_count": 120,
   "id": "267d25dc",
   "metadata": {},
   "outputs": [],
   "source": [
    "table = pd.DataFrame([Company_name,Type,Address,Number,Work_Time,GPS,info,Product])\n",
    "table = table.transpose()\n",
    "table.columns = ['Name','Type','Address','Number','Work_Time','GPS','info','Product']\n",
    "table.set_index(['Name'])\n",
    "table.to_excel(r'C:\\Users\\setthawat\\Desktop\\Test.xlsx')"
   ]
  },
  {
   "cell_type": "code",
   "execution_count": null,
   "id": "058a7e1c",
   "metadata": {},
   "outputs": [],
   "source": []
  },
  {
   "cell_type": "code",
   "execution_count": null,
   "id": "ebbb713d",
   "metadata": {},
   "outputs": [],
   "source": [
    "-----------------------------------------------------------------------------------------------------------------------------------------------------"
   ]
  },
  {
   "cell_type": "code",
   "execution_count": 5,
   "id": "7ffcd496",
   "metadata": {},
   "outputs": [],
   "source": [
    "Company_name = []\n",
    "Type = []\n",
    "Address = []\n",
    "Number = []\n",
    "Work_Time = []\n",
    "GPS =[]\n",
    "info = []\n",
    "Product = []"
   ]
  },
  {
   "cell_type": "code",
   "execution_count": 6,
   "id": "f68bf613",
   "metadata": {},
   "outputs": [
    {
     "data": {
      "text/plain": [
       "[]"
      ]
     },
     "execution_count": 6,
     "metadata": {},
     "output_type": "execute_result"
    }
   ],
   "source": [
    "Company_name"
   ]
  },
  {
   "cell_type": "code",
   "execution_count": 7,
   "id": "18fdc64a",
   "metadata": {},
   "outputs": [
    {
     "data": {
      "text/plain": [
       "[]"
      ]
     },
     "execution_count": 7,
     "metadata": {},
     "output_type": "execute_result"
    }
   ],
   "source": [
    "Type"
   ]
  },
  {
   "cell_type": "code",
   "execution_count": 8,
   "id": "b1ef45df",
   "metadata": {},
   "outputs": [
    {
     "data": {
      "text/plain": [
       "[]"
      ]
     },
     "execution_count": 8,
     "metadata": {},
     "output_type": "execute_result"
    }
   ],
   "source": [
    "Number"
   ]
  },
  {
   "cell_type": "code",
   "execution_count": 71,
   "id": "fe56064b",
   "metadata": {},
   "outputs": [
    {
     "data": {
      "text/plain": [
       "[]"
      ]
     },
     "execution_count": 71,
     "metadata": {},
     "output_type": "execute_result"
    }
   ],
   "source": [
    "Work_Time"
   ]
  },
  {
   "cell_type": "code",
   "execution_count": 72,
   "id": "d69b92a3",
   "metadata": {},
   "outputs": [
    {
     "data": {
      "text/plain": [
       "[]"
      ]
     },
     "execution_count": 72,
     "metadata": {},
     "output_type": "execute_result"
    }
   ],
   "source": [
    "GPS"
   ]
  },
  {
   "cell_type": "code",
   "execution_count": 73,
   "id": "6903eafb",
   "metadata": {},
   "outputs": [
    {
     "data": {
      "text/plain": [
       "[]"
      ]
     },
     "execution_count": 73,
     "metadata": {},
     "output_type": "execute_result"
    }
   ],
   "source": [
    "info"
   ]
  },
  {
   "cell_type": "code",
   "execution_count": 74,
   "id": "f6cac708",
   "metadata": {},
   "outputs": [
    {
     "data": {
      "text/plain": [
       "[]"
      ]
     },
     "execution_count": 74,
     "metadata": {},
     "output_type": "execute_result"
    }
   ],
   "source": [
    "Product"
   ]
  },
  {
   "cell_type": "code",
   "execution_count": null,
   "id": "5aa48d28",
   "metadata": {},
   "outputs": [],
   "source": []
  },
  {
   "cell_type": "code",
   "execution_count": null,
   "id": "41aa48df",
   "metadata": {},
   "outputs": [],
   "source": [
    "//*[@id=\"kommunicate-widget-iframe\"]"
   ]
  },
  {
   "cell_type": "code",
   "execution_count": null,
   "id": "53a7da70",
   "metadata": {},
   "outputs": [],
   "source": [
    "//*[@id=\"kommunicate-widget-iframe\"]"
   ]
  },
  {
   "cell_type": "code",
   "execution_count": 103,
   "id": "b01b5372",
   "metadata": {},
   "outputs": [],
   "source": [
    "search = driver.find_element('class','kommunicate-custom-iframe kommunicate-iframe-enable-media-query km-iframe-dimension-with-popup')\n",
    "search.click()"
   ]
  },
  {
   "cell_type": "code",
   "execution_count": null,
   "id": "24d0f255",
   "metadata": {},
   "outputs": [],
   "source": []
  },
  {
   "cell_type": "code",
   "execution_count": null,
   "id": "b9efe62c",
   "metadata": {},
   "outputs": [],
   "source": []
  },
  {
   "cell_type": "code",
   "execution_count": 98,
   "id": "87038593",
   "metadata": {},
   "outputs": [],
   "source": [
    "Iframe = soup.find_all('iframe',{'class':'kommunicate-custom-iframe kommunicate-iframe-enable-media-query km-iframe-dimension-with-popup'})"
   ]
  },
  {
   "cell_type": "code",
   "execution_count": 99,
   "id": "13cb0979",
   "metadata": {},
   "outputs": [
    {
     "data": {
      "text/plain": [
       "[<iframe class=\"kommunicate-custom-iframe kommunicate-iframe-enable-media-query km-iframe-dimension-with-popup\" data-protocol=\"https:\" data-url=\"https://www.yellowpages.co.th/category/%E0%B8%81%E0%B8%B2%E0%B8%A3%E0%B8%A8%E0%B8%B6%E0%B8%81%E0%B8%A9%E0%B8%B2\" id=\"kommunicate-widget-iframe\" name=\"Kommunicate widget iframe\" scrolling=\"no\" style=\"overflow: hidden; display: block;\" title=\"Live chat\"></iframe>]"
      ]
     },
     "execution_count": 99,
     "metadata": {},
     "output_type": "execute_result"
    }
   ],
   "source": [
    "Iframe"
   ]
  },
  {
   "cell_type": "code",
   "execution_count": 101,
   "id": "df8c3f7e",
   "metadata": {},
   "outputs": [],
   "source": [
    "search = driver.find_element('xpath','//*[@id=\"kommunicate-widget-iframe\"]')\n",
    "search.click()"
   ]
  },
  {
   "cell_type": "code",
   "execution_count": 102,
   "id": "5cfdee79",
   "metadata": {},
   "outputs": [],
   "source": [
    "search = driver.find_element('xpath','//*[@id=\"kommunicate-widget-iframe\"]')\n",
    "search.click()"
   ]
  },
  {
   "cell_type": "code",
   "execution_count": 293,
   "id": "6b490850",
   "metadata": {},
   "outputs": [],
   "source": [
    "i = 0"
   ]
  },
  {
   "cell_type": "code",
   "execution_count": 311,
   "id": "0de4411a",
   "metadata": {},
   "outputs": [],
   "source": [
    "n = 10"
   ]
  },
  {
   "cell_type": "code",
   "execution_count": 312,
   "id": "42f6dd8c",
   "metadata": {},
   "outputs": [
    {
     "data": {
      "text/plain": [
       "10"
      ]
     },
     "execution_count": 312,
     "metadata": {},
     "output_type": "execute_result"
    }
   ],
   "source": [
    "n"
   ]
  },
  {
   "cell_type": "code",
   "execution_count": 285,
   "id": "c284958e",
   "metadata": {},
   "outputs": [],
   "source": [
    "search = driver.find_element('xpath','/html/body/div[1]/div[2]/div/div[2]/div/div/nav/ul/li[10]/a')\n",
    "search.click()"
   ]
  },
  {
   "cell_type": "code",
   "execution_count": null,
   "id": "46d50638",
   "metadata": {},
   "outputs": [],
   "source": []
  },
  {
   "cell_type": "code",
   "execution_count": 263,
   "id": "062936ee",
   "metadata": {},
   "outputs": [],
   "source": []
  },
  {
   "cell_type": "code",
   "execution_count": 8,
   "id": "2d43cf40",
   "metadata": {},
   "outputs": [],
   "source": [
    "c = driver.window_handles[0]\n",
    "driver.switch_to.window(c)"
   ]
  },
  {
   "cell_type": "code",
   "execution_count": 19,
   "id": "3a7349b3",
   "metadata": {},
   "outputs": [],
   "source": [
    "data = driver.page_source\n",
    "soup = BeautifulSoup(data)"
   ]
  },
  {
   "cell_type": "code",
   "execution_count": null,
   "id": "ea408132",
   "metadata": {},
   "outputs": [],
   "source": [
    "soup"
   ]
  },
  {
   "cell_type": "code",
   "execution_count": null,
   "id": "5481c948",
   "metadata": {},
   "outputs": [],
   "source": [
    "driver.close()"
   ]
  },
  {
   "cell_type": "code",
   "execution_count": 287,
   "id": "b7b0b632",
   "metadata": {},
   "outputs": [],
   "source": [
    "search = driver.find_element('xpath','//*[@id=\"yp-cookie-wrapper\"]/div/div[3]/a[2]')\n",
    "search.click()"
   ]
  },
  {
   "cell_type": "code",
   "execution_count": null,
   "id": "c3c8859f",
   "metadata": {},
   "outputs": [],
   "source": []
  },
  {
   "cell_type": "code",
   "execution_count": 150,
   "id": "8651e612",
   "metadata": {},
   "outputs": [],
   "source": [
    "Work_Time"
   ]
  },
  {
   "cell_type": "code",
   "execution_count": null,
   "id": "c8db49ce",
   "metadata": {},
   "outputs": [],
   "source": [
    "soup"
   ]
  },
  {
   "cell_type": "code",
   "execution_count": 48,
   "id": "5eb6ac7d",
   "metadata": {},
   "outputs": [],
   "source": [
    "All_Source = soup.find_all('div',{'class':'region region-content'})\n",
    "# for source in All_Source :\n",
    "#     Company_name.append(source.find('h1').text)"
   ]
  },
  {
   "cell_type": "code",
   "execution_count": null,
   "id": "df623aeb",
   "metadata": {},
   "outputs": [],
   "source": [
    "All_Source"
   ]
  },
  {
   "cell_type": "code",
   "execution_count": 53,
   "id": "7706b856",
   "metadata": {},
   "outputs": [
    {
     "ename": "SyntaxError",
     "evalue": "invalid syntax (<ipython-input-53-1290fb5523f8>, line 3)",
     "output_type": "error",
     "traceback": [
      "\u001b[1;36m  File \u001b[1;32m\"<ipython-input-53-1290fb5523f8>\"\u001b[1;36m, line \u001b[1;32m3\u001b[0m\n\u001b[1;33m    All_Source.find('div'{'class':'col-md-12 col-sm-12 col-xs-12 typ-profile-content'})\u001b[0m\n\u001b[1;37m                         ^\u001b[0m\n\u001b[1;31mSyntaxError\u001b[0m\u001b[1;31m:\u001b[0m invalid syntax\n"
     ]
    }
   ],
   "source": [
    "# Company_name.append(All_Source.find_all('div'))\n",
    "\n",
    "All_Source.find('div'{'class':'col-md-12 col-sm-12 col-xs-12 typ-profile-content'})"
   ]
  },
  {
   "cell_type": "code",
   "execution_count": 54,
   "id": "5bab9412",
   "metadata": {},
   "outputs": [
    {
     "ename": "AttributeError",
     "evalue": "'NoneType' object has no attribute 'text'",
     "output_type": "error",
     "traceback": [
      "\u001b[1;31m---------------------------------------------------------------------------\u001b[0m",
      "\u001b[1;31mAttributeError\u001b[0m                            Traceback (most recent call last)",
      "\u001b[1;32m<ipython-input-54-9fbcd6f53c42>\u001b[0m in \u001b[0;36m<module>\u001b[1;34m\u001b[0m\n\u001b[1;32m----> 1\u001b[1;33m \u001b[0mAddress\u001b[0m\u001b[1;33m.\u001b[0m\u001b[0mappend\u001b[0m\u001b[1;33m(\u001b[0m\u001b[0msource\u001b[0m\u001b[1;33m.\u001b[0m\u001b[0mfind\u001b[0m\u001b[1;33m(\u001b[0m\u001b[1;34m'div'\u001b[0m\u001b[1;33m,\u001b[0m\u001b[1;33m{\u001b[0m\u001b[1;34m'class'\u001b[0m\u001b[1;33m:\u001b[0m\u001b[1;34m'col-md-10 col-sm-10 col-xs-12 no-gutter'\u001b[0m\u001b[1;33m}\u001b[0m\u001b[1;33m)\u001b[0m\u001b[1;33m.\u001b[0m\u001b[0mtext\u001b[0m\u001b[1;33m)\u001b[0m\u001b[1;33m\u001b[0m\u001b[1;33m\u001b[0m\u001b[0m\n\u001b[0m",
      "\u001b[1;31mAttributeError\u001b[0m: 'NoneType' object has no attribute 'text'"
     ]
    }
   ],
   "source": [
    "Address.append(source.find('div',{'class':'col-md-10 col-sm-10 col-xs-12 no-gutter'}).text)"
   ]
  },
  {
   "cell_type": "code",
   "execution_count": 182,
   "id": "15716935",
   "metadata": {},
   "outputs": [],
   "source": [
    "Work_Time.append(source.find_all('div',{'class':'col-md-10 col-sm-10 col-xs-12 no-gutter'})[1].text.replace('\\n                        ','').replace('\\n                    ',''))"
   ]
  },
  {
   "cell_type": "code",
   "execution_count": 191,
   "id": "de24750d",
   "metadata": {},
   "outputs": [],
   "source": [
    "GPS.append(source.find_all('div',{'class':'col-md-10 col-sm-10 col-xs-12 no-gutter'})[2].text.replace('\\n                        ','').replace('\\n                    ',''))"
   ]
  },
  {
   "cell_type": "code",
   "execution_count": 213,
   "id": "49579bd7",
   "metadata": {},
   "outputs": [],
   "source": [
    "info.append(source.find('div',{'class':'col-md-12 col-sm-12 col-xs-12 no-gutter profile-content profile-information'}).find('div').text)"
   ]
  },
  {
   "cell_type": "code",
   "execution_count": 214,
   "id": "8577e995",
   "metadata": {},
   "outputs": [],
   "source": [
    "Product.append(source.find('div',{'class':'col-md-12 col-sm-12 col-xs-12 no-gutter profile-content profile-product-description'}).find('div').text)"
   ]
  },
  {
   "cell_type": "code",
   "execution_count": null,
   "id": "eaca868a",
   "metadata": {},
   "outputs": [],
   "source": []
  },
  {
   "cell_type": "code",
   "execution_count": 220,
   "id": "4b2f0019",
   "metadata": {},
   "outputs": [
    {
     "data": {
      "text/plain": [
       "[]"
      ]
     },
     "execution_count": 220,
     "metadata": {},
     "output_type": "execute_result"
    }
   ],
   "source": [
    "Product"
   ]
  },
  {
   "cell_type": "code",
   "execution_count": null,
   "id": "870eafb6",
   "metadata": {},
   "outputs": [],
   "source": [
    "Company_name"
   ]
  },
  {
   "cell_type": "code",
   "execution_count": null,
   "id": "7caf9cd0",
   "metadata": {},
   "outputs": [],
   "source": [
    "Type"
   ]
  },
  {
   "cell_type": "code",
   "execution_count": 182,
   "id": "3d89c2a3",
   "metadata": {},
   "outputs": [
    {
     "data": {
      "text/plain": [
       "['999 หมู่ 4 บางกอกแอร์เวย์ ถนนบางนา-ตราด ตำบลบางโฉลง อำเภอบางพลี จังหวัดสมุทรปราการ 10540',\n",
       " '999 หมู่ 4 บางกอกแอร์เวย์ ถนนบางนา-ตราด ตำบลบางโฉลง อำเภอบางพลี จังหวัดสมุทรปราการ 10540']"
      ]
     },
     "execution_count": 182,
     "metadata": {},
     "output_type": "execute_result"
    }
   ],
   "source": [
    "Address"
   ]
  },
  {
   "cell_type": "code",
   "execution_count": 183,
   "id": "dd097a3a",
   "metadata": {},
   "outputs": [
    {
     "data": {
      "text/plain": [
       "['0-2316-0622-9 ', '0-2316-0622-9 ']"
      ]
     },
     "execution_count": 183,
     "metadata": {},
     "output_type": "execute_result"
    }
   ],
   "source": [
    "Number"
   ]
  },
  {
   "cell_type": "code",
   "execution_count": 184,
   "id": "080bc6b5",
   "metadata": {},
   "outputs": [
    {
     "data": {
      "text/plain": [
       "['จันทร์-ศุกร์ เวลา 08:00-17:00', 'จันทร์-ศุกร์ เวลา 08:00-17:00']"
      ]
     },
     "execution_count": 184,
     "metadata": {},
     "output_type": "execute_result"
    }
   ],
   "source": [
    "Work_Time"
   ]
  },
  {
   "cell_type": "code",
   "execution_count": 156,
   "id": "c2c2c23b",
   "metadata": {},
   "outputs": [
    {
     "data": {
      "text/plain": [
       "['Blank']"
      ]
     },
     "execution_count": 156,
     "metadata": {},
     "output_type": "execute_result"
    }
   ],
   "source": [
    "GPS"
   ]
  },
  {
   "cell_type": "code",
   "execution_count": 155,
   "id": "e221a8c6",
   "metadata": {},
   "outputs": [
    {
     "data": {
      "text/plain": [
       "['Blank']"
      ]
     },
     "execution_count": 155,
     "metadata": {},
     "output_type": "execute_result"
    }
   ],
   "source": [
    "info"
   ]
  },
  {
   "cell_type": "code",
   "execution_count": null,
   "id": "598f7c3a",
   "metadata": {},
   "outputs": [],
   "source": []
  },
  {
   "cell_type": "code",
   "execution_count": 111,
   "id": "753befb2",
   "metadata": {},
   "outputs": [
    {
     "ename": "WebDriverException",
     "evalue": "Message: disconnected: not connected to DevTools\n  (failed to check if window was closed: disconnected: not connected to DevTools)\n  (Session info: chrome=120.0.6099.200)\nStacktrace:\n\tGetHandleVerifier [0x00007FF6F28982B2+55298]\n\t(No symbol) [0x00007FF6F2805E02]\n\t(No symbol) [0x00007FF6F26C05AB]\n\t(No symbol) [0x00007FF6F26AD1AA]\n\t(No symbol) [0x00007FF6F26AD9CE]\n\t(No symbol) [0x00007FF6F26C0AF8]\n\t(No symbol) [0x00007FF6F269FB90]\n\t(No symbol) [0x00007FF6F272D197]\n\t(No symbol) [0x00007FF6F2722070]\n\t(No symbol) [0x00007FF6F26F670A]\n\t(No symbol) [0x00007FF6F26F7964]\n\tGetHandleVerifier [0x00007FF6F2C10AAB+3694587]\n\tGetHandleVerifier [0x00007FF6F2C6728E+4048862]\n\tGetHandleVerifier [0x00007FF6F2C5F173+4015811]\n\tGetHandleVerifier [0x00007FF6F29347D6+695590]\n\t(No symbol) [0x00007FF6F2810CE8]\n\t(No symbol) [0x00007FF6F280CF34]\n\t(No symbol) [0x00007FF6F280D062]\n\t(No symbol) [0x00007FF6F27FD3A3]\n\tBaseThreadInitThunk [0x00007FFEB73B257D+29]\n\tRtlUserThreadStart [0x00007FFEB838AA58+40]\n",
     "output_type": "error",
     "traceback": [
      "\u001b[1;31m---------------------------------------------------------------------------\u001b[0m",
      "\u001b[1;31mWebDriverException\u001b[0m                        Traceback (most recent call last)",
      "\u001b[1;32m<ipython-input-111-463dd7e5395a>\u001b[0m in \u001b[0;36m<module>\u001b[1;34m\u001b[0m\n\u001b[0;32m      1\u001b[0m \u001b[1;31m# driver.close()\u001b[0m\u001b[1;33m\u001b[0m\u001b[1;33m\u001b[0m\u001b[1;33m\u001b[0m\u001b[0m\n\u001b[1;32m----> 2\u001b[1;33m \u001b[0mf\u001b[0m \u001b[1;33m=\u001b[0m \u001b[0mdriver\u001b[0m\u001b[1;33m.\u001b[0m\u001b[0mwindow_handles\u001b[0m\u001b[1;33m[\u001b[0m\u001b[1;36m0\u001b[0m\u001b[1;33m]\u001b[0m\u001b[1;33m\u001b[0m\u001b[1;33m\u001b[0m\u001b[0m\n\u001b[0m\u001b[0;32m      3\u001b[0m \u001b[0mdriver\u001b[0m\u001b[1;33m.\u001b[0m\u001b[0mswitch_to\u001b[0m\u001b[1;33m.\u001b[0m\u001b[0mwindow\u001b[0m\u001b[1;33m(\u001b[0m\u001b[0mf\u001b[0m\u001b[1;33m)\u001b[0m\u001b[1;33m\u001b[0m\u001b[1;33m\u001b[0m\u001b[0m\n",
      "\u001b[1;32mD:\\anaconda3\\lib\\site-packages\\selenium\\webdriver\\remote\\webdriver.py\u001b[0m in \u001b[0;36mwindow_handles\u001b[1;34m(self)\u001b[0m\n\u001b[0;32m    491\u001b[0m                 \u001b[0mdriver\u001b[0m\u001b[1;33m.\u001b[0m\u001b[0mwindow_handles\u001b[0m\u001b[1;33m\u001b[0m\u001b[1;33m\u001b[0m\u001b[0m\n\u001b[0;32m    492\u001b[0m         \"\"\"\n\u001b[1;32m--> 493\u001b[1;33m         \u001b[1;32mreturn\u001b[0m \u001b[0mself\u001b[0m\u001b[1;33m.\u001b[0m\u001b[0mexecute\u001b[0m\u001b[1;33m(\u001b[0m\u001b[0mCommand\u001b[0m\u001b[1;33m.\u001b[0m\u001b[0mW3C_GET_WINDOW_HANDLES\u001b[0m\u001b[1;33m)\u001b[0m\u001b[1;33m[\u001b[0m\u001b[1;34m\"value\"\u001b[0m\u001b[1;33m]\u001b[0m\u001b[1;33m\u001b[0m\u001b[1;33m\u001b[0m\u001b[0m\n\u001b[0m\u001b[0;32m    494\u001b[0m \u001b[1;33m\u001b[0m\u001b[0m\n\u001b[0;32m    495\u001b[0m     \u001b[1;32mdef\u001b[0m \u001b[0mmaximize_window\u001b[0m\u001b[1;33m(\u001b[0m\u001b[0mself\u001b[0m\u001b[1;33m)\u001b[0m \u001b[1;33m->\u001b[0m \u001b[1;32mNone\u001b[0m\u001b[1;33m:\u001b[0m\u001b[1;33m\u001b[0m\u001b[1;33m\u001b[0m\u001b[0m\n",
      "\u001b[1;32mD:\\anaconda3\\lib\\site-packages\\selenium\\webdriver\\remote\\webdriver.py\u001b[0m in \u001b[0;36mexecute\u001b[1;34m(self, driver_command, params)\u001b[0m\n\u001b[0;32m    344\u001b[0m         \u001b[0mresponse\u001b[0m \u001b[1;33m=\u001b[0m \u001b[0mself\u001b[0m\u001b[1;33m.\u001b[0m\u001b[0mcommand_executor\u001b[0m\u001b[1;33m.\u001b[0m\u001b[0mexecute\u001b[0m\u001b[1;33m(\u001b[0m\u001b[0mdriver_command\u001b[0m\u001b[1;33m,\u001b[0m \u001b[0mparams\u001b[0m\u001b[1;33m)\u001b[0m\u001b[1;33m\u001b[0m\u001b[1;33m\u001b[0m\u001b[0m\n\u001b[0;32m    345\u001b[0m         \u001b[1;32mif\u001b[0m \u001b[0mresponse\u001b[0m\u001b[1;33m:\u001b[0m\u001b[1;33m\u001b[0m\u001b[1;33m\u001b[0m\u001b[0m\n\u001b[1;32m--> 346\u001b[1;33m             \u001b[0mself\u001b[0m\u001b[1;33m.\u001b[0m\u001b[0merror_handler\u001b[0m\u001b[1;33m.\u001b[0m\u001b[0mcheck_response\u001b[0m\u001b[1;33m(\u001b[0m\u001b[0mresponse\u001b[0m\u001b[1;33m)\u001b[0m\u001b[1;33m\u001b[0m\u001b[1;33m\u001b[0m\u001b[0m\n\u001b[0m\u001b[0;32m    347\u001b[0m             \u001b[0mresponse\u001b[0m\u001b[1;33m[\u001b[0m\u001b[1;34m\"value\"\u001b[0m\u001b[1;33m]\u001b[0m \u001b[1;33m=\u001b[0m \u001b[0mself\u001b[0m\u001b[1;33m.\u001b[0m\u001b[0m_unwrap_value\u001b[0m\u001b[1;33m(\u001b[0m\u001b[0mresponse\u001b[0m\u001b[1;33m.\u001b[0m\u001b[0mget\u001b[0m\u001b[1;33m(\u001b[0m\u001b[1;34m\"value\"\u001b[0m\u001b[1;33m,\u001b[0m \u001b[1;32mNone\u001b[0m\u001b[1;33m)\u001b[0m\u001b[1;33m)\u001b[0m\u001b[1;33m\u001b[0m\u001b[1;33m\u001b[0m\u001b[0m\n\u001b[0;32m    348\u001b[0m             \u001b[1;32mreturn\u001b[0m \u001b[0mresponse\u001b[0m\u001b[1;33m\u001b[0m\u001b[1;33m\u001b[0m\u001b[0m\n",
      "\u001b[1;32mD:\\anaconda3\\lib\\site-packages\\selenium\\webdriver\\remote\\errorhandler.py\u001b[0m in \u001b[0;36mcheck_response\u001b[1;34m(self, response)\u001b[0m\n\u001b[0;32m    243\u001b[0m                 \u001b[0malert_text\u001b[0m \u001b[1;33m=\u001b[0m \u001b[0mvalue\u001b[0m\u001b[1;33m[\u001b[0m\u001b[1;34m\"alert\"\u001b[0m\u001b[1;33m]\u001b[0m\u001b[1;33m.\u001b[0m\u001b[0mget\u001b[0m\u001b[1;33m(\u001b[0m\u001b[1;34m\"text\"\u001b[0m\u001b[1;33m)\u001b[0m\u001b[1;33m\u001b[0m\u001b[1;33m\u001b[0m\u001b[0m\n\u001b[0;32m    244\u001b[0m             \u001b[1;32mraise\u001b[0m \u001b[0mexception_class\u001b[0m\u001b[1;33m(\u001b[0m\u001b[0mmessage\u001b[0m\u001b[1;33m,\u001b[0m \u001b[0mscreen\u001b[0m\u001b[1;33m,\u001b[0m \u001b[0mstacktrace\u001b[0m\u001b[1;33m,\u001b[0m \u001b[0malert_text\u001b[0m\u001b[1;33m)\u001b[0m  \u001b[1;31m# type: ignore[call-arg]  # mypy is not smart enough here\u001b[0m\u001b[1;33m\u001b[0m\u001b[1;33m\u001b[0m\u001b[0m\n\u001b[1;32m--> 245\u001b[1;33m         \u001b[1;32mraise\u001b[0m \u001b[0mexception_class\u001b[0m\u001b[1;33m(\u001b[0m\u001b[0mmessage\u001b[0m\u001b[1;33m,\u001b[0m \u001b[0mscreen\u001b[0m\u001b[1;33m,\u001b[0m \u001b[0mstacktrace\u001b[0m\u001b[1;33m)\u001b[0m\u001b[1;33m\u001b[0m\u001b[1;33m\u001b[0m\u001b[0m\n\u001b[0m",
      "\u001b[1;31mWebDriverException\u001b[0m: Message: disconnected: not connected to DevTools\n  (failed to check if window was closed: disconnected: not connected to DevTools)\n  (Session info: chrome=120.0.6099.200)\nStacktrace:\n\tGetHandleVerifier [0x00007FF6F28982B2+55298]\n\t(No symbol) [0x00007FF6F2805E02]\n\t(No symbol) [0x00007FF6F26C05AB]\n\t(No symbol) [0x00007FF6F26AD1AA]\n\t(No symbol) [0x00007FF6F26AD9CE]\n\t(No symbol) [0x00007FF6F26C0AF8]\n\t(No symbol) [0x00007FF6F269FB90]\n\t(No symbol) [0x00007FF6F272D197]\n\t(No symbol) [0x00007FF6F2722070]\n\t(No symbol) [0x00007FF6F26F670A]\n\t(No symbol) [0x00007FF6F26F7964]\n\tGetHandleVerifier [0x00007FF6F2C10AAB+3694587]\n\tGetHandleVerifier [0x00007FF6F2C6728E+4048862]\n\tGetHandleVerifier [0x00007FF6F2C5F173+4015811]\n\tGetHandleVerifier [0x00007FF6F29347D6+695590]\n\t(No symbol) [0x00007FF6F2810CE8]\n\t(No symbol) [0x00007FF6F280CF34]\n\t(No symbol) [0x00007FF6F280D062]\n\t(No symbol) [0x00007FF6F27FD3A3]\n\tBaseThreadInitThunk [0x00007FFEB73B257D+29]\n\tRtlUserThreadStart [0x00007FFEB838AA58+40]\n"
     ]
    }
   ],
   "source": [
    "# driver.close()\n",
    "f = driver.window_handles[0]\n",
    "driver.switch_to.window(f)"
   ]
  },
  {
   "cell_type": "code",
   "execution_count": null,
   "id": "350e948a",
   "metadata": {},
   "outputs": [],
   "source": []
  },
  {
   "cell_type": "code",
   "execution_count": null,
   "id": "4076e6b1",
   "metadata": {},
   "outputs": [],
   "source": [
    "//cookie\n",
    "search = driver.find_element('xpath','//*[@id=\"yp-cookie-wrapper\"]/div/div[3]/a[2]')\n",
    "search.click()"
   ]
  },
  {
   "cell_type": "code",
   "execution_count": null,
   "id": "a7c6c6d3",
   "metadata": {},
   "outputs": [],
   "source": []
  },
  {
   "cell_type": "code",
   "execution_count": 8,
   "id": "786b03dc",
   "metadata": {},
   "outputs": [],
   "source": [
    "driver.back()"
   ]
  },
  {
   "cell_type": "code",
   "execution_count": 13,
   "id": "43816637",
   "metadata": {},
   "outputs": [],
   "source": [
    "time.sleep(1.5)"
   ]
  },
  {
   "cell_type": "code",
   "execution_count": null,
   "id": "42bef177",
   "metadata": {},
   "outputs": [],
   "source": [
    "//*[@id=\"bootstrap-panel--content\"]/ul/li[1]\n",
    "//*[@id=\"bootstrap-panel--content\"]/ul/li[2]\n",
    "//*[@id=\"bootstrap-panel--2--content\"]/ul/li[1]\n",
    "//*[@id=\"bootstrap-panel--3--content\"]/ul/li[1]"
   ]
  },
  {
   "cell_type": "code",
   "execution_count": null,
   "id": "8978cbb8",
   "metadata": {},
   "outputs": [],
   "source": [
    "/html/body/div[1]/div[2]/div/div[2]/div/div/div[3]/div[1]/div[2]/div/div\n",
    "/html/body/div[1]/div[2]/div/div[2]/div/div/div[4]/div[1]/div/div/div/h3/a\n",
    "/html/body/div[1]/div[2]/div/div[2]/div/div/div[6]/div[1]/div/div/div/h3/a"
   ]
  },
  {
   "cell_type": "code",
   "execution_count": null,
   "id": "c53cd868",
   "metadata": {},
   "outputs": [],
   "source": []
  },
  {
   "cell_type": "code",
   "execution_count": null,
   "id": "96dcf283",
   "metadata": {},
   "outputs": [],
   "source": []
  }
 ],
 "metadata": {
  "kernelspec": {
   "display_name": "Python 3",
   "language": "python",
   "name": "python3"
  },
  "language_info": {
   "codemirror_mode": {
    "name": "ipython",
    "version": 3
   },
   "file_extension": ".py",
   "mimetype": "text/x-python",
   "name": "python",
   "nbconvert_exporter": "python",
   "pygments_lexer": "ipython3",
   "version": "3.8.5"
  }
 },
 "nbformat": 4,
 "nbformat_minor": 5
}
