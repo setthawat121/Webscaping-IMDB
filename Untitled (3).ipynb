{
 "cells": [
  {
   "cell_type": "code",
   "execution_count": null,
   "id": "e8d8a819",
   "metadata": {},
   "outputs": [],
   "source": [
    "!pip install bs4\n",
    "!pip install selenium"
   ]
  },
  {
   "cell_type": "code",
   "execution_count": 2,
   "id": "95d44377",
   "metadata": {},
   "outputs": [],
   "source": [
    "from bs4 import BeautifulSoup\n",
    "from selenium import webdriver\n",
    "from selenium.webdriver.chrome.service import Service\n",
    "from selenium.webdriver.common.keys import Keys\n",
    "import pandas as pd"
   ]
  },
  {
   "cell_type": "code",
   "execution_count": null,
   "id": "3179368d",
   "metadata": {},
   "outputs": [],
   "source": [
    "---------------------------------------------------------------"
   ]
  },
  {
   "cell_type": "code",
   "execution_count": null,
   "id": "c762214d",
   "metadata": {},
   "outputs": [],
   "source": [
    "driver.get('https://www.imdb.com/title/tt12324366/')"
   ]
  },
  {
   "cell_type": "code",
   "execution_count": null,
   "id": "af50cf4d",
   "metadata": {},
   "outputs": [],
   "source": [
    "data = driver.page_source\n",
    "soup = BeautifulSoup(data)"
   ]
  },
  {
   "cell_type": "code",
   "execution_count": null,
   "id": "1e462232",
   "metadata": {},
   "outputs": [],
   "source": [
    "All_Source = soup.find('div',{'class':'sc-dffc6c81-0 iwmAVw'})"
   ]
  },
  {
   "cell_type": "code",
   "execution_count": 54,
   "id": "2fccbd81",
   "metadata": {},
   "outputs": [],
   "source": [
    "All_Name = []"
   ]
  },
  {
   "cell_type": "code",
   "execution_count": 55,
   "id": "2709e7cf",
   "metadata": {},
   "outputs": [],
   "source": [
    "for source_loop in All_Source :\n",
    "    All_Name.append(source_loop.find('span'))"
   ]
  },
  {
   "cell_type": "code",
   "execution_count": 56,
   "id": "e5762cc1",
   "metadata": {},
   "outputs": [
    {
     "data": {
      "text/plain": [
       "[<span class=\"sc-afe43def-1 fDTGTb\">Percy Jackson and the Olympians</span>,\n",
       " None]"
      ]
     },
     "execution_count": 56,
     "metadata": {},
     "output_type": "execute_result"
    }
   ],
   "source": [
    "All_Name"
   ]
  },
  {
   "cell_type": "code",
   "execution_count": null,
   "id": "22cb170e",
   "metadata": {},
   "outputs": [],
   "source": []
  },
  {
   "cell_type": "code",
   "execution_count": null,
   "id": "7bc151c0",
   "metadata": {},
   "outputs": [],
   "source": [
    "---------------------------------------------------"
   ]
  },
  {
   "cell_type": "code",
   "execution_count": 3,
   "id": "bb4ad744",
   "metadata": {},
   "outputs": [],
   "source": [
    "service = Service(executable_path=r'C:\\Users\\setthawat\\Downloads\\chromedriver-win64\\chromedriver-win64\\chromedriver.exe')"
   ]
  },
  {
   "cell_type": "code",
   "execution_count": 5,
   "id": "d7e93891",
   "metadata": {},
   "outputs": [],
   "source": [
    "driver = webdriver.Chrome(service=service)"
   ]
  },
  {
   "cell_type": "code",
   "execution_count": 6,
   "id": "a2192520",
   "metadata": {},
   "outputs": [],
   "source": [
    "driver.get('https://www.boi.go.th/index.php?page=form_promoted_companies')\n",
    "# driver_detail.get('https://www.boi.go.th/index.php?page=company_detail2&COM_ID=0905545002431&HP_ID=471071&language_search=Thai')"
   ]
  },
  {
   "cell_type": "code",
   "execution_count": 7,
   "id": "f2a6c21e",
   "metadata": {},
   "outputs": [],
   "source": [
    "data = driver.page_source"
   ]
  },
  {
   "cell_type": "code",
   "execution_count": 8,
   "id": "465c28f4",
   "metadata": {},
   "outputs": [],
   "source": [
    "soup = BeautifulSoup(data)"
   ]
  },
  {
   "cell_type": "code",
   "execution_count": 9,
   "id": "b0947608",
   "metadata": {},
   "outputs": [],
   "source": [
    "Next = driver.find_element('xpath','//*[@id=\"formSearch\"]/center/div[1]/input[1]')\n",
    "Next.click()"
   ]
  },
  {
   "cell_type": "code",
   "execution_count": null,
   "id": "c402fefb",
   "metadata": {},
   "outputs": [],
   "source": [
    "---------------------------------------------------"
   ]
  },
  {
   "cell_type": "code",
   "execution_count": 137,
   "id": "fe3b42e1",
   "metadata": {},
   "outputs": [],
   "source": [
    "Next = driver.find_element('xpath','//*[@id=\"search-z\"]/table/tbody/tr[2]/td[4]/a')\n",
    "Next.click()"
   ]
  },
  {
   "cell_type": "code",
   "execution_count": null,
   "id": "edce0360",
   "metadata": {},
   "outputs": [],
   "source": [
    "data = driver.page_source"
   ]
  },
  {
   "cell_type": "code",
   "execution_count": null,
   "id": "20f4f115",
   "metadata": {},
   "outputs": [],
   "source": [
    "soup = BeautifulSoup(data)"
   ]
  },
  {
   "cell_type": "code",
   "execution_count": 130,
   "id": "aa93856f",
   "metadata": {},
   "outputs": [],
   "source": [
    "f = driver.window_handles[0]\n",
    "c = driver.window_handles[1]"
   ]
  },
  {
   "cell_type": "code",
   "execution_count": 133,
   "id": "a0f02eef",
   "metadata": {},
   "outputs": [],
   "source": [
    "driver.switch_to.window(c)"
   ]
  },
  {
   "cell_type": "code",
   "execution_count": 65,
   "id": "c73dba21",
   "metadata": {},
   "outputs": [],
   "source": [
    "data = driver.page_source"
   ]
  },
  {
   "cell_type": "code",
   "execution_count": 66,
   "id": "cf9b0044",
   "metadata": {},
   "outputs": [],
   "source": [
    "soup = BeautifulSoup(data)"
   ]
  },
  {
   "cell_type": "code",
   "execution_count": 124,
   "id": "e23d43b9",
   "metadata": {},
   "outputs": [],
   "source": [
    "All_Source = soup.find_all('div',{'class':'company_detail'})"
   ]
  },
  {
   "cell_type": "code",
   "execution_count": 125,
   "id": "6bdb1a6c",
   "metadata": {},
   "outputs": [
    {
     "data": {
      "text/plain": [
       "[<div class=\"company_detail\">\n",
       " <div class=\"article\" ctl_type=\"htmlblock\" databind=\"true\" editable=\"yes\" id=\"detail\" module=\"custom\" style=\"margin-top: 10px; line-height: 1.5;\">\n",
       " <table class=\"tableframe table table-bordered\" width=\"75%\">\n",
       " <tbody face=\"\" size=\"\">\n",
       " <tr face=\"\" size=\"\"><th align=\"left\" colspan=\"2\" face=\"\" size=\"\">บริษัท 105 โซล่า เพาเวอร์ จำกัด</th></tr>\n",
       " <tr face=\"\" size=\"\"><td face=\"\" size=\"\">Products</td><td face=\"\" size=\"\">ไฟฟ้าจากพลังงานแสงอาทิตย์ที่ติดตั้งบนหลังคา</td>\n",
       " </tr><tr face=\"\" size=\"\"><th align=\"left\" colspan=\"2\" face=\"\" size=\"\">Company Office</th></tr>\n",
       " <tr face=\"\" size=\"\"><td face=\"\" size=\"\">Address</td><td face=\"\" size=\"\">เลขที่ 105/30 หมู่ 3</td>\n",
       " </tr><tr face=\"\" size=\"\"><td face=\"\" size=\"\">Tambon</td><td face=\"\" size=\"\">ต.ท่าข้าม</td>\n",
       " </tr><tr face=\"\" size=\"\"><td face=\"\" size=\"\">District</td><td face=\"\" size=\"\">อ.บางปะกง</td>\n",
       " </tr><tr face=\"\" size=\"\"><td face=\"\" size=\"\">Province (Office)</td><td face=\"\" size=\"\">ฉะเชิงเทรา</td>\n",
       " </tr><tr face=\"\" size=\"\"><td face=\"\" size=\"\">ZIP Code</td><td face=\"\" size=\"\">24130</td>\n",
       " </tr><tr face=\"\" size=\"\"><td face=\"\" size=\"\">Telephone</td><td face=\"\" size=\"\"></td>\n",
       " </tr><tr face=\"\" size=\"\"><td face=\"\" size=\"\">Fax</td><td face=\"\" size=\"\"></td>\n",
       " </tr></tbody>\n",
       " </table>\n",
       " </div>\n",
       " </div>]"
      ]
     },
     "execution_count": 125,
     "metadata": {},
     "output_type": "execute_result"
    }
   ],
   "source": [
    "All_Source"
   ]
  },
  {
   "cell_type": "code",
   "execution_count": 152,
   "id": "a085a503",
   "metadata": {},
   "outputs": [],
   "source": [
    "All_Name = []"
   ]
  },
  {
   "cell_type": "code",
   "execution_count": 127,
   "id": "aa26ec5e",
   "metadata": {},
   "outputs": [],
   "source": [
    "for source_loop in All_Source :\n",
    "    All_Name.append(source_loop.find('table',{'class':'tableframe table table-bordered'}).find('tr').text)"
   ]
  },
  {
   "cell_type": "code",
   "execution_count": 128,
   "id": "4ff6ec83",
   "metadata": {},
   "outputs": [],
   "source": [
    "for source in All_Source :\n",
    "    All_Name.append(source.find('table',{'class':'tableframe table table-bordered'}).find('tr').text)"
   ]
  },
  {
   "cell_type": "code",
   "execution_count": 129,
   "id": "8cbeb1e3",
   "metadata": {},
   "outputs": [
    {
     "data": {
      "text/plain": [
       "['บริษัท 105 โซล่า เพาเวอร์ จำกัด', 'บริษัท 105 โซล่า เพาเวอร์ จำกัด']"
      ]
     },
     "execution_count": 129,
     "metadata": {},
     "output_type": "execute_result"
    }
   ],
   "source": [
    "All_Name"
   ]
  },
  {
   "cell_type": "code",
   "execution_count": 134,
   "id": "d0476f37",
   "metadata": {},
   "outputs": [],
   "source": [
    "driver.close()"
   ]
  },
  {
   "cell_type": "code",
   "execution_count": 225,
   "id": "0b99f399",
   "metadata": {},
   "outputs": [],
   "source": [
    "f = driver.window_handles[0]\n",
    "driver.switch_to.window(f)"
   ]
  },
  {
   "cell_type": "code",
   "execution_count": 117,
   "id": "3b9d1e76",
   "metadata": {},
   "outputs": [],
   "source": [
    "Next = driver.find_element('xpath','//*[@id=\"search-z\"]/table/tbody/tr[2]/td[4]/a')\n",
    "Next.click()"
   ]
  },
  {
   "cell_type": "code",
   "execution_count": 118,
   "id": "0e74793d",
   "metadata": {},
   "outputs": [],
   "source": [
    "f = driver.window_handles[1]\n",
    "driver.switch_to.window(f)"
   ]
  },
  {
   "cell_type": "code",
   "execution_count": null,
   "id": "0fcd44ff",
   "metadata": {},
   "outputs": [],
   "source": [
    "driver.close()"
   ]
  },
  {
   "cell_type": "code",
   "execution_count": null,
   "id": "d9c92300",
   "metadata": {},
   "outputs": [],
   "source": [
    "Next = driver.find_element('xpath','//*[@id=\"formSearch\"]/center/div[1]/input[1]')\n",
    "Next.click()"
   ]
  },
  {
   "cell_type": "code",
   "execution_count": null,
   "id": "fb16caf4",
   "metadata": {},
   "outputs": [],
   "source": [
    "Company_name = []\n",
    "Web_source = soup.find_all('div',{'class':'col-lg-9.col-md-9.col-sm-12.col-xs-12.-block'})"
   ]
  },
  {
   "cell_type": "code",
   "execution_count": null,
   "id": "8fcd532b",
   "metadata": {},
   "outputs": [],
   "source": [
    "driver.get('https://www.boi.go.th/index.php?page=company_detail2&COM_ID=0245558001796&HP_ID=E601260&language_search=Thai')\n",
    "data = driver.page_source\n",
    "soup = BeautifulSoup(data)"
   ]
  },
  {
   "cell_type": "code",
   "execution_count": 105,
   "id": "c7a51a2f",
   "metadata": {},
   "outputs": [],
   "source": [
    "Web_source = soup.find_all('div',{'id':'detail'})"
   ]
  },
  {
   "cell_type": "code",
   "execution_count": 106,
   "id": "1d763aca",
   "metadata": {},
   "outputs": [
    {
     "data": {
      "text/plain": [
       "[<div class=\"article\" ctl_type=\"htmlblock\" databind=\"true\" editable=\"yes\" id=\"detail\" module=\"custom\" style=\"margin-top: 10px; line-height: 1.5;\">\n",
       " <table class=\"tableframe table table-bordered\" width=\"75%\">\n",
       " <tbody face=\"\" size=\"\">\n",
       " <tr face=\"\" size=\"\"><th align=\"left\" colspan=\"2\" face=\"\" size=\"\">บริษัท 105 โซล่า เพาเวอร์ จำกัด</th></tr>\n",
       " <tr face=\"\" size=\"\"><td face=\"\" size=\"\">Products</td><td face=\"\" size=\"\">ไฟฟ้าจากพลังงานแสงอาทิตย์ที่ติดตั้งบนหลังคา</td>\n",
       " </tr><tr face=\"\" size=\"\"><th align=\"left\" colspan=\"2\" face=\"\" size=\"\">Company Office</th></tr>\n",
       " <tr face=\"\" size=\"\"><td face=\"\" size=\"\">Address</td><td face=\"\" size=\"\">เลขที่ 105/30 หมู่ 3</td>\n",
       " </tr><tr face=\"\" size=\"\"><td face=\"\" size=\"\">Tambon</td><td face=\"\" size=\"\">ต.ท่าข้าม</td>\n",
       " </tr><tr face=\"\" size=\"\"><td face=\"\" size=\"\">District</td><td face=\"\" size=\"\">อ.บางปะกง</td>\n",
       " </tr><tr face=\"\" size=\"\"><td face=\"\" size=\"\">Province (Office)</td><td face=\"\" size=\"\">ฉะเชิงเทรา</td>\n",
       " </tr><tr face=\"\" size=\"\"><td face=\"\" size=\"\">ZIP Code</td><td face=\"\" size=\"\">24130</td>\n",
       " </tr><tr face=\"\" size=\"\"><td face=\"\" size=\"\">Telephone</td><td face=\"\" size=\"\"></td>\n",
       " </tr><tr face=\"\" size=\"\"><td face=\"\" size=\"\">Fax</td><td face=\"\" size=\"\"></td>\n",
       " </tr></tbody>\n",
       " </table>\n",
       " </div>]"
      ]
     },
     "execution_count": 106,
     "metadata": {},
     "output_type": "execute_result"
    }
   ],
   "source": [
    "Web_source"
   ]
  },
  {
   "cell_type": "code",
   "execution_count": 149,
   "id": "7597b051",
   "metadata": {},
   "outputs": [],
   "source": [
    "driver.switch_to.window(f)"
   ]
  },
  {
   "cell_type": "code",
   "execution_count": null,
   "id": "c8d32661",
   "metadata": {},
   "outputs": [],
   "source": [
    "Next = driver.find_element('xpath','//*[@id=\"search-z\"]/table/tbody/tr[%i]/td[4]/a'%(i))\n",
    "Next.click()"
   ]
  },
  {
   "cell_type": "code",
   "execution_count": 194,
   "id": "b11d0591",
   "metadata": {},
   "outputs": [],
   "source": [
    "data = driver.page_source\n",
    "soup = BeautifulSoup(data)"
   ]
  },
  {
   "cell_type": "code",
   "execution_count": 134,
   "id": "3c0136c6",
   "metadata": {},
   "outputs": [],
   "source": [
    "Web_source11 = soup.find_all('table',{'class':'tableframe table table-bordered'})"
   ]
  },
  {
   "cell_type": "code",
   "execution_count": 135,
   "id": "889a1402",
   "metadata": {},
   "outputs": [
    {
     "data": {
      "text/plain": [
       "[<table class=\"tableframe table table-bordered\" width=\"75%\">\n",
       " <tbody face=\"\" size=\"\">\n",
       " <tr face=\"\" size=\"\"><th align=\"left\" colspan=\"2\" face=\"\" size=\"\">บริษัท 105 โซล่า เพาเวอร์ จำกัด</th></tr>\n",
       " <tr face=\"\" size=\"\"><td face=\"\" size=\"\">Products</td><td face=\"\" size=\"\">ไฟฟ้าจากพลังงานแสงอาทิตย์ที่ติดตั้งบนหลังคา</td>\n",
       " </tr><tr face=\"\" size=\"\"><th align=\"left\" colspan=\"2\" face=\"\" size=\"\">Company Office</th></tr>\n",
       " <tr face=\"\" size=\"\"><td face=\"\" size=\"\">Address</td><td face=\"\" size=\"\">เลขที่ 105/30 หมู่ 3</td>\n",
       " </tr><tr face=\"\" size=\"\"><td face=\"\" size=\"\">Tambon</td><td face=\"\" size=\"\">ต.ท่าข้าม</td>\n",
       " </tr><tr face=\"\" size=\"\"><td face=\"\" size=\"\">District</td><td face=\"\" size=\"\">อ.บางปะกง</td>\n",
       " </tr><tr face=\"\" size=\"\"><td face=\"\" size=\"\">Province (Office)</td><td face=\"\" size=\"\">ฉะเชิงเทรา</td>\n",
       " </tr><tr face=\"\" size=\"\"><td face=\"\" size=\"\">ZIP Code</td><td face=\"\" size=\"\">24130</td>\n",
       " </tr><tr face=\"\" size=\"\"><td face=\"\" size=\"\">Telephone</td><td face=\"\" size=\"\"></td>\n",
       " </tr><tr face=\"\" size=\"\"><td face=\"\" size=\"\">Fax</td><td face=\"\" size=\"\"></td>\n",
       " </tr></tbody>\n",
       " </table>]"
      ]
     },
     "execution_count": 135,
     "metadata": {},
     "output_type": "execute_result"
    }
   ],
   "source": [
    "Web_source11"
   ]
  },
  {
   "cell_type": "code",
   "execution_count": 128,
   "id": "abe09fac",
   "metadata": {},
   "outputs": [],
   "source": [
    "Web_source12 = soup.find_all('div',{'class':'company_detail'})"
   ]
  },
  {
   "cell_type": "code",
   "execution_count": 139,
   "id": "02241034",
   "metadata": {},
   "outputs": [
    {
     "data": {
      "text/plain": [
       "[<div class=\"company_detail\">\n",
       " <div class=\"article\" ctl_type=\"htmlblock\" databind=\"true\" editable=\"yes\" id=\"detail\" module=\"custom\" style=\"margin-top: 10px; line-height: 1.5;\">\n",
       " <table class=\"tableframe table table-bordered\" width=\"75%\">\n",
       " <tbody face=\"\" size=\"\">\n",
       " <tr face=\"\" size=\"\"><th align=\"left\" colspan=\"2\" face=\"\" size=\"\">บริษัท 105 โซล่า เพาเวอร์ จำกัด</th></tr>\n",
       " <tr face=\"\" size=\"\"><td face=\"\" size=\"\">Products</td><td face=\"\" size=\"\">ไฟฟ้าจากพลังงานแสงอาทิตย์ที่ติดตั้งบนหลังคา</td>\n",
       " </tr><tr face=\"\" size=\"\"><th align=\"left\" colspan=\"2\" face=\"\" size=\"\">Company Office</th></tr>\n",
       " <tr face=\"\" size=\"\"><td face=\"\" size=\"\">Address</td><td face=\"\" size=\"\">เลขที่ 105/30 หมู่ 3</td>\n",
       " </tr><tr face=\"\" size=\"\"><td face=\"\" size=\"\">Tambon</td><td face=\"\" size=\"\">ต.ท่าข้าม</td>\n",
       " </tr><tr face=\"\" size=\"\"><td face=\"\" size=\"\">District</td><td face=\"\" size=\"\">อ.บางปะกง</td>\n",
       " </tr><tr face=\"\" size=\"\"><td face=\"\" size=\"\">Province (Office)</td><td face=\"\" size=\"\">ฉะเชิงเทรา</td>\n",
       " </tr><tr face=\"\" size=\"\"><td face=\"\" size=\"\">ZIP Code</td><td face=\"\" size=\"\">24130</td>\n",
       " </tr><tr face=\"\" size=\"\"><td face=\"\" size=\"\">Telephone</td><td face=\"\" size=\"\"></td>\n",
       " </tr><tr face=\"\" size=\"\"><td face=\"\" size=\"\">Fax</td><td face=\"\" size=\"\"></td>\n",
       " </tr></tbody>\n",
       " </table>\n",
       " </div>\n",
       " </div>]"
      ]
     },
     "execution_count": 139,
     "metadata": {},
     "output_type": "execute_result"
    }
   ],
   "source": [
    "Web_source12"
   ]
  },
  {
   "cell_type": "code",
   "execution_count": 182,
   "id": "2de91f30",
   "metadata": {},
   "outputs": [],
   "source": [
    "Company_name = []\n",
    "Products = []\n",
    "Address = []\n",
    "Tambon = []\n",
    "District = []\n",
    "Province = []\n",
    "ZIP_Code = []\n",
    "Telephone = []"
   ]
  },
  {
   "cell_type": "code",
   "execution_count": 183,
   "id": "2ef2973c",
   "metadata": {},
   "outputs": [],
   "source": [
    "for source in Web_source11 :\n",
    "    Company_name.append(source.find('tr').text)\n",
    "    All_info = [td.text for td in source.find_all('td')]\n",
    "    Products.append(All_info[1])\n",
    "    Address.append(All_info[3])\n",
    "    Tambon.append(All_info[5])\n",
    "    District.append(All_info[7])\n",
    "    Province.append(All_info[9])\n",
    "    ZIP_Code.append(All_info[11])\n",
    "    Telephone.append(All_info[13])"
   ]
  },
  {
   "cell_type": "code",
   "execution_count": 191,
   "id": "fc72e5f8",
   "metadata": {},
   "outputs": [
    {
     "data": {
      "text/plain": [
       "['']"
      ]
     },
     "execution_count": 191,
     "metadata": {},
     "output_type": "execute_result"
    }
   ],
   "source": [
    "Telephone"
   ]
  },
  {
   "cell_type": "code",
   "execution_count": 187,
   "id": "f89a94c6",
   "metadata": {},
   "outputs": [
    {
     "data": {
      "text/plain": [
       "['ต.ท่าข้าม']"
      ]
     },
     "execution_count": 187,
     "metadata": {},
     "output_type": "execute_result"
    }
   ],
   "source": [
    "Tambon"
   ]
  },
  {
   "cell_type": "code",
   "execution_count": 177,
   "id": "148d3c75",
   "metadata": {},
   "outputs": [
    {
     "data": {
      "text/plain": [
       "['Products',\n",
       " 'ไฟฟ้าจากพลังงานแสงอาทิตย์ที่ติดตั้งบนหลังคา',\n",
       " 'Address',\n",
       " 'เลขที่ 105/30 หมู่ 3',\n",
       " 'Tambon',\n",
       " 'ต.ท่าข้าม',\n",
       " 'District',\n",
       " 'อ.บางปะกง',\n",
       " 'Province (Office)',\n",
       " 'ฉะเชิงเทรา',\n",
       " 'ZIP Code',\n",
       " '24130',\n",
       " 'Telephone',\n",
       " '',\n",
       " 'Fax',\n",
       " '']"
      ]
     },
     "execution_count": 177,
     "metadata": {},
     "output_type": "execute_result"
    }
   ],
   "source": [
    "All_info"
   ]
  },
  {
   "cell_type": "code",
   "execution_count": 51,
   "id": "b2c35831",
   "metadata": {},
   "outputs": [],
   "source": [
    "info_company = []"
   ]
  },
  {
   "cell_type": "code",
   "execution_count": 145,
   "id": "23f04303",
   "metadata": {},
   "outputs": [
    {
     "ename": "AttributeError",
     "evalue": "ResultSet object has no attribute 'find'. You're probably treating a list of elements like a single element. Did you call find_all() when you meant to call find()?",
     "output_type": "error",
     "traceback": [
      "\u001b[1;31m---------------------------------------------------------------------------\u001b[0m",
      "\u001b[1;31mAttributeError\u001b[0m                            Traceback (most recent call last)",
      "\u001b[1;32m<ipython-input-145-7a1fcf1950fc>\u001b[0m in \u001b[0;36m<module>\u001b[1;34m\u001b[0m\n\u001b[0;32m      1\u001b[0m \u001b[1;32mfor\u001b[0m \u001b[0msource\u001b[0m \u001b[1;32min\u001b[0m \u001b[0mWeb_source11\u001b[0m \u001b[1;33m:\u001b[0m\u001b[1;33m\u001b[0m\u001b[1;33m\u001b[0m\u001b[0m\n\u001b[1;32m----> 2\u001b[1;33m     \u001b[0minfo_company\u001b[0m\u001b[1;33m.\u001b[0m\u001b[0mappend\u001b[0m\u001b[1;33m(\u001b[0m\u001b[0msource\u001b[0m\u001b[1;33m.\u001b[0m\u001b[0mfind_all\u001b[0m\u001b[1;33m(\u001b[0m\u001b[1;34m'table'\u001b[0m\u001b[1;33m,\u001b[0m\u001b[1;33m{\u001b[0m\u001b[1;34m'class'\u001b[0m\u001b[1;33m:\u001b[0m\u001b[1;34m'tableframe table table-bordered'\u001b[0m\u001b[1;33m}\u001b[0m\u001b[1;33m)\u001b[0m\u001b[1;33m.\u001b[0m\u001b[0mfind\u001b[0m\u001b[1;33m(\u001b[0m\u001b[1;34m'tr'\u001b[0m\u001b[1;33m)\u001b[0m\u001b[1;33m)\u001b[0m\u001b[1;33m\u001b[0m\u001b[1;33m\u001b[0m\u001b[0m\n\u001b[0m\u001b[0;32m      3\u001b[0m \u001b[1;31m#     Products.append(source.find('tr'))\u001b[0m\u001b[1;33m\u001b[0m\u001b[1;33m\u001b[0m\u001b[1;33m\u001b[0m\u001b[0m\n",
      "\u001b[1;32mD:\\anaconda3\\lib\\site-packages\\bs4\\element.py\u001b[0m in \u001b[0;36m__getattr__\u001b[1;34m(self, key)\u001b[0m\n\u001b[0;32m   2171\u001b[0m     \u001b[1;32mdef\u001b[0m \u001b[0m__getattr__\u001b[0m\u001b[1;33m(\u001b[0m\u001b[0mself\u001b[0m\u001b[1;33m,\u001b[0m \u001b[0mkey\u001b[0m\u001b[1;33m)\u001b[0m\u001b[1;33m:\u001b[0m\u001b[1;33m\u001b[0m\u001b[1;33m\u001b[0m\u001b[0m\n\u001b[0;32m   2172\u001b[0m         \u001b[1;34m\"\"\"Raise a helpful exception to explain a common code fix.\"\"\"\u001b[0m\u001b[1;33m\u001b[0m\u001b[1;33m\u001b[0m\u001b[0m\n\u001b[1;32m-> 2173\u001b[1;33m         raise AttributeError(\n\u001b[0m\u001b[0;32m   2174\u001b[0m             \u001b[1;34m\"ResultSet object has no attribute '%s'. You're probably treating a list of elements like a single element. Did you call find_all() when you meant to call find()?\"\u001b[0m \u001b[1;33m%\u001b[0m \u001b[0mkey\u001b[0m\u001b[1;33m\u001b[0m\u001b[1;33m\u001b[0m\u001b[0m\n\u001b[0;32m   2175\u001b[0m         )\n",
      "\u001b[1;31mAttributeError\u001b[0m: ResultSet object has no attribute 'find'. You're probably treating a list of elements like a single element. Did you call find_all() when you meant to call find()?"
     ]
    }
   ],
   "source": [
    "for source in Web_source11 :\n",
    "    info_company.append(source.find_all('table',{'class':'tableframe table table-bordered'}).find('tr'))\n",
    "#     Products.append(source.find('tr'))"
   ]
  },
  {
   "cell_type": "code",
   "execution_count": 92,
   "id": "20375a4f",
   "metadata": {},
   "outputs": [
    {
     "data": {
      "text/plain": [
       "['บริษัท 105 โซล่า เพาเวอร์ จำกัด', 'Company Office']"
      ]
     },
     "execution_count": 92,
     "metadata": {},
     "output_type": "execute_result"
    }
   ],
   "source": [
    "header"
   ]
  },
  {
   "cell_type": "code",
   "execution_count": 148,
   "id": "1a49d832",
   "metadata": {},
   "outputs": [],
   "source": [
    "# header = [th.text for th in soup.table.find_all('th')]\n",
    "# data = []\n",
    "\n",
    "for tr in Web_source11 :\n",
    "#     Company_name.append(source.find('tr').text)\n",
    "    All_info.append([td.text for td in tr.find_all('td')])\n",
    "    \n",
    "# df = pd.DataFrame(Products, columns=header)\n",
    "# print(df)"
   ]
  },
  {
   "cell_type": "code",
   "execution_count": 152,
   "id": "9a041c8d",
   "metadata": {},
   "outputs": [],
   "source": [
    "All_info = All_info[0]"
   ]
  },
  {
   "cell_type": "code",
   "execution_count": 155,
   "id": "9d3142fe",
   "metadata": {},
   "outputs": [
    {
     "data": {
      "text/plain": [
       "'Telephone'"
      ]
     },
     "execution_count": 155,
     "metadata": {},
     "output_type": "execute_result"
    }
   ],
   "source": [
    "All_info[12]"
   ]
  },
  {
   "cell_type": "code",
   "execution_count": 107,
   "id": "d55b5a3a",
   "metadata": {},
   "outputs": [
    {
     "data": {
      "text/plain": [
       "[]"
      ]
     },
     "execution_count": 107,
     "metadata": {},
     "output_type": "execute_result"
    }
   ],
   "source": [
    "info_company"
   ]
  },
  {
   "cell_type": "code",
   "execution_count": 108,
   "id": "05f2f7c1",
   "metadata": {},
   "outputs": [
    {
     "data": {
      "text/plain": [
       "[]"
      ]
     },
     "execution_count": 108,
     "metadata": {},
     "output_type": "execute_result"
    }
   ],
   "source": [
    "Company_name"
   ]
  },
  {
   "cell_type": "code",
   "execution_count": 113,
   "id": "b1f33ea7",
   "metadata": {},
   "outputs": [
    {
     "data": {
      "text/plain": [
       "[[],\n",
       " ['Products', 'ไฟฟ้าจากพลังงานแสงอาทิตย์ที่ติดตั้งบนหลังคา'],\n",
       " [],\n",
       " ['Address', 'เลขที่ 105/30 หมู่ 3'],\n",
       " ['Tambon', 'ต.ท่าข้าม'],\n",
       " ['District', 'อ.บางปะกง'],\n",
       " ['Province (Office)', 'ฉะเชิงเทรา'],\n",
       " ['ZIP Code', '24130'],\n",
       " ['Telephone', ''],\n",
       " ['Fax', '']]"
      ]
     },
     "execution_count": 113,
     "metadata": {},
     "output_type": "execute_result"
    }
   ],
   "source": [
    "Products"
   ]
  },
  {
   "cell_type": "code",
   "execution_count": 103,
   "id": "00b0930e",
   "metadata": {},
   "outputs": [],
   "source": [
    "Products = Products[1]"
   ]
  },
  {
   "cell_type": "code",
   "execution_count": 105,
   "id": "22cd4d8c",
   "metadata": {},
   "outputs": [
    {
     "data": {
      "text/plain": [
       "'ไฟฟ้าจากพลังงานแสงอาทิตย์ที่ติดตั้งบนหลังคา'"
      ]
     },
     "execution_count": 105,
     "metadata": {},
     "output_type": "execute_result"
    }
   ],
   "source": [
    "Products[1]"
   ]
  },
  {
   "cell_type": "code",
   "execution_count": 80,
   "id": "0b8921c7",
   "metadata": {},
   "outputs": [
    {
     "data": {
      "text/plain": [
       "['Address', 'เลขที่ 105/30 หมู่ 3']"
      ]
     },
     "execution_count": 80,
     "metadata": {},
     "output_type": "execute_result"
    }
   ],
   "source": [
    "Products[3]"
   ]
  },
  {
   "cell_type": "code",
   "execution_count": null,
   "id": "486c5ef0",
   "metadata": {},
   "outputs": [],
   "source": [
    "--------------------------------------------------------------------------"
   ]
  },
  {
   "cell_type": "code",
   "execution_count": 151,
   "id": "c9a1a0af",
   "metadata": {},
   "outputs": [],
   "source": [
    "Next = driver.find_element('xpath','//*[@id=\"search-z\"]/table/tbody/tr[2]/td[4]/a')\n",
    "Next.click()"
   ]
  },
  {
   "cell_type": "code",
   "execution_count": 156,
   "id": "f8844f58",
   "metadata": {},
   "outputs": [],
   "source": [
    "Company_name = []"
   ]
  },
  {
   "cell_type": "code",
   "execution_count": 110,
   "id": "df0545c9",
   "metadata": {},
   "outputs": [],
   "source": [
    "Products = []"
   ]
  },
  {
   "cell_type": "code",
   "execution_count": 139,
   "id": "85901b1a",
   "metadata": {},
   "outputs": [],
   "source": [
    "All_Source = soup.find_all('table',{'class':'tableframe table table-bordered'})"
   ]
  },
  {
   "cell_type": "code",
   "execution_count": 140,
   "id": "bce555cc",
   "metadata": {},
   "outputs": [
    {
     "data": {
      "text/plain": [
       "[]"
      ]
     },
     "execution_count": 140,
     "metadata": {},
     "output_type": "execute_result"
    }
   ],
   "source": [
    "All_Source"
   ]
  },
  {
   "cell_type": "code",
   "execution_count": 135,
   "id": "7205f63c",
   "metadata": {},
   "outputs": [],
   "source": [
    "All_Source = soup.find_all('table',{'class':'tableframe table table-bordered'})\n",
    "for source in All_Source :\n",
    "    Company_name.append(source.find('tr').text)\n",
    "    Products.append(source.find('tr').text)"
   ]
  },
  {
   "cell_type": "code",
   "execution_count": 67,
   "id": "8d5f8d03",
   "metadata": {},
   "outputs": [
    {
     "data": {
      "text/plain": [
       "[]"
      ]
     },
     "execution_count": 67,
     "metadata": {},
     "output_type": "execute_result"
    }
   ],
   "source": [
    "Company_name"
   ]
  },
  {
   "cell_type": "code",
   "execution_count": 133,
   "id": "e0e14231",
   "metadata": {},
   "outputs": [
    {
     "data": {
      "text/plain": [
       "[]"
      ]
     },
     "execution_count": 133,
     "metadata": {},
     "output_type": "execute_result"
    }
   ],
   "source": [
    "Products"
   ]
  },
  {
   "cell_type": "code",
   "execution_count": 20,
   "id": "10cbd9f3",
   "metadata": {},
   "outputs": [],
   "source": [
    "CountDiv = len(soup.find_all('div',{'class':'pageitem'}))"
   ]
  },
  {
   "cell_type": "code",
   "execution_count": 21,
   "id": "9c550e9f",
   "metadata": {},
   "outputs": [
    {
     "data": {
      "text/plain": [
       "6"
      ]
     },
     "execution_count": 21,
     "metadata": {},
     "output_type": "execute_result"
    }
   ],
   "source": [
    "CountDiv"
   ]
  },
  {
   "cell_type": "code",
   "execution_count": 39,
   "id": "1aa81181",
   "metadata": {},
   "outputs": [
    {
     "name": "stdout",
     "output_type": "stream",
     "text": [
      "Looping!! 1\n",
      "Looping!! 2\n",
      "Looping!! 3\n"
     ]
    }
   ],
   "source": [
    "pageN = 1\n",
    "for page in range(3) :\n",
    "    pageN = page + 1\n",
    "#     data = driver.page_source\n",
    "#     soup = BeautifulSoup(data)\n",
    "#     CountDiv = len(soup.find_all('div',{'class':'pageitem'})) #ไม่ยอมรันตอนลูปรอบ 2\n",
    "#     if CountDiv == 6 :\n",
    "    Next_page1 = driver.find_element('xpath','//*[@id=\"pagesection\"]/div[6]/a')\n",
    "    Next_page1.click()\n",
    "#     else :\n",
    "#         Next_page2 = driver.find_element('xpath','//*[@id=\"pagesection\"]/div[7]/a')\n",
    "#         Next_page2.click()\n",
    "    print(\"Looping!!\",pageN)"
   ]
  },
  {
   "cell_type": "code",
   "execution_count": 314,
   "id": "536b7a8a",
   "metadata": {},
   "outputs": [],
   "source": [
    "Company_name = []\n",
    "Products = []\n",
    "Address = []\n",
    "Tambon = []\n",
    "District = []\n",
    "Province = []\n",
    "ZIP_Code = []\n",
    "Telephone = []"
   ]
  },
  {
   "cell_type": "code",
   "execution_count": 292,
   "id": "516d5b37",
   "metadata": {},
   "outputs": [
    {
     "data": {
      "text/plain": [
       "49"
      ]
     },
     "execution_count": 292,
     "metadata": {},
     "output_type": "execute_result"
    }
   ],
   "source": [
    "len(Company_name)"
   ]
  },
  {
   "cell_type": "code",
   "execution_count": 309,
   "id": "4d15b4b3",
   "metadata": {},
   "outputs": [],
   "source": [
    "f = driver.window_handles[0]\n",
    "driver.switch_to.window(f)"
   ]
  },
  {
   "cell_type": "code",
   "execution_count": 310,
   "id": "0df28c59",
   "metadata": {},
   "outputs": [],
   "source": [
    "data = driver.page_source\n",
    "soup = BeautifulSoup(data)"
   ]
  },
  {
   "cell_type": "code",
   "execution_count": null,
   "id": "2694ef49",
   "metadata": {},
   "outputs": [],
   "source": [
    "Cookie_close = driver.find_element('xpath','//*[@id=\"cookie-btn\"]')\n",
    "Cookie_close.click()"
   ]
  },
  {
   "cell_type": "code",
   "execution_count": null,
   "id": "95748738",
   "metadata": {},
   "outputs": [],
   "source": [
    "data = driver.page_source\n",
    "soup = BeautifulSoup(data)\n",
    "for page in range(3) :\n",
    "    pageN = page + 1\n",
    "    for i in range(2,52) :\n",
    "        Next = driver.find_element('xpath','//*[@id=\"search-z\"]/table/tbody/tr[%i]/td[4]/a'%(i))\n",
    "        Next.click()\n",
    "        c = driver.window_handles[1]\n",
    "        driver.switch_to.window(c)\n",
    "        data = driver.page_source\n",
    "        soup = BeautifulSoup(data)\n",
    "        All_Source = soup.find_all('table',{'class':'tableframe table table-bordered'})\n",
    "        for source in All_Source :\n",
    "            Company_name.append(source.find('tr').text)\n",
    "#             All_info = [td.text for td in source.find_all('td')]\n",
    "#             Products.append(All_info[1])\n",
    "#             Address.append(All_info[3])\n",
    "#             Tambon.append(All_info[5])\n",
    "#             District.append(All_info[7])\n",
    "#             Province.append(All_info[9])\n",
    "#             ZIP_Code.append(All_info[11])\n",
    "#             Telephone.append(All_info[13])\n",
    "            driver.close()\n",
    "            f = driver.window_handles[0]\n",
    "            driver.switch_to.window(f)\n",
    "        if len(Company_name) == 50 :\n",
    "            Next_page1 = driver.find_element('xpath','//*[@id=\"pagesection\"]/div[2]/a')\n",
    "            Next_page1.click()\n",
    "        elif len(Company_name) == 100 :\n",
    "            Next_page2 = driver.find_element('xpath','//*[@id=\"pagesection\"]/div[4]/a')\n",
    "            Next_page2.click()\n",
    "        elif len(Company_name) >= 101 :\n",
    "            Next_page2 = driver.find_element('xpath','//*[@id=\"pagesection\"]/div[7]/a')\n",
    "            Next_page2.click()\n",
    "        else :\n",
    "            print(\"Looping!!\",pageN)\n",
    "            print('All :',len(Company_name))"
   ]
  },
  {
   "cell_type": "code",
   "execution_count": 312,
   "id": "e76c96f0",
   "metadata": {},
   "outputs": [
    {
     "ename": "TypeError",
     "evalue": "object of type 'NoneType' has no len()",
     "output_type": "error",
     "traceback": [
      "\u001b[1;31m---------------------------------------------------------------------------\u001b[0m",
      "\u001b[1;31mTypeError\u001b[0m                                 Traceback (most recent call last)",
      "\u001b[1;32m<ipython-input-312-72937e019762>\u001b[0m in \u001b[0;36m<module>\u001b[1;34m\u001b[0m\n\u001b[0;32m      9\u001b[0m         \u001b[0mdriver\u001b[0m\u001b[1;33m.\u001b[0m\u001b[0mswitch_to\u001b[0m\u001b[1;33m.\u001b[0m\u001b[0mwindow\u001b[0m\u001b[1;33m(\u001b[0m\u001b[0mc\u001b[0m\u001b[1;33m)\u001b[0m\u001b[1;33m\u001b[0m\u001b[1;33m\u001b[0m\u001b[0m\n\u001b[0;32m     10\u001b[0m         \u001b[0mdata\u001b[0m \u001b[1;33m=\u001b[0m \u001b[0mdriver\u001b[0m\u001b[1;33m.\u001b[0m\u001b[0mpage_source\u001b[0m\u001b[1;33m\u001b[0m\u001b[1;33m\u001b[0m\u001b[0m\n\u001b[1;32m---> 11\u001b[1;33m         \u001b[0msoup\u001b[0m \u001b[1;33m=\u001b[0m \u001b[0mBeautifulSoup\u001b[0m\u001b[1;33m(\u001b[0m\u001b[0mdata\u001b[0m\u001b[1;33m)\u001b[0m\u001b[1;33m\u001b[0m\u001b[1;33m\u001b[0m\u001b[0m\n\u001b[0m\u001b[0;32m     12\u001b[0m         \u001b[0mAll_Source\u001b[0m \u001b[1;33m=\u001b[0m \u001b[0msoup\u001b[0m\u001b[1;33m.\u001b[0m\u001b[0mfind_all\u001b[0m\u001b[1;33m(\u001b[0m\u001b[1;34m'div'\u001b[0m\u001b[1;33m,\u001b[0m\u001b[1;33m{\u001b[0m\u001b[1;34m'class'\u001b[0m\u001b[1;33m:\u001b[0m\u001b[1;34m'company_detail'\u001b[0m\u001b[1;33m}\u001b[0m\u001b[1;33m)\u001b[0m\u001b[1;33m\u001b[0m\u001b[1;33m\u001b[0m\u001b[0m\n\u001b[0;32m     13\u001b[0m         \u001b[1;32mfor\u001b[0m \u001b[0msource\u001b[0m \u001b[1;32min\u001b[0m \u001b[0mAll_Source\u001b[0m \u001b[1;33m:\u001b[0m\u001b[1;33m\u001b[0m\u001b[1;33m\u001b[0m\u001b[0m\n",
      "\u001b[1;32mD:\\anaconda3\\lib\\site-packages\\bs4\\__init__.py\u001b[0m in \u001b[0;36m__init__\u001b[1;34m(self, markup, features, builder, parse_only, from_encoding, exclude_encodings, element_classes, **kwargs)\u001b[0m\n\u001b[0;32m    308\u001b[0m         \u001b[1;32mif\u001b[0m \u001b[0mhasattr\u001b[0m\u001b[1;33m(\u001b[0m\u001b[0mmarkup\u001b[0m\u001b[1;33m,\u001b[0m \u001b[1;34m'read'\u001b[0m\u001b[1;33m)\u001b[0m\u001b[1;33m:\u001b[0m        \u001b[1;31m# It's a file-type object.\u001b[0m\u001b[1;33m\u001b[0m\u001b[1;33m\u001b[0m\u001b[0m\n\u001b[0;32m    309\u001b[0m             \u001b[0mmarkup\u001b[0m \u001b[1;33m=\u001b[0m \u001b[0mmarkup\u001b[0m\u001b[1;33m.\u001b[0m\u001b[0mread\u001b[0m\u001b[1;33m(\u001b[0m\u001b[1;33m)\u001b[0m\u001b[1;33m\u001b[0m\u001b[1;33m\u001b[0m\u001b[0m\n\u001b[1;32m--> 310\u001b[1;33m         elif len(markup) <= 256 and (\n\u001b[0m\u001b[0;32m    311\u001b[0m                 \u001b[1;33m(\u001b[0m\u001b[0misinstance\u001b[0m\u001b[1;33m(\u001b[0m\u001b[0mmarkup\u001b[0m\u001b[1;33m,\u001b[0m \u001b[0mbytes\u001b[0m\u001b[1;33m)\u001b[0m \u001b[1;32mand\u001b[0m \u001b[1;32mnot\u001b[0m \u001b[1;34mb'<'\u001b[0m \u001b[1;32min\u001b[0m \u001b[0mmarkup\u001b[0m\u001b[1;33m)\u001b[0m\u001b[1;33m\u001b[0m\u001b[1;33m\u001b[0m\u001b[0m\n\u001b[0;32m    312\u001b[0m                 \u001b[1;32mor\u001b[0m \u001b[1;33m(\u001b[0m\u001b[0misinstance\u001b[0m\u001b[1;33m(\u001b[0m\u001b[0mmarkup\u001b[0m\u001b[1;33m,\u001b[0m \u001b[0mstr\u001b[0m\u001b[1;33m)\u001b[0m \u001b[1;32mand\u001b[0m \u001b[1;32mnot\u001b[0m \u001b[1;34m'<'\u001b[0m \u001b[1;32min\u001b[0m \u001b[0mmarkup\u001b[0m\u001b[1;33m)\u001b[0m\u001b[1;33m\u001b[0m\u001b[1;33m\u001b[0m\u001b[0m\n",
      "\u001b[1;31mTypeError\u001b[0m: object of type 'NoneType' has no len()"
     ]
    }
   ],
   "source": [
    "data = driver.page_source\n",
    "soup = BeautifulSoup(data)\n",
    "for page in range(3) :\n",
    "    pageN = page + 1\n",
    "    for i in range(2,52) :\n",
    "        Next = driver.find_element('xpath','//*[@id=\"search-z\"]/table/tbody/tr[%i]/td[4]/a'%(i))\n",
    "        Next.click()\n",
    "        c = driver.window_handles[1]\n",
    "        driver.switch_to.window(c)\n",
    "        data = driver.page_source\n",
    "        soup = BeautifulSoup(data)\n",
    "        All_Source = soup.find_all('div',{'class':'company_detail'})\n",
    "        for source in All_Source :\n",
    "            Company_name.append(source.find('table',{'class':'tableframe table table-bordered'}).find('tr').text)\n",
    "        driver.close()\n",
    "        f = driver.window_handles[0]\n",
    "        driver.switch_to.window(f)\n",
    "    if len(Company_name) == 50 :\n",
    "        Next_page1 = driver.find_element('xpath','//*[@id=\"pagesection\"]/div[2]/a')\n",
    "        Next_page1.click()\n",
    "    elif len(Company_name) == 100 :\n",
    "        Next_page2 = driver.find_element('xpath','//*[@id=\"pagesection\"]/div[4]/a')\n",
    "        Next_page2.click()\n",
    "    elif len(Company_name) >= 101 :\n",
    "        Next_page2 = driver.find_element('xpath','//*[@id=\"pagesection\"]/div[7]/a')\n",
    "        Next_page2.click()\n",
    "    else :\n",
    "        print(\"Looping!!\",pageN)"
   ]
  },
  {
   "cell_type": "code",
   "execution_count": 313,
   "id": "f1a6df7c",
   "metadata": {},
   "outputs": [
    {
     "data": {
      "text/plain": [
       "['บริษัท 105 โซล่า เพาเวอร์ จำกัด',\n",
       " 'บริษัท 11 วงจร เทรดดิ้ง แอนด์ โคลด์ สตอเรจ จำกัด',\n",
       " 'บริษัท 123 เซอร์วิส  จำกัด',\n",
       " 'บริษัท 123 แอคเคาน์แต้นท์ จำกัด',\n",
       " 'บริษัท 1234 จำกัด',\n",
       " 'บริษัท 12โก (ไทยแลนด์) จำกัด',\n",
       " 'บริษัท 168 จำกัด',\n",
       " 'บริษัท 168 เอ็ดดูเคชั่น จำกัด',\n",
       " 'บริษัท 17 อัญญวีร์ โฮลดิ้ง จำกัด',\n",
       " 'บริษัท 17 อัญญวีร์ โฮลดิ้ง จำกัด',\n",
       " 'บริษัท 17 อัญญวีร์ โฮลดิ้ง จำกัด',\n",
       " 'บริษัท 17 อัญญวีร์ โฮลดิ้ง จำกัด',\n",
       " 'บริษัท 17 อัญญวีร์ โฮลดิ้ง จำกัด',\n",
       " 'บริษัท 17 อัญญวีร์ โฮลดิ้ง จำกัด',\n",
       " 'บริษัท 17 อัญญวีร์ โฮลดิ้ง จำกัด',\n",
       " 'บริษัท 17 อัญญวีร์ โฮลดิ้ง จำกัด',\n",
       " 'บริษัท 17 อัญญวีร์ โฮลดิ้ง จำกัด',\n",
       " 'บริษัท 17 อัญญวีร์ โฮลดิ้ง จำกัด',\n",
       " 'บริษัท 17 อัญญวีร์ โฮลดิ้ง จำกัด',\n",
       " 'บริษัท 17 อัญญวีร์ โฮลดิ้ง จำกัด',\n",
       " 'บริษัท 17 อัญญวีร์ โฮลดิ้ง จำกัด',\n",
       " 'บริษัท 17 อัญญวีร์ โฮลดิ้ง จำกัด',\n",
       " 'บริษัท 177 คอร์ปอเรชั่น จำกัด',\n",
       " 'บริษัท 2 เอส เมทัล จำกัด (มหาชน)',\n",
       " 'บริษัท 2022 เอ็นไวรอนเมนทอล ไซเอนซ์ (ประเทศไทย) จำกัด',\n",
       " 'บริษัท 3 พี่น้อง เอช-เทค จำกัด',\n",
       " 'บริษัท 3 เอ็น เอซีที จำกัด',\n",
       " 'บริษัท 3 เอ็ม ประเทศไทย จำกัด',\n",
       " 'บริษัท 3 เอ็ม อินโนเวชั่น (ไทยแลนด์) จำกัด',\n",
       " 'บริษัท 3 เอ็ม อินโนเวชั่น (ไทยแลนด์) จำกัด',\n",
       " 'บริษัท 304 อินดัสเตรียล ปาร์ค 2  จำกัด',\n",
       " 'บริษัท 304 อินดัสเตรียล ปาร์ค 7 จำกัด',\n",
       " 'บริษัท 304 อินดัสเตรียล ปาร์ค 7 จำกัด',\n",
       " 'บริษัท 304 อินดัสเตรียล ปาร์ค 7 จำกัด',\n",
       " 'บริษัท 304 อินดัสเตรียล ปาร์ค 7 จำกัด',\n",
       " 'บริษัท 304 อินดัสเตรียล ปาร์ค 7 จำกัด',\n",
       " 'บริษัท 304 อินดัสเตรียล ปาร์ค 7 จำกัด',\n",
       " 'บริษัท 304 อินดัสเตรียล ปาร์ค 7 จำกัด']"
      ]
     },
     "execution_count": 313,
     "metadata": {},
     "output_type": "execute_result"
    }
   ],
   "source": [
    "Company_name"
   ]
  },
  {
   "cell_type": "code",
   "execution_count": 298,
   "id": "fd6ebab3",
   "metadata": {},
   "outputs": [
    {
     "data": {
      "text/plain": [
       "[]"
      ]
     },
     "execution_count": 298,
     "metadata": {},
     "output_type": "execute_result"
    }
   ],
   "source": [
    "Address"
   ]
  },
  {
   "cell_type": "code",
   "execution_count": 149,
   "id": "23836935",
   "metadata": {},
   "outputs": [],
   "source": [
    "for i in range(2,10) :\n",
    "    Next = driver.find_element('xpath','//*[@id=\"search-z\"]/table/tbody/tr[%i]/td[4]/a'%(i))\n",
    "    Next.click()"
   ]
  },
  {
   "cell_type": "code",
   "execution_count": null,
   "id": "64b5f525",
   "metadata": {},
   "outputs": [],
   "source": []
  },
  {
   "cell_type": "code",
   "execution_count": null,
   "id": "913c846b",
   "metadata": {},
   "outputs": [],
   "source": [
    "--------------------------------------------------------------------------"
   ]
  }
 ],
 "metadata": {
  "kernelspec": {
   "display_name": "Python 3",
   "language": "python",
   "name": "python3"
  },
  "language_info": {
   "codemirror_mode": {
    "name": "ipython",
    "version": 3
   },
   "file_extension": ".py",
   "mimetype": "text/x-python",
   "name": "python",
   "nbconvert_exporter": "python",
   "pygments_lexer": "ipython3",
   "version": "3.8.5"
  }
 },
 "nbformat": 4,
 "nbformat_minor": 5
}
